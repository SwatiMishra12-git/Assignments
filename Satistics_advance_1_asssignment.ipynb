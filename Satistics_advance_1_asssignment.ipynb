{
  "nbformat": 4,
  "nbformat_minor": 0,
  "metadata": {
    "colab": {
      "provenance": [],
      "authorship_tag": "ABX9TyMt0R3e1BzZZneTbpUUY7ZR"
    },
    "kernelspec": {
      "name": "python3",
      "display_name": "Python 3"
    },
    "language_info": {
      "name": "python"
    }
  },
  "cells": [
    {
      "cell_type": "code",
      "execution_count": null,
      "metadata": {
        "id": "Qqw9LTTZNd5j"
      },
      "outputs": [],
      "source": [
        "#Question 1"
      ]
    },
    {
      "cell_type": "markdown",
      "source": [
        "The z-statistic, also known as the z-score, is a measure used to quantify the deviation of an individual data point from the mean of a distribution in terms of standard deviations. The formula for calculating a z-score is:\n",
        "\n",
        "\\[ Z = \\frac{X - \\mu}{\\sigma} \\]\n",
        "\n",
        "Where:\n",
        "- \\( Z \\) is the z-score\n",
        "- \\( X \\) is the value of the data point\n",
        "- \\( \\mu \\) is the mean of the distribution\n",
        "- \\( \\sigma \\) is the standard deviation of the distribution\n",
        "\n",
        "### Relationship to the Standard Normal Distribution\n",
        "\n",
        "The z-statistic transforms any normal distribution into the standard normal distribution, which has a mean of 0 and a standard deviation of 1. By converting individual data points to z-scores, we can easily compare them across different normal distributions. The standard normal distribution is represented by the famous bell curve and is used as the reference distribution for z-scores.\n",
        "\n",
        "### Usage in Hypothesis Testing\n",
        "\n",
        "In hypothesis testing, the z-statistic is employed to determine if there is enough evidence to reject a null hypothesis.\n",
        "\n",
        "1. **State the Hypotheses**: Formulate the null hypothesis (\\(H_0\\)) and the alternative hypothesis (\\(H_1\\)).\n",
        "2. **Select the Significance Level (\\(\\alpha\\))**: Commonly used levels are 0.05, 0.01, or 0.10.\n",
        "3. **Calculate the Z-Statistic**: Use the sample data to calculate the z-score.\n",
        "4. **Find the Critical Value**: Determine the critical z-value from the standard normal distribution table based on the chosen significance level.\n",
        "5. **Decision Rule**: Compare the calculated z-statistic with the critical z-value.\n",
        "   - If the z-statistic falls in the critical region (beyond the critical z-value), reject the null hypothesis.\n",
        "   - If the z-statistic does not fall in the critical region, fail to reject the null hypothesis.\n"
      ],
      "metadata": {
        "id": "duPTrQl_IV2n"
      }
    },
    {
      "cell_type": "code",
      "source": [
        "#Question 2"
      ],
      "metadata": {
        "id": "7kuPC0MzIcGa"
      },
      "execution_count": null,
      "outputs": []
    },
    {
      "cell_type": "markdown",
      "source": [
        "A p-value, or probability value, is a measure used in hypothesis testing to quantify the evidence against the null hypothesis (\\(H_0\\)). It represents the probability of obtaining a test statistic at least as extreme as the one observed, assuming that the null hypothesis is true.\n",
        "\n",
        "### How p-Value is Used in Hypothesis Testing\n",
        "\n",
        "1. **State the Hypotheses**: Formulate the null hypothesis (\\(H_0\\)) and the alternative hypothesis (\\(H_1\\)).\n",
        "2. **Select the Significance Level (\\(\\alpha\\))**: Commonly chosen levels are 0.05, 0.01, or 0.10.\n",
        "3. **Collect Data and Calculate Test Statistic**: Compute the appropriate test statistic (e.g., z-score, t-score) based on the sample data.\n",
        "4. **Determine the p-Value**: Using the test statistic, determine the p-value, which represents the probability of observing the data given that \\(H_0\\) is true.\n",
        "5. **Compare p-Value to \\(\\alpha\\)**: If the p-value is less than or equal to the significance level (\\(\\alpha\\)), reject the null hypothesis. If the p-value is greater than \\(\\alpha\\), fail to reject the null hypothesis.\n",
        "\n",
        "### Interpretation of p-Value\n",
        "\n",
        "- **Small p-Value (e.g., 0.01)**: If the p-value is very small, such as 0.01, it indicates that the observed data is highly unlikely under the null hypothesis. In this case, there is strong evidence against the null hypothesis, and we would reject \\(H_0\\). For example, a p-value of 0.01 means there is only a 1% chance that the observed data would occur if the null hypothesis were true.\n",
        "\n",
        "- **Large p-Value**: If the p-value is large, it suggests that the observed data is consistent with the null hypothesis. In this case, there is not enough evidence to reject \\(H_0\\).\n",
        "\n",
        "### Example\n",
        "\n",
        "Let's say we are testing whether a new drug is more effective than a standard drug. Our null hypothesis (\\(H_0\\)) is that there is no difference in effectiveness between the two drugs. After conducting the experiment and analyzing the data, we calculate a p-value of 0.01. This small p-value indicates strong evidence against the null hypothesis, suggesting that the new drug is indeed more effective than the standard drug.\n"
      ],
      "metadata": {
        "id": "p46h-3bCJPc7"
      }
    },
    {
      "cell_type": "code",
      "source": [
        "#Question 3"
      ],
      "metadata": {
        "id": "ellRv68-IfYI"
      },
      "execution_count": null,
      "outputs": []
    },
    {
      "cell_type": "markdown",
      "source": [
        "Certainly! Both the binomial and Bernoulli distributions are fundamental concepts in probability theory, and they share similarities and differences. Let's dive into them:\n",
        "\n",
        "### Bernoulli Distribution\n",
        "\n",
        "The Bernoulli distribution is the simplest discrete probability distribution. It models a single experiment (or trial) with only two possible outcomes: success (usually denoted as 1) or failure (denoted as 0). The probability of success is \\(p\\), and the probability of failure is \\(1 - p\\).\n",
        "\n",
        "**Key Characteristics:**\n",
        "- **Number of Trials**: 1\n",
        "- **Possible Outcomes**: 0 (failure) or 1 (success)\n",
        "- **Parameters**: \\(p\\) (probability of success)\n",
        "- **Mean**: \\( \\mu = p \\)\n",
        "- **Variance**: \\( \\sigma^2 = p(1 - p) \\)\n",
        "\n",
        "### Binomial Distribution\n",
        "\n",
        "The binomial distribution extends the Bernoulli distribution to model the number of successes in a fixed number of independent Bernoulli trials. In other words, it represents the sum of multiple Bernoulli trials.\n",
        "\n",
        "**Key Characteristics:**\n",
        "- **Number of Trials**: \\(n\\) (fixed number)\n",
        "- **Possible Outcomes**: From 0 to \\(n\\) successes\n",
        "- **Parameters**: \\(n\\) (number of trials) and \\(p\\) (probability of success in each trial)\n",
        "- **Mean**: \\( \\mu = np \\)\n",
        "- **Variance**: \\( \\sigma^2 = np(1 - p) \\)\n",
        "\n",
        "### Comparison\n",
        "\n",
        "1. **Number of Trials**:\n",
        "   - **Bernoulli**: Only 1 trial.\n",
        "   - **Binomial**: A fixed number of trials \\(n\\).\n",
        "\n",
        "2. **Parameters**:\n",
        "   - **Bernoulli**: Only \\(p\\).\n",
        "   - **Binomial**: Both \\(n\\) and \\(p\\).\n",
        "\n",
        "3. **Outcomes**:\n",
        "   - **Bernoulli**: Two outcomes, 0 or 1.\n",
        "   - **Binomial**: \\(n + 1\\) possible outcomes, ranging from 0 to \\(n\\) successes.\n",
        "\n",
        "4. **Mean and Variance**:\n",
        "   - **Bernoulli**: Mean \\( \\mu = p \\), Variance \\( \\sigma^2 = p(1 - p) \\).\n",
        "   - **Binomial**: Mean \\( \\mu = np \\), Variance \\( \\sigma^2 = np(1 - p) \\).\n",
        "\n",
        "### Example\n",
        "\n",
        "Suppose we have a biased coin that lands heads (success) with probability \\(p = 0.3\\).\n",
        "\n",
        "- **Bernoulli Distribution**: If we flip the coin once, the probability of getting heads (success) is 0.3, and the probability of tails (failure) is 0.7.\n",
        "\n",
        "- **Binomial Distribution**: If we flip the coin 5 times (\\(n = 5\\)), the binomial distribution models the number of heads we might get. The mean number of heads is \\(0.3 \\times 5 = 1.5\\), and the variance is \\(5 \\times 0.3 \\times 0.7 = 1.05\\).\n",
        "\n"
      ],
      "metadata": {
        "id": "D4wzdbH3J0Sv"
      }
    },
    {
      "cell_type": "code",
      "source": [
        "#Question 4"
      ],
      "metadata": {
        "id": "lskN7GHSIfMM"
      },
      "execution_count": null,
      "outputs": []
    },
    {
      "cell_type": "markdown",
      "source": [
        "The binomial distribution is used under specific conditions in probability and statistics. These conditions ensure that the distribution appropriately models the scenario at hand. Here are the key conditions for using the binomial distribution:\n",
        "\n",
        "### Conditions for Using the Binomial Distribution\n",
        "\n",
        "1. **Fixed Number of Trials**: There must be a fixed number of trials, denoted as \\(n\\).\n",
        "2. **Binary Outcomes**: Each trial must result in one of two possible outcomes: success or failure.\n",
        "3. **Constant Probability**: The probability of success, denoted as \\(p\\), must remain constant for each trial.\n",
        "4. **Independence**: The trials must be independent, meaning the outcome of one trial does not affect the outcome of another.\n",
        "\n",
        "### Examples of Binomial Distribution Usage\n",
        "\n",
        "- **Coin Tossing**: Flipping a coin multiple times to count the number of heads.\n",
        "- **Quality Control**: Checking a batch of products for defects, where each product can either be defective or not.\n",
        "- **Survey Responses**: Counting the number of people who respond \"yes\" to a survey question.\n",
        "\n",
        "### Relationship to the Bernoulli Distribution\n",
        "\n",
        "The binomial distribution is closely related to the Bernoulli distribution:\n",
        "\n",
        "- **Bernoulli Distribution**: As mentioned earlier, it models a single trial with two possible outcomes. It is characterized by the parameter \\(p\\) (probability of success) and has only one trial.\n",
        "- **Binomial Distribution**: It is an extension of the Bernoulli distribution, modeling the number of successes in multiple independent Bernoulli trials. It is characterized by two parameters: \\(n\\) (number of trials) and \\(p\\) (probability of success in each trial).\n",
        "\n",
        "In essence, the binomial distribution represents the sum of multiple Bernoulli trials. If you perform \\(n\\) independent Bernoulli trials, each with a probability \\(p\\) of success, the number of successes follows a binomial distribution with parameters \\(n\\) and \\(p\\).\n",
        "\n",
        "### Example\n",
        "\n",
        "Suppose we have a biased coin that lands heads (success) with probability \\(p = 0.3\\).\n",
        "\n",
        "- **Bernoulli Distribution**: If we flip the coin once, the probability of getting heads (success) is 0.3, and the probability of tails (failure) is 0.7.\n",
        "- **Binomial Distribution**: If we flip the coin 5 times (\\(n = 5\\)), the binomial distribution models the number of heads we might get. The mean number of heads is \\(0.3 \\times 5 = 1.5\\), and the variance is \\(5 \\times 0.3 \\times 0.7 = 1.05\\).\n"
      ],
      "metadata": {
        "id": "qEAGumLPJ-PX"
      }
    },
    {
      "cell_type": "code",
      "source": [
        "#Question 5"
      ],
      "metadata": {
        "id": "Wi8B2umTIfBa"
      },
      "execution_count": null,
      "outputs": []
    },
    {
      "cell_type": "markdown",
      "source": [
        "The Poisson distribution is a discrete probability distribution that models the number of events occurring within a fixed interval of time or space. It is particularly useful for modeling rare events. Here are the key properties and appropriate usage scenarios:\n",
        "\n",
        "### Key Properties of the Poisson Distribution\n",
        "\n",
        "1. **Events are Independent**: Each event occurs independently of the others.\n",
        "2. **Constant Rate**: The average rate (\\(\\lambda\\)) at which events occur is constant over time or space.\n",
        "3. **Discrete Events**: The distribution models the count of discrete events (e.g., number of arrivals, occurrences).\n",
        "4. **Parameter**: The Poisson distribution is characterized by a single parameter, \\(\\lambda\\) (the average number of events in the interval).\n",
        "5. **Probability Mass Function (PMF)**: The probability of observing \\(k\\) events in an interval is given by:\n",
        "   \n",
        "   \\[\n",
        "   P(X = k) = \\frac{\\lambda^k e^{-\\lambda}}{k!}\n",
        "   \\]\n",
        "   \n",
        "   Where:\n",
        "   - \\( X \\) is the random variable representing the number of events.\n",
        "   - \\( k \\) is a non-negative integer (0, 1, 2, ...).\n",
        "   - \\( e \\) is the base of the natural logarithm (approximately 2.71828).\n",
        "6. **Mean and Variance**: Both the mean and variance of the Poisson distribution are equal to \\(\\lambda\\).\n",
        "\n",
        "### When to Use the Poisson Distribution\n",
        "\n",
        "The Poisson distribution is appropriate for modeling situations where the following conditions are met:\n",
        "\n",
        "- **Rare Events**: The events being modeled are rare or infrequent.\n",
        "- **Large Population or Area**: The population or area over which events occur is large.\n",
        "- **Constant Average Rate**: The events occur with a known constant average rate (\\(\\lambda\\)) over the specified interval.\n",
        "- **Independent Events**: The occurrence of one event does not affect the probability of another event occurring.\n",
        "\n",
        "### Examples of Poisson Distribution Usage\n",
        "\n",
        "1. **Call Center**: Modeling the number of incoming calls to a call center within a specific time period (e.g., per hour).\n",
        "2. **Traffic Flow**: Counting the number of cars passing through a toll booth in a given time frame.\n",
        "3. **Biology**: Counting the number of mutations in a given length of DNA.\n",
        "4. **Natural Disasters**: Modeling the occurrence of rare natural disasters, such as earthquakes, in a specific region over a year.\n"
      ],
      "metadata": {
        "id": "yW8sEHolKL0C"
      }
    },
    {
      "cell_type": "code",
      "source": [
        "#Question 6"
      ],
      "metadata": {
        "id": "itNjyZygIe26"
      },
      "execution_count": null,
      "outputs": []
    },
    {
      "cell_type": "markdown",
      "source": [
        "### Probability Distribution\n",
        "\n",
        "A probability distribution describes how the values of a random variable are distributed. It provides a function or a rule that assigns probabilities to each possible value (or range of values) that the random variable can take. In essence, it gives us a complete picture of all possible outcomes of a random experiment and their associated probabilities.\n",
        "\n",
        "### Probability Density Function (PDF)\n",
        "\n",
        "A probability density function (PDF) is used to describe the probability distribution of continuous random variables. The PDF, denoted as \\( f(x) \\), represents the likelihood of the random variable taking on a specific value. The key properties of a PDF are:\n",
        "\n",
        "1. **Non-negativity**: \\( f(x) \\geq 0 \\) for all \\( x \\).\n",
        "2. **Normalization**: The area under the curve of the PDF over the entire range of possible values is equal to 1.\n",
        "   \n",
        "   \\[\n",
        "   \\int_{-\\infty}^{\\infty} f(x) \\, dx = 1\n",
        "   \\]\n",
        "\n",
        "3. **Probability Calculation**: The probability that the random variable falls within a specific interval \\([a, b]\\) is given by the area under the curve of the PDF within that interval.\n",
        "   \n",
        "   \\[\n",
        "   P(a \\leq X \\leq b) = \\int_{a}^{b} f(x) \\, dx\n",
        "   \\]\n",
        "\n",
        "### Probability Mass Function (PMF)\n",
        "\n",
        "A probability mass function (PMF) is used to describe the probability distribution of discrete random variables. The PMF, denoted as \\( P(X = x) \\), represents the probability that the random variable takes on a specific value. The key properties of a PMF are:\n",
        "\n",
        "1. **Non-negativity**: \\( P(X = x) \\geq 0 \\) for all \\( x \\).\n",
        "2. **Normalization**: The sum of all probabilities over all possible values is equal to 1.\n",
        "   \n",
        "   \\[\n",
        "   \\sum_{x} P(X = x) = 1\n",
        "   \\]\n",
        "\n",
        "3. **Probability Calculation**: The PMF directly gives the probability of the random variable taking on a specific value.\n",
        "\n",
        "### Differences Between PDF and PMF\n",
        "\n",
        "- **Type of Random Variable**:\n",
        "  - **PDF**: Used for continuous random variables.\n",
        "  - **PMF**: Used for discrete random variables.\n",
        "  \n",
        "- **Representation**:\n",
        "  - **PDF**: Represents the probability density over a continuous range of values. The PDF itself is not a probability but a density function.\n",
        "  - **PMF**: Represents the actual probability of discrete values. The PMF gives the probability of each specific value directly.\n",
        "  \n",
        "- **Probability Calculation**:\n",
        "  - **PDF**: The probability of the random variable falling within an interval is calculated by integrating the PDF over that interval.\n",
        "  - **PMF**: The probability of the random variable taking on a specific value is given directly by the PMF.\n",
        "\n",
        "### Example\n",
        "\n",
        "Suppose we have a continuous random variable representing the height of individuals in a population. The PDF might look like a smooth curve, with higher values indicating more common heights. To find the probability of a person having a height between 160 cm and 170 cm, we would integrate the PDF over that interval.\n",
        "\n",
        "For a discrete random variable representing the number of heads in 5 coin flips, the PMF would provide the probabilities for each possible outcome (0 to 5 heads). The probability of getting exactly 3 heads is given directly by the PMF.\n"
      ],
      "metadata": {
        "id": "rs15aGLUKuDO"
      }
    },
    {
      "cell_type": "code",
      "source": [
        "#Question 7"
      ],
      "metadata": {
        "id": "axjJvYVtIerM"
      },
      "execution_count": null,
      "outputs": []
    },
    {
      "cell_type": "markdown",
      "source": [
        "The Central Limit Theorem (CLT) is a fundamental concept in probability theory and statistics. It states that the distribution of the sum (or average) of a large number of independent, identically distributed (i.i.d.) random variables will approximate a normal distribution, regardless of the original distribution of the variables. The CLT applies as long as the sample size is sufficiently large, typically \\(n \\geq 30\\).\n",
        "\n",
        "### Key Points of the Central Limit Theorem\n",
        "\n",
        "1. **Independence**: The random variables must be independent.\n",
        "2. **Identically Distributed**: The random variables must have the same probability distribution.\n",
        "3. **Sample Size**: The theorem holds as the sample size (\\(n\\)) becomes large.\n",
        "\n",
        "### Mathematical Expression\n",
        "\n",
        "If \\(X_1, X_2, \\ldots, X_n\\) are i.i.d. random variables with mean \\(\\mu\\) and variance \\(\\sigma^2\\), the standardized sum (or average) of these variables approaches a standard normal distribution as \\(n\\) approaches infinity:\n",
        "\n",
        "\\[ Z = \\frac{\\sum_{i=1}^{n} X_i - n\\mu}{\\sqrt{n}\\sigma} \\approx \\mathcal{N}(0, 1) \\]\n",
        "\n",
        "### Example\n",
        "\n",
        "Let's consider an example to illustrate the CLT:\n",
        "\n",
        "Suppose we have a population of exam scores that are not normally distributed, perhaps skewed due to a large number of high or low scores. The population has a mean score (\\(\\mu\\)) of 70 and a standard deviation (\\(\\sigma\\)) of 10.\n",
        "\n",
        "Now, let's draw random samples of size \\(n = 50\\) from this population and calculate the sample mean each time. According to the CLT:\n",
        "\n",
        "1. The distribution of the sample means will approximate a normal distribution, regardless of the shape of the original population distribution.\n",
        "2. The mean of the sample means will be the same as the population mean (\\(\\mu = 70\\)).\n",
        "3. The standard deviation of the sample means (also called the standard error) will be:\n",
        "\n",
        "\\[ \\sigma_{\\text{sample mean}} = \\frac{\\sigma}{\\sqrt{n}} = \\frac{10}{\\sqrt{50}} \\approx 1.41 \\]\n",
        "\n",
        "Therefore, the distribution of the sample means will be approximately normal with a mean of 70 and a standard deviation of 1.41.\n",
        "\n",
        "### Visualization\n",
        "\n",
        "Imagine taking many random samples from the population and plotting the means of these samples on a histogram. According to the CLT, this histogram will form a bell-shaped curve, approximating the normal distribution, even though the original population distribution is not normal.\n",
        "\n",
        "### Practical Application\n",
        "\n",
        "The CLT is incredibly useful in inferential statistics. It justifies the use of normal distribution-based methods for constructing confidence intervals and hypothesis tests, even when the underlying data distribution is unknown or non-normal. This is why the normal distribution is often used as an approximation in many statistical procedures.\n"
      ],
      "metadata": {
        "id": "mfuAMDDkK6QW"
      }
    },
    {
      "cell_type": "code",
      "source": [
        "#Question 8"
      ],
      "metadata": {
        "id": "s3w2eKJjIeeu"
      },
      "execution_count": null,
      "outputs": []
    },
    {
      "cell_type": "markdown",
      "source": [
        "Z-scores and t-scores are both used in hypothesis testing and inferential statistics to determine the position of a sample mean in relation to the population mean, but they are applied under different circumstances.\n",
        "\n",
        "### Z-Score\n",
        "\n",
        "A z-score (or z-statistic) is used when the population standard deviation (\\(\\sigma\\)) is known and the sample size (\\(n\\)) is large (typically \\(n \\geq 30\\)).\n",
        "\n",
        "**Key Points:**\n",
        "- **Formula**: \\( Z = \\frac{X - \\mu}{\\sigma} \\), where \\(X\\) is the sample mean, \\(\\mu\\) is the population mean, and \\(\\sigma\\) is the population standard deviation.\n",
        "- **Applicability**: Used when the population standard deviation is known and/or the sample size is large.\n",
        "- **Normal Distribution**: Relies on the normal distribution.\n",
        "\n",
        "### T-Score\n",
        "\n",
        "A t-score (or t-statistic) is used when the population standard deviation (\\(\\sigma\\)) is unknown and the sample size (\\(n\\)) is small (typically \\(n < 30\\)). It accounts for additional variability due to the smaller sample size.\n",
        "\n",
        "**Key Points:**\n",
        "- **Formula**: \\( T = \\frac{X - \\mu}{s} \\), where \\(X\\) is the sample mean, \\(\\mu\\) is the population mean, and \\(s\\) is the sample standard deviation.\n",
        "- **Applicability**: Used when the population standard deviation is unknown and/or the sample size is small.\n",
        "- **T-Distribution**: Relies on the t-distribution, which is broader and has heavier tails than the normal distribution, especially with smaller sample sizes. As the sample size increases, the t-distribution approaches the normal distribution.\n",
        "\n",
        "### Comparison\n",
        "\n",
        "| **Criteria**           | **Z-Score**                                                 | **T-Score**                                           |\n",
        "|------------------------|-------------------------------------------------------------|-------------------------------------------------------|\n",
        "| **Population Standard Deviation (\\(\\sigma\\))** | Known                                                       | Unknown                                               |\n",
        "| **Sample Size (\\(n\\))**                | Large (\\(n \\geq 30\\))                                    | Small (\\(n < 30\\))                                    |\n",
        "| **Distribution**        | Normal distribution                                        | T-distribution                                        |\n",
        "| **Formula**             | \\( Z = \\frac{X - \\mu}{\\sigma} \\)                           | \\( T = \\frac{X - \\mu}{s} \\)                           |\n",
        "| **Tail Behavior**       | Less variability (narrower tails)                          | More variability (heavier tails)                      |\n",
        "\n",
        "### When to Use Z-Score vs. T-Score\n",
        "\n",
        "- **Use Z-Score**:\n",
        "  - When the population standard deviation is known.\n",
        "  - When the sample size is large (\\(n \\geq 30\\)).\n",
        "  \n",
        "- **Use T-Score**:\n",
        "  - When the population standard deviation is unknown.\n",
        "  - When the sample size is small (\\(n < 30\\)).\n",
        "\n",
        "### Example\n",
        "\n",
        "Suppose we want to test the mean height of students in a school.\n",
        "\n",
        "- **Z-Score**: If we know the population standard deviation of heights and have a large sample size (e.g., \\(n = 50\\)), we would use the z-score to determine how far the sample mean is from the population mean.\n",
        "  \n",
        "- **T-Score**: If we do not know the population standard deviation and have a small sample size (e.g., \\(n = 20\\)), we would use the t-score to account for the additional uncertainty introduced by estimating the standard deviation from the sample data.\n"
      ],
      "metadata": {
        "id": "eVXOwrTELVrI"
      }
    },
    {
      "cell_type": "code",
      "source": [
        "#Question 9"
      ],
      "metadata": {
        "id": "gHUn3GVjIeSv"
      },
      "execution_count": null,
      "outputs": []
    },
    {
      "cell_type": "markdown",
      "source": [
        "Let's start by calculating the z-score and p-value for the given data. We'll then determine whether to reject or fail to reject the null hypothesis based on a significance level of 0.05.\n",
        "\n",
        "### Step-by-Step Calculation\n",
        "\n",
        "1. **Z-Score Calculation**:\n",
        "\n",
        "The formula for the z-score is:\n",
        "\n",
        "\\[ Z = \\frac{X - \\mu}{\\frac{\\sigma}{\\sqrt{n}}} \\]\n",
        "\n",
        "Where:\n",
        "- \\( X = 105 \\) (sample mean)\n",
        "- \\( \\mu = 100 \\) (population mean)\n",
        "- \\( \\sigma = 15 \\) (population standard deviation)\n",
        "- \\( n = 25 \\) (sample size)\n",
        "\n",
        "2. **P-Value Calculation**:\n",
        "\n",
        "We'll use Python's `scipy.stats` module to calculate the p-value.\n",
        "\n"
      ],
      "metadata": {
        "id": "DevnyaiULntO"
      }
    },
    {
      "cell_type": "code",
      "source": [
        "import scipy.stats as stats\n",
        "import math\n",
        "\n",
        "# Given data\n",
        "sample_mean = 105\n",
        "population_mean = 100\n",
        "standard_deviation = 15\n",
        "sample_size = 25\n",
        "\n",
        "# Calculate the z-score\n",
        "z_score = (sample_mean - population_mean) / (standard_deviation / math.sqrt(sample_size))\n",
        "\n",
        "# Calculate the p-value (two-tailed test)\n",
        "p_value = 2 * (1 - stats.norm.cdf(abs(z_score)))\n",
        "\n",
        "# Print the results\n",
        "print(\"Z-Score:\", z_score)\n",
        "print(\"P-Value:\", p_value)\n",
        "\n",
        "# Hypothesis testing\n",
        "alpha = 0.05\n",
        "if p_value < alpha:\n",
        "    print(\"Reject the null hypothesis\")\n",
        "else:\n",
        "    print(\"Fail to reject the null hypothesis\")\n"
      ],
      "metadata": {
        "colab": {
          "base_uri": "https://localhost:8080/"
        },
        "id": "00Pz3D-aL5qQ",
        "outputId": "c24d227d-fcb0-4deb-bfc1-4498376364df"
      },
      "execution_count": 1,
      "outputs": [
        {
          "output_type": "stream",
          "name": "stdout",
          "text": [
            "Z-Score: 1.6666666666666667\n",
            "P-Value: 0.09558070454562939\n",
            "Fail to reject the null hypothesis\n"
          ]
        }
      ]
    },
    {
      "cell_type": "markdown",
      "source": [
        "### Interpretation\n",
        "\n",
        "1. **Z-Score**:\n",
        "   - The z-score quantifies the number of standard deviations the sample mean is away from the population mean.\n",
        "\n",
        "2. **P-Value**:\n",
        "   - The p-value indicates the probability of obtaining a test statistic at least as extreme as the one observed, assuming the null hypothesis is true.\n",
        "   - For a significance level (\\(\\alpha\\)) of 0.05, if the p-value is less than 0.05, we reject the null hypothesis.\n",
        "\n",
        "\n",
        "\n",
        "Based on the p-value of 0.0955, which is greater than the significance level of 0.05, we **fail to reject the null hypothesis**. This suggests that there is not enough evidence to conclude that the sample mean is significantly different from the population mean at the 0.05 significance level."
      ],
      "metadata": {
        "id": "3pi_PGFyL4Z7"
      }
    },
    {
      "cell_type": "code",
      "source": [
        "#Question 10"
      ],
      "metadata": {
        "id": "KcaAKfmWIeFF"
      },
      "execution_count": null,
      "outputs": []
    },
    {
      "cell_type": "code",
      "source": [
        "import numpy as np\n",
        "import matplotlib.pyplot as plt\n",
        "\n",
        "# Given parameters\n",
        "n_trials = 10\n",
        "p_success = 0.6\n",
        "n_samples = 1000\n",
        "\n",
        "# Generate 1,000 samples from the binomial distribution\n",
        "samples = np.random.binomial(n_trials, p_success, n_samples)\n",
        "\n",
        "# Calculate the mean and variance\n",
        "mean = np.mean(samples)\n",
        "variance = np.var(samples)\n",
        "\n",
        "# Plot the distribution\n",
        "plt.hist(samples, bins=np.arange(0, n_trials + 2) - 0.5, edgecolor='black', density=True)\n",
        "plt.title('Binomial Distribution (n=10, p=0.6)')\n",
        "plt.xlabel('Number of successes')\n",
        "plt.ylabel('Frequency')\n",
        "plt.xticks(np.arange(0, n_trials + 1))\n",
        "plt.show()\n",
        "\n",
        "# Print the results\n",
        "print(\"Mean:\", mean)\n",
        "print(\"Variance:\", variance)\n"
      ],
      "metadata": {
        "colab": {
          "base_uri": "https://localhost:8080/",
          "height": 507
        },
        "id": "BGVBIwmJMxyK",
        "outputId": "bdec8ce7-5de5-4aa5-84be-b8e32a72855a"
      },
      "execution_count": 2,
      "outputs": [
        {
          "output_type": "display_data",
          "data": {
            "text/plain": [
              "<Figure size 640x480 with 1 Axes>"
            ],
            "image/png": "[encoded data removed]"
          },
          "metadata": {}
        },
        {
          "output_type": "stream",
          "name": "stdout",
          "text": [
            "Mean: 5.944\n",
            "Variance: 2.5388640000000002\n"
          ]
        }
      ]
    },
    {
      "cell_type": "markdown",
      "source": [
        "### Expected Mean and Variance\n",
        "\n",
        "For a binomial distribution, the expected mean (\\(\\mu\\)) and variance (\\(\\sigma^2\\)) are given by:\n",
        "- **Mean**: \\(\\mu = np\\)\n",
        "- **Variance**: \\(\\sigma^2 = np(1 - p)\\)\n",
        "\n",
        "Given \\( n = 10 \\) and \\( p = 0.6 \\):\n",
        "\n",
        "- **Expected Mean**: \\( \\mu = 10 \\times 0.6 = 6 \\)\n",
        "- **Expected Variance**: \\( \\sigma^2 = 10 \\times 0.6 \\times (1 - 0.6) = 2.4 \\)\n"
      ],
      "metadata": {
        "id": "nZUp5eD-MxHb"
      }
    }
  ]
}
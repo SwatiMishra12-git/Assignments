{
  "nbformat": 4,
  "nbformat_minor": 0,
  "metadata": {
    "colab": {
      "provenance": [],
      "authorship_tag": "ABX9TyMPxOx4MeqNqpPrWTd5LOZk"
    },
    "kernelspec": {
      "name": "python3",
      "display_name": "Python 3"
    },
    "language_info": {
      "name": "python"
    }
  },
  "cells": [
    {
      "cell_type": "code",
      "source": [
        "#Theory\n",
        "#Question 1"
      ],
      "metadata": {
        "id": "pRkdJL0J30xS"
      },
      "execution_count": null,
      "outputs": []
    },
    {
      "cell_type": "markdown",
      "source": [
        "A Decision Tree is a graphical representation used to make decisions and to visualize the outcomes of those decisions. It's like a flowchart where each node represents a decision point, and each branch represents a possible outcome or action.\n",
        "\n",
        "\n",
        "1. **Root Node**: This is the topmost node of the tree and represents the initial decision or question.\n",
        "2. **Decision Nodes**: These nodes represent the choices available at each decision point.\n",
        "3. **Branches**: These are the lines connecting nodes, representing the outcomes of a decision.\n",
        "4. **Leaf Nodes**: These are the final nodes of the tree, representing the end result or outcome of a series of decisions.\n",
        "\n",
        "A Decision Tree works by breaking down complex decisions into a series of simpler, binary choices. For example, let's say you're deciding whether to go for a run:\n",
        "\n",
        "1. **Root Node**: \"Is it raining?\"\n",
        "   - If yes: **Leaf Node**: \"Don't go for a run.\"\n",
        "   - If no: **Next Decision Node**: \"Do you have running shoes?\"\n",
        "     - If yes: **Leaf Node**: \"Go for a run.\"\n",
        "     - If no: **Leaf Node**: \"Don't go for a run.\"\n",
        "\n",
        "Decision Trees are widely used in machine learning for tasks like classification and regression because they're easy to interpret and can handle both numerical and categorical data.\n",
        "\n"
      ],
      "metadata": {
        "id": "fFdYtuzq5vnu"
      }
    },
    {
      "cell_type": "code",
      "execution_count": null,
      "metadata": {
        "id": "jnJi3RH01KCY"
      },
      "outputs": [],
      "source": [
        "#Question 2"
      ]
    },
    {
      "cell_type": "markdown",
      "source": [
        "In Decision Trees, impurity measures are used to determine how well a node splits the data. They quantify the degree of disorder or uncertainty in the data at a node. The lower the impurity, the better the split. Here are the most commonly used impurity measures:\n",
        "\n",
        "1. **Gini Impurity**:\n",
        "   - Measures the probability that a randomly chosen element would be incorrectly classified if it was randomly labeled according to the distribution of labels in the node.\n",
        "   - Formula: $$Gini = 1 - \\sum_{i=1}^{n} p_i^2$$\n",
        "     where \\( p_i \\) is the probability of an element being classified into class \\( i \\).\n",
        "\n",
        "2. **Entropy**:\n",
        "   - Also known as Information Gain, it measures the amount of uncertainty or disorder in the data.\n",
        "   - Formula: $$Entropy = - \\sum_{i=1}^{n} p_i \\log_2(p_i)$$\n",
        "     where \\( p_i \\) is the probability of an element being classified into class \\( i \\).\n",
        "\n",
        "3. **Reduction in Variance** (used for regression trees):\n",
        "   - Measures the reduction in variance for continuous target variables.\n",
        "   - Formula: Reduction in Variance is the difference in variance before and after the split.\n",
        "\n",
        "These impurity measures help in deciding the best attribute to split the data at each node. The attribute that minimizes impurity (or maximizes purity) is chosen for the split, leading to more homogeneous sub-nodes.\n",
        "\n"
      ],
      "metadata": {
        "id": "NQEdusFL6PgB"
      }
    },
    {
      "cell_type": "code",
      "source": [
        "#Question 3"
      ],
      "metadata": {
        "id": "WW1aMdwp3K_w"
      },
      "execution_count": null,
      "outputs": []
    },
    {
      "cell_type": "markdown",
      "source": [
        "The mathematical formula for Gini Impurity is as follows:\n",
        "\n",
        "$$ Gini = 1 - \\sum_{i=1}^{n} p_i^2 $$\n",
        "\n",
        "where:\n",
        "- \\( p_i \\) is the probability of an element being classified into class \\( i \\).\n",
        "- \\( n \\) is the total number of classes.\n",
        "\n",
        "The Gini Impurity ranges from 0 to 1:\n",
        "- A Gini Impurity of 0 indicates that all elements belong to a single class (pure).\n",
        "- A Gini Impurity close to 1 indicates a high level of disorder or mixed classes.\n"
      ],
      "metadata": {
        "id": "CeKz3lNe6mFH"
      }
    },
    {
      "cell_type": "code",
      "source": [
        "#Question 4"
      ],
      "metadata": {
        "id": "6uLYEn5r3K1m"
      },
      "execution_count": null,
      "outputs": []
    },
    {
      "cell_type": "markdown",
      "source": [
        "The mathematical formula for Entropy (in the context of Decision Trees) is as follows:\n",
        "\n",
        "$$ Entropy = - \\sum_{i=1}^{n} p_i \\log_2(p_i) $$\n",
        "\n",
        "where:\n",
        "- \\( p_i \\) is the probability of an element being classified into class \\( i \\).\n",
        "- \\( n \\) is the total number of classes.\n",
        "\n",
        "Entropy measures the amount of uncertainty or disorder in the data. It ranges from 0 (pure) to log_2(n) (maximum impurity).\n",
        "\n"
      ],
      "metadata": {
        "id": "lQ7T24Xg7K8N"
      }
    },
    {
      "cell_type": "code",
      "source": [
        "#Question 5"
      ],
      "metadata": {
        "id": "29OPTl6m3KrA"
      },
      "execution_count": null,
      "outputs": []
    },
    {
      "cell_type": "markdown",
      "source": [
        "**Information Gain** is a key concept in Decision Trees, used to select the attribute that will best split the data at each node. It measures the reduction in entropy (uncertainty or disorder) achieved by partitioning the data based on a particular attribute.\n",
        "\n",
        "Here’s how it works:\n",
        "\n",
        "1. **Calculate the Entropy of the Parent Node**:\n",
        "   - This is the entropy before the data is split.\n",
        "\n",
        "2. **Calculate the Entropy of the Child Nodes**:\n",
        "   - These are the entropies after splitting the data based on a specific attribute.\n",
        "\n",
        "3. **Calculate the Weighted Sum of the Child Entropies**:\n",
        "   - This is done by multiplying each child's entropy by the proportion of data points in that child node relative to the parent node.\n",
        "\n",
        "4. **Compute Information Gain**:\n",
        "   - The Information Gain is the difference between the entropy of the parent node and the weighted sum of the child entropies.\n",
        "\n",
        "Mathematically, Information Gain (\\(IG\\)) is given by:\n",
        "\\[ IG(S, A) = Entropy(S) - \\sum_{v \\in Values(A)} \\left( \\frac{|S_v|}{|S|} \\times Entropy(S_v) \\right) \\]\n",
        "\n",
        "where:\n",
        "- \\( S \\) is the set of data points.\n",
        "- \\( A \\) is the attribute being evaluated.\n",
        "- \\( v \\) represents the possible values of attribute \\( A \\).\n",
        "- \\( |S_v| \\) is the number of data points in subset \\( S \\) where attribute \\( A \\) has value \\( v \\).\n",
        "- \\( Entropy(S) \\) is the entropy of the original set \\( S \\).\n",
        "- \\( Entropy(S_v) \\) is the entropy of the subset \\( S_v \\).\n",
        "\n",
        "By selecting the attribute with the highest Information Gain, Decision Trees aim to create the most homogeneous subsets, leading to more accurate and efficient decision-making.\n"
      ],
      "metadata": {
        "id": "sVa6ZbIj70pe"
      }
    },
    {
      "cell_type": "code",
      "source": [
        "#Question 6"
      ],
      "metadata": {
        "id": "ekkf3m9l3Kgj"
      },
      "execution_count": null,
      "outputs": []
    },
    {
      "cell_type": "markdown",
      "source": [
        "Both Gini Impurity and Entropy are impurity measures used to determine the quality of splits in Decision Trees, but they have some differences in their calculations and interpretations:\n",
        "\n",
        "1. **Formula**:\n",
        "   - **Gini Impurity**:\n",
        "     $$ Gini = 1 - \\sum_{i=1}^{n} p_i^2 $$\n",
        "   - **Entropy**:\n",
        "     $$ Entropy = - \\sum_{i=1}^{n} p_i \\log_2(p_i) $$\n",
        "\n",
        "2. **Range**:\n",
        "   - **Gini Impurity**: Ranges from 0 (pure) to 1 (impure).\n",
        "   - **Entropy**: Ranges from 0 (pure) to log_2(n) (maximum impurity), where \\( n \\) is the number of classes.\n",
        "\n",
        "3. **Interpretation**:\n",
        "   - **Gini Impurity**: Represents the probability that a randomly chosen element would be incorrectly classified if it was randomly labeled according to the distribution of labels in the node. It is generally faster to compute and is often preferred in decision tree algorithms like CART (Classification and Regression Trees).\n",
        "   - **Entropy**: Measures the amount of uncertainty or disorder in the data. It is used in algorithms like ID3 and C4.5.\n",
        "\n",
        "4. **Sensitivity to Class Distribution**:\n",
        "   - **Gini Impurity**: Tends to be more sensitive to the purity of the node. Even slight changes in class distribution can affect its value.\n",
        "   - **Entropy**: Can be more sensitive to how evenly the classes are distributed.\n",
        "\n",
        "In practice, both measures are often used, and the choice between them can depend on specific use cases and computational efficiency.\n"
      ],
      "metadata": {
        "id": "kmQgYDuj7sn2"
      }
    },
    {
      "cell_type": "code",
      "source": [
        "#Question 7"
      ],
      "metadata": {
        "id": "TxBvfra93KWq"
      },
      "execution_count": null,
      "outputs": []
    },
    {
      "cell_type": "markdown",
      "source": [
        "Decision trees are used in machine learning for both classification and regression tasks. Here's a high-level overview of their mathematics:\n",
        "\n",
        "1. **Structure**:\n",
        "   - A decision tree consists of nodes (decision points) and edges (branches). Each node represents a feature (attribute) and each edge represents a decision rule.\n",
        "\n",
        "2. **Splitting Criteria**:\n",
        "   - The tree is built by splitting the data into subsets based on the value of an attribute. This process is repeated recursively.\n",
        "   - For classification, common splitting criteria include Gini impurity and entropy.\n",
        "   - For regression, a common criterion is the variance reduction.\n",
        "\n",
        "3. **Gini Impurity** (used for classification):\n",
        "   - Measures the frequency of a randomly chosen element being incorrectly classified.\n",
        "   - For a node \\( t \\), Gini impurity is given by:\n",
        "     $$ G(t) = 1 - \\sum_{i=1}^{c} (p_i)^2 $$\n",
        "     where \\( p_i \\) is the probability of an element being classified to class \\( i \\), and \\( c \\) is the number of classes.\n",
        "\n",
        "4. **Entropy** (used for classification):\n",
        "   - Measures the level of uncertainty or impurity in a node.\n",
        "   - For a node \\( t \\), entropy is given by:\n",
        "     $$ H(t) = - \\sum_{i=1}^{c} p_i \\log(p_i) $$\n",
        "     where \\( p_i \\) is the probability of an element being classified to class \\( i \\), and \\( c \\) is the number of classes.\n",
        "\n",
        "5. **Variance Reduction** (used for regression):\n",
        "   - Measures how much the target value varies within a node.\n",
        "   - Variance reduction is given by:\n",
        "     $$ \\Delta Var(t) = Var(t) - \\left( \\frac{N_tL}{N_t} Var(tL) + \\frac{N_tR}{N_t} Var(tR) \\right) $$\n",
        "     where \\( Var(t) \\) is the variance at node \\( t \\), \\( N_t \\) is the number of samples at node \\( t \\), \\( tL \\) and \\( tR \\) are the left and right child nodes, and \\( N_tL \\), \\( N_tR \\) are the number of samples in the left and right child nodes respectively.\n",
        "\n",
        "6. **Tree Pruning**:\n",
        "   - After building the tree, pruning is used to avoid overfitting.\n",
        "   - This involves removing nodes that provide little to no additional predictive power.\n",
        "\n"
      ],
      "metadata": {
        "id": "ahkt9DOS8eP5"
      }
    },
    {
      "cell_type": "code",
      "source": [
        "#Question 8"
      ],
      "metadata": {
        "id": "hIcGkQ8i3KMe"
      },
      "execution_count": null,
      "outputs": []
    },
    {
      "cell_type": "markdown",
      "source": [
        "Pre-pruning, also known as early stopping, is a technique used to prevent a decision tree from growing too complex and overfitting the training data. The idea is to halt the splitting of a node early, before the entire tree is fully grown, based on certain conditions. Here are some common pre-pruning criteria:\n",
        "\n",
        "1. **Maximum Depth**:\n",
        "   - Set a limit on the maximum depth of the tree. Once this depth is reached, no further splits are performed.\n",
        "\n",
        "2. **Minimum Samples per Leaf**:\n",
        "   - Specify a minimum number of samples that a node must have to be allowed to split. If a node has fewer samples than this threshold, it becomes a leaf node.\n",
        "\n",
        "3. **Minimum Information Gain**:\n",
        "   - Define a threshold for the minimum information gain (or reduction in impurity) required to split a node. If the information gain from a potential split is below this threshold, the split is not performed.\n",
        "\n",
        "4. **Maximum Number of Nodes**:\n",
        "   - Restrict the total number of nodes in the tree. Once this limit is reached, no further splits are allowed.\n",
        "\n",
        "Pre-pruning helps in reducing the complexity of the tree, making it more generalizable and less prone to overfitting. It is a way to control the growth of the tree during the training process, ensuring that it does not become too detailed and specific to the training data.\n"
      ],
      "metadata": {
        "id": "8DqOnpLI873g"
      }
    },
    {
      "cell_type": "code",
      "source": [
        "#Question 9"
      ],
      "metadata": {
        "id": "bhfMBgAD3KBz"
      },
      "execution_count": null,
      "outputs": []
    },
    {
      "cell_type": "markdown",
      "source": [
        "Post-pruning, also known as pruning, is a technique used after the decision tree is fully grown. The goal is to simplify the tree by removing sections that provide little predictive power and may lead to overfitting. Here’s how it works:\n",
        "\n",
        "1. **Fully Grow the Tree**:\n",
        "   - First, the decision tree is grown to its full extent, allowing it to split until it cannot split further (every node becomes a leaf node).\n",
        "\n",
        "2. **Evaluate Subtrees**:\n",
        "   - Starting from the leaf nodes, evaluate the performance of each subtree. This involves measuring the impact of replacing the subtree with a leaf node.\n",
        "\n",
        "3. **Pruning Criteria**:\n",
        "   - Common criteria for pruning include:\n",
        "     - **Cost Complexity Pruning**: Balances the trade-off between the tree complexity and its fit to the training data. It introduces a cost parameter \\( \\alpha \\) and calculates the cost-complexity measure:\n",
        "       $$ R_\\alpha(T) = R(T) + \\alpha |T| $$\n",
        "       where \\( R(T) \\) is the error of the tree \\( T \\), \\( |T| \\) is the number of leaf nodes, and \\( \\alpha \\) is a parameter that controls the trade-off.\n",
        "     - **Cross-Validation**: Uses cross-validation to estimate the error of different pruned subtrees. The subtree with the lowest cross-validation error is selected.\n",
        "\n",
        "4. **Remove Subtrees**:\n",
        "   - Replace subtrees that do not improve the model’s performance with a single leaf node.\n",
        "\n",
        "5. **Simplify the Tree**:\n",
        "   - The pruned tree is simpler and less likely to overfit the training data, making it more generalizable to new data.\n",
        "\n",
        "Post-pruning can significantly improve the model's performance by reducing its complexity and avoiding overfitting. It allows the tree to capture the essential patterns in the data without being too specific to the training set.\n",
        "\n"
      ],
      "metadata": {
        "id": "WuPv5Wjf9E7J"
      }
    },
    {
      "cell_type": "code",
      "source": [
        "#Question 10"
      ],
      "metadata": {
        "id": "TdALQGMN3J3a"
      },
      "execution_count": null,
      "outputs": []
    },
    {
      "cell_type": "markdown",
      "source": [
        "Pre-pruning and post-pruning are both techniques used to control the complexity of decision trees and prevent overfitting. However, they are applied at different stages of the tree-building process and have distinct approaches:\n",
        "\n",
        "### Pre-Pruning (Early Stopping)\n",
        "- **When Applied**: During the construction of the decision tree.\n",
        "- **Process**: The tree-building process is stopped early based on certain criteria, such as maximum depth, minimum samples per leaf, or minimum information gain.\n",
        "- **Goal**: To prevent the tree from growing too large and overfitting the training data by imposing constraints from the beginning.\n",
        "- **Advantages**:\n",
        "  - Faster training time since the tree is not grown fully.\n",
        "  - Simpler tree structure, which can be easier to interpret.\n",
        "- **Disadvantages**:\n",
        "  - Might stop too early and miss important patterns in the data, leading to underfitting.\n",
        "\n",
        "### Post-Pruning (Pruning)\n",
        "- **When Applied**: After the decision tree has been fully grown.\n",
        "- **Process**: The fully grown tree is simplified by removing subtrees that provide little predictive power based on pruning criteria such as cost complexity pruning or cross-validation.\n",
        "- **Goal**: To reduce the complexity of the tree and remove overfitted sections after the initial tree construction.\n",
        "- **Advantages**:\n",
        "  - Allows the tree to fully explore and capture all patterns before simplification.\n",
        "  - Often results in better generalization to new data.\n",
        "- **Disadvantages**:\n",
        "  - Longer training time since the tree is grown fully before pruning.\n",
        "  - More complex initial tree structure, which requires additional computation to prune.\n",
        "\n",
        "### Comparison Table\n",
        "\n",
        "| Aspect          | Pre-Pruning (Early Stopping)            | Post-Pruning (Pruning)                   |\n",
        "|-----------------|-----------------------------------------|------------------------------------------|\n",
        "| When Applied    | During tree construction                | After tree construction                  |\n",
        "| Process         | Stops tree growth early based on criteria | Removes subtrees after full growth       |\n",
        "| Goal            | Prevent overfitting by early constraints | Simplify tree and remove overfitting sections |\n",
        "| Advantages      | Faster training, simpler structure       | Better generalization, captures all patterns |\n",
        "| Disadvantages   | May underfit, miss important patterns   | Longer training time, initial complex structure |\n",
        "\n",
        "Both techniques aim to create a more generalizable and effective decision tree model. The choice between pre-pruning and post-pruning depends on the specific problem, dataset, and computational resources available.\n"
      ],
      "metadata": {
        "id": "yI9krjSp9S7x"
      }
    },
    {
      "cell_type": "code",
      "source": [
        "#Question 11"
      ],
      "metadata": {
        "id": "VoaAqeAM3JsM"
      },
      "execution_count": null,
      "outputs": []
    },
    {
      "cell_type": "markdown",
      "source": [
        "A Decision Tree Regressor is a type of machine learning algorithm used for regression tasks. Unlike classification tasks, where the goal is to predict categorical labels, regression tasks aim to predict continuous numerical values. Here’s how a Decision Tree Regressor works:\n",
        "\n",
        "### How It Works:\n",
        "\n",
        "1. **Tree Structure**:\n",
        "   - Just like a decision tree used for classification, a decision tree regressor consists of nodes and branches.\n",
        "   - Each node represents a decision based on a feature, and each branch represents the outcome of that decision.\n",
        "\n",
        "2. **Splitting Criteria**:\n",
        "   - The tree is built by recursively splitting the data into subsets based on the value of an attribute.\n",
        "   - The splitting criterion for regression is based on minimizing the variance or mean squared error (MSE) in the subsets.\n",
        "\n",
        "3. **Variance Reduction**:\n",
        "   - At each node, the decision tree algorithm selects the feature and split point that result in the greatest reduction in variance.\n",
        "   - Variance reduction is given by:\n",
        "     $$ \\Delta Var(t) = Var(t) - \\left( \\frac{N_tL}{N_t} Var(tL) + \\frac{N_tR}{N_t} Var(tR) \\right) $$\n",
        "     where \\( Var(t) \\) is the variance at node \\( t \\), \\( N_t \\) is the number of samples at node \\( t \\), \\( tL \\) and \\( tR \\) are the left and right child nodes, and \\( N_tL \\), \\( N_tR \\) are the number of samples in the left and right child nodes respectively.\n",
        "\n",
        "4. **Prediction**:\n",
        "   - Once the tree is fully grown, each leaf node represents a predicted value.\n",
        "   - The predicted value at a leaf node is typically the mean value of the target variable for the training samples in that leaf.\n",
        "\n",
        "### Advantages:\n",
        "- **Interpretable**: The decision tree structure is easy to visualize and interpret.\n",
        "- **Non-linear Relationships**: Can capture non-linear relationships between features and the target variable.\n",
        "- **No Need for Feature Scaling**: Decision trees do not require normalization or standardization of features.\n",
        "\n",
        "### Disadvantages:\n",
        "- **Overfitting**: Decision trees can easily overfit the training data, especially if not properly pruned.\n",
        "- **High Variance**: Small changes in the data can result in different tree structures, leading to high variance.\n",
        "- **Bias-Variance Trade-off**: Finding the right balance between underfitting and overfitting can be challenging.\n"
      ],
      "metadata": {
        "id": "-Tg4jqhc9gcb"
      }
    },
    {
      "cell_type": "code",
      "source": [
        "#Question 12"
      ],
      "metadata": {
        "id": "-pJtw_Nc3JgO"
      },
      "execution_count": null,
      "outputs": []
    },
    {
      "cell_type": "markdown",
      "source": [
        "Decision trees have several advantages and disadvantages, which can make them suitable or unsuitable depending on the context and data.\n",
        "### Advantages:\n",
        "1. **Simplicity and Interpretability**:\n",
        "   - **Easy to Understand**: The structure of a decision tree is easy to visualize and interpret, making it accessible to non-experts.\n",
        "   - **Transparent**: The decision-making process is clear and can be easily explained.\n",
        "\n",
        "2. **Handling Non-linear Relationships**:\n",
        "   - **Flexibility**: Decision trees can capture non-linear relationships between features and the target variable, making them versatile for various types of data.\n",
        "\n",
        "3. **No Need for Feature Scaling**:\n",
        "   - **Invariant to Scaling**: Decision trees do not require normalization or standardization of features, saving preprocessing time.\n",
        "\n",
        "4. **Handling Categorical and Numerical Data**:\n",
        "   - **Versatility**: Decision trees can handle both categorical and numerical data, making them suitable for diverse datasets.\n",
        "\n",
        "5. **Feature Importance**:\n",
        "   - **Insights**: Decision trees provide insights into the importance of different features in making predictions, which can be valuable for understanding the data.\n",
        "\n",
        "### Disadvantages:\n",
        "1. **Overfitting**:\n",
        "   - **Complex Trees**: Decision trees can easily become too complex and overfit the training data, capturing noise and reducing generalization to new data.\n",
        "   - **Pruning Needed**: Techniques like pre-pruning and post-pruning are often necessary to avoid overfitting.\n",
        "\n",
        "2. **High Variance**:\n",
        "   - **Sensitive to Data**: Small changes in the training data can result in significantly different tree structures, leading to high variance and instability.\n",
        "\n",
        "3. **Bias**:\n",
        "   - **Limited Depth**: Shallow trees can be too simple and underfit the data, failing to capture important patterns and relationships.\n",
        "\n",
        "4. **Greedy Algorithms**:\n",
        "   - **Local Optima**: The splitting criteria used by decision trees are greedy algorithms, meaning they make locally optimal decisions at each node, which may not lead to the globally optimal tree structure.\n",
        "\n",
        "5. **Computationally Expensive**:\n",
        "   - **Large Trees**: Building and evaluating large decision trees can be computationally expensive, especially with large datasets.\n",
        "\n",
        "### Comparison Table\n",
        "\n",
        "| Advantages                    | Disadvantages                   |\n",
        "|-------------------------------|----------------------------------|\n",
        "| Easy to understand            | Prone to overfitting             |\n",
        "| Captures non-linear relationships | High variance                    |\n",
        "| No need for feature scaling   | Can underfit with shallow trees  |\n",
        "| Handles both categorical and numerical data | Greedy algorithms may lead to suboptimal solutions |\n",
        "| Provides feature importance   | Computationally expensive for large trees |\n",
        "\n",
        "Despite their limitations, decision trees are a powerful tool in many scenarios. Techniques like ensemble methods (e.g., Random Forests, Gradient Boosting) can help mitigate some of their disadvantages by combining multiple trees to improve performance and robustness.\n",
        "\n"
      ],
      "metadata": {
        "id": "P78-iU1S9sWW"
      }
    },
    {
      "cell_type": "code",
      "source": [
        "#Question 13"
      ],
      "metadata": {
        "id": "-Ejy1FfA3JUs"
      },
      "execution_count": null,
      "outputs": []
    },
    {
      "cell_type": "markdown",
      "source": [
        "Decision trees have several strategies to handle missing values effectively during both training and prediction phases.\n",
        "\n",
        "### 1. **Ignore Missing Values**\n",
        "- Some decision tree algorithms allow the tree to grow without considering missing values. However, this approach can lead to biased results if the missing values are not randomly distributed.\n",
        "\n",
        "### 2. **Surrogate Splits**\n",
        "- **Surrogate Split Method**:\n",
        "  - The algorithm finds an alternative feature (surrogate) that can best mimic the splitting decision made by the primary feature with missing values.\n",
        "  - During training, when a missing value is encountered, the surrogate split is used instead.\n",
        "  - This approach allows the tree to handle missing data without discarding any samples.\n",
        "\n",
        "### 3. **Imputation**\n",
        "- **Mean/Median/Mode Imputation**:\n",
        "  - Replace missing values with the mean (for numerical features) or the median/mode (for categorical features) of the available data.\n",
        "- **Predictive Imputation**:\n",
        "  - Use a separate model to predict and fill in the missing values based on other features.\n",
        "  - This approach can be more accurate but is also more computationally intensive.\n",
        "\n",
        "### 4. **Using Missing as a Separate Category**\n",
        "- Treat missing values as a distinct category for categorical features.\n",
        "- This approach can be useful when the presence of missing values itself is informative.\n",
        "\n",
        "### 5. **Weighted Splits**\n",
        "- During the training process, the algorithm can use weighted splits to handle missing values.\n",
        "- If a feature has missing values, the algorithm uses weights to proportionally distribute samples with missing values among the child nodes based on the observed distribution of non-missing values.\n",
        "\n",
        "### Practical Implementation:\n",
        "- Many popular libraries, like scikit-learn, implement some of these strategies. For example, in scikit-learn's `DecisionTreeClassifier` and `DecisionTreeRegressor`, missing values can be handled using surrogate splits or by imputing missing values before training.\n"
      ],
      "metadata": {
        "id": "STbYgi0J9_ki"
      }
    },
    {
      "cell_type": "code",
      "source": [
        "#Question 14"
      ],
      "metadata": {
        "id": "E5g9R_5Z3JKF"
      },
      "execution_count": null,
      "outputs": []
    },
    {
      "cell_type": "markdown",
      "source": [
        "Decision trees handle categorical features efficiently and effectively by splitting the data based on the unique values of these features.\n",
        "### 1. **Categorical Feature Splits**:\n",
        "- For categorical features, decision trees consider each unique value as a potential split point.\n",
        "- The tree evaluates the potential splits based on an impurity measure (e.g., Gini impurity, entropy for classification tasks, or variance reduction for regression tasks).\n",
        "\n",
        "### 2. **Binary Splitting**:\n",
        "- Decision trees can perform binary splits, even for categorical features with multiple unique values.\n",
        "- The algorithm groups the unique values into two subsets and evaluates the split based on the chosen impurity measure.\n",
        "- The split that results in the highest reduction in impurity is chosen.\n",
        "\n",
        "### 3. **Handling Multiple Categories**:\n",
        "- When a categorical feature has many unique values, the decision tree algorithm considers all possible combinations of values for splitting.\n",
        "- This can be computationally expensive, so some implementations use heuristics or limit the number of splits.\n",
        "\n",
        "### 4. **One-Hot Encoding**:\n",
        "- Another approach is to transform categorical features into numerical features using one-hot encoding.\n",
        "- One-hot encoding creates binary features for each unique value of the categorical feature.\n",
        "- The decision tree then treats these binary features as numerical features for splitting.\n",
        "\n",
        "### Example:\n",
        "Consider a categorical feature \"Color\" with unique values {Red, Green, Blue}. Here’s how a decision tree might handle it:\n",
        "\n",
        "- Evaluate all possible splits:\n",
        "  - Split 1: {Red} vs. {Green, Blue}\n",
        "  - Split 2: {Green} vs. {Red, Blue}\n",
        "  - Split 3: {Blue} vs. {Red, Green}\n",
        "\n",
        "- Choose the split with the highest reduction in impurity.\n",
        "\n",
        "### Advantages of Decision Trees with Categorical Features:\n",
        "- **Naturally Handles Categorical Data**: Decision trees can directly handle categorical features without the need for preprocessing.\n",
        "- **Interpretability**: The resulting tree structure is easy to interpret and understand, showing clear decision rules based on categorical values.\n",
        "\n",
        "### Example:\n",
        "Consider a categorical feature \"Color\" with unique values {Red, Green, Blue}. Here’s how a decision tree might handle it:\n",
        "\n",
        "- Evaluate all possible splits:\n",
        "  - Split 1: {Red} vs. {Green, Blue}\n",
        "  - Split 2: {Green} vs. {Red, Blue}\n",
        "  - Split 3: {Blue} vs. {Red, Green}\n",
        "\n",
        "- Choose the split with the highest reduction in impurity.\n",
        "\n",
        "### Advantages of Decision Trees with Categorical Features:\n",
        "- **Naturally Handles Categorical Data**: Decision trees can directly handle categorical features without the need for preprocessing.\n",
        "- **Interpretability**: The resulting tree structure is easy to interpret and understand, showing clear decision rules based on categorical values.\n",
        "\n",
        "By accommodating categorical features in these ways, decision trees maintain their flexibility and applicability to a wide range of datasets.\n"
      ],
      "metadata": {
        "id": "L3rm9Ay4-EhR"
      }
    },
    {
      "cell_type": "code",
      "source": [
        "#Question 15"
      ],
      "metadata": {
        "id": "GaF0kvZG3JAP"
      },
      "execution_count": null,
      "outputs": []
    },
    {
      "cell_type": "markdown",
      "source": [
        "Decision trees have a wide range of real-world applications across various domains due to their simplicity, interpretability, and ability to handle both categorical and numerical data.\n",
        "\n",
        "### 1. **Healthcare**\n",
        "- **Diagnosis and Treatment**: Decision trees are used to diagnose diseases and recommend treatments based on patient symptoms and medical history.\n",
        "- **Risk Assessment**: They help in assessing patient risk for certain conditions and predicting the likelihood of disease progression.\n",
        "\n",
        "### 2. **Finance**\n",
        "- **Credit Scoring**: Used to evaluate the creditworthiness of loan applicants by analyzing their financial history and demographic information.\n",
        "- **Fraud Detection**: Helps in identifying fraudulent transactions by recognizing patterns and anomalies in transaction data.\n",
        "\n",
        "### 3. **Marketing**\n",
        "- **Customer Segmentation**: Decision trees are used to segment customers based on their behavior, preferences, and demographics for targeted marketing campaigns.\n",
        "- **Churn Prediction**: Helps in predicting customer churn by analyzing factors that influence customers to leave a service.\n",
        "\n",
        "### 4. **Retail**\n",
        "- **Inventory Management**: Used to predict demand for products and optimize inventory levels based on sales data and trends.\n",
        "- **Product Recommendations**: Helps in recommending products to customers based on their past purchases and preferences.\n",
        "\n",
        "### 5. **Manufacturing**\n",
        "- **Quality Control**: Decision trees help in identifying defects and maintaining quality standards by analyzing production data.\n",
        "- **Predictive Maintenance**: Used to predict equipment failures and schedule maintenance to prevent downtime.\n",
        "\n",
        "### 6. **Energy**\n",
        "- **Load Forecasting**: Helps in predicting energy consumption patterns to optimize energy production and distribution.\n",
        "- **Fault Detection**: Used to detect faults in energy systems and infrastructure to ensure reliability and safety.\n",
        "\n",
        "### 7. **Education**\n",
        "- **Student Performance**: Helps in predicting student performance and identifying at-risk students by analyzing academic records and behavior.\n",
        "- **Personalized Learning**: Used to create personalized learning plans for students based on their strengths and weaknesses.\n",
        "\n",
        "### 8. **Environment**\n",
        "- **Weather Prediction**: Decision trees are used to predict weather patterns and extreme events by analyzing historical weather data.\n",
        "- **Wildlife Management**: Helps in managing wildlife populations and conservation efforts by analyzing ecological data.\n",
        "\n",
        "### 9. **Human Resources**\n",
        "- **Employee Attrition**: Used to predict employee turnover by analyzing factors like job satisfaction, performance, and work environment.\n",
        "- **Recruitment**: Helps in selecting suitable candidates for job positions based on their qualifications and experience.\n",
        "\n",
        "Decision trees are versatile tools that can be applied to a variety of problems in different fields, providing valuable insights and decision-making support.\n"
      ],
      "metadata": {
        "id": "5ODXkNbW-jrQ"
      }
    },
    {
      "cell_type": "code",
      "source": [
        "#Practical\n",
        "#Question 16\n",
        "from sklearn.datasets import load_iris\n",
        "from sklearn.model_selection import train_test_split\n",
        "from sklearn.tree import DecisionTreeClassifier\n",
        "from sklearn.metrics import accuracy_score\n",
        "\n",
        "# Load the Iris dataset\n",
        "iris = load_iris()\n",
        "X = iris.data\n",
        "y = iris.target\n",
        "\n",
        "# Split the data into training and testing sets\n",
        "X_train, X_test, y_train, y_test = train_test_split(X, y, test_size=0.3, random_state=42)\n",
        "\n",
        "# Initialize the Decision Tree Classifier\n",
        "clf = DecisionTreeClassifier()\n",
        "\n",
        "# Train the classifier on the training data\n",
        "clf.fit(X_train, y_train)\n",
        "\n",
        "# Make predictions on the testing data\n",
        "y_pred = clf.predict(X_test)\n",
        "\n",
        "# Calculate and print the accuracy\n",
        "accuracy = accuracy_score(y_test, y_pred)\n",
        "print(f\"Model Accuracy: {accuracy * 100:.2f}%\")\n"
      ],
      "metadata": {
        "id": "XAhE91MZ3I07",
        "colab": {
          "base_uri": "https://localhost:8080/"
        },
        "outputId": "0c63d27f-e858-4865-af2f-e3bee8d9ce41"
      },
      "execution_count": 1,
      "outputs": [
        {
          "output_type": "stream",
          "name": "stdout",
          "text": [
            "Model Accuracy: 100.00%\n"
          ]
        }
      ]
    },
    {
      "cell_type": "code",
      "source": [
        "#Question 17\n",
        "from sklearn.datasets import load_iris\n",
        "from sklearn.model_selection import train_test_split\n",
        "from sklearn.tree import DecisionTreeClassifier\n",
        "from sklearn.metrics import accuracy_score\n",
        "\n",
        "# Load the Iris dataset\n",
        "iris = load_iris()\n",
        "X = iris.data\n",
        "y = iris.target\n",
        "\n",
        "# Split the data into training and testing sets\n",
        "X_train, X_test, y_train, y_test = train_test_split(X, y, test_size=0.3, random_state=42)\n",
        "\n",
        "# Initialize the Decision Tree Classifier with Gini Impurity as the criterion\n",
        "clf = DecisionTreeClassifier(criterion='gini')\n",
        "\n",
        "# Train the classifier on the training data\n",
        "clf.fit(X_train, y_train)\n",
        "\n",
        "# Print the feature importances\n",
        "print(\"Feature Importances:\")\n",
        "for feature, importance in zip(iris.feature_names, clf.feature_importances_):\n",
        "    print(f\"{feature}: {importance:.4f}\")\n",
        "\n",
        "# Make predictions on the testing data\n",
        "y_pred = clf.predict(X_test)\n",
        "\n",
        "# Calculate and print the accuracy\n",
        "accuracy = accuracy_score(y_test, y_pred)\n",
        "print(f\"Model Accuracy: {accuracy * 100:.2f}%\")\n"
      ],
      "metadata": {
        "id": "OctFVdKR3IrE",
        "colab": {
          "base_uri": "https://localhost:8080/"
        },
        "outputId": "429db8b5-4b2e-4283-e90e-e97e18a605bd"
      },
      "execution_count": 2,
      "outputs": [
        {
          "output_type": "stream",
          "name": "stdout",
          "text": [
            "Feature Importances:\n",
            "sepal length (cm): 0.0382\n",
            "sepal width (cm): 0.0000\n",
            "petal length (cm): 0.5382\n",
            "petal width (cm): 0.4236\n",
            "Model Accuracy: 100.00%\n"
          ]
        }
      ]
    },
    {
      "cell_type": "code",
      "source": [
        "#Question 18\n",
        "from sklearn.datasets import load_iris\n",
        "from sklearn.model_selection import train_test_split\n",
        "from sklearn.tree import DecisionTreeClassifier\n",
        "from sklearn.metrics import accuracy_score\n",
        "\n",
        "# Load the Iris dataset\n",
        "iris = load_iris()\n",
        "X = iris.data\n",
        "y = iris.target\n",
        "\n",
        "# Split the data into training and testing sets\n",
        "X_train, X_test, y_train, y_test = train_test_split(X, y, test_size=0.3, random_state=42)\n",
        "\n",
        "# Initialize the Decision Tree Classifier with Entropy as the criterion\n",
        "clf = DecisionTreeClassifier(criterion='entropy')\n",
        "\n",
        "# Train the classifier on the training data\n",
        "clf.fit(X_train, y_train)\n",
        "\n",
        "# Make predictions on the testing data\n",
        "y_pred = clf.predict(X_test)\n",
        "\n",
        "# Calculate and print the accuracy\n",
        "accuracy = accuracy_score(y_test, y_pred)\n",
        "print(f\"Model Accuracy: {accuracy * 100:.2f}%\")\n"
      ],
      "metadata": {
        "id": "IKwEbZ0q3IgY",
        "colab": {
          "base_uri": "https://localhost:8080/"
        },
        "outputId": "f3c278cf-f30a-4de8-b183-1d0bc1f427d6"
      },
      "execution_count": 3,
      "outputs": [
        {
          "output_type": "stream",
          "name": "stdout",
          "text": [
            "Model Accuracy: 97.78%\n"
          ]
        }
      ]
    },
    {
      "cell_type": "code",
      "source": [
        "#Question 19\n",
        "from sklearn.datasets import fetch_california_housing\n",
        "from sklearn.model_selection import train_test_split\n",
        "from sklearn.tree import DecisionTreeRegressor\n",
        "from sklearn.metrics import mean_squared_error\n",
        "\n",
        "# Load the California Housing dataset\n",
        "housing = fetch_california_housing()\n",
        "X = housing.data\n",
        "y = housing.target\n",
        "\n",
        "# Split the data into training and testing sets\n",
        "X_train, X_test, y_train, y_test = train_test_split(X, y, test_size=0.3, random_state=42)\n",
        "\n",
        "# Initialize the Decision Tree Regressor\n",
        "regressor = DecisionTreeRegressor()\n",
        "\n",
        "# Train the regressor on the training data\n",
        "regressor.fit(X_train, y_train)\n",
        "\n",
        "# Make predictions on the testing data\n",
        "y_pred = regressor.predict(X_test)\n",
        "\n",
        "# Calculate and print the Mean Squared Error (MSE)\n",
        "mse = mean_squared_error(y_test, y_pred)\n",
        "print(f\"Mean Squared Error (MSE): {mse:.2f}\")\n"
      ],
      "metadata": {
        "colab": {
          "base_uri": "https://localhost:8080/"
        },
        "id": "q4fSKqSYtuxi",
        "outputId": "e16a2028-7447-4be3-a053-e7d715b9d793"
      },
      "execution_count": 5,
      "outputs": [
        {
          "output_type": "stream",
          "name": "stdout",
          "text": [
            "Mean Squared Error (MSE): 0.53\n"
          ]
        }
      ]
    },
    {
      "cell_type": "code",
      "source": [
        "#Question 20\n",
        "from sklearn.datasets import load_iris\n",
        "from sklearn.model_selection import train_test_split\n",
        "from sklearn.tree import DecisionTreeClassifier\n",
        "from sklearn import tree\n",
        "import graphviz\n",
        "\n",
        "# Load the Iris dataset\n",
        "iris = load_iris()\n",
        "X = iris.data\n",
        "y = iris.target\n",
        "\n",
        "# Split the data into training and testing sets\n",
        "X_train, X_test, y_train, y_test = train_test_split(X, y, test_size=0.3, random_state=42)\n",
        "\n",
        "# Initialize the Decision Tree Classifier\n",
        "clf = DecisionTreeClassifier()\n",
        "\n",
        "# Train the classifier on the training data\n",
        "clf.fit(X_train, y_train)\n",
        "\n",
        "# Visualize the Decision Tree using graphviz\n",
        "dot_data = tree.export_graphviz(clf, out_file=None,\n",
        "                                feature_names=iris.feature_names,\n",
        "                                class_names=iris.target_names,\n",
        "                                filled=True, rounded=True,\n",
        "                                special_characters=True)\n",
        "graph = graphviz.Source(dot_data)\n",
        "graph.render(\"decision_tree\")  # Save the visualization to a file\n",
        "\n",
        "# To display the visualization directly\n",
        "graph.view()\n"
      ],
      "metadata": {
        "id": "2ljXxNp33IMX",
        "colab": {
          "base_uri": "https://localhost:8080/",
          "height": 35
        },
        "outputId": "160d0379-65be-4311-e979-891b3dfb984c"
      },
      "execution_count": 6,
      "outputs": [
        {
          "output_type": "execute_result",
          "data": {
            "text/plain": [
              "'decision_tree.pdf'"
            ],
            "application/vnd.google.colaboratory.intrinsic+json": {
              "type": "string"
            }
          },
          "metadata": {},
          "execution_count": 6
        }
      ]
    },
    {
      "cell_type": "code",
      "source": [
        "#Question 21\n",
        "from sklearn.datasets import load_iris\n",
        "from sklearn.model_selection import train_test_split\n",
        "from sklearn.tree import DecisionTreeClassifier\n",
        "from sklearn.metrics import accuracy_score\n",
        "\n",
        "# Load the Iris dataset\n",
        "iris = load_iris()\n",
        "X = iris.data\n",
        "y = iris.target\n",
        "\n",
        "# Split the data into training and testing sets\n",
        "X_train, X_test, y_train, y_test = train_test_split(X, y, test_size=0.3, random_state=42)\n",
        "\n",
        "# Initialize the Decision Tree Classifier with a maximum depth of 3\n",
        "clf_max_depth_3 = DecisionTreeClassifier(max_depth=3)\n",
        "\n",
        "# Train the classifier on the training data\n",
        "clf_max_depth_3.fit(X_train, y_train)\n",
        "\n",
        "# Make predictions on the testing data\n",
        "y_pred_max_depth_3 = clf_max_depth_3.predict(X_test)\n",
        "\n",
        "# Calculate and print the accuracy\n",
        "accuracy_max_depth_3 = accuracy_score(y_test, y_pred_max_depth_3)\n",
        "print(f\"Accuracy with max depth of 3: {accuracy_max_depth_3 * 100:.2f}%\")\n",
        "\n",
        "# Initialize the fully grown Decision Tree Classifier\n",
        "clf_full = DecisionTreeClassifier()\n",
        "\n",
        "# Train the classifier on the training data\n",
        "clf_full.fit(X_train, y_train)\n",
        "\n",
        "# Make predictions on the testing data\n",
        "y_pred_full = clf_full.predict(X_test)\n",
        "\n",
        "# Calculate and print the accuracy\n",
        "accuracy_full = accuracy_score(y_test, y_pred_full)\n",
        "print(f\"Accuracy with fully grown tree: {accuracy_full * 100:.2f}%\")\n"
      ],
      "metadata": {
        "id": "5RkoElKC3ICM",
        "colab": {
          "base_uri": "https://localhost:8080/"
        },
        "outputId": "880e3c90-031b-4df9-d915-e28fef230775"
      },
      "execution_count": 7,
      "outputs": [
        {
          "output_type": "stream",
          "name": "stdout",
          "text": [
            "Accuracy with max depth of 3: 100.00%\n",
            "Accuracy with fully grown tree: 100.00%\n"
          ]
        }
      ]
    },
    {
      "cell_type": "code",
      "source": [
        "#Question 22\n",
        "from sklearn.datasets import load_iris\n",
        "from sklearn.model_selection import train_test_split\n",
        "from sklearn.tree import DecisionTreeClassifier\n",
        "from sklearn.metrics import accuracy_score\n",
        "\n",
        "# Load the Iris dataset\n",
        "iris = load_iris()\n",
        "X = iris.data\n",
        "y = iris.target\n",
        "\n",
        "# Split the data into training and testing sets\n",
        "X_train, X_test, y_train, y_test = train_test_split(X, y, test_size=0.3, random_state=42)\n",
        "\n",
        "# Initialize the Decision Tree Classifier with min_samples_split=5\n",
        "clf_min_samples_split = DecisionTreeClassifier(min_samples_split=5)\n",
        "\n",
        "# Train the classifier on the training data\n",
        "clf_min_samples_split.fit(X_train, y_train)\n",
        "\n",
        "# Make predictions on the testing data\n",
        "y_pred_min_samples_split = clf_min_samples_split.predict(X_test)\n",
        "\n",
        "# Calculate and print the accuracy\n",
        "accuracy_min_samples_split = accuracy_score(y_test, y_pred_min_samples_split)\n",
        "print(f\"Accuracy with min_samples_split=5: {accuracy_min_samples_split * 100:.2f}%\")\n",
        "\n",
        "# Initialize the default Decision Tree Classifier\n",
        "clf_default = DecisionTreeClassifier()\n",
        "\n",
        "# Train the classifier on the training data\n",
        "clf_default.fit(X_train, y_train)\n",
        "\n",
        "# Make predictions on the testing data\n",
        "y_pred_default = clf_default.predict(X_test)\n",
        "\n",
        "# Calculate and print the accuracy\n",
        "accuracy_default = accuracy_score(y_test, y_pred_default)\n",
        "print(f\"Accuracy with default tree: {accuracy_default * 100:.2f}%\")\n"
      ],
      "metadata": {
        "id": "ZnB-9Vyf3H3P",
        "colab": {
          "base_uri": "https://localhost:8080/"
        },
        "outputId": "23ef82b5-5eae-4427-e91e-1bb730b6358b"
      },
      "execution_count": 8,
      "outputs": [
        {
          "output_type": "stream",
          "name": "stdout",
          "text": [
            "Accuracy with min_samples_split=5: 100.00%\n",
            "Accuracy with default tree: 100.00%\n"
          ]
        }
      ]
    },
    {
      "cell_type": "code",
      "source": [
        "#Question 23\n",
        "from sklearn.datasets import load_iris\n",
        "from sklearn.model_selection import train_test_split\n",
        "from sklearn.tree import DecisionTreeClassifier\n",
        "from sklearn.preprocessing import StandardScaler\n",
        "from sklearn.metrics import accuracy_score\n",
        "\n",
        "# Load the Iris dataset\n",
        "iris = load_iris()\n",
        "X = iris.data\n",
        "y = iris.target\n",
        "\n",
        "# Split the data into training and testing sets\n",
        "X_train, X_test, y_train, y_test = train_test_split(X, y, test_size=0.3, random_state=42)\n",
        "\n",
        "# Feature scaling\n",
        "scaler = StandardScaler()\n",
        "X_train_scaled = scaler.fit_transform(X_train)\n",
        "X_test_scaled = scaler.transform(X_test)\n",
        "\n",
        "# Initialize the Decision Tree Classifier\n",
        "clf = DecisionTreeClassifier()\n",
        "\n",
        "# Train the classifier on the unscaled data\n",
        "clf.fit(X_train, y_train)\n",
        "y_pred_unscaled = clf.predict(X_test)\n",
        "accuracy_unscaled = accuracy_score(y_test, y_pred_unscaled)\n",
        "print(f\"Accuracy with unscaled data: {accuracy_unscaled * 100:.2f}%\")\n",
        "\n",
        "# Train the classifier on the scaled data\n",
        "clf.fit(X_train_scaled, y_train)\n",
        "y_pred_scaled = clf.predict(X_test_scaled)\n",
        "accuracy_scaled = accuracy_score(y_test, y_pred_scaled)\n",
        "print(f\"Accuracy with scaled data: {accuracy_scaled * 100:.2f}%\")\n"
      ],
      "metadata": {
        "id": "0U1xfyQI3Hsk",
        "colab": {
          "base_uri": "https://localhost:8080/"
        },
        "outputId": "3f44a5af-f7f7-4062-e499-af6551d5b751"
      },
      "execution_count": 9,
      "outputs": [
        {
          "output_type": "stream",
          "name": "stdout",
          "text": [
            "Accuracy with unscaled data: 100.00%\n",
            "Accuracy with scaled data: 100.00%\n"
          ]
        }
      ]
    },
    {
      "cell_type": "code",
      "source": [
        "#Question 24\n",
        "from sklearn.datasets import load_iris\n",
        "from sklearn.model_selection import train_test_split\n",
        "from sklearn.tree import DecisionTreeClassifier\n",
        "from sklearn.multiclass import OneVsRestClassifier\n",
        "from sklearn.metrics import accuracy_score\n",
        "\n",
        "# Load the Iris dataset\n",
        "iris = load_iris()\n",
        "X = iris.data\n",
        "y = iris.target\n",
        "\n",
        "# Split the data into training and testing sets\n",
        "X_train, X_test, y_train, y_test = train_test_split(X, y, test_size=0.3, random_state=42)\n",
        "\n",
        "# Initialize the Decision Tree Classifier\n",
        "clf = DecisionTreeClassifier()\n",
        "\n",
        "# Apply the One-vs-Rest strategy\n",
        "ovr_clf = OneVsRestClassifier(clf)\n",
        "\n",
        "# Train the classifier on the training data\n",
        "ovr_clf.fit(X_train, y_train)\n",
        "\n",
        "# Make predictions on the testing data\n",
        "y_pred = ovr_clf.predict(X_test)\n",
        "\n",
        "# Calculate and print the accuracy\n",
        "accuracy = accuracy_score(y_test, y_pred)\n",
        "print(f\"Model Accuracy: {accuracy * 100:.2f}%\")\n"
      ],
      "metadata": {
        "id": "aROJRNBR3Hh6",
        "colab": {
          "base_uri": "https://localhost:8080/"
        },
        "outputId": "09d4d0c4-87b8-4861-b805-af89381a9864"
      },
      "execution_count": 10,
      "outputs": [
        {
          "output_type": "stream",
          "name": "stdout",
          "text": [
            "Model Accuracy: 100.00%\n"
          ]
        }
      ]
    },
    {
      "cell_type": "code",
      "source": [
        "#Question 25\n",
        "from sklearn.datasets import load_iris\n",
        "from sklearn.model_selection import train_test_split\n",
        "from sklearn.tree import DecisionTreeClassifier\n",
        "from sklearn.multiclass import OneVsRestClassifier\n",
        "from sklearn.metrics import accuracy_score\n",
        "\n",
        "# Load the Iris dataset\n",
        "iris = load_iris()\n",
        "X = iris.data\n",
        "y = iris.target\n",
        "\n",
        "# Split the data into training and testing sets\n",
        "X_train, X_test, y_train, y_test = train_test_split(X, y, test_size=0.3, random_state=42)\n",
        "\n",
        "# Initialize the Decision Tree Classifier\n",
        "clf = DecisionTreeClassifier()\n",
        "\n",
        "# Apply the One-vs-Rest strategy\n",
        "ovr_clf = OneVsRestClassifier(clf)\n",
        "\n",
        "# Train the classifier on the training data\n",
        "ovr_clf.fit(X_train, y_train)\n",
        "\n",
        "# Make predictions on the testing data\n",
        "y_pred = ovr_clf.predict(X_test)\n",
        "\n",
        "# Calculate and print the accuracy\n",
        "accuracy = accuracy_score(y_test, y_pred)\n",
        "print(f\"Model Accuracy: {accuracy * 100:.2f}%\")\n"
      ],
      "metadata": {
        "id": "VstC-tQb3HYA",
        "colab": {
          "base_uri": "https://localhost:8080/"
        },
        "outputId": "e5e8838c-eb70-4566-8035-3d77178faf63"
      },
      "execution_count": 11,
      "outputs": [
        {
          "output_type": "stream",
          "name": "stdout",
          "text": [
            "Model Accuracy: 100.00%\n"
          ]
        }
      ]
    },
    {
      "cell_type": "code",
      "source": [
        "#Question 26\n",
        "from sklearn.datasets import load_iris\n",
        "from sklearn.model_selection import train_test_split\n",
        "from sklearn.tree import DecisionTreeClassifier\n",
        "from sklearn.multiclass import OneVsRestClassifier\n",
        "from sklearn.metrics import accuracy_score\n",
        "\n",
        "# Load the Iris dataset\n",
        "iris = load_iris()\n",
        "X = iris.data\n",
        "y = iris.target\n",
        "\n",
        "# Split the data into training and testing sets\n",
        "X_train, X_test, y_train, y_test = train_test_split(X, y, test_size=0.3, random_state=42)\n",
        "\n",
        "# Initialize the Decision Tree Classifier\n",
        "clf = DecisionTreeClassifier()\n",
        "\n",
        "# Apply the One-vs-Rest strategy\n",
        "ovr_clf = OneVsRestClassifier(clf)\n",
        "\n",
        "# Train the classifier on the training data\n",
        "ovr_clf.fit(X_train, y_train)\n",
        "\n",
        "# Make predictions on the testing data\n",
        "y_pred = ovr_clf.predict(X_test)\n",
        "\n",
        "# Calculate and print the accuracy\n",
        "accuracy = accuracy_score(y_test, y_pred)\n",
        "print(f\"Model Accuracy: {accuracy * 100:.2f}%\")\n"
      ],
      "metadata": {
        "id": "F3lDoo4e3HNm",
        "colab": {
          "base_uri": "https://localhost:8080/"
        },
        "outputId": "85c6a001-4b9f-4f0f-b867-947130dcc7f1"
      },
      "execution_count": 12,
      "outputs": [
        {
          "output_type": "stream",
          "name": "stdout",
          "text": [
            "Model Accuracy: 100.00%\n"
          ]
        }
      ]
    },
    {
      "cell_type": "code",
      "source": [
        "#Question 27\n",
        "import numpy as np\n",
        "import matplotlib.pyplot as plt\n",
        "from sklearn.datasets import load_iris\n",
        "from sklearn.model_selection import train_test_split\n",
        "from sklearn.tree import DecisionTreeClassifier\n",
        "from sklearn.metrics import accuracy_score\n",
        "\n",
        "# Load the Iris dataset\n",
        "iris = load_iris()\n",
        "X = iris.data\n",
        "y = iris.target\n",
        "\n",
        "# Split the data into training and testing sets\n",
        "X_train, X_test, y_train, y_test = train_test_split(X, y, test_size=0.3, random_state=42)\n",
        "\n",
        "# Train a Decision Tree Classifier\n",
        "clf = DecisionTreeClassifier(random_state=42)\n",
        "clf.fit(X_train, y_train)\n",
        "\n",
        "# Get the effective alpha values used for pruning\n",
        "path = clf.cost_complexity_pruning_path(X_train, y_train)\n",
        "ccp_alphas, impurities = path.ccp_alphas, path.impurities\n",
        "\n",
        "# Train the decision trees with pruning using the effective alpha values\n",
        "clfs = []\n",
        "for ccp_alpha in ccp_alphas:\n",
        "    clf = DecisionTreeClassifier(random_state=42, ccp_alpha=ccp_alpha)\n",
        "    clf.fit(X_train, y_train)\n",
        "    clfs.append(clf)\n",
        "\n",
        "# Remove the last tree because it's the trivial tree with only one node\n",
        "clfs = clfs[:-1]\n",
        "ccp_alphas = ccp_alphas[:-1]\n",
        "\n",
        "# Calculate the accuracy for each alpha\n",
        "train_scores = [accuracy_score(y_train, clf.predict(X_train)) for clf in clfs]\n",
        "test_scores = [accuracy_score(y_test, clf.predict(X_test)) for clf in clfs]\n",
        "\n",
        "# Plot the accuracy vs. alpha\n",
        "plt.figure(figsize=(10, 6))\n",
        "plt.plot(ccp_alphas, train_scores, marker='o', label='Train', drawstyle=\"steps-post\")\n",
        "plt.plot(ccp_alphas, test_scores, marker='o', label='Test', drawstyle=\"steps-post\")\n",
        "plt.xlabel('Alpha')\n",
        "plt.ylabel('Accuracy')\n",
        "plt.title('Accuracy vs. Alpha for Cost Complexity Pruning')\n",
        "plt.legend()\n",
        "plt.grid()\n",
        "plt.show()\n"
      ],
      "metadata": {
        "id": "yEGsSdx63HDc",
        "colab": {
          "base_uri": "https://localhost:8080/",
          "height": 564
        },
        "outputId": "80ef74f8-5cfc-4323-d88e-ab6302b369b8"
      },
      "execution_count": 13,
      "outputs": [
        {
          "output_type": "display_data",
          "data": {
            "text/plain": [
              "<Figure size 1000x600 with 1 Axes>"
            ],
            "image/png": "[encoded data removed]"
          },
          "metadata": {}
        }
      ]
    },
    {
      "cell_type": "code",
      "source": [
        "#Question 28\n",
        "from sklearn.datasets import load_iris\n",
        "from sklearn.model_selection import train_test_split\n",
        "from sklearn.tree import DecisionTreeClassifier\n",
        "from sklearn.metrics import precision_score, recall_score, f1_score\n",
        "\n",
        "# Load the Iris dataset\n",
        "iris = load_iris()\n",
        "X = iris.data\n",
        "y = iris.target\n",
        "\n",
        "# Split the data into training and testing sets\n",
        "X_train, X_test, y_train, y_test = train_test_split(X, y, test_size=0.3, random_state=42)\n",
        "\n",
        "# Initialize the Decision Tree Classifier\n",
        "clf = DecisionTreeClassifier()\n",
        "\n",
        "# Train the classifier on the training data\n",
        "clf.fit(X_train, y_train)\n",
        "\n",
        "# Make predictions on the testing data\n",
        "y_pred = clf.predict(X_test)\n",
        "\n",
        "# Calculate and print Precision, Recall, and F1-Score for each class\n",
        "precision = precision_score(y_test, y_pred, average=None)\n",
        "recall = recall_score(y_test, y_pred, average=None)\n",
        "f1 = f1_score(y_test, y_pred, average=None)\n",
        "\n",
        "for i, class_name in enumerate(iris.target_names):\n",
        "    print(f\"Class: {class_name}\")\n",
        "    print(f\"  Precision: {precision[i]:.2f}\")\n",
        "    print(f\"  Recall: {recall[i]:.2f}\")\n",
        "    print(f\"  F1-Score: {f1[i]:.2f}\")\n",
        "\n",
        "# Calculate and print the overall Precision, Recall, and F1-Score\n",
        "precision_overall = precision_score(y_test, y_pred, average='weighted')\n",
        "recall_overall = recall_score(y_test, y_pred, average='weighted')\n",
        "f1_overall = f1_score(y_test, y_pred, average='weighted')\n",
        "\n",
        "print(\"\\nOverall Metrics:\")\n",
        "print(f\"  Precision: {precision_overall:.2f}\")\n",
        "print(f\"  Recall: {recall_overall:.2f}\")\n",
        "print(f\"  F1-Score: {f1_overall:.2f}\")\n"
      ],
      "metadata": {
        "id": "vXd09Km13G4v",
        "colab": {
          "base_uri": "https://localhost:8080/"
        },
        "outputId": "04a12125-7782-4c24-f992-996862883270"
      },
      "execution_count": 14,
      "outputs": [
        {
          "output_type": "stream",
          "name": "stdout",
          "text": [
            "Class: setosa\n",
            "  Precision: 1.00\n",
            "  Recall: 1.00\n",
            "  F1-Score: 1.00\n",
            "Class: versicolor\n",
            "  Precision: 1.00\n",
            "  Recall: 1.00\n",
            "  F1-Score: 1.00\n",
            "Class: virginica\n",
            "  Precision: 1.00\n",
            "  Recall: 1.00\n",
            "  F1-Score: 1.00\n",
            "\n",
            "Overall Metrics:\n",
            "  Precision: 1.00\n",
            "  Recall: 1.00\n",
            "  F1-Score: 1.00\n"
          ]
        }
      ]
    },
    {
      "cell_type": "code",
      "source": [
        "#Question 29\n",
        "import seaborn as sns\n",
        "import matplotlib.pyplot as plt\n",
        "from sklearn.datasets import load_iris\n",
        "from sklearn.model_selection import train_test_split\n",
        "from sklearn.tree import DecisionTreeClassifier\n",
        "from sklearn.metrics import confusion_matrix\n",
        "\n",
        "# Load the Iris dataset\n",
        "iris = load_iris()\n",
        "X = iris.data\n",
        "y = iris.target\n",
        "\n",
        "# Split the data into training and testing sets\n",
        "X_train, X_test, y_train, y_test = train_test_split(X, y, test_size=0.3, random_state=42)\n",
        "\n",
        "# Initialize the Decision Tree Classifier\n",
        "clf = DecisionTreeClassifier()\n",
        "\n",
        "# Train the classifier on the training data\n",
        "clf.fit(X_train, y_train)\n",
        "\n",
        "# Make predictions on the testing data\n",
        "y_pred = clf.predict(X_test)\n",
        "\n",
        "# Calculate the confusion matrix\n",
        "cm = confusion_matrix(y_test, y_pred)\n",
        "\n",
        "# Visualize the confusion matrix using seaborn\n",
        "plt.figure(figsize=(8, 6))\n",
        "sns.heatmap(cm, annot=True, fmt=\"d\", cmap=\"Blues\", xticklabels=iris.target_names, yticklabels=iris.target_names)\n",
        "plt.xlabel('Predicted')\n",
        "plt.ylabel('True')\n",
        "plt.title('Confusion Matrix')\n",
        "plt.show()\n"
      ],
      "metadata": {
        "id": "uskg8Hz63GtD",
        "colab": {
          "base_uri": "https://localhost:8080/",
          "height": 564
        },
        "outputId": "621f6ef7-1e89-4710-8a64-72b73671e1c2"
      },
      "execution_count": 15,
      "outputs": [
        {
          "output_type": "display_data",
          "data": {
            "text/plain": [
              "<Figure size 800x600 with 2 Axes>"
            ],
            "image/png": "[encoded data removed]"
          },
          "metadata": {}
        }
      ]
    },
    {
      "cell_type": "code",
      "source": [
        "#Question 30\n",
        "from sklearn.datasets import load_iris\n",
        "from sklearn.model_selection import train_test_split, GridSearchCV\n",
        "from sklearn.tree import DecisionTreeClassifier\n",
        "from sklearn.metrics import accuracy_score\n",
        "\n",
        "# Load the Iris dataset\n",
        "iris = load_iris()\n",
        "X = iris.data\n",
        "y = iris.target\n",
        "\n",
        "# Split the data into training and testing sets\n",
        "X_train, X_test, y_train, y_test = train_test_split(X, y, test_size=0.3, random_state=42)\n",
        "\n",
        "# Initialize the Decision Tree Classifier\n",
        "clf = DecisionTreeClassifier()\n",
        "\n",
        "# Define the parameter grid for max_depth and min_samples_split\n",
        "param_grid = {\n",
        "    'max_depth': [3, 4, 5, 6, 7, 8, 9, 10],\n",
        "    'min_samples_split': [2, 5, 10, 15, 20]\n",
        "}\n",
        "\n",
        "# Initialize GridSearchCV with the classifier and parameter grid\n",
        "grid_search = GridSearchCV(estimator=clf, param_grid=param_grid, cv=5, scoring='accuracy')\n",
        "\n",
        "# Fit GridSearchCV to the training data\n",
        "grid_search.fit(X_train, y_train)\n",
        "\n",
        "# Get the best parameters and best estimator\n",
        "best_params = grid_search.best_params_\n",
        "best_estimator = grid_search.best_estimator_\n",
        "\n",
        "# Make predictions on the testing data using the best estimator\n",
        "y_pred = best_estimator.predict(X_test)\n",
        "\n",
        "# Calculate and print the accuracy\n",
        "accuracy = accuracy_score(y_test, y_pred)\n",
        "print(f\"Best Parameters: {best_params}\")\n",
        "print(f\"Model Accuracy: {accuracy * 100:.2f}%\")\n"
      ],
      "metadata": {
        "id": "aBI3bvHq3GiH",
        "colab": {
          "base_uri": "https://localhost:8080/"
        },
        "outputId": "a490d261-8472-47ae-bd8d-98498ffada0d"
      },
      "execution_count": 16,
      "outputs": [
        {
          "output_type": "stream",
          "name": "stdout",
          "text": [
            "Best Parameters: {'max_depth': 4, 'min_samples_split': 10}\n",
            "Model Accuracy: 100.00%\n"
          ]
        }
      ]
    },
    {
      "cell_type": "code",
      "source": [],
      "metadata": {
        "id": "3kNcJiKE3GWb"
      },
      "execution_count": null,
      "outputs": []
    }
  ]
}
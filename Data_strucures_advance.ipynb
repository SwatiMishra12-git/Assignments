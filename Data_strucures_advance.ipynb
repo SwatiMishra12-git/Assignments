{
  "nbformat": 4,
  "nbformat_minor": 0,
  "metadata": {
    "colab": {
      "provenance": []
    },
    "kernelspec": {
      "name": "python3",
      "display_name": "Python 3"
    },
    "language_info": {
      "name": "python"
    }
  },
  "cells": [
    {
      "cell_type": "code",
      "execution_count": null,
      "metadata": {
        "colab": {
          "base_uri": "https://localhost:8080/"
        },
        "id": "H8AODy61_ddy",
        "outputId": "10e62c36-5028-4ff2-beb9-e67192fff91b"
      },
      "outputs": [
        {
          "output_type": "stream",
          "name": "stdout",
          "text": [
            "The reversed string is: olleh\n"
          ]
        }
      ],
      "source": [
        "#1. Write a code to reverse a string\n",
        "def reverse_string(s):\n",
        "  return s[::-1]\n",
        "\n",
        "# Example usage\n",
        "string = \"hello\"\n",
        "reversed_string = reverse_string(string)\n",
        "print(f\"The reversed string is: {reversed_string}\")\n",
        "\n",
        "\n"
      ]
    },
    {
      "cell_type": "code",
      "source": [
        "#2. Write a code to count the number of vowels in a string\n",
        "def count_vowels(s):\n",
        "  vowels = \"aeiouAEIOU\"\n",
        "  count = 0\n",
        "  for char in s:\n",
        "    if char in vowels:\n",
        "      count += 1\n",
        "  return count\n",
        "\n",
        "count_vowels(\"I am a beautiful soul\")"
      ],
      "metadata": {
        "colab": {
          "base_uri": "https://localhost:8080/"
        },
        "id": "XUEYMQ03As31",
        "outputId": "15693c17-df25-4142-85cf-589321268ca3"
      },
      "execution_count": null,
      "outputs": [
        {
          "output_type": "execute_result",
          "data": {
            "text/plain": [
              "10"
            ]
          },
          "metadata": {},
          "execution_count": 4
        }
      ]
    },
    {
      "cell_type": "code",
      "source": [
        "#3. Write a code to check if a given string is a palindrome or not\n",
        "def is_palindrome(s):\n",
        "  return s == s[::-1]\n",
        "\n",
        "is_palindrome(\"madam\")"
      ],
      "metadata": {
        "colab": {
          "base_uri": "https://localhost:8080/"
        },
        "id": "8aV4Vm_9AtHM",
        "outputId": "ac8ec4e3-570c-47fb-e3aa-26c57922d18e"
      },
      "execution_count": null,
      "outputs": [
        {
          "output_type": "execute_result",
          "data": {
            "text/plain": [
              "True"
            ]
          },
          "metadata": {},
          "execution_count": 5
        }
      ]
    },
    {
      "cell_type": "code",
      "source": [
        "#4.Write a code to check if two given strings are anagrams of each other\n",
        "def is_anagram(s1, s2):\n",
        "  return sorted(s1) == sorted(s2)\n",
        "\n",
        "is_anagram(\"listen\", \"silent\")"
      ],
      "metadata": {
        "colab": {
          "base_uri": "https://localhost:8080/"
        },
        "id": "CjI3ynlaBBdb",
        "outputId": "32feb693-85ff-4f2d-f36a-a91b3fdf3c8e"
      },
      "execution_count": null,
      "outputs": [
        {
          "output_type": "execute_result",
          "data": {
            "text/plain": [
              "True"
            ]
          },
          "metadata": {},
          "execution_count": 6
        }
      ]
    },
    {
      "cell_type": "code",
      "source": [
        "#5.  Write a code to find all occurrences of a given substring within another string\n",
        "def find_substring(string, substring):\n",
        "  indices = []\n",
        "  start = 0\n",
        "  while True:\n",
        "    index = string.find(substring, start)\n",
        "    if index == -1:\n",
        "      break\n",
        "    indices.append(index)\n",
        "    start = index + 1\n",
        "  return indices\n",
        "\n",
        "find_substring(\"I am a beautiful soul\", \"sou\")"
      ],
      "metadata": {
        "colab": {
          "base_uri": "https://localhost:8080/"
        },
        "id": "ESRbQs-zBBs_",
        "outputId": "9a52d18f-17aa-4aa6-cc4e-f16b3e483c44"
      },
      "execution_count": null,
      "outputs": [
        {
          "output_type": "execute_result",
          "data": {
            "text/plain": [
              "[17]"
            ]
          },
          "metadata": {},
          "execution_count": 8
        }
      ]
    },
    {
      "cell_type": "code",
      "source": [
        "#6.  Write a code to perform basic string compression using the counts of repeated characters\n",
        "def compress_string(s):\n",
        "  compressed = \"\"\n",
        "  count = 1\n",
        "\n",
        "  for i in range(len(s)):\n",
        "    if i + 1 < len(s) and s[i] == s[i + 1]:\n",
        "      count += 1\n",
        "    else:\n",
        "      compressed += s[i] + str(count)\n",
        "      count = 1\n",
        "\n",
        "  # Check if compressed string is shorter than original string\n",
        "  if len(compressed) < len(s):\n",
        "    return compressed\n",
        "  else:\n",
        "    return s\n",
        "\n",
        "string = \"aabcccccaaa\"\n",
        "compressed_string = compress_string(string)\n",
        "print(f\"The compressed string is: {compressed_string}\")"
      ],
      "metadata": {
        "colab": {
          "base_uri": "https://localhost:8080/"
        },
        "id": "zCWzJqwlBajo",
        "outputId": "e4774388-7a14-4dba-e046-f3c7c2822cbc"
      },
      "execution_count": null,
      "outputs": [
        {
          "output_type": "stream",
          "name": "stdout",
          "text": [
            "The compressed string is: a2b1c5a3\n"
          ]
        }
      ]
    },
    {
      "cell_type": "code",
      "source": [
        "# 7.  Write a code to determine if a string has all unique characters\n",
        "def has_unique_characters(s):\n",
        "  char_set = set()\n",
        "  for char in s:\n",
        "    if char in char_set:\n",
        "      return False\n",
        "    char_set.add(char)\n",
        "  return True\n",
        "\n",
        "has_unique_characters(\"How are you\")"
      ],
      "metadata": {
        "colab": {
          "base_uri": "https://localhost:8080/"
        },
        "id": "9diH-OU8BqAE",
        "outputId": "ca399f02-4326-4ef5-c4f7-fa7e85c91832"
      },
      "execution_count": null,
      "outputs": [
        {
          "output_type": "execute_result",
          "data": {
            "text/plain": [
              "False"
            ]
          },
          "metadata": {},
          "execution_count": 11
        }
      ]
    },
    {
      "cell_type": "code",
      "source": [
        "#8. Write a code to convert a given string to uppercase or lowercase\n",
        "def convert_case(s, to_uppercase=True):\n",
        "  if to_uppercase:\n",
        "    return s.upper()\n",
        "  else:\n",
        "    return s.lower()\n",
        "\n",
        "convert_case(\"How are you\", False)"
      ],
      "metadata": {
        "colab": {
          "base_uri": "https://localhost:8080/",
          "height": 35
        },
        "id": "4cZhh2uECuv9",
        "outputId": "0b270b94-b48a-463f-b639-6ff2b510db99"
      },
      "execution_count": null,
      "outputs": [
        {
          "output_type": "execute_result",
          "data": {
            "text/plain": [
              "'how are you'"
            ],
            "application/vnd.google.colaboratory.intrinsic+json": {
              "type": "string"
            }
          },
          "metadata": {},
          "execution_count": 12
        }
      ]
    },
    {
      "cell_type": "code",
      "source": [
        "#9. Write a code to count the number of words in a string\n",
        "def count_words(s):\n",
        "  words = s.split()\n",
        "  return len(words)\n",
        "\n",
        "count_words(\"How are you\")\n"
      ],
      "metadata": {
        "colab": {
          "base_uri": "https://localhost:8080/"
        },
        "id": "jrmXeOUxC6vx",
        "outputId": "c6da9984-e707-4d71-b414-5e057d59ad27"
      },
      "execution_count": null,
      "outputs": [
        {
          "output_type": "execute_result",
          "data": {
            "text/plain": [
              "3"
            ]
          },
          "metadata": {},
          "execution_count": 13
        }
      ]
    },
    {
      "cell_type": "code",
      "source": [
        "#10. Write a code to concatenate two strings without using the + operator\n",
        "def concatenate_strings(s1, s2):\n",
        "  return s1 + s2\n",
        "\n",
        "concatenate_strings(\"How\", \" are you\")"
      ],
      "metadata": {
        "colab": {
          "base_uri": "https://localhost:8080/",
          "height": 35
        },
        "id": "zVbkmQFkDEWv",
        "outputId": "81ae0a01-602c-4e2c-e6f5-66a4249be5b7"
      },
      "execution_count": null,
      "outputs": [
        {
          "output_type": "execute_result",
          "data": {
            "text/plain": [
              "'How are you'"
            ],
            "application/vnd.google.colaboratory.intrinsic+json": {
              "type": "string"
            }
          },
          "metadata": {},
          "execution_count": 14
        }
      ]
    },
    {
      "cell_type": "code",
      "source": [
        "#11. Write a code to remove all occurrences of a specific element from a list\n",
        "def remove_element(lst, element):\n",
        "  lst[:] = [x for x in lst if x != element]\n",
        "\n",
        "lst = [1, 2, 3, 4, 2, 5]\n",
        "remove_element(lst, 2)\n",
        "print(lst)"
      ],
      "metadata": {
        "colab": {
          "base_uri": "https://localhost:8080/"
        },
        "id": "p6ropV8pDJQ3",
        "outputId": "52ec57bc-9af5-4364-f995-59fcc116fd81"
      },
      "execution_count": null,
      "outputs": [
        {
          "output_type": "stream",
          "name": "stdout",
          "text": [
            "[1, 3, 4, 5]\n"
          ]
        }
      ]
    },
    {
      "cell_type": "code",
      "source": [
        "#12.  Implement a code to find the second largest number in a given list of integers\n",
        "\n",
        "def find_second_largest(numbers):\n",
        "    if len(numbers) < 2:\n",
        "        raise ValueError(\"List must contain at least two unique numbers.\")\n",
        "\n",
        "    # Remove duplicates to ensure we can find the second largest\n",
        "    unique_numbers = list(set(numbers))\n",
        "\n",
        "    if len(unique_numbers) < 2:\n",
        "        raise ValueError(\"List must contain at least two unique numbers.\")\n",
        "\n",
        "    # Sort the unique numbers in descending order\n",
        "    unique_numbers.sort(reverse=True)\n",
        "\n",
        "    # The second largest is now at index 1\n",
        "    return unique_numbers[1]\n",
        "\n",
        "numbers = [10, 20, 4, 45, 99, 20, 45]\n",
        "second_largest = find_second_largest(numbers)\n",
        "print(f\"The second largest number is: {second_largest}\")"
      ],
      "metadata": {
        "colab": {
          "base_uri": "https://localhost:8080/"
        },
        "id": "cqX3Tpv_DtI9",
        "outputId": "2a2ed6aa-2163-4b54-c976-05092a778c71"
      },
      "execution_count": null,
      "outputs": [
        {
          "output_type": "stream",
          "name": "stdout",
          "text": [
            "The second largest number is: 45\n"
          ]
        }
      ]
    },
    {
      "cell_type": "code",
      "source": [
        "#Create a code to count the occurrences of each element in a list and return a dictionary with elements as\n",
        "#keys and their counts as values\n",
        "def count_elements(lst):\n",
        "  count_dict = {}\n",
        "  for element in lst:\n",
        "    if element in count_dict:\n",
        "      count_dict[element] += 1\n",
        "    else:\n",
        "      count_dict[element] = 1\n",
        "  return count_dict\n",
        "\n",
        "lst = [1, 2, 3, 4, 2, 5]\n",
        "count_dict = count_elements(lst)\n",
        "print(count_dict)"
      ],
      "metadata": {
        "colab": {
          "base_uri": "https://localhost:8080/"
        },
        "id": "cCBFVHUSPFfi",
        "outputId": "a43d1eab-2524-4863-bd8c-a2ac557719c5"
      },
      "execution_count": null,
      "outputs": [
        {
          "output_type": "stream",
          "name": "stdout",
          "text": [
            "{1: 1, 2: 2, 3: 1, 4: 1, 5: 1}\n"
          ]
        }
      ]
    },
    {
      "cell_type": "code",
      "source": [
        "# Write a code to reverse a list in-place without using any built-in reverse functions\n",
        "def reverse_list_in_place(lst):\n",
        "    # Initialize two pointers: one at the start and the other at the end of the list\n",
        "    start = 0\n",
        "    end = len(lst) - 1\n",
        "\n",
        "    # Swap elements while the pointers haven't crossed each other\n",
        "    while start < end:\n",
        "        # Swap elements at the start and end pointers\n",
        "        lst[start], lst[end] = lst[end], lst[start]\n",
        "\n",
        "        # Move pointers closer\n",
        "        start += 1\n",
        "        end -= 1\n",
        "\n",
        "# Example usage\n",
        "numbers = [1, 2, 3, 4, 5]\n",
        "reverse_list_in_place(numbers)\n",
        "print(f\"Reversed list: {numbers}\")\n"
      ],
      "metadata": {
        "colab": {
          "base_uri": "https://localhost:8080/"
        },
        "id": "dBC52cP_PFoH",
        "outputId": "31b01f1b-dc37-46e7-831e-ab73da9c949d"
      },
      "execution_count": null,
      "outputs": [
        {
          "output_type": "stream",
          "name": "stdout",
          "text": [
            "Reversed list: [5, 4, 3, 2, 1]\n"
          ]
        }
      ]
    },
    {
      "cell_type": "code",
      "source": [
        "#  Implement a code to find and remove duplicates from a list while preserving the original order of\n",
        "#elements\n",
        "def remove_duplicates(lst):\n",
        "  unique_list = []\n",
        "  seen = set()\n",
        "  for element in lst:\n",
        "    if element not in seen:\n",
        "      seen.add(element)\n",
        "      unique_list.append(element)\n",
        "  return unique_list\n",
        "\n",
        "lst = [1, 2, 3, 4, 2, 5]\n",
        "unique_list = remove_duplicates(lst)\n",
        "print(unique_list)"
      ],
      "metadata": {
        "colab": {
          "base_uri": "https://localhost:8080/"
        },
        "id": "HSvek2RlSNvN",
        "outputId": "a1177965-1aec-41df-fc41-19d07799d49b"
      },
      "execution_count": null,
      "outputs": [
        {
          "output_type": "stream",
          "name": "stdout",
          "text": [
            "[1, 2, 3, 4, 5]\n"
          ]
        }
      ]
    },
    {
      "cell_type": "code",
      "source": [
        "# Create a code to check if a given list is sorted (either in ascending or descending order) or not\n",
        "def is_sorted(lst):\n",
        "    # Check for ascending order\n",
        "    is_ascending = all(lst[i] <= lst[i + 1] for i in range(len(lst) - 1))\n",
        "\n",
        "    # Check for descending order\n",
        "    is_descending = all(lst[i] >= lst[i + 1] for i in range(len(lst) - 1))\n",
        "\n",
        "    # Return True if either ascending or descending\n",
        "    return is_ascending or is_descending\n",
        "\n",
        "# Example usage\n",
        "numbers_asc = [1, 2, 3, 4, 5]\n",
        "numbers_desc = [5, 4, 3, 2, 1]\n",
        "numbers_unsorted = [3, 1, 4, 2]\n",
        "\n",
        "print(f\"Is ascending sorted list sorted? {is_sorted(numbers_asc)}\")\n",
        "print(f\"Is descending sorted list sorted? {is_sorted(numbers_desc)}\")\n",
        "print(f\"Is unsorted list sorted? {is_sorted(numbers_unsorted)}\")\n",
        "\n"
      ],
      "metadata": {
        "colab": {
          "base_uri": "https://localhost:8080/"
        },
        "id": "m0qAQoaISU8w",
        "outputId": "c028e62d-d332-44a6-c46d-82dff361009b"
      },
      "execution_count": null,
      "outputs": [
        {
          "output_type": "stream",
          "name": "stdout",
          "text": [
            "Is ascending sorted list sorted? True\n",
            "Is descending sorted list sorted? True\n",
            "Is unsorted list sorted? False\n"
          ]
        }
      ]
    },
    {
      "cell_type": "code",
      "source": [
        "# Write a code to merge two sorted lists into a single sorted list\n",
        "def merge_sorted_lists(list1, list2):\n",
        "    merged_list = []\n",
        "    i, j = 0, 0\n",
        "\n",
        "    # Traverse both lists and merge\n",
        "    while i < len(list1) and j < len(list2):\n",
        "        if list1[i] <= list2[j]:\n",
        "            merged_list.append(list1[i])\n",
        "            i += 1\n",
        "        else:\n",
        "            merged_list.append(list2[j])\n",
        "            j += 1\n",
        "\n",
        "    # Add remaining elements from list1, if any\n",
        "    while i < len(list1):\n",
        "        merged_list.append(list1[i])\n",
        "        i += 1\n",
        "\n",
        "    # Add remaining elements from list2, if any\n",
        "    while j < len(list2):\n",
        "        merged_list.append(list2[j])\n",
        "        j += 1\n",
        "\n",
        "    return merged_list\n",
        "\n",
        "# Example usage\n",
        "list1 = [1, 3, 5, 7]\n",
        "list2 = [2, 4, 6, 8]\n",
        "merged = merge_sorted_lists(list1, list2)\n",
        "print(f\"Merged sorted list: {merged}\")\n"
      ],
      "metadata": {
        "colab": {
          "base_uri": "https://localhost:8080/"
        },
        "id": "7X3BP_5iSmTk",
        "outputId": "7aab9e73-720d-4c10-cc58-474ac3e46035"
      },
      "execution_count": null,
      "outputs": [
        {
          "output_type": "stream",
          "name": "stdout",
          "text": [
            "Merged sorted list: [1, 2, 3, 4, 5, 6, 7, 8]\n"
          ]
        }
      ]
    },
    {
      "cell_type": "code",
      "source": [
        "# Implement a code to find the intersection of two given lists\n",
        "def find_intersection(list1, list2):\n",
        "    set1 = set(list1)\n",
        "    set2 = set(list2)\n",
        "    intersection = set1.intersection(set2)\n",
        "    return list(intersection)\n",
        "\n",
        "list1= [1, 2, 3, 4, 5]\n",
        "list2 = [4, 5, 6, 7, 8]\n",
        "intersection = find_intersection(list1, list2)\n",
        "print(f\"Intersection of the two lists: {intersection}\")"
      ],
      "metadata": {
        "colab": {
          "base_uri": "https://localhost:8080/"
        },
        "id": "4XY3CyDMTjq4",
        "outputId": "0495f5bc-a005-4cfc-ca5e-c9de5ee6fe15"
      },
      "execution_count": null,
      "outputs": [
        {
          "output_type": "stream",
          "name": "stdout",
          "text": [
            "Intersection of the two lists: [4, 5]\n"
          ]
        }
      ]
    },
    {
      "cell_type": "code",
      "source": [
        "# Write a code to shuffle a given list randomly without using any built-in shuffle functions\n",
        "import random\n",
        "\n",
        "def shuffle_list(lst):\n",
        "    n = len(lst)\n",
        "    for i in range(n - 1, 0, -1):\n",
        "        # Generate a random index\n",
        "        j = random.randint(0, i)\n",
        "        # Swap elements at indices i and j\n",
        "        lst[i], lst[j] = lst[j], lst[i]\n",
        "\n",
        "# Example usage\n",
        "numbers = [1, 2, 3, 4, 5]\n",
        "shuffle_list(numbers)\n",
        "print(f\"Shuffled list: {numbers}\")\n",
        "\n"
      ],
      "metadata": {
        "colab": {
          "base_uri": "https://localhost:8080/"
        },
        "id": "7qhucyZaTsiJ",
        "outputId": "f20d214d-131e-4dcd-8374-38273eaa4e9e"
      },
      "execution_count": null,
      "outputs": [
        {
          "output_type": "stream",
          "name": "stdout",
          "text": [
            "Shuffled list: [3, 2, 5, 4, 1]\n"
          ]
        }
      ]
    },
    {
      "cell_type": "code",
      "source": [
        "#  Write a code that takes two tuples as input and returns a new tuple containing elements that are\n",
        "#common to both input tuples\n",
        "def find_common_elements(tuple1, tuple2):\n",
        "    set1 = set(tuple1)\n",
        "    set2 = set(tuple2)\n",
        "    common_elements = set1.intersection(set2)\n",
        "    return tuple(common_elements)\n",
        "\n",
        "tuple1 = (1, 2, 3, 4, 5)\n",
        "tuple2 = (4, 5, 6, 7, 8)\n",
        "result = find_common_elements(tuple1, tuple2)\n",
        "print(result)"
      ],
      "metadata": {
        "colab": {
          "base_uri": "https://localhost:8080/"
        },
        "id": "TdFFzt-FUI48",
        "outputId": "5730678d-02df-484a-c1f7-b2ed04a89929"
      },
      "execution_count": null,
      "outputs": [
        {
          "output_type": "stream",
          "name": "stdout",
          "text": [
            "(4, 5)\n"
          ]
        }
      ]
    },
    {
      "cell_type": "code",
      "source": [
        "# Create a code that prompts the user to enter two sets of integers separated by commas. Then, print the\n",
        "#intersection of these two sets\n",
        "\n",
        "def main():\n",
        "    # Prompt the user to input two sets of integers\n",
        "    set1 = input(\"Enter the first set of integers, separated by commas: \")\n",
        "    set2 = input(\"Enter the second set of integers, separated by commas: \")\n",
        "\n",
        "    # Convert the inputs to sets of integers\n",
        "    set1 = set(map(int, set1.split(',')))\n",
        "    set2 = set(map(int, set2.split(',')))\n",
        "\n",
        "    # Compute the intersection of the two sets\n",
        "    intersection = set1 & set2\n",
        "\n",
        "    # Print the result\n",
        "    print(f\"The intersection of the two sets is: {intersection}\")\n",
        "\n",
        "# Run the program\n",
        "if __name__ == \"__main__\":\n",
        "    main()\n",
        "\n"
      ],
      "metadata": {
        "colab": {
          "base_uri": "https://localhost:8080/"
        },
        "id": "39LJ8bxEUVV9",
        "outputId": "f1bf87e0-758d-4e5e-eb43-2048ac4f4cc7"
      },
      "execution_count": null,
      "outputs": [
        {
          "output_type": "stream",
          "name": "stdout",
          "text": [
            "Enter the first set of integers, separated by commas: 2,5\n",
            "Enter the second set of integers, separated by commas: 7,8\n",
            "The intersection of the two sets is: set()\n"
          ]
        }
      ]
    },
    {
      "cell_type": "code",
      "source": [
        "# Write a code to concatenate two tuples. The function should take two tuples as input and return a new\n",
        "#tuple containing elements from both input tuples.\n",
        "\n",
        "def concatenate_tuples(tuple1, tuple2):\n",
        "    # Concatenate the two tuples using the `+` operator\n",
        "    return tuple1 + tuple2\n",
        "\n",
        "# Example usage\n",
        "tuple1 = (1, 2, 3)\n",
        "tuple2 = (4, 5, 6)\n",
        "result = concatenate_tuples(tuple1, tuple2)\n",
        "print(f\"Concatenated tuple: {result}\")\n"
      ],
      "metadata": {
        "colab": {
          "base_uri": "https://localhost:8080/"
        },
        "id": "Jdrrf4xmU1ea",
        "outputId": "09b679f9-da5c-407f-dfb7-393f39bbd796"
      },
      "execution_count": null,
      "outputs": [
        {
          "output_type": "stream",
          "name": "stdout",
          "text": [
            "Concatenated tuple: (1, 2, 3, 4, 5, 6)\n"
          ]
        }
      ]
    },
    {
      "cell_type": "code",
      "source": [
        "#  Develop a code that prompts the user to input two sets of strings. Then, print the elements that are\n",
        "#present in the first set but not in the second set\n",
        "\n",
        "def main():\n",
        "    # Prompt the user to input two sets of strings\n",
        "    set1 = input(\"Enter the first set of strings, separated by commas: \")\n",
        "    set2 = input(\"Enter the second set of strings, separated by commas: \")\n",
        "\n",
        "    # Convert the inputs to sets of strings\n",
        "    set1 = set(set1.split(','))\n",
        "    set2 = set(set2.split(','))\n",
        "\n",
        "    # Find elements in set1 but not in set2\n",
        "    difference = set1 - set2\n",
        "\n",
        "    # Print the result\n",
        "    print(f\"Elements in the first set but not in the second set: {difference}\")\n",
        "\n",
        "# Run the program\n",
        "if __name__ == \"__main__\":\n",
        "    main()\n"
      ],
      "metadata": {
        "colab": {
          "base_uri": "https://localhost:8080/"
        },
        "id": "p5k33HheVLzB",
        "outputId": "64fa246a-6382-4728-d367-019b99eea8b9"
      },
      "execution_count": null,
      "outputs": [
        {
          "output_type": "stream",
          "name": "stdout",
          "text": [
            "Enter the first set of strings, separated by commas: hello, world\n",
            "Enter the second set of strings, separated by commas: good morning\n",
            "Elements in the first set but not in the second set: {'hello', ' world'}\n"
          ]
        }
      ]
    },
    {
      "cell_type": "code",
      "source": [
        "# Create a code that takes a tuple and two integers as input. The function should return a new tuple\n",
        "#containing elements from the original tuple within the specified range of indices\n",
        "\n",
        "def slice_tuple(original_tuple, start, end):\n",
        "    \"\"\"\n",
        "    Return a new tuple containing elements from the original tuple\n",
        "    within the specified range of indices [start, end).\n",
        "    \"\"\"\n",
        "    # Use slicing to extract the range and return it as a new tuple\n",
        "    return original_tuple[start:end]\n",
        "\n",
        "# Example usage\n",
        "original_tuple = (10, 20, 30, 40, 50, 60)\n",
        "start_index = 1\n",
        "end_index = 4\n",
        "result = slice_tuple(original_tuple, start_index, end_index)\n",
        "print(f\"New tuple within the range {start_index} to {end_index}: {result}\")\n"
      ],
      "metadata": {
        "colab": {
          "base_uri": "https://localhost:8080/"
        },
        "id": "zBxFpbpkVl9f",
        "outputId": "c952f442-aa50-4420-85ed-0936b61a3462"
      },
      "execution_count": null,
      "outputs": [
        {
          "output_type": "stream",
          "name": "stdout",
          "text": [
            "New tuple within the range 1 to 4: (20, 30, 40)\n"
          ]
        }
      ]
    },
    {
      "cell_type": "code",
      "source": [
        "#  Write a code that prompts the user to input two sets of characters. Then, print the union of these two sets\n",
        "\n",
        "def main():\n",
        "    # Prompt the user to input two sets of characters\n",
        "    set1 = input(\"Enter the first set of characters, separated by commas: \")\n",
        "    set2 = input(\"Enter the second set of characters, separated by commas: \")\n",
        "\n",
        "    # Convert the inputs to sets of characters\n",
        "    set1 = set(set1.split(','))\n",
        "    set2 = set(set2.split(','))\n",
        "\n",
        "    # Find the union of the two sets\n",
        "    union_set = set1 | set2\n",
        "\n",
        "    # Print the result\n",
        "    print(f\"The union of the two sets is: {union_set}\")\n",
        "\n",
        "# Run the program\n",
        "if __name__ == \"__main__\":\n",
        "    main()\n"
      ],
      "metadata": {
        "colab": {
          "base_uri": "https://localhost:8080/"
        },
        "id": "F1BxYgJ0V7kL",
        "outputId": "7d5e1d75-3735-4b54-9116-2bc1ac11fdab"
      },
      "execution_count": null,
      "outputs": [
        {
          "output_type": "stream",
          "name": "stdout",
          "text": [
            "Enter the first set of characters, separated by commas: hello, world\n",
            "Enter the second set of characters, separated by commas: good , world\n",
            "The union of the two sets is: {'hello', 'good ', ' world'}\n"
          ]
        }
      ]
    },
    {
      "cell_type": "code",
      "source": [
        "# Develop a code that takes a tuple of integers as input. The function should return the maximum and\n",
        "#minimum values from the tuple using tuple unpacking\n",
        "\n",
        "def find_max_and_min(numbers):\n",
        "    \"\"\"\n",
        "    Return the maximum and minimum values from the tuple.\n",
        "    \"\"\"\n",
        "    max_val, min_val = max(numbers), min(numbers)\n",
        "    return max_val, min_val  # Tuple unpacking allows returning two values\n",
        "\n",
        "# Example usage\n",
        "numbers = (10, 20, 5, 40, 15)\n",
        "max_val, min_val = find_max_and_min(numbers)\n",
        "print(f\"Maximum value: {max_val}\")\n",
        "print(f\"Minimum value: {min_val}\")\n"
      ],
      "metadata": {
        "colab": {
          "base_uri": "https://localhost:8080/"
        },
        "id": "i9ErBMmFWS69",
        "outputId": "ad87f3d5-a8e6-4c88-9e7a-39fc1626ed42"
      },
      "execution_count": null,
      "outputs": [
        {
          "output_type": "stream",
          "name": "stdout",
          "text": [
            "Maximum value: 40\n",
            "Minimum value: 5\n"
          ]
        }
      ]
    },
    {
      "cell_type": "code",
      "source": [
        "#  Create a code that defines two sets of integers. Then, print the union, intersection, and difference of these\n",
        "#two sets\n",
        "\n",
        "def main():\n",
        "    # Define two sets of integers\n",
        "    set1 = {1, 2, 3, 4, 5}\n",
        "    set2 = {4, 5, 6, 7, 8}\n",
        "\n",
        "    # Calculate union, intersection, and difference\n",
        "    union_set = set1 | set2\n",
        "    intersection_set = set1 & set2\n",
        "    difference_set = set1 - set2\n",
        "\n",
        "    # Print the results\n",
        "    print(f\"Union of the sets: {union_set}\")\n",
        "    print(f\"Intersection of the sets: {intersection_set}\")\n",
        "    print(f\"Difference of the sets (set1 - set2): {difference_set}\")\n",
        "\n",
        "# Run the program\n",
        "if __name__ == \"__main__\":\n",
        "    main()\n"
      ],
      "metadata": {
        "colab": {
          "base_uri": "https://localhost:8080/"
        },
        "id": "4RngzM6DWttv",
        "outputId": "df038650-7d35-40fa-fef1-0f74e776ae03"
      },
      "execution_count": null,
      "outputs": [
        {
          "output_type": "stream",
          "name": "stdout",
          "text": [
            "Union of the sets: {1, 2, 3, 4, 5, 6, 7, 8}\n",
            "Intersection of the sets: {4, 5}\n",
            "Difference of the sets (set1 - set2): {1, 2, 3}\n"
          ]
        }
      ]
    },
    {
      "cell_type": "code",
      "source": [
        "# Write a code that takes a tuple and an element as input. The function should return the count of\n",
        "#occurrences of the given element in the tuple\n",
        "\n",
        "def count_element_in_tuple(input_tuple, element):\n",
        "    \"\"\"\n",
        "    Return the count of occurrences of the given element in the tuple.\n",
        "    \"\"\"\n",
        "    return input_tuple.count(element)\n",
        "\n",
        "# Example usage\n",
        "input_tuple = (1, 2, 3, 4, 2, 2, 5)\n",
        "element = 2\n",
        "count = count_element_in_tuple(input_tuple, element)\n",
        "print(f\"The element {element} appears {count} times in the tuple.\")\n"
      ],
      "metadata": {
        "colab": {
          "base_uri": "https://localhost:8080/"
        },
        "id": "7vMx04c4XAma",
        "outputId": "04365e00-04f9-4928-cf2d-dc21a980be8b"
      },
      "execution_count": null,
      "outputs": [
        {
          "output_type": "stream",
          "name": "stdout",
          "text": [
            "The element 2 appears 3 times in the tuple.\n"
          ]
        }
      ]
    },
    {
      "cell_type": "code",
      "source": [
        "# Develop a code that prompts the user to input two sets of strings. Then, print the symmetric difference of\n",
        "#these two sets\n",
        "\n",
        "# Prompt user to input the first set of strings\n",
        "set1 = set(input(\"Enter the first set of strings (separate elements with spaces): \").split())\n",
        "\n",
        "# Prompt user to input the second set of strings\n",
        "set2 = set(input(\"Enter the second set of strings (separate elements with spaces): \").split())\n",
        "\n",
        "# Compute the symmetric difference\n",
        "symmetric_diff = set1.symmetric_difference(set2)\n",
        "\n",
        "# Print the symmetric difference\n",
        "print(\"\\nSymmetric Difference of the two sets:\")\n",
        "print(symmetric_diff)\n",
        "\n",
        "\n"
      ],
      "metadata": {
        "id": "9ScXB5soXL49",
        "colab": {
          "base_uri": "https://localhost:8080/"
        },
        "outputId": "9c249615-fd8d-43cd-c8b9-718f592131a0"
      },
      "execution_count": 1,
      "outputs": [
        {
          "output_type": "stream",
          "name": "stdout",
          "text": [
            "Enter the first set of strings (separate elements with spaces): India is my country\n",
            "Enter the second set of strings (separate elements with spaces): My country is vibrant\n",
            "\n",
            "Symmetric Difference of the two sets:\n",
            "{'my', 'My', 'vibrant', 'India'}\n"
          ]
        }
      ]
    },
    {
      "cell_type": "code",
      "source": [
        "# Write a code that takes a list of words as input and returns a dictionary where the keys are unique words\n",
        "#and the values are the frequencies of those words in the input list\n",
        "\n",
        "# Prompt user to input the first set of strings\n",
        "set1 = set(input(\"Enter the first set of strings (separate elements with spaces): \").split())\n",
        "\n",
        "# Prompt user to input the second set of strings\n",
        "set2 = set(input(\"Enter the second set of strings (separate elements with spaces): \").split())\n",
        "\n",
        "# Compute the symmetric difference\n",
        "symmetric_diff = set1.symmetric_difference(set2)\n",
        "\n",
        "# Print the symmetric difference\n",
        "print(\"\\nSymmetric Difference of the two sets:\")\n",
        "print(symmetric_diff)\n"
      ],
      "metadata": {
        "colab": {
          "base_uri": "https://localhost:8080/"
        },
        "id": "mo4vvX1DX0m0",
        "outputId": "5c84b1bd-bb46-4da5-c5b7-10400c8c7775"
      },
      "execution_count": 3,
      "outputs": [
        {
          "output_type": "stream",
          "name": "stdout",
          "text": [
            "Enter the first set of strings (separate elements with spaces): India is my country\n",
            "Enter the second set of strings (separate elements with spaces): My country is vibrant\n",
            "\n",
            "Symmetric Difference of the two sets:\n",
            "{'my', 'My', 'vibrant', 'India'}\n"
          ]
        }
      ]
    },
    {
      "cell_type": "code",
      "source": [
        "# Write a code that takes two dictionaries as input and merges them into a single dictionary. If there are\n",
        "#common keys, the values should be added together\n",
        "\n",
        "# Prompt the user to input the first dictionary\n",
        "dict1 = eval(input(\"Enter the first dictionary (e.g., {'a': 1, 'b': 2}): \"))\n",
        "\n",
        "# Prompt the user to input the second dictionary\n",
        "dict2 = eval(input(\"Enter the second dictionary (e.g., {'b': 3, 'c': 4}): \"))\n",
        "\n",
        "# Merge the dictionaries and add values for common keys\n",
        "merged_dict = dict1.copy()  # Start with a copy of the first dictionary\n",
        "for key, value in dict2.items():\n",
        "    merged_dict[key] = merged_dict.get(key, 0) + value\n",
        "\n",
        "# Print the merged dictionary\n",
        "print(\"\\nMerged Dictionary:\")\n",
        "print(merged_dict)\n"
      ],
      "metadata": {
        "colab": {
          "base_uri": "https://localhost:8080/"
        },
        "id": "Hi_i867aYq0r",
        "outputId": "4e04f8d4-b2cf-47b9-aeea-0197a7c72cd3"
      },
      "execution_count": 4,
      "outputs": [
        {
          "output_type": "stream",
          "name": "stdout",
          "text": [
            "Enter the first dictionary (e.g., {'a': 1, 'b': 2}): {'a': 1, 'b': 2}\n",
            "Enter the second dictionary (e.g., {'b': 3, 'c': 4}): {'c' : 7, 'd': 8 }\n",
            "\n",
            "Merged Dictionary:\n",
            "{'a': 1, 'b': 2, 'c': 7, 'd': 8}\n"
          ]
        }
      ]
    },
    {
      "cell_type": "code",
      "source": [
        "#Write a code to access a value in a nested dictionary. The function should take the dictionary and a list of\n",
        "#keys as input, and return the corresponding value. If any of the keys do not exist in the dictionary, the\n",
        "#function should return None\n",
        "\n",
        "def get_nested_value(nested_dict, keys):\n",
        "\n",
        "    current = nested_dict\n",
        "    for key in keys:\n",
        "        if isinstance(current, dict) and key in current:\n",
        "            current = current[key]\n",
        "        else:\n",
        "            return None\n",
        "    return current\n",
        "\n",
        "# Example usage:\n",
        "nested_dict = {\n",
        "    'a': {\n",
        "        'b': {\n",
        "            'c': 42\n",
        "        }\n",
        "    }\n",
        "}\n",
        "\n",
        "keys = ['a', 'b', 'c']\n",
        "print(get_nested_value(nested_dict, keys))  # Output: 42\n",
        "\n",
        "keys = ['a', 'x', 'c']\n",
        "print(get_nested_value(nested_dict, keys))  # Output: None\n"
      ],
      "metadata": {
        "colab": {
          "base_uri": "https://localhost:8080/"
        },
        "id": "lrkLEdN8ZZL-",
        "outputId": "d402da1f-37b8-4d35-d1d2-ab1634208d77"
      },
      "execution_count": 5,
      "outputs": [
        {
          "output_type": "stream",
          "name": "stdout",
          "text": [
            "42\n",
            "None\n"
          ]
        }
      ]
    },
    {
      "cell_type": "code",
      "source": [
        "#Write a code that takes a dictionary as input and returns a sorted version of it based on the values. You\n",
        "#can choose whether to sort in ascending or descending order\n",
        "\n",
        "def sort_dict_by_values(input_dict, ascending=True):\n",
        "\n",
        "    # Sort the dictionary by values and return a new dictionary\n",
        "    sorted_dict = dict(sorted(input_dict.items(), key=lambda item: item[1], reverse=not ascending))\n",
        "    return sorted_dict\n",
        "\n",
        "# Example usage\n",
        "input_dict = {'a': 3, 'b': 1, 'c': 2}\n",
        "order = input(\"Enter 'asc' for ascending or 'desc' for descending order: \").strip().lower()\n",
        "\n",
        "# Determine sort order\n",
        "ascending = True if order == 'asc' else False\n",
        "\n",
        "# Sort the dictionary\n",
        "sorted_dict = sort_dict_by_values(input_dict, ascending)\n",
        "\n",
        "# Print the sorted dictionary\n",
        "print(\"\\nSorted Dictionary:\")\n",
        "print(sorted_dict)\n"
      ],
      "metadata": {
        "colab": {
          "base_uri": "https://localhost:8080/"
        },
        "id": "hCeHVUKpaEC4",
        "outputId": "59f955a2-8021-4609-c89c-fbffd43e72d8"
      },
      "execution_count": 6,
      "outputs": [
        {
          "output_type": "stream",
          "name": "stdout",
          "text": [
            "Enter 'asc' for ascending or 'desc' for descending order: asc\n",
            "\n",
            "Sorted Dictionary:\n",
            "{'b': 1, 'c': 2, 'a': 3}\n"
          ]
        }
      ]
    },
    {
      "cell_type": "code",
      "source": [
        "# Write a code that inverts a dictionary, swapping keys and values. Ensure that the inverted dictionary\n",
        "#correctly handles cases where multiple keys have the same value by storing the keys as a list in the\n",
        "#inverted dictionary.\n",
        "\n",
        "def invert_dictionary(input_dict):\n",
        "\n",
        "    inverted_dict = {}\n",
        "    for key, value in input_dict.items():\n",
        "        if value in inverted_dict:\n",
        "            inverted_dict[value].append(key)  # Add to the existing list\n",
        "        else:\n",
        "            inverted_dict[value] = [key]  # Create a new list for this value\n",
        "    return inverted_dict\n",
        "\n",
        "# Example usage\n",
        "input_dict = {'a': 1, 'b': 2, 'c': 1, 'd': 3}\n",
        "\n",
        "# Invert the dictionary\n",
        "inverted_dict = invert_dictionary(input_dict)\n",
        "\n",
        "# Print the inverted dictionary\n",
        "print(\"\\nInverted Dictionary:\")\n",
        "print(inverted_dict)\n"
      ],
      "metadata": {
        "colab": {
          "base_uri": "https://localhost:8080/"
        },
        "id": "pyuMttWUad-I",
        "outputId": "5198fe48-52ea-4f39-dbc8-a0dd6ec5151d"
      },
      "execution_count": 7,
      "outputs": [
        {
          "output_type": "stream",
          "name": "stdout",
          "text": [
            "\n",
            "Inverted Dictionary:\n",
            "{1: ['a', 'c'], 2: ['b'], 3: ['d']}\n"
          ]
        }
      ]
    },
    {
      "cell_type": "code",
      "source": [],
      "metadata": {
        "id": "QLakExlfa4Uw"
      },
      "execution_count": null,
      "outputs": []
    }
  ]
}
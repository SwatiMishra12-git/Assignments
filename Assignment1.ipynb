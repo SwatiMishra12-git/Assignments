{
  "nbformat": 4,
  "nbformat_minor": 0,
  "metadata": {
    "colab": {
      "provenance": []
    },
    "kernelspec": {
      "name": "python3",
      "display_name": "Python 3"
    },
    "language_info": {
      "name": "python"
    }
  },
  "cells": [
    {
      "cell_type": "markdown",
      "source": [
        "# ***Q1. Explain the key features of python that make it a popular choice for programming.***\n",
        "\n",
        "Ans.Python is a powerful programming language due to the following key features:\n",
        "\n",
        "**a)Simple and Readable Syntax:**Python's syntax is clear and concise, making it easy to read and write. This helps reduce the learning curve for beginners and increases productivity for experienced developers.\n",
        "\n",
        "**b)Interpreted Language:**Python is an interpreted language, which means code is executed line by line. This facilitates easier debugging and quick testing of small code snippets.\n",
        "\n",
        "**c)Dynamically Typed:**Python uses dynamic typing, allowing developers to write more flexible and less verbose code. Variable types are determined at runtime, which simplifies coding and reduces boilerplate.\n",
        "\n",
        "**d)Extensive Standard Library:**Python's standard library is vast and comprehensive, providing modules and functions for a wide range of tasks, from file I/O and system calls to web development and data manipulation.\n",
        "\n",
        "**e)Cross-Platform Compatibility:**Python is platform-independent, meaning it can run on various operating systems such as Windows, macOS, and Linux with little or no modification to the code.\n"
      ],
      "metadata": {
        "id": "dgqI2Kh6lFPW"
      }
    },
    {
      "cell_type": "markdown",
      "source": [
        "# ***2. Describe the role of predefined keywords in Python and provide examples of how they are used in a program.***\n",
        "\n",
        "Ans.Predefined keywords in Python, also known as reserved words, are the fundamental building blocks of the language. They have specific meanings and purposes, defining the syntax and structure of the Python language. These keywords are used to write statements, expressions, and control the flow of the program. As they are reserved, they cannot be used as identifiers (i.e., variable names, function names, or any other identifiers).\n",
        "\n",
        "Here are some examples of predefined keywords in Python and their roles:\n",
        "\n",
        "**Control Flow Keywords**\n",
        "\n",
        "if, elif, else: Used for conditional branching.\n",
        "for, while, break, continue: Used for loops and controlling loop execution.\n",
        "try, except, finally, raise: Used for exception handling.\n",
        "\n",
        "**Function and Class Definition Keywords:**\n",
        "\n",
        "def: Used to define a function.\n",
        "return: Used to return a value from a function.\n",
        "class: Used to define a class.\n",
        "pass: Used as a placeholder for a block of code that is not implemented yet.\n",
        "\n",
        "**Variable Scope Keywords:**\n",
        "\n",
        "global: Used to declare a global variable.\n",
        "\n",
        "nonlocal: Used to declare a non-local variable in nested functions.\n",
        "\n",
        "**Logical and Boolean Keywords:**\n",
        "\n",
        "and, or, not: Used for logical operations.\n",
        "True, False: Boolean values.\n",
        "\n",
        "The use of predefined keywords using code snippets are as follows:\n"
      ],
      "metadata": {
        "id": "rvj2HpT1oLMP"
      }
    },
    {
      "cell_type": "code",
      "source": [
        "#Conditional Statements\n",
        "x = 16\n",
        "if x >10:\n",
        "    print(\"x is greater than 10\")\n",
        "elif x == 10:\n",
        "    print(\"x is equal to 10\")\n",
        "else:\n",
        "    print(\"x is less than 10\")\n"
      ],
      "metadata": {
        "colab": {
          "base_uri": "https://localhost:8080/"
        },
        "id": "zZ3mbKz-qUoA",
        "outputId": "77a6df7d-1ead-4476-8c60-2c25327155b9"
      },
      "execution_count": null,
      "outputs": [
        {
          "output_type": "stream",
          "name": "stdout",
          "text": [
            "x is greater than 10\n"
          ]
        }
      ]
    },
    {
      "cell_type": "code",
      "source": [
        "#Loops\n",
        "for i in range(5):\n",
        "    if i == 3:\n",
        "        break\n",
        "    print(i)\n",
        "\n",
        "i = 0\n",
        "while i < 5:\n",
        "    if i == 3:\n",
        "        i += 1\n",
        "        continue\n",
        "    print(i)\n",
        "    i += 1\n"
      ],
      "metadata": {
        "colab": {
          "base_uri": "https://localhost:8080/"
        },
        "id": "HiCm69jnqoro",
        "outputId": "c2dfede5-6565-4cab-93a3-3d619c477711"
      },
      "execution_count": null,
      "outputs": [
        {
          "output_type": "stream",
          "name": "stdout",
          "text": [
            "0\n",
            "1\n",
            "2\n",
            "0\n",
            "1\n",
            "2\n",
            "4\n"
          ]
        }
      ]
    },
    {
      "cell_type": "code",
      "source": [
        "#Logical Operations\n",
        "a = True\n",
        "b = False\n",
        "\n",
        "if a and not b:\n",
        "    print(\"a is True and b is False\")\n",
        "\n",
        "if a or b:\n",
        "    print(\"Either a or b is True\")\n"
      ],
      "metadata": {
        "colab": {
          "base_uri": "https://localhost:8080/"
        },
        "id": "q23vA-QZrllC",
        "outputId": "bab42f3c-f5ba-415e-b564-9e6d71300f68"
      },
      "execution_count": null,
      "outputs": [
        {
          "output_type": "stream",
          "name": "stdout",
          "text": [
            "a is True and b is False\n",
            "Either a or b is True\n"
          ]
        }
      ]
    },
    {
      "cell_type": "markdown",
      "source": [
        "# ***3. Compare and contrast mutable and immutable objects in Python with examples.***\n",
        "\n",
        "---\n",
        "\n",
        "\n",
        "Ans. In Python, objects can be classified as either mutable or immutable based on whether their state (i.e., data/content) can be changed after they are created\n",
        "\n",
        "**Immutable Objects**\n",
        "\n",
        "Immutable objects are objects whose state cannot be modified after they are created. Any attempt to change the content of an immutable object results in the creation of a new object. Examples of immutable objects in Python include:\n",
        "\n",
        "\n",
        "*   Integers, Floats, Strings,Tuples, Booleans\n",
        "\n",
        "\n",
        "\n",
        "\n"
      ],
      "metadata": {
        "id": "Z7HmyXUPr6Cr"
      }
    },
    {
      "cell_type": "code",
      "source": [
        "#Integers\n",
        "x = 5\n",
        "y = x\n",
        "x += 2  # x now refers to a new integer object 7\n",
        "print(x)  # Output: 7\n",
        "print(y)  # Output: 5 (y still refers to the original object 5)\n"
      ],
      "metadata": {
        "colab": {
          "base_uri": "https://localhost:8080/"
        },
        "id": "njwFRkfstbgL",
        "outputId": "784b448b-4ec4-4f47-815c-0909185d45ff"
      },
      "execution_count": null,
      "outputs": [
        {
          "output_type": "stream",
          "name": "stdout",
          "text": [
            "7\n",
            "5\n"
          ]
        }
      ]
    },
    {
      "cell_type": "code",
      "source": [
        "#Strings\n",
        "str1 = \"hello\"\n",
        "str2 = str1\n",
        "str1 += \" world\"  # str1 now refers to a new string object \"hello world\"\n",
        "print(str1)  # Output: \"hello world\"\n",
        "print(str2)  # Output: \"hello\" (str2 still refers to the original string \"hello\")\n"
      ],
      "metadata": {
        "colab": {
          "base_uri": "https://localhost:8080/"
        },
        "id": "EaLp3C79t0LI",
        "outputId": "483d0e07-0839-4b02-8f08-4ed44cbc8ccc"
      },
      "execution_count": null,
      "outputs": [
        {
          "output_type": "stream",
          "name": "stdout",
          "text": [
            "hello world\n",
            "hello\n"
          ]
        }
      ]
    },
    {
      "cell_type": "code",
      "source": [
        "#Tuples\n",
        "tup1 = (1, 2, 3)\n",
        "tup2 = tup1\n",
        "# Tuples are immutable, so we can't change their contents directly\n",
        "# tup1[0] = 10  # This would raise a TypeError\n",
        "tup1 = (4, 5, 6)  # tup1 now refers to a new tuple (4, 5, 6)\n",
        "print(tup1)  # Output: (4, 5, 6)\n",
        "print(tup2)  # Output: (1, 2, 3) (tup2 still refers to the original tuple)\n"
      ],
      "metadata": {
        "colab": {
          "base_uri": "https://localhost:8080/"
        },
        "id": "z-DH1_XguFIZ",
        "outputId": "a8c9b788-0882-4fff-ef29-5d4ac09d2790"
      },
      "execution_count": null,
      "outputs": [
        {
          "output_type": "stream",
          "name": "stdout",
          "text": [
            "(4, 5, 6)\n",
            "(1, 2, 3)\n"
          ]
        }
      ]
    },
    {
      "cell_type": "markdown",
      "source": [
        "**Mutable Objects**\n",
        "\n",
        "Mutable objects are objects whose state can be modified after they are created. This means that their content can be changed without creating a new object. Examples of mutable objects in Python include:\n",
        "\n",
        "Lists,\n",
        "Dictionaries,\n",
        "Sets,\n",
        "User-defined classes (by default)."
      ],
      "metadata": {
        "id": "-LWHXJU5vy-9"
      }
    },
    {
      "cell_type": "code",
      "source": [
        "#List\n",
        "list1 = [1, 2, 3]\n",
        "list2 = list1\n",
        "list1.append(4)  # Modifies the content of the existing list object\n",
        "print(list1)  # Output: [1, 2, 3, 4]\n",
        "print(list2)  # Output: [1, 2, 3, 4] (list2 refers to the same object as list1)\n"
      ],
      "metadata": {
        "colab": {
          "base_uri": "https://localhost:8080/"
        },
        "id": "SEgu2evLwDFG",
        "outputId": "89ea38ef-681b-4aff-9b51-a3db8476c06e"
      },
      "execution_count": null,
      "outputs": [
        {
          "output_type": "stream",
          "name": "stdout",
          "text": [
            "[1, 2, 3, 4]\n",
            "[1, 2, 3, 4]\n"
          ]
        }
      ]
    },
    {
      "cell_type": "code",
      "source": [
        "#Dictionaries\n",
        "dict1 = {'a': 1, 'b': 2}\n",
        "dict2 = dict1\n",
        "dict1['c'] = 3  # Modifies the content of the existing dictionary object\n",
        "print(dict1)  # Output: {'a': 1, 'b': 2, 'c': 3}\n",
        "print(dict2)  # Output: {'a': 1, 'b': 2, 'c': 3} (dict2 refers to the same object as dict1)\n"
      ],
      "metadata": {
        "colab": {
          "base_uri": "https://localhost:8080/"
        },
        "id": "qmtN8HKqxNh2",
        "outputId": "e2c958a2-cb5e-4fd2-f76a-7585d006f54b"
      },
      "execution_count": null,
      "outputs": [
        {
          "output_type": "stream",
          "name": "stdout",
          "text": [
            "{'a': 1, 'b': 2, 'c': 3}\n",
            "{'a': 1, 'b': 2, 'c': 3}\n"
          ]
        }
      ]
    },
    {
      "cell_type": "code",
      "source": [
        "#Set\n",
        "set1 = {1, 2, 3}\n",
        "set2 = set1\n",
        "set1.add(4)  # Modifies the content of the existing set object\n",
        "print(set1)  # Output: {1, 2, 3, 4}\n",
        "print(set2)  # Output: {1, 2, 3, 4} (set2 refers to the same object as set1)\n"
      ],
      "metadata": {
        "colab": {
          "base_uri": "https://localhost:8080/"
        },
        "id": "96gPtdbKxYeC",
        "outputId": "c9f27c0f-0565-4faa-f419-6fa72c963b8c"
      },
      "execution_count": null,
      "outputs": [
        {
          "output_type": "stream",
          "name": "stdout",
          "text": [
            "{1, 2, 3, 4}\n",
            "{1, 2, 3, 4}\n"
          ]
        }
      ]
    },
    {
      "cell_type": "markdown",
      "source": [
        "**Key Differences**\n",
        "\n",
        "**State Modification**:\n",
        "\n",
        "Immutable: The state cannot be modified after creation. Any modification\n",
        "results in a new object.\n",
        "\n",
        "Mutable: The state can be modified after creation without creating a new object.\n",
        "\n",
        "**Memory Efficiency:**\n",
        "\n",
        "Immutable: Since new objects are created for modifications, it may lead to higher memory usage.\n",
        "\n",
        "Mutable: Modifications are made in place, potentially using less memory.\n",
        "\n",
        "**Thread Safety:**\n",
        "\n",
        "Immutable: Generally thread-safe because their state cannot change.\n",
        "\n",
        "Mutable: Not inherently thread-safe, as their state can change.\n",
        "\n",
        "**Hashability:**\n",
        "\n",
        "Immutable: Immutable objects like strings and tuples are hashable and can be used as keys in dictionaries or elements in sets.\n",
        "\n",
        "Mutable: Mutable objects like lists and dictionaries are not hashable and cannot be used as keys in dictionaries or elements in sets."
      ],
      "metadata": {
        "id": "t3dabe_cxhAF"
      }
    },
    {
      "cell_type": "markdown",
      "source": [
        "# ***4.Discuss the different types of operators in Python and provide examples of how they are used.***\n",
        "\n",
        "Ans. Python supports a variety of operators, which are special symbols used to perform operations on variables and values. These operators can be classified into several categories:\n",
        "\n",
        "**1. Arithmetic Operators**\n",
        "Arithmetic operators are used to perform basic mathematical operations such as addition, subtraction, multiplication, etc.\n",
        "\n",
        "\n"
      ],
      "metadata": {
        "id": "Ql7iKgxP0JeU"
      }
    },
    {
      "cell_type": "code",
      "source": [
        "#Addition\n",
        "a = 10\n",
        "b = 5\n",
        "print(a + b)  # Output: 15\n"
      ],
      "metadata": {
        "colab": {
          "base_uri": "https://localhost:8080/"
        },
        "id": "UPxjn17GmFSc",
        "outputId": "457093ab-7f02-4aa6-fe13-b67fd85741c0"
      },
      "execution_count": null,
      "outputs": [
        {
          "output_type": "stream",
          "name": "stdout",
          "text": [
            "15\n"
          ]
        }
      ]
    },
    {
      "cell_type": "code",
      "source": [
        "#Subtraction\n",
        "print(a - b)  # Output: 5\n"
      ],
      "metadata": {
        "colab": {
          "base_uri": "https://localhost:8080/"
        },
        "id": "iZtiv51SmZRz",
        "outputId": "3f6a7a91-149e-4ab1-b218-f74dbdeeb7d2"
      },
      "execution_count": null,
      "outputs": [
        {
          "output_type": "stream",
          "name": "stdout",
          "text": [
            "5\n"
          ]
        }
      ]
    },
    {
      "cell_type": "code",
      "source": [
        "#Multiplication\n",
        "print(a * b)"
      ],
      "metadata": {
        "colab": {
          "base_uri": "https://localhost:8080/"
        },
        "id": "Z5vJHzCfmgxx",
        "outputId": "d938b5f2-e747-44f7-8def-bee5550c7771"
      },
      "execution_count": null,
      "outputs": [
        {
          "output_type": "stream",
          "name": "stdout",
          "text": [
            "50\n"
          ]
        }
      ]
    },
    {
      "cell_type": "code",
      "source": [
        "#Division\n",
        "print(a / b)"
      ],
      "metadata": {
        "colab": {
          "base_uri": "https://localhost:8080/"
        },
        "id": "z0Sghn-smqef",
        "outputId": "dfc7c0ed-77c9-436b-ed74-8787e458eec3"
      },
      "execution_count": null,
      "outputs": [
        {
          "output_type": "stream",
          "name": "stdout",
          "text": [
            "2.0\n"
          ]
        }
      ]
    },
    {
      "cell_type": "markdown",
      "source": [
        "**2. Comparison Operators**\n",
        "Comparison operators are used to compare two values and return a boolean result (True or False)."
      ],
      "metadata": {
        "id": "fI-_GcBPmvou"
      }
    },
    {
      "cell_type": "code",
      "source": [
        "#Equal\n",
        "print(a == b)"
      ],
      "metadata": {
        "colab": {
          "base_uri": "https://localhost:8080/"
        },
        "id": "iAVGLsUum8Ns",
        "outputId": "fde8675c-485b-42a7-9e19-2a1b5023abba"
      },
      "execution_count": null,
      "outputs": [
        {
          "output_type": "stream",
          "name": "stdout",
          "text": [
            "False\n"
          ]
        }
      ]
    },
    {
      "cell_type": "code",
      "source": [
        "#Not Equal\n",
        "print(a != b)  # Output: True\n"
      ],
      "metadata": {
        "colab": {
          "base_uri": "https://localhost:8080/"
        },
        "id": "G2j9s6jlnDVL",
        "outputId": "e6ffa360-4203-4b44-9c8f-48892204fab1"
      },
      "execution_count": null,
      "outputs": [
        {
          "output_type": "stream",
          "name": "stdout",
          "text": [
            "True\n"
          ]
        }
      ]
    },
    {
      "cell_type": "code",
      "source": [
        "#Greater Than\n",
        "print(a > b)  # Output: True\n"
      ],
      "metadata": {
        "colab": {
          "base_uri": "https://localhost:8080/"
        },
        "id": "qr0L9dUbnKXa",
        "outputId": "f0da70b0-ffa8-4f66-a69b-f8541ce19308"
      },
      "execution_count": null,
      "outputs": [
        {
          "output_type": "stream",
          "name": "stdout",
          "text": [
            "True\n"
          ]
        }
      ]
    },
    {
      "cell_type": "markdown",
      "source": [
        "**3. Logical Operators**\n",
        "Logical operators are used to combine conditional statements."
      ],
      "metadata": {
        "id": "8QOh-_y8nVz-"
      }
    },
    {
      "cell_type": "code",
      "source": [
        "x = True\n",
        "y = False\n",
        "#AND\n",
        "print(x and y)  # Output: False\n",
        "#OR\n",
        "print(x or y)  # Output: True\n",
        "#NOT\n",
        "print(not x)  # Output: False\n"
      ],
      "metadata": {
        "colab": {
          "base_uri": "https://localhost:8080/"
        },
        "id": "GWttz3Ypnebv",
        "outputId": "4d9f436c-b0d4-4838-a967-0a3a3460c27b"
      },
      "execution_count": null,
      "outputs": [
        {
          "output_type": "stream",
          "name": "stdout",
          "text": [
            "False\n",
            "True\n",
            "False\n"
          ]
        }
      ]
    },
    {
      "cell_type": "markdown",
      "source": [
        "**4. Bitwise Operators**\n",
        "Bitwise operators are used to perform bit-level operations.\n",
        "\n",
        "\n"
      ],
      "metadata": {
        "id": "NiSiMvJunwp3"
      }
    },
    {
      "cell_type": "code",
      "source": [
        "#AND\n",
        "a = 10  # Binary: 1010\n",
        "b = 4   # Binary: 0100\n",
        "print(a & b)  # Output: 0 (Binary: 0000)\n",
        "#OR\n",
        "print(a | b)  # Output: 14 (Binary: 1110)\n",
        "#XOR\n",
        "print(a ^ b)  # Output: 14 (Binary: 1110)\n",
        "\n"
      ],
      "metadata": {
        "colab": {
          "base_uri": "https://localhost:8080/"
        },
        "id": "-qIZ2RyZ8hxu",
        "outputId": "49a32de8-b079-4788-bfc9-926510d227f3"
      },
      "execution_count": null,
      "outputs": [
        {
          "output_type": "stream",
          "name": "stdout",
          "text": [
            "0\n",
            "14\n",
            "14\n"
          ]
        }
      ]
    },
    {
      "cell_type": "markdown",
      "source": [
        "**5.Membership Operators**\n",
        "Membership operators are used to test if a sequence contains a specified item."
      ],
      "metadata": {
        "id": "lgGNcZ_a81b5"
      }
    },
    {
      "cell_type": "code",
      "source": [
        "#In\n",
        "my_list = [1, 2, 3, 4, 5]\n",
        "print(3 in my_list)  # Output: True\n",
        "#Not in\n",
        "print(6 not in my_list)  # Output: True\n"
      ],
      "metadata": {
        "colab": {
          "base_uri": "https://localhost:8080/"
        },
        "id": "ShsHPNh_89F6",
        "outputId": "94529dc9-5d9f-4741-b080-6f526ce4d95c"
      },
      "execution_count": null,
      "outputs": [
        {
          "output_type": "stream",
          "name": "stdout",
          "text": [
            "True\n",
            "True\n"
          ]
        }
      ]
    },
    {
      "cell_type": "markdown",
      "source": [
        "**6.Identity Operators**\n",
        "Identity operators are used to compare the memory locations of two objects."
      ],
      "metadata": {
        "id": "06wizRK-9HUJ"
      }
    },
    {
      "cell_type": "code",
      "source": [
        "#Is\n",
        "x = [\"apple\", \"banana\"]\n",
        "y = [\"apple\", \"banana\"]\n",
        "z = x\n",
        "print(x is z)  # Output: True\n",
        "print(x is y)  # Output: False\n",
        "#Is not\n",
        "print(x is not y)  # Output: True\n"
      ],
      "metadata": {
        "colab": {
          "base_uri": "https://localhost:8080/"
        },
        "id": "Wr828Ovd9LtC",
        "outputId": "9d23f661-f760-4dd9-9f53-9e1f6c577ae9"
      },
      "execution_count": null,
      "outputs": [
        {
          "output_type": "stream",
          "name": "stdout",
          "text": [
            "True\n",
            "False\n",
            "True\n"
          ]
        }
      ]
    },
    {
      "cell_type": "markdown",
      "source": [
        "# ***5.Explain the concept of typecasting in Python with examples.***\n",
        "\n",
        "Ans. Typecasting, also known as type conversion, is the process of converting one data type to another. In Python, this can be done in two ways: implicit type conversion (automatic) and explicit type conversion (manual).\n",
        "\n",
        "## Implicit Type Conversion\n",
        "In implicit type conversion, Python automatically converts one data type to another without any explicit instruction from the user. This usually happens in mixed-type expressions where the conversion ensures that the operation is performed correctly."
      ],
      "metadata": {
        "id": "qppmEHRf9oNY"
      }
    },
    {
      "cell_type": "code",
      "source": [
        "# Implicit conversion from integer to float\n",
        "a = 5\n",
        "b = 3.2\n",
        "result = a + b\n",
        "print(result)        # Output: 8.2\n",
        "print(type(result))  # Output: <class 'float'>\n"
      ],
      "metadata": {
        "colab": {
          "base_uri": "https://localhost:8080/"
        },
        "id": "XsqWKgmU-XKR",
        "outputId": "5f9d4875-464f-4b57-c339-38b375a964d1"
      },
      "execution_count": null,
      "outputs": [
        {
          "output_type": "stream",
          "name": "stdout",
          "text": [
            "8.2\n",
            "<class 'float'>\n"
          ]
        }
      ]
    },
    {
      "cell_type": "markdown",
      "source": [
        "In this example, a is an integer and b is a float. When we add them together, Python implicitly converts a to a float before performing the addition.\n",
        "\n",
        "## Explicit Type Conversion\n"
      ],
      "metadata": {
        "id": "GSY0aavv-Zkn"
      }
    },
    {
      "cell_type": "code",
      "source": [
        "#Converting Integer to Float\n",
        "a = 5\n",
        "b = float(a)\n",
        "print(b)  # Output: 5.0\n",
        "print(type(b))  # Output: <class 'float'>\n",
        "\n",
        "#Converting Float to Integer\n",
        "c = 3.2\n",
        "d = int(c)\n",
        "print(d)  # Output: 3\n",
        "print(type(d))  # Output: <class 'int'>\n",
        "\n",
        "#Converting String to Integer\n",
        "e = \"123\"\n",
        "f = int(e)\n",
        "print(f)  # Output: 123\n",
        "print(type(f))  # Output: <class 'int'>\n",
        "\n",
        "#Converting String to Float\n",
        "g = \"3.14\"\n",
        "h = float(g)\n",
        "print(h)  # Output: 3.14\n",
        "print(type(h))  # Output: <class 'float'>\n",
        "\n",
        "#Converting List to Tuple\n",
        "i = [1, 2, 3]\n",
        "j = tuple(i)\n",
        "print(j)  # Output: (1, 2, 3)\n",
        "print(type(j))  # Output: <class 'tuple'>\n"
      ],
      "metadata": {
        "colab": {
          "base_uri": "https://localhost:8080/"
        },
        "id": "PkTquBIe-l_Y",
        "outputId": "4d3d47bd-c985-44e3-b6db-7b1f0df78dc7"
      },
      "execution_count": null,
      "outputs": [
        {
          "output_type": "stream",
          "name": "stdout",
          "text": [
            "5.0\n",
            "<class 'float'>\n",
            "3\n",
            "<class 'int'>\n",
            "123\n",
            "<class 'int'>\n",
            "3.14\n",
            "<class 'float'>\n",
            "(1, 2, 3)\n",
            "<class 'tuple'>\n"
          ]
        }
      ]
    },
    {
      "cell_type": "markdown",
      "source": [
        "Typecasting is a powerful tool in Python that allows developers to convert data types to fit the needs of their programs, ensuring proper operations and manipulations."
      ],
      "metadata": {
        "id": "2OnuabYQ-_YD"
      }
    },
    {
      "cell_type": "markdown",
      "source": [
        "# ***6. How do conditional statements work in Python? Illustrate with examples.***\n",
        "\n",
        "Ans. Conditional statements in Python allow the execution of certain blocks of code based on whether a condition is true or false. These statements help control the flow of a program by making decisions. The main conditional statements in Python are if, elif, and else\n",
        "\n",
        "**if Statement**\n",
        "\n",
        "The if statement is used to test a condition. If the condition evaluates to True, the block of code inside the if statement is executed\n",
        "\n",
        "**elif Statement**\n",
        "\n",
        "The elif (short for else if) statement is used to test multiple conditions. It comes after the if statement and before the else statement, if present. If the if condition is false, the elif condition is checked.\n",
        "\n",
        "**else Statement**\n",
        "\n",
        "The else statement is used to execute a block of code when none of the conditions are true. It comes at the end of the conditional statements."
      ],
      "metadata": {
        "id": "kMtuyJxh_BNs"
      }
    },
    {
      "cell_type": "code",
      "source": [
        "#if statement\n",
        "x = 10\n",
        "if x > 5:\n",
        "    print(\"x is greater than 5\")\n",
        "\n",
        "#elif statement\n",
        "if x > 10:\n",
        "    print(\"x is greater than 10\")\n",
        "elif x < 5:\n",
        "    print(\"x is less than 5\")\n",
        "else:\n",
        "    print(\"x is between 5 and 10\")\n",
        "\n"
      ],
      "metadata": {
        "colab": {
          "base_uri": "https://localhost:8080/"
        },
        "id": "binlcisuCI3Y",
        "outputId": "6f9e1937-fc98-4700-a9c1-ff142f6cd55a"
      },
      "execution_count": null,
      "outputs": [
        {
          "output_type": "stream",
          "name": "stdout",
          "text": [
            "x is greater than 5\n",
            "x is between 5 and 10\n"
          ]
        }
      ]
    },
    {
      "cell_type": "markdown",
      "source": [
        "**Nested Conditional Statements**\n",
        "\n",
        "Conditional statements can be nested, which means you can have an if, elif, or else block inside another if, elif, or else block."
      ],
      "metadata": {
        "id": "CXTRWub1Cb5e"
      }
    },
    {
      "cell_type": "code",
      "source": [
        "#Nested conditional statements\n",
        "age = 20\n",
        "gender = \"female\"\n",
        "\n",
        "if age >= 18:\n",
        "    if gender == \"female\":\n",
        "        print(\"You are an adult woman.\")\n",
        "    else:\n",
        "        print(\"You are an adult man.\")\n",
        "else:\n",
        "    if gender == \"female\":\n",
        "        print(\"You are a girl.\")\n",
        "    else:\n",
        "        print(\"You are a boy.\")\n"
      ],
      "metadata": {
        "colab": {
          "base_uri": "https://localhost:8080/"
        },
        "id": "TeTkCAMICkKl",
        "outputId": "bc392dc1-8f34-4f1d-dcfb-59d2d5db2add"
      },
      "execution_count": null,
      "outputs": [
        {
          "output_type": "stream",
          "name": "stdout",
          "text": [
            "You are an adult woman.\n"
          ]
        }
      ]
    },
    {
      "cell_type": "markdown",
      "source": [
        "# ***7.Describe the different types of loops in Python and their use cases with examples.***\n",
        "\n",
        "Ans.In Python, loops are used to execute a block of code repeatedly as long as a condition is met. Python supports two main types of loops: for loops and while loops. Additionally, Python provides control statements like break, continue, and else within loops to control the flow of the loop execution.\n",
        "\n",
        "**1. For Loop**\n",
        "\n",
        "The for loop is used to iterate over a sequence (such as a list, tuple, dictionary, set, or string). It is particularly useful when the number of iterations is known beforehand.\n",
        "\n",
        "Use Case: Iterating over elements in a list.\n",
        "\n",
        "**2. While Loop**\n",
        "The while loop repeats a block of code as long as a condition is true. It is useful when the number of iterations is not known and depends on a condition.\n",
        "\n",
        "Use Case: Reading user input until a specific condition is met.\n",
        "\n",
        "**3. Nested Loops**\n",
        "Nested loops are loops within loops. The inner loop runs completely every time the outer loop runs once. They are useful for working with multi-dimensional data structures, such as matrices.\n",
        "\n",
        "Use Case: Printing elements of a 2D list (matrix)."
      ],
      "metadata": {
        "id": "hv7T_yIsC3Pj"
      }
    },
    {
      "cell_type": "code",
      "source": [
        "# Iterating over a list\n",
        "numbers = [1, 2, 3, 4, 5]\n",
        "for num in numbers:\n",
        "    print(num)\n"
      ],
      "metadata": {
        "colab": {
          "base_uri": "https://localhost:8080/"
        },
        "id": "o8bctvPVG_r8",
        "outputId": "9c94370d-ce51-4fa0-c77d-97e6d16bb346"
      },
      "execution_count": null,
      "outputs": [
        {
          "output_type": "stream",
          "name": "stdout",
          "text": [
            "1\n",
            "2\n",
            "3\n",
            "4\n",
            "5\n"
          ]
        }
      ]
    },
    {
      "cell_type": "code",
      "source": [
        "#while loop\n",
        "count = 0\n",
        "while count < 5:\n",
        "    print(count)\n",
        "    count += 1"
      ],
      "metadata": {
        "colab": {
          "base_uri": "https://localhost:8080/"
        },
        "id": "oNk9akoSHImo",
        "outputId": "8a334c4d-dc04-4594-ba62-c2012f34ca99"
      },
      "execution_count": null,
      "outputs": [
        {
          "output_type": "stream",
          "name": "stdout",
          "text": [
            "0\n",
            "1\n",
            "2\n",
            "3\n",
            "4\n"
          ]
        }
      ]
    },
    {
      "cell_type": "code",
      "source": [
        "#nested loops\n",
        "matrix = [[1, 2, 3], [4, 5, 6], [7, 8, 9]]\n",
        "for row in matrix:\n",
        "    for element in row:\n",
        "        print(element)\n"
      ],
      "metadata": {
        "colab": {
          "base_uri": "https://localhost:8080/"
        },
        "id": "xYS1HPIeHW_Z",
        "outputId": "341a2997-a2f3-4452-fb6d-a2e4b8092cdb"
      },
      "execution_count": null,
      "outputs": [
        {
          "output_type": "stream",
          "name": "stdout",
          "text": [
            "1\n",
            "2\n",
            "3\n",
            "4\n",
            "5\n",
            "6\n",
            "7\n",
            "8\n",
            "9\n"
          ]
        }
      ]
    }
  ]
}
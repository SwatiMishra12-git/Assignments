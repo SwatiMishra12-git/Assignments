{
  "nbformat": 4,
  "nbformat_minor": 0,
  "metadata": {
    "colab": {
      "provenance": [],
      "authorship_tag": "ABX9TyMQPjyIvDgiWjI24yibw08r"
    },
    "kernelspec": {
      "name": "python3",
      "display_name": "Python 3"
    },
    "language_info": {
      "name": "python"
    }
  },
  "cells": [
    {
      "cell_type": "code",
      "execution_count": null,
      "metadata": {
        "id": "NhgETdmXU_xB"
      },
      "outputs": [],
      "source": [
        "#THEORY\n",
        "#Question 1"
      ]
    },
    {
      "cell_type": "markdown",
      "source": [
        "Hypothesis testing is a fundamental aspect of inferential statistics. It’s a method used to make decisions or draw conclusions about a population based on a sample of data.\n",
        "\n",
        "1. **State the Hypotheses**: You start with two competing hypotheses:\n",
        "   - Null Hypothesis (\\(H_0\\)): This is a statement of no effect or no difference. It’s the hypothesis that you aim to test.\n",
        "   - Alternative Hypothesis (\\(H_1\\) or \\(H_a\\)): This is what you want to prove. It represents an effect or a difference.\n",
        "\n",
        "2. **Choose a Significance Level (\\(\\alpha\\))**: This is the probability of rejecting the null hypothesis when it is true. Common choices are 0.05, 0.01, or 0.10.\n",
        "\n",
        "3. **Collect Data**: Gather the data required for the test.\n",
        "\n",
        "4. **Calculate the Test Statistic**: This involves using a statistical test that is appropriate for your data and hypotheses (e.g., t-test, z-test, chi-square test).\n",
        "\n",
        "5. **Determine the P-value**: The p-value helps you determine the strength of your evidence against the null hypothesis. It’s the probability of obtaining a result at least as extreme as the one observed, assuming the null hypothesis is true.\n",
        "\n",
        "6. **Make a Decision**: Compare the p-value to your chosen significance level:\n",
        "   - If \\( p \\leq \\alpha \\), reject the null hypothesis in favor of the alternative hypothesis.\n",
        "   - If \\( p > \\alpha \\), fail to reject the null hypothesis.\n",
        "\n",
        "7. **Draw a Conclusion**: Based on the decision, interpret the results in the context of your research question.\n",
        "\n",
        "For example, if you’re testing a new drug, the null hypothesis might state that the drug has no effect, while the alternative hypothesis suggests that the drug does have an effect. By analyzing sample data, hypothesis testing helps you make an informed conclusion about the drug’s efficacy.\n"
      ],
      "metadata": {
        "id": "DTJlBufdREF1"
      }
    },
    {
      "cell_type": "code",
      "source": [
        "#Question 2"
      ],
      "metadata": {
        "id": "Z4J3atluVQeR"
      },
      "execution_count": null,
      "outputs": []
    },
    {
      "cell_type": "markdown",
      "source": [
        "\n",
        "\n",
        "### Null Hypothesis (\\(H_0\\))\n",
        "- **Definition**: The null hypothesis is a statement that there is no effect, no difference, or no relationship between variables. It's the default or baseline hypothesis that we test against.\n",
        "- **Purpose**: It serves as the hypothesis that you aim to disprove or reject through your statistical analysis.\n",
        "- **Example**: If you're testing a new drug, the null hypothesis might be: \"The new drug has no effect on patients compared to the existing treatment.\"\n",
        "\n",
        "### Alternative Hypothesis (\\(H_1\\) or \\(H_a\\))\n",
        "- **Definition**: The alternative hypothesis is a statement that there is an effect, a difference, or a relationship between variables. It represents what you hope to demonstrate through your analysis.\n",
        "- **Purpose**: It is what you want to prove and is considered when the null hypothesis is rejected.\n",
        "- **Example**: Continuing with the drug example, the alternative hypothesis might be: \"The new drug has a different (positive or negative) effect on patients compared to the existing treatment.\"\n",
        "\n",
        "### Key Differences\n",
        "- The null hypothesis assumes no effect or difference, while the alternative hypothesis assumes an effect or difference.\n",
        "- The null hypothesis is what you test against, and the alternative hypothesis is what you want to prove.\n",
        "- Statistical tests aim to either reject the null hypothesis in favor of the alternative hypothesis or fail to reject the null hypothesis.\n",
        "\n",
        " Simplified illustration:\n",
        "\n",
        "| Hypothesis Type       | Statement                                        |\n",
        "|-----------------------|--------------------------------------------------|\n",
        "| Null Hypothesis (\\(H_0\\))      | The new drug has no effect on patients.           |\n",
        "| Alternative Hypothesis (\\(H_1\\) or \\(H_a\\)) | The new drug has an effect on patients (either positive or negative). |\n",
        "\n"
      ],
      "metadata": {
        "id": "In1e_9NTSpcx"
      }
    },
    {
      "cell_type": "code",
      "source": [
        "#Question 3"
      ],
      "metadata": {
        "id": "mWzhNCAhVQRx"
      },
      "execution_count": null,
      "outputs": []
    },
    {
      "cell_type": "markdown",
      "source": [
        "The significance level, denoted by \\(\\alpha\\), is a critical concept in hypothesis testing.\n",
        "### Significance Level (\\(\\alpha\\))\n",
        "- **Definition**: The significance level is the probability of rejecting the null hypothesis when it is actually true. It represents the threshold for deciding whether an observed effect is statistically significant.\n",
        "- **Common Choices**: Typical significance levels are 0.05 (5%), 0.01 (1%), or 0.10 (10%).\n",
        "\n",
        "### Importance of Significance Level\n",
        "1. **Determining Statistical Significance**: The significance level helps determine whether the observed data is unusual enough to reject the null hypothesis. If the p-value is less than or equal to \\(\\alpha\\), you reject the null hypothesis.\n",
        "   \n",
        "2. **Controlling Type I Error**: The significance level sets the risk of a Type I error, which occurs when the null hypothesis is rejected even though it is true. For example, with \\(\\alpha = 0.05\\), there is a 5% risk of making this error.\n",
        "   \n",
        "3. **Standard for Decision Making**: It provides a standardized method for making decisions in hypothesis testing, making it easier to compare results across different studies or experiments.\n",
        "   \n",
        "### Example\n",
        "Suppose you are testing whether a new teaching method improves student performance. You choose a significance level of 0.05. After conducting the test, you find a p-value of 0.03. Since 0.03 < 0.05, you reject the null hypothesis and conclude that the new teaching method has a statistically significant effect on student performance.\n",
        "\n",
        "Here's a summary in table form:\n",
        "\n",
        "| Significance Level (\\(\\alpha\\)) | Description                                              |\n",
        "|---------------------------------|----------------------------------------------------------|\n",
        "| 0.05 (5%)                       | 5% risk of rejecting the null hypothesis when it is true |\n",
        "| 0.01 (1%)                       | 1% risk of rejecting the null hypothesis when it is true |\n",
        "| 0.10 (10%)                      | 10% risk of rejecting the null hypothesis when it is true|\n",
        "\n",
        "Choosing an appropriate significance level is crucial as it balances the risk of making errors in statistical conclusions."
      ],
      "metadata": {
        "id": "XbZKc7xqS_oZ"
      }
    },
    {
      "cell_type": "code",
      "source": [
        "#Question 4"
      ],
      "metadata": {
        "id": "UDIdxFIGVQFy"
      },
      "execution_count": null,
      "outputs": []
    },
    {
      "cell_type": "markdown",
      "source": [
        "\n",
        "### P-Value\n",
        "- **Definition**: The p-value measures the probability of obtaining results at least as extreme as the observed results, assuming that the null hypothesis is true. It quantifies how likely it is to observe the data if the null hypothesis is correct.\n",
        "- **Interpreting the P-Value**:\n",
        "  - **Low P-Value (\\(\\leq \\alpha\\))**: If the p-value is less than or equal to the chosen significance level (\\(\\alpha\\)), it suggests that the observed data is unlikely under the null hypothesis. In this case, you reject the null hypothesis in favor of the alternative hypothesis.\n",
        "  - **High P-Value (\\(> \\alpha\\))**: If the p-value is greater than the significance level, it suggests that the observed data is not sufficiently unusual to reject the null hypothesis. In this case, you fail to reject the null hypothesis.\n",
        "\n",
        "### Example\n",
        "Suppose you are testing whether a new drug is effective. You conduct a study and calculate a p-value of 0.03. If your chosen significance level is 0.05 (\\(\\alpha = 0.05\\)):\n",
        "- Since 0.03 < 0.05, you reject the null hypothesis and conclude that the new drug has a statistically significant effect.\n",
        "\n",
        "### Importance of P-Value\n",
        "- **Quantifying Evidence**: The p-value provides a quantitative measure of the evidence against the null hypothesis.\n",
        "- **Making Decisions**: It helps researchers and statisticians make informed decisions about the validity of their hypotheses.\n",
        "- **Communication**: It offers a standardized way to communicate the strength of the findings in scientific and statistical studies.\n"
      ],
      "metadata": {
        "id": "RGbC0q2qTYxN"
      }
    },
    {
      "cell_type": "code",
      "source": [
        "#Question 5"
      ],
      "metadata": {
        "id": "Ef0Jl6_PVP68"
      },
      "execution_count": null,
      "outputs": []
    },
    {
      "cell_type": "markdown",
      "source": [
        "\n",
        "\n",
        "1. **Compare with Significance Level (\\(\\alpha\\))**:\n",
        "   - If \\( p \\leq \\alpha \\): There is enough evidence to reject the null hypothesis. This means the observed data is unlikely to have occurred under the null hypothesis, suggesting a statistically significant effect.\n",
        "   - If \\( p > \\alpha \\): There isn't enough evidence to reject the null hypothesis. The observed data could reasonably occur under the null hypothesis, so you fail to reject it.\n",
        "\n",
        "2. **Strength of Evidence**:\n",
        "   - **Low p-value (< 0.01)**: Strong evidence against the null hypothesis.\n",
        "   - **Moderate p-value (0.01 to 0.05)**: Moderate evidence against the null hypothesis.\n",
        "   - **High p-value (> 0.05)**: Weak evidence against the null hypothesis.\n",
        "\n",
        "### Example\n",
        "Suppose you are testing whether a new fertilizer increases plant growth compared to a standard one. You conduct an experiment and obtain a p-value of 0.04, with a significance level of 0.05 (\\(\\alpha = 0.05\\)).\n",
        "\n",
        "- **Interpretation**: Since 0.04 < 0.05, you reject the null hypothesis and conclude that the new fertilizer has a statistically significant effect on plant growth.\n",
        "- **Evidence**: The p-value of 0.04 provides moderate evidence that the new fertilizer is more effective than the standard one.\n",
        "\n",
        "### Important Considerations\n",
        "- **Context Matters**: The p-value alone doesn't tell you the size or importance of the effect. It should be considered alongside other metrics and the context of your study.\n",
        "- **Not Proof**: A low p-value doesn't prove the alternative hypothesis; it merely indicates that the observed data is unlikely under the null hypothesis.\n"
      ],
      "metadata": {
        "id": "tKnozuJITqoz"
      }
    },
    {
      "cell_type": "code",
      "source": [
        "#Question 6"
      ],
      "metadata": {
        "id": "XUSew-rJVPwe"
      },
      "execution_count": null,
      "outputs": []
    },
    {
      "cell_type": "markdown",
      "source": [
        "\n",
        "\n",
        "### Type I Error (False Positive)\n",
        "- **Definition**: A Type I error occurs when the null hypothesis (\\(H_0\\)) is rejected when it is actually true. It’s a false positive finding.\n",
        "- **Probability**: The significance level (\\(\\alpha\\)) represents the probability of making a Type I error. For example, if \\(\\alpha = 0.05\\), there is a 5% chance of making this error.\n",
        "- **Consequences**: You might conclude that a new drug is effective when it’s not, potentially leading to unnecessary treatments or wasted resources.\n",
        "\n",
        "### Type II Error (False Negative)\n",
        "- **Definition**: A Type II error occurs when the null hypothesis (\\(H_0\\)) is not rejected when it is actually false. It’s a false negative finding.\n",
        "- **Probability**: Denoted by \\(\\beta\\), this represents the probability of making a Type II error. The power of a test (1 - \\(\\beta\\)) is the probability of correctly rejecting the null hypothesis.\n",
        "- **Consequences**: You might conclude that a new drug is not effective when it actually is, potentially missing out on a beneficial treatment.\n",
        "\n",
        "### Summary Table\n",
        "\n",
        "| Error Type     | Definition                                   | Probability      | Consequences                                                         |\n",
        "|----------------|----------------------------------------------|------------------|----------------------------------------------------------------------|\n",
        "| Type I Error   | Rejecting \\(H_0\\) when \\(H_0\\) is true       | \\(\\alpha\\)       | Concluding an effect or difference exists when it doesn't            |\n",
        "| Type II Error  | Failing to reject \\(H_0\\) when \\(H_0\\) is false | \\(\\beta\\)        | Missing a true effect or difference                                  |\n",
        "\n",
        "### Example\n",
        "Suppose you're testing whether a new teaching method improves student performance compared to a traditional method:\n",
        "\n",
        "- **Type I Error**: Concluding the new method is better (rejecting \\(H_0\\)) when it’s actually not.\n",
        "- **Type II Error**: Concluding the new method is not better (failing to reject \\(H_0\\)) when it actually is.\n",
        "\n",
        "Minimizing these errors involves choosing an appropriate significance level and ensuring the study has sufficient power, typically by having a large enough sample size.\n"
      ],
      "metadata": {
        "id": "D5S6_VSdT7ax"
      }
    },
    {
      "cell_type": "code",
      "source": [
        "#Question 7"
      ],
      "metadata": {
        "id": "RF0ZNBBFVPmW"
      },
      "execution_count": null,
      "outputs": []
    },
    {
      "cell_type": "markdown",
      "source": [
        "The distinction between one-tailed and two-tailed tests in hypothesis testing lies in the directionality of the hypotheses being tested.\n",
        "\n",
        "### One-Tailed Test\n",
        "- **Definition**: A one-tailed test examines whether a sample statistic is significantly greater than or less than a population parameter in a specific direction.\n",
        "- **Hypotheses**:\n",
        "  - **Right-tailed test**:\n",
        "    - Null Hypothesis (\\(H_0\\)): The parameter is less than or equal to a certain value.\n",
        "    - Alternative Hypothesis (\\(H_1\\)): The parameter is greater than a certain value.\n",
        "  - **Left-tailed test**:\n",
        "    - Null Hypothesis (\\(H_0\\)): The parameter is greater than or equal to a certain value.\n",
        "    - Alternative Hypothesis (\\(H_1\\)): The parameter is less than a certain value.\n",
        "- **Example**: Suppose you want to test if a new teaching method increases test scores. The one-tailed test would have:\n",
        "  - \\(H_0\\): The teaching method does not increase test scores (\\(\\mu \\leq \\mu_0\\)).\n",
        "  - \\(H_1\\): The teaching method increases test scores (\\(\\mu > \\mu_0\\)).\n",
        "\n",
        "### Two-Tailed Test\n",
        "- **Definition**: A two-tailed test examines whether a sample statistic is significantly different from a population parameter in either direction (greater or less).\n",
        "- **Hypotheses**:\n",
        "  - Null Hypothesis (\\(H_0\\)): The parameter is equal to a certain value.\n",
        "  - Alternative Hypothesis (\\(H_1\\)): The parameter is not equal to a certain value (it could be either greater or less).\n",
        "- **Example**: Suppose you want to test if a new drug has a different effect on patients compared to the standard drug. The two-tailed test would have:\n",
        "  - \\(H_0\\): The new drug has the same effect as the standard drug (\\(\\mu = \\mu_0\\)).\n",
        "  - \\(H_1\\): The new drug has a different effect than the standard drug (\\(\\mu \\neq \\mu_0\\)).\n",
        "\n",
        "### Summary Table\n",
        "\n",
        "| Test Type      | Hypotheses (Example)                                                        | Directionality        |\n",
        "|----------------|----------------------------------------------------------------------------|-----------------------|\n",
        "| One-Tailed Test  | \\(H_0: \\mu \\leq \\mu_0\\); \\(H_1: \\mu > \\mu_0\\) or \\(H_0: \\mu \\geq \\mu_0\\); \\(H_1: \\mu < \\mu_0\\) | Specific (greater or less) |\n",
        "| Two-Tailed Test | \\(H_0: \\mu = \\mu_0\\); \\(H_1: \\mu \\neq \\mu_0\\)                             | Non-specific (different)   |\n",
        "\n",
        "### When to Use Each Test\n",
        "- **One-Tailed Test**: Use when you have a specific direction of interest (e.g., testing if one method is better than another).\n",
        "- **Two-Tailed Test**: Use when you are interested in any difference, regardless of direction (e.g., testing if a new method is simply different).\n",
        "\n",
        "Choosing between a one-tailed and a two-tailed test depends on your research question and the direction of the effect you are interested in detecting.\n"
      ],
      "metadata": {
        "id": "uNp1gmnrUPNn"
      }
    },
    {
      "cell_type": "code",
      "source": [
        "#Question 8"
      ],
      "metadata": {
        "id": "0Y6XlyfdVPb2"
      },
      "execution_count": null,
      "outputs": []
    },
    {
      "cell_type": "markdown",
      "source": [
        "The Z-test is a type of hypothesis test used to determine whether there is a significant difference between sample and population means, or between the means of two samples. It is particularly useful when dealing with large sample sizes or when the population variance is known.\n",
        "\n",
        "### What is the Z-test?\n",
        "- **Definition**: The Z-test is a statistical test that uses the standard normal distribution (Z-distribution) to determine the significance of the difference between sample data and population parameters.\n",
        "- **Calculation**: It involves calculating the Z-score, which measures how many standard deviations an element is from the mean. The Z-score formula depends on the context (e.g., one-sample Z-test, two-sample Z-test, etc.).\n",
        "\n",
        "### When is the Z-test Used?\n",
        "1. **Large Sample Sizes (\\(n > 30\\))**: When the sample size is large enough, the sampling distribution of the sample mean approaches a normal distribution due to the Central Limit Theorem.\n",
        "2. **Known Population Variance (\\(\\sigma^2\\))**: The Z-test is used when the population variance is known. If the population variance is unknown, a t-test is typically used instead.\n",
        "3. **Comparing Sample Mean to Population Mean**: To test if the sample mean significantly differs from the population mean.\n",
        "4. **Comparing Means of Two Independent Samples**: To test if there is a significant difference between the means of two independent samples.\n",
        "\n",
        "### Example\n",
        "Suppose you want to test whether the average height of a group of students is different from the known average height of the population (\\(\\mu = 170\\) cm), and you have a sample of 100 students (\\(n = 100\\)) with a known population standard deviation (\\(\\sigma = 10\\) cm):\n",
        "\n",
        "- Calculate the sample mean (\\(\\bar{x}\\)).\n",
        "- Compute the Z-score using the formula:\n",
        "\n",
        "$$ Z = \\frac{\\bar{x} - \\mu}{\\frac{\\sigma}{\\sqrt{n}}} $$\n",
        "\n",
        "- Compare the Z-score to the critical values from the Z-distribution table to determine if the null hypothesis (that the sample mean is equal to the population mean) can be rejected.\n",
        "\n",
        "### Summary Table\n",
        "\n",
        "| Z-Test Type                      | Purpose                                                     | Requirements                     |\n",
        "|----------------------------------|-------------------------------------------------------------|----------------------------------|\n",
        "| One-Sample Z-Test                | Comparing sample mean to population mean                    | Large sample size, known variance|\n",
        "| Two-Sample Z-Test                | Comparing means of two independent samples                  | Large sample sizes, known variances|\n",
        "\n"
      ],
      "metadata": {
        "id": "zDIRLte1UhcX"
      }
    },
    {
      "cell_type": "code",
      "source": [
        "#Question 9"
      ],
      "metadata": {
        "id": "vTH_A3GqVPRP"
      },
      "execution_count": null,
      "outputs": []
    },
    {
      "cell_type": "markdown",
      "source": [
        "The Z-score is a measure that describes how many standard deviations a data point is from the mean of a distribution.\n",
        "\n",
        "### Calculation of Z-Score\n",
        "The formula for the Z-score (\\(Z\\)) is:\n",
        "\n",
        "\\[ Z = \\frac{X - \\mu}{\\sigma} \\]\n",
        "\n",
        "where:\n",
        "- \\(X\\) is the value of the data point.\n",
        "- \\(\\mu\\) is the mean of the distribution.\n",
        "- \\(\\sigma\\) is the standard deviation of the distribution.\n",
        "\n",
        "### Interpretation of Z-Score\n",
        "1. **Standard Deviations**: The Z-score tells you how far away a particular data point is from the mean, measured in standard deviations.\n",
        "   - A Z-score of 0 indicates the data point is exactly at the mean.\n",
        "   - A positive Z-score indicates the data point is above the mean.\n",
        "   - A negative Z-score indicates the data point is below the mean.\n",
        "\n",
        "2. **Hypothesis Testing**:\n",
        "   - **Determine Significance**: In hypothesis testing, the Z-score helps determine whether the observed data is significantly different from the expected value under the null hypothesis.\n",
        "   - **Compare to Critical Values**: The Z-score is compared to critical values from the Z-distribution (typically found in Z-tables) to determine if the null hypothesis should be rejected.\n",
        "     - For a significance level (\\(\\alpha\\)) of 0.05 in a two-tailed test, the critical Z-values are approximately ±1.96. If the calculated Z-score falls outside this range, the null hypothesis is rejected.\n",
        "\n",
        "### Example\n",
        "Suppose you are testing whether the average height of students in a school is different from the national average of 170 cm, with a known standard deviation of 10 cm. You have a sample mean of 172 cm from 100 students. The Z-score is calculated as follows:\n",
        "\n",
        "\\[ Z = \\frac{172 - 170}{\\frac{10}{\\sqrt{100}}} = \\frac{2}{1} = 2 \\]\n",
        "\n",
        "- **Interpretation**: The Z-score of 2 means the sample mean is 2 standard deviations above the national average.\n",
        "- **Decision**: Compare the Z-score of 2 to the critical value of ±1.96. Since 2 > 1.96, you reject the null hypothesis and conclude that the average height of students in the school is significantly different from the national average.\n"
      ],
      "metadata": {
        "id": "_jdT8VCkU0gO"
      }
    },
    {
      "cell_type": "code",
      "source": [
        "#Question 10"
      ],
      "metadata": {
        "id": "-MvlE2hAVPGl"
      },
      "execution_count": null,
      "outputs": []
    },
    {
      "cell_type": "markdown",
      "source": [
        "The t-distribution, also known as Student's t-distribution, is a probability distribution that is used in statistical analyses when the sample size is small, and the population standard deviation is unknown.\n",
        "\n",
        "### What is the T-Distribution?\n",
        "- **Definition**: The t-distribution is a family of distributions that are similar to the normal distribution but have thicker tails. This means there is a greater chance of obtaining values far from the mean.\n",
        "- **Shape**: The shape of the t-distribution is similar to the normal distribution but varies depending on the degrees of freedom (df). As the degrees of freedom increase, the t-distribution approaches the normal distribution.\n",
        "\n",
        "### When to Use the T-Distribution\n",
        "1. **Small Sample Sizes**: The t-distribution is particularly useful when the sample size is small (typically \\( n < 30 \\)).\n",
        "2. **Unknown Population Standard Deviation**: Use the t-distribution when the population standard deviation (\\(\\sigma\\)) is unknown, and you must estimate it using the sample standard deviation (s).\n",
        "3. **Confidence Intervals and Hypothesis Tests**: It is used to construct confidence intervals and perform hypothesis tests about the population mean when the above conditions are met.\n",
        "\n",
        "### Example\n",
        "Suppose you want to test whether a new study method improves student scores. You have a sample of 15 students (\\( n = 15 \\)), and you need to estimate the population standard deviation from your sample data.\n",
        "\n",
        "- **Use t-distribution**: Since the sample size is small, and you don't know the population standard deviation, you would use the t-distribution for hypothesis testing or constructing confidence intervals.\n",
        "\n",
        "### Summary Table\n",
        "\n",
        "| Distribution Type | Use Case                                    | Conditions                                                  |\n",
        "|-------------------|---------------------------------------------|-------------------------------------------------------------|\n",
        "| Normal Distribution   | Large samples, known population standard deviation | \\( n \\geq 30 \\) or known \\(\\sigma\\)                           |\n",
        "| T-Distribution        | Small samples, unknown population standard deviation  | \\( n < 30 \\), unknown \\(\\sigma\\), estimated from sample |\n"
      ],
      "metadata": {
        "id": "JrnVH26mVDpY"
      }
    },
    {
      "cell_type": "code",
      "source": [
        "#Question 11"
      ],
      "metadata": {
        "id": "hBhMMXIWVO7i"
      },
      "execution_count": null,
      "outputs": []
    },
    {
      "cell_type": "markdown",
      "source": [
        "Both Z-tests and T-tests are used in hypothesis testing to determine whether there is a significant difference between sample data and population parameters or between the means of two samples. However, they are used under different conditions and have distinct features.\n",
        "### Z-Test\n",
        "- **Conditions**:\n",
        "  - Used when the sample size is large (\\(n \\geq 30\\)).\n",
        "  - Population variance (\\(\\sigma^2\\)) is known.\n",
        "- **Distribution**: Utilizes the standard normal distribution (Z-distribution).\n",
        "- **Formula**: The Z-score is calculated as:\n",
        "  \\[ Z = \\frac{\\bar{X} - \\mu}{\\frac{\\sigma}{\\sqrt{n}}} \\]\n",
        "  where \\(\\bar{X}\\) is the sample mean, \\(\\mu\\) is the population mean, \\(\\sigma\\) is the population standard deviation, and \\(n\\) is the sample size.\n",
        "\n",
        "### T-Test\n",
        "- **Conditions**:\n",
        "  - Used when the sample size is small (\\(n < 30\\)).\n",
        "  - Population variance (\\(\\sigma^2\\)) is unknown and estimated using the sample data.\n",
        "- **Distribution**: Utilizes the t-distribution, which has thicker tails than the normal distribution.\n",
        "- **Formula**: The t-score is calculated as:\n",
        "  \\[ t = \\frac{\\bar{X} - \\mu}{\\frac{s}{\\sqrt{n}}} \\]\n",
        "  where \\(\\bar{X}\\) is the sample mean, \\(\\mu\\) is the population mean, \\(s\\) is the sample standard deviation, and \\(n\\) is the sample size.\n",
        "\n",
        "### Key Differences\n",
        "\n",
        "| Feature                    | Z-Test                                       | T-Test                                      |\n",
        "|----------------------------|----------------------------------------------|---------------------------------------------|\n",
        "| Sample Size                | Large (\\(n \\geq 30\\))                         | Small (\\(n < 30\\))                          |\n",
        "| Population Variance        | Known                                        | Unknown                                     |\n",
        "| Distribution               | Standard normal distribution (Z-distribution) | t-distribution                              |\n",
        "| Formula                    | Uses population standard deviation (\\(\\sigma\\)) | Uses sample standard deviation (\\(s\\))      |\n",
        "| Application Example        | Testing the average height of a large group  | Testing the average height of a small group |\n",
        "\n",
        "### Summary\n",
        "- **Use a Z-test** when you have a large sample size and know the population variance.\n",
        "- **Use a T-test** when you have a small sample size and need to estimate the population variance from the sample.\n"
      ],
      "metadata": {
        "id": "m9ioTY2BVX0_"
      }
    },
    {
      "cell_type": "code",
      "source": [
        "#Question 12"
      ],
      "metadata": {
        "id": "75LcazJ9VOxH"
      },
      "execution_count": null,
      "outputs": []
    },
    {
      "cell_type": "markdown",
      "source": [
        "The T-test is a statistical test used to compare the means of one or two samples to determine if there is a significant difference. It is particularly useful when dealing with small sample sizes or when the population standard deviation is unknown.\n",
        "\n",
        "### Types of T-Tests\n",
        "1. **One-Sample T-Test**: Compares the mean of a single sample to a known population mean.\n",
        "2. **Two-Sample T-Test**: Compares the means of two independent samples to determine if they come from the same population.\n",
        "3. **Paired T-Test**: Compares means from the same group at different times (e.g., before and after a treatment).\n",
        "\n",
        "### Hypothesis Testing with T-Tests\n",
        "#### Step-by-Step Process:\n",
        "1. **State the Hypotheses**:\n",
        "   - **Null Hypothesis (\\(H_0\\))**: Assumes no effect or no difference (e.g., the sample mean is equal to the population mean).\n",
        "   - **Alternative Hypothesis (\\(H_1\\))**: Assumes an effect or a difference (e.g., the sample mean is not equal to the population mean).\n",
        "\n",
        "2. **Choose a Significance Level (\\(\\alpha\\))**:\n",
        "   - Common choices are 0.05, 0.01, or 0.10.\n",
        "\n",
        "3. **Calculate the Test Statistic (T-Score)**:\n",
        "   - For a one-sample T-test:\n",
        "     \\[ t = \\frac{\\bar{X} - \\mu}{\\frac{s}{\\sqrt{n}}} \\]\n",
        "     where \\(\\bar{X}\\) is the sample mean, \\(\\mu\\) is the population mean, \\(s\\) is the sample standard deviation, and \\(n\\) is the sample size.\n",
        "\n",
        "4. **Determine the Degrees of Freedom (df)**:\n",
        "   - For a one-sample T-test, \\(df = n - 1\\).\n",
        "\n",
        "5. **Find the Critical Value**:\n",
        "   - Use a T-distribution table to find the critical value based on the significance level and degrees of freedom.\n",
        "\n",
        "6. **Make a Decision**:\n",
        "   - Compare the calculated T-score to the critical value.\n",
        "     - If \\(|t|\\) > critical value, reject the null hypothesis.\n",
        "     - If \\(|t|\\) \\(\\leq\\) critical value, fail to reject the null hypothesis.\n",
        "\n",
        "7. **Draw a Conclusion**:\n",
        "   - Based on the decision, interpret the results in the context of your research question.\n",
        "\n",
        "### Example\n",
        "Suppose you want to test whether the average height of a sample of 10 students is different from the national average height of 170 cm. You calculate a sample mean of 172 cm with a standard deviation of 5 cm.\n",
        "\n",
        "- **Calculate the T-score**:\n",
        "  \\[ t = \\frac{172 - 170}{\\frac{5}{\\sqrt{10}}} = \\frac{2}{1.58} \\approx 1.27 \\]\n",
        "\n",
        "- **Degrees of Freedom**:\n",
        "  \\[ df = 10 - 1 = 9 \\]\n",
        "\n",
        "- **Critical Value** (for \\(\\alpha = 0.05\\) and \\(df = 9\\)):\n",
        "  \\[ \\text{Critical value} \\approx 2.262 \\]\n",
        "\n",
        "- **Decision**:\n",
        "  - Since \\(1.27 < 2.262\\), you fail to reject the null hypothesis.\n",
        "\n",
        "- **Conclusion**:\n",
        "  - There is no significant difference between the sample mean and the population mean at the 0.05 significance level.\n"
      ],
      "metadata": {
        "id": "016LNInKVsK2"
      }
    },
    {
      "cell_type": "code",
      "source": [
        "#Question 13"
      ],
      "metadata": {
        "id": "kmswcfZdVOmj"
      },
      "execution_count": null,
      "outputs": []
    },
    {
      "cell_type": "markdown",
      "source": [
        "The Z-test and T-test are both statistical tools used in hypothesis testing to determine if there is a significant difference between sample data and population parameters, or between the means of two samples.\n",
        "\n",
        "### Relationship\n",
        "- **Purpose**: Both tests aim to determine whether observed data significantly deviates from expected values under the null hypothesis.\n",
        "- **Comparing Means**: Both tests are used to compare sample means to population means or to compare means between two samples.\n",
        "- **Decision Rule**: Both use critical values from their respective distributions (Z-distribution or T-distribution) to decide whether to reject the null hypothesis.\n",
        "\n",
        "### Key Differences\n",
        "\n",
        "| Aspect                        | Z-Test                                              | T-Test                                            |\n",
        "|-------------------------------|-----------------------------------------------------|---------------------------------------------------|\n",
        "| Sample Size                   | Large (\\(n \\geq 30\\))                               | Small (\\(n < 30\\))                                |\n",
        "| Population Standard Deviation | Known                                               | Unknown                                           |\n",
        "| Distribution                  | Standard normal distribution (Z-distribution)       | t-distribution                                    |\n",
        "| Test Statistic                | Z-score                                             | T-score                                           |\n",
        "| Formula                       | \\[ Z = \\frac{\\bar{X} - \\mu}{\\frac{\\sigma}{\\sqrt{n}}} \\] | \\[ t = \\frac{\\bar{X} - \\mu}{\\frac{s}{\\sqrt{n}}} \\]|\n",
        "\n",
        "### When to Use Each Test\n",
        "- **Z-Test**: Use when the sample size is large and the population standard deviation is known. Suitable for testing hypotheses about means in large samples.\n",
        "- **T-Test**: Use when the sample size is small and the population standard deviation is unknown. Suitable for testing hypotheses about means in small samples or when using sample data to estimate the population standard deviation.\n",
        "\n",
        "### Example\n",
        "Suppose you are testing the effectiveness of a new drug:\n",
        "- **Z-Test**: If you have a large sample of patients (\\(n \\geq 30\\)) and you know the population standard deviation of the effect of the drug, you would use the Z-test to determine if the new drug's effect is significantly different from the standard treatment.\n",
        "- **T-Test**: If you have a small sample of patients (\\(n < 30\\)) and you do not know the population standard deviation, you would use the T-test, estimating the population standard deviation from your sample data, to determine if the new drug's effect is significantly different from the standard treatment.\n",
        "\n",
        "Both tests are essential tools in hypothesis testing, and choosing the appropriate test depends on the sample size and whether the population standard deviation is known.\n"
      ],
      "metadata": {
        "id": "PG4PJOFfV4WF"
      }
    },
    {
      "cell_type": "code",
      "source": [
        "#Question 14"
      ],
      "metadata": {
        "id": "lji4Ef50VObw"
      },
      "execution_count": null,
      "outputs": []
    },
    {
      "cell_type": "markdown",
      "source": [
        "A confidence interval (CI) is a range of values, derived from sample data, that is likely to contain the population parameter of interest (such as the mean or proportion) with a certain level of confidence.\n",
        "\n",
        "### Confidence Interval\n",
        "- **Definition**: A confidence interval gives an estimated range of values which is likely to include the population parameter. The range is constructed around a sample estimate and is associated with a confidence level, such as 95% or 99%.\n",
        "- **Components**:\n",
        "  - **Point Estimate**: The sample statistic (e.g., sample mean) that serves as the center of the confidence interval.\n",
        "  - **Margin of Error**: The range above and below the point estimate, calculated based on the variability of the data and the desired confidence level.\n",
        "\n",
        "### Calculation\n",
        "The formula for a confidence interval for the population mean (\\(\\mu\\)) is:\n",
        "\n",
        "\\[ \\text{CI} = \\bar{X} \\pm (Z \\times \\frac{\\sigma}{\\sqrt{n}}) \\]\n",
        "\n",
        "where:\n",
        "- \\(\\bar{X}\\) is the sample mean.\n",
        "- \\(Z\\) is the Z-score corresponding to the desired confidence level.\n",
        "- \\(\\sigma\\) is the population standard deviation.\n",
        "- \\(n\\) is the sample size.\n",
        "\n",
        "For a t-distribution (used when the sample size is small and the population standard deviation is unknown):\n",
        "\n",
        "\\[ \\text{CI} = \\bar{X} \\pm (t \\times \\frac{s}{\\sqrt{n}}) \\]\n",
        "\n",
        "where:\n",
        "- \\(t\\) is the t-score corresponding to the desired confidence level and degrees of freedom.\n",
        "- \\(s\\) is the sample standard deviation.\n",
        "\n",
        "### Interpretation\n",
        "- **Confidence Level**: The confidence level (e.g., 95%) indicates the probability that the confidence interval contains the true population parameter. A 95% confidence level means that if you were to take 100 different samples and compute a confidence interval for each sample, approximately 95 of the 100 confidence intervals would contain the true population parameter.\n",
        "- **Range**: The range of the confidence interval provides an estimate of the possible values of the population parameter. It reflects the precision and reliability of the sample estimate.\n",
        "\n",
        "### Example\n",
        "Suppose you have a sample mean of 50, a standard deviation of 10, and a sample size of 30. You want to calculate a 95% confidence interval for the population mean.\n",
        "\n",
        "- **Z-score** (for 95% confidence): 1.96\n",
        "- **Margin of Error**: \\(1.96 \\times \\frac{10}{\\sqrt{30}} \\approx 3.58\\)\n",
        "- **Confidence Interval**: \\(50 \\pm 3.58\\) or \\([46.42, 53.58]\\)\n",
        "\n",
        "### Conclusion\n",
        "- **Interpretation**: You can be 95% confident that the true population mean lies between 46.42 and 53.58.\n",
        "- **Practical Use**: Confidence intervals are used to assess the reliability of an estimate and to make informed decisions based on sample data.\n"
      ],
      "metadata": {
        "id": "xXodrBH3XBQr"
      }
    },
    {
      "cell_type": "code",
      "source": [
        "#Question 15"
      ],
      "metadata": {
        "id": "eghe3WnGVORb"
      },
      "execution_count": null,
      "outputs": []
    },
    {
      "cell_type": "markdown",
      "source": [
        "The margin of error is a measure of the uncertainty or precision of an estimate in statistics. It reflects how much the sample estimate may differ from the true population parameter.\n",
        "\n",
        "### Margin of Error\n",
        "- **Definition**: The margin of error represents the maximum expected difference between the sample estimate and the true population parameter. It accounts for sampling variability and is used to construct confidence intervals.\n",
        "- **Components**:\n",
        "  - **Critical Value**: Based on the desired confidence level (e.g., Z-score for 95% confidence is 1.96).\n",
        "  - **Standard Error**: The standard deviation of the sampling distribution, which depends on the sample size and variability in the data.\n",
        "\n",
        "### Calculation\n",
        "The formula for the margin of error (ME) is:\n",
        "\n",
        "\\[ \\text{ME} = \\text{Critical Value} \\times \\text{Standard Error} \\]\n",
        "\n",
        "- For a population mean with known standard deviation (\\(\\sigma\\)):\n",
        "\n",
        "\\[ \\text{ME} = Z \\times \\frac{\\sigma}{\\sqrt{n}} \\]\n",
        "\n",
        "- For a population mean with unknown standard deviation (using sample standard deviation \\(s\\)):\n",
        "\n",
        "\\[ \\text{ME} = t \\times \\frac{s}{\\sqrt{n}} \\]\n",
        "\n",
        "### Impact on Confidence Interval\n",
        "The confidence interval (CI) is constructed around the sample estimate (\\(\\bar{X}\\)) using the margin of error:\n",
        "\n",
        "\\[ \\text{CI} = \\bar{X} \\pm \\text{ME} \\]\n",
        "\n",
        "- **Wider Margin of Error**: A larger margin of error results in a wider confidence interval, indicating less precision but higher confidence in capturing the true population parameter.\n",
        "- **Narrower Margin of Error**: A smaller margin of error results in a narrower confidence interval, indicating more precision but potentially lower confidence.\n",
        "\n",
        "### Example\n",
        "Suppose you want to estimate the average height of students, with a sample mean (\\(\\bar{X}\\)) of 170 cm, a sample standard deviation (\\(s\\)) of 5 cm, and a sample size (\\(n\\)) of 30. You aim for a 95% confidence level (critical value \\(t \\approx 2.045\\) for \\(df = 29\\)):\n",
        "\n",
        "- **Standard Error**: \\(\\frac{s}{\\sqrt{n}} = \\frac{5}{\\sqrt{30}} \\approx 0.91\\)\n",
        "- **Margin of Error**: \\(2.045 \\times 0.91 \\approx 1.86\\)\n",
        "- **Confidence Interval**: \\(170 \\pm 1.86\\) or \\([168.14, 171.86]\\)\n",
        "\n",
        "### Interpretation\n",
        "You can be 95% confident that the true average height of students lies between 168.14 cm and 171.86 cm. The margin of error of 1.86 cm reflects the precision of the estimate.\n",
        "\n",
        "The margin of error plays a crucial role in determining the width of the confidence interval, affecting how precisely the population parameter is estimated.\n"
      ],
      "metadata": {
        "id": "aNvM8WWEX4_c"
      }
    },
    {
      "cell_type": "code",
      "source": [
        "#Question 16"
      ],
      "metadata": {
        "id": "aazKugHdVOGh"
      },
      "execution_count": null,
      "outputs": []
    },
    {
      "cell_type": "markdown",
      "source": [
        "Bayes' Theorem is a fundamental concept in probability and statistics that provides a way to update the probability of a hypothesis based on new evidence.\n",
        "\n",
        "### Bayes' Theorem\n",
        "- **Formula**: Bayes' Theorem can be stated mathematically as:\n",
        "\n",
        "\\[ P(A|B) = \\frac{P(B|A) \\cdot P(A)}{P(B)} \\]\n",
        "\n",
        "where:\n",
        "- \\( P(A|B) \\) is the posterior probability, the probability of hypothesis \\(A\\) given the evidence \\(B\\).\n",
        "- \\( P(B|A) \\) is the likelihood, the probability of evidence \\(B\\) given that hypothesis \\(A\\) is true.\n",
        "- \\( P(A) \\) is the prior probability, the initial probability of hypothesis \\(A\\) before seeing the evidence.\n",
        "- \\( P(B) \\) is the marginal likelihood, the total probability of observing the evidence \\(B\\).\n",
        "\n",
        "### Usage in Statistics\n",
        "1. **Updating Beliefs**: Bayes' Theorem allows statisticians to update their beliefs about a hypothesis as new data becomes available. This is especially useful in fields where evidence accumulates over time, such as medical diagnosis or machine learning.\n",
        "   \n",
        "2. **Medical Diagnosis**: For example, if a patient tests positive for a disease, Bayes' Theorem can be used to update the probability that the patient actually has the disease, considering the test's accuracy and the prior probability of the disease.\n",
        "\n",
        "3. **Decision Making**: It provides a framework for making decisions based on probabilistic reasoning. For instance, it can be used in quality control to assess the likelihood of a product defect given inspection results.\n",
        "\n",
        "4. **Machine Learning**: In machine learning, Bayes' Theorem is used in algorithms such as Naive Bayes classifiers, which classify data based on the probabilities of different hypotheses given the observed data.\n",
        "\n",
        "### Significance\n",
        "- **Combining Prior Knowledge with New Evidence**: Bayes' Theorem formalizes the process of combining prior knowledge with new evidence, leading to more accurate and informed conclusions.\n",
        "- **Flexibility**: It can be applied to various fields, from medicine and finance to engineering and artificial intelligence.\n",
        "- **Foundation of Bayesian Statistics**: It underlies the entire field of Bayesian statistics, which focuses on updating probabilities and making inferences based on observed data.\n",
        "\n",
        "### Example\n",
        "Suppose you want to determine the probability that a student is a high performer given that they scored above 90% on a test. Let:\n",
        "- \\( P(A) \\): Probability that a student is a high performer.\n",
        "- \\( P(B|A) \\): Probability of scoring above 90% given the student is a high performer.\n",
        "- \\( P(B) \\): Probability of scoring above 90% in general.\n",
        "\n",
        "Using Bayes' Theorem, you can update the probability that a student is a high performer based on their test score.\n"
      ],
      "metadata": {
        "id": "zoXOFYBgaZDv"
      }
    },
    {
      "cell_type": "code",
      "source": [
        "#Question 17"
      ],
      "metadata": {
        "id": "LKj5lyq7VN7k"
      },
      "execution_count": null,
      "outputs": []
    },
    {
      "cell_type": "markdown",
      "source": [
        "The Chi-square (\\(\\chi^2\\)) distribution is a probability distribution that is widely used in statistical hypothesis testing, particularly in tests of independence and goodness of fit.\n",
        "\n",
        "### Chi-Square Distribution\n",
        "- **Definition**: The Chi-square distribution is a distribution of a sum of the squares of \\(k\\) independent standard normal random variables. It is a special case of the gamma distribution and is only used for non-negative values.\n",
        "- **Degrees of Freedom (\\(df\\))**: The shape of the Chi-square distribution depends on the degrees of freedom. As the degrees of freedom increase, the distribution approaches a normal distribution.\n",
        "\n",
        "### When is it Used?\n",
        "1. **Chi-Square Test for Independence**: This test is used to determine if there is a significant association between two categorical variables. For example, you might use it to test whether there is a relationship between gender and voting preference.\n",
        "2. **Chi-Square Goodness of Fit Test**: This test is used to determine if a sample data matches a population with a specific distribution. For example, you might use it to test whether the roll of a die follows a uniform distribution.\n",
        "3. **Chi-Square Test for Homogeneity**: Similar to the test for independence, this test is used to determine if different samples come from populations with the same distribution.\n",
        "\n",
        "### Example\n",
        "Suppose you want to test if a six-sided die is fair. You roll the die 60 times and observe the following frequencies: 8, 10, 9, 11, 12, and 10 for faces 1 through 6, respectively.\n",
        "\n",
        "- **Null Hypothesis (\\(H_0\\))**: The die is fair, meaning each face has an equal probability of appearing.\n",
        "- **Expected Frequency**: For a fair die, each face should appear \\( \\frac{60}{6} = 10 \\) times.\n",
        "- **Chi-Square Statistic**: Calculate the Chi-square statistic using the formula:\n",
        "\n",
        "\\[ \\chi^2 = \\sum \\frac{(O_i - E_i)^2}{E_i} \\]\n",
        "\n",
        "where \\(O_i\\) is the observed frequency and \\(E_i\\) is the expected frequency.\n",
        "\n",
        "\\[ \\chi^2 = \\frac{(8-10)^2}{10} + \\frac{(10-10)^2}{10} + \\frac{(9-10)^2}{10} + \\frac{(11-10)^2}{10} + \\frac{(12-10)^2}{10} + \\frac{(10-10)^2}{10} = 0.8 \\]\n",
        "\n",
        "- **Degrees of Freedom (\\(df\\))**: \\( k - 1 = 6 - 1 = 5 \\)\n",
        "\n",
        "- **Critical Value**: For \\(\\alpha = 0.05\\) and \\(df = 5\\), the critical value from the Chi-square distribution table is approximately 11.07.\n",
        "\n",
        "- **Decision**: Since 0.8 < 11.07, you fail to reject the null hypothesis, suggesting the die appears to be fair.\n",
        "\n",
        "### Summary\n",
        "| Chi-Square Test            | Purpose                                                         | Example                                   |\n",
        "|----------------------------|-----------------------------------------------------------------|-------------------------------------------|\n",
        "| Test for Independence      | Determine if there's a relationship between two categorical variables | Relationship between gender and voting preference |\n",
        "| Goodness of Fit Test       | Determine if sample data matches a specified distribution        | Testing if a die is fair                  |\n",
        "| Test for Homogeneity       | Determine if different samples come from populations with the same distribution | Comparing distributions across multiple groups |\n",
        "\n",
        "The Chi-square distribution is a powerful tool for analyzing categorical data and determining if observed frequencies deviate significantly from expected frequencies.\n"
      ],
      "metadata": {
        "id": "FkVB_K28amCr"
      }
    },
    {
      "cell_type": "code",
      "source": [
        "#Question 18"
      ],
      "metadata": {
        "id": "_nWNZO6lVNwr"
      },
      "execution_count": null,
      "outputs": []
    },
    {
      "cell_type": "markdown",
      "source": [
        "The Chi-square goodness of fit test is a statistical test used to determine whether a sample data matches a population with a specific distribution. This test helps to see if the observed frequencies of events differ significantly from the expected frequencies based on a given hypothesis.\n",
        "\n",
        "### Steps to Perform the Chi-Square Goodness of Fit Test:\n",
        "\n",
        "1. **State the Hypotheses**:\n",
        "   - **Null Hypothesis (\\(H_0\\))**: The observed frequencies match the expected frequencies.\n",
        "   - **Alternative Hypothesis (\\(H_1\\))**: The observed frequencies do not match the expected frequencies.\n",
        "\n",
        "2. **Determine the Expected Frequencies**:\n",
        "   - Based on the specified distribution or theoretical model, calculate the expected frequency for each category.\n",
        "\n",
        "3. **Calculate the Chi-Square Statistic**:\n",
        "   - Use the formula:\n",
        "     \\[ \\chi^2 = \\sum \\frac{(O_i - E_i)^2}{E_i} \\]\n",
        "     where \\(O_i\\) is the observed frequency, and \\(E_i\\) is the expected frequency for each category.\n",
        "\n",
        "4. **Determine the Degrees of Freedom (df)**:\n",
        "   - \\(df = \\text{number of categories} - 1\\).\n",
        "\n",
        "5. **Find the Critical Value**:\n",
        "   - From the Chi-square distribution table, find the critical value based on the significance level (\\(\\alpha\\)) and degrees of freedom.\n",
        "\n",
        "6. **Make a Decision**:\n",
        "   - Compare the calculated Chi-square statistic to the critical value.\n",
        "     - If \\(\\chi^2\\) > critical value, reject the null hypothesis.\n",
        "     - If \\(\\chi^2\\) \\(\\leq\\) critical value, fail to reject the null hypothesis.\n",
        "\n",
        "### Example Application\n",
        "Suppose you want to test whether a six-sided die is fair. You roll the die 60 times and observe the following frequencies: 8, 10, 9, 11, 12, and 10 for faces 1 through 6, respectively.\n",
        "\n",
        "- **Null Hypothesis (\\(H_0\\))**: Each face of the die has an equal probability of appearing.\n",
        "- **Expected Frequency**: For a fair die, each face should appear \\( \\frac{60}{6} = 10 \\) times.\n",
        "- **Observed Frequencies**: [8, 10, 9, 11, 12, 10].\n",
        "\n",
        "- **Calculate the Chi-Square Statistic**:\n",
        "  \\[ \\chi^2 = \\frac{(8-10)^2}{10} + \\frac{(10-10)^2}{10} + \\frac{(9-10)^2}{10} + \\frac{(11-10)^2}{10} + \\frac{(12-10)^2}{10} + \\frac{(10-10)^2}{10} = 0.8 \\]\n",
        "\n",
        "- **Degrees of Freedom (df)**: \\( k - 1 = 6 - 1 = 5 \\)\n",
        "\n",
        "- **Critical Value** (for \\(\\alpha = 0.05\\) and \\(df = 5\\)): approximately 11.07.\n",
        "\n",
        "- **Decision**: Since 0.8 < 11.07, you fail to reject the null hypothesis, suggesting the die appears to be fair.\n",
        "\n",
        "The Chi-square goodness of fit test is a powerful tool for comparing observed data to expected distributions, allowing you to draw conclusions about the fairness or adherence to theoretical models.\n"
      ],
      "metadata": {
        "id": "_yM4rqbrfYlO"
      }
    },
    {
      "cell_type": "code",
      "source": [
        "#Question 19"
      ],
      "metadata": {
        "id": "fZ_YsNccVNlp"
      },
      "execution_count": null,
      "outputs": []
    },
    {
      "cell_type": "markdown",
      "source": [
        "The F-distribution is a probability distribution that arises frequently in statistical testing, especially in analysis of variance (ANOVA) and regression analysis.\n",
        "\n",
        "### F-Distribution\n",
        "- **Definition**: The F-distribution is a continuous probability distribution that is used to compare variances. It is defined by two parameters: the degrees of freedom for the numerator (\\(df_1\\)) and the degrees of freedom for the denominator (\\(df_2\\)).\n",
        "- **Shape**: The F-distribution is positively skewed and is only defined for positive values. The shape of the distribution depends on the degrees of freedom. As the degrees of freedom increase, the F-distribution approaches a normal distribution.\n",
        "\n",
        "### When is it Used?\n",
        "1. **Analysis of Variance (ANOVA)**: The F-distribution is used in ANOVA to test the hypothesis that the means of three or more groups are equal. It helps determine whether any of the group means differ significantly from the overall mean.\n",
        "   \n",
        "   - **Example**: Comparing the effectiveness of different teaching methods on student performance.\n",
        "\n",
        "2. **Regression Analysis**: The F-distribution is used to test the overall significance of a regression model. It assesses whether the model explains a significant portion of the variance in the dependent variable.\n",
        "\n",
        "   - **Example**: Testing whether a set of predictor variables significantly explains the variance in house prices.\n",
        "\n",
        "3. **Comparing Variances**: The F-test can be used to compare the variances of two populations. This is useful in situations where you want to test the equality of variances before performing other tests that assume equal variances.\n",
        "\n",
        "   - **Example**: Comparing the variances of test scores between two different schools.\n",
        "\n",
        "### Example: Using the F-distribution in ANOVA\n",
        "Suppose you have three groups of students who used different study methods, and you want to compare their average test scores:\n",
        "\n",
        "1. **State the Hypotheses**:\n",
        "   - Null Hypothesis (\\(H_0\\)): The means of all groups are equal.\n",
        "   - Alternative Hypothesis (\\(H_1\\)): At least one group mean is different.\n",
        "\n",
        "2. **Calculate the Test Statistic (F-ratio)**:\n",
        "   - The F-ratio is calculated as the ratio of the variance between the groups to the variance within the groups.\n",
        "\n",
        "3. **Determine the Degrees of Freedom**:\n",
        "   - Numerator (\\(df_1\\)): Number of groups - 1.\n",
        "   - Denominator (\\(df_2\\)): Total number of observations - Number of groups.\n",
        "\n",
        "4. **Find the Critical Value**:\n",
        "   - Use the F-distribution table to find the critical value based on the significance level (\\(\\alpha\\)) and the degrees of freedom.\n",
        "\n",
        "5. **Make a Decision**:\n",
        "   - Compare the calculated F-ratio to the critical value.\n",
        "     - If \\(F\\)-ratio > critical value, reject the null hypothesis.\n",
        "     - If \\(F\\)-ratio \\(\\leq\\) critical value, fail to reject the null hypothesis.\n",
        "\n",
        "### Summary Table\n",
        "\n",
        "| Test Type          | Purpose                                                      | Example                                        |\n",
        "|--------------------|--------------------------------------------------------------|------------------------------------------------|\n",
        "| ANOVA              | Compare means of three or more groups                        | Effectiveness of different teaching methods    |\n",
        "| Regression Analysis| Test the overall significance of a regression model          | Predicting house prices with multiple variables|\n",
        "| Comparing Variances| Test the equality of variances between two populations        | Variances of test scores between two schools   |\n",
        "\n",
        "The F-distribution is a versatile tool in hypothesis testing, providing a way to compare variances and test the significance of models and group differences.\n"
      ],
      "metadata": {
        "id": "i4NiEfc9fly4"
      }
    },
    {
      "cell_type": "code",
      "source": [
        "#Question 20"
      ],
      "metadata": {
        "id": "ybxIuO-aVNZ_"
      },
      "execution_count": null,
      "outputs": []
    },
    {
      "cell_type": "markdown",
      "source": [
        "The ANOVA (Analysis of Variance) test is a statistical method used to compare the means of three or more groups to see if at least one group mean is significantly different from the others. It helps in determining whether observed differences in sample means are due to actual differences in the population means or just random variation.\n",
        "\n",
        "### Types of ANOVA\n",
        "1. **One-Way ANOVA**: Compares means of groups based on a single factor (e.g., comparing test scores across different teaching methods).\n",
        "2. **Two-Way ANOVA**: Compares means of groups based on two factors (e.g., comparing test scores across different teaching methods and different schools).\n",
        "\n",
        "### Assumptions of ANOVA\n",
        "1. **Independence**: The observations must be independent of each other. This means that the data collected from one group should not influence the data collected from another group.\n",
        "2. **Normality**: The data in each group should be approximately normally distributed. This assumption can be checked using normality tests like the Shapiro-Wilk test or by visual inspection using Q-Q plots.\n",
        "3. **Homogeneity of Variances**: The variances within each group should be approximately equal. This assumption can be checked using tests like Levene's test or Bartlett's test.\n",
        "4. **Continuous Dependent Variable**: The dependent variable should be measured at an interval or ratio level (continuous data).\n",
        "\n",
        "### Example\n",
        "Suppose you want to compare the effectiveness of three different diets on weight loss. You have three groups of participants, each following a different diet. You collect data on their weight loss after a certain period.\n",
        "\n",
        "- **Null Hypothesis (\\(H_0\\))**: The mean weight loss is the same for all three diets.\n",
        "- **Alternative Hypothesis (\\(H_1\\))**: At least one diet leads to a different mean weight loss compared to the others.\n",
        "\n",
        "### Steps to Perform One-Way ANOVA\n",
        "1. **Calculate Group Means**: Find the mean weight loss for each diet group.\n",
        "2. **Calculate Overall Mean**: Find the overall mean weight loss across all groups.\n",
        "3. **Calculate Between-Group Variance**: Measure the variation due to the differences between group means.\n",
        "4. **Calculate Within-Group Variance**: Measure the variation within each group.\n",
        "5. **Compute the F-Ratio**: The F-ratio is the ratio of the between-group variance to the within-group variance.\n",
        "6. **Compare to Critical Value**: Use the F-distribution table to find the critical value based on the degrees of freedom and the significance level (\\(\\alpha\\)).\n",
        "7. **Make a Decision**: Compare the calculated F-ratio to the critical value to decide whether to reject the null hypothesis.\n",
        "\n",
        "### Summary Table\n",
        "\n",
        "| Assumption                   | Description                                              | Checking Method                                |\n",
        "|------------------------------|----------------------------------------------------------|------------------------------------------------|\n",
        "| Independence                 | Observations are independent                             | Study design                                    |\n",
        "| Normality                    | Data in each group are normally distributed              | Normality tests (e.g., Shapiro-Wilk), Q-Q plots|\n",
        "| Homogeneity of Variances     | Variances within each group are equal                    | Levene's test, Bartlett's test                  |\n",
        "| Continuous Dependent Variable| Dependent variable is continuous                         | Measurement level                               |\n"
      ],
      "metadata": {
        "id": "Qr3Y8TsVfzOb"
      }
    },
    {
      "cell_type": "code",
      "source": [
        "#Question 21"
      ],
      "metadata": {
        "id": "9RGHV0brVNPB"
      },
      "execution_count": null,
      "outputs": []
    },
    {
      "cell_type": "markdown",
      "source": [
        "ANOVA (Analysis of Variance) tests come in different types, each serving specific purposes depending on the research design and the factors being analyzed. Here are the main types of ANOVA tests:\n",
        "\n",
        "### 1. One-Way ANOVA\n",
        "- **Purpose**: Compares the means of three or more independent groups based on one factor or independent variable.\n",
        "- **Example**: Comparing the effectiveness of different teaching methods on student performance.\n",
        "\n",
        "### 2. Two-Way ANOVA\n",
        "- **Purpose**: Compares the means of groups based on two factors or independent variables, and can also examine the interaction between these factors.\n",
        "- **Example**: Comparing the effectiveness of different teaching methods across different schools.\n",
        "\n",
        "### 3. Repeated Measures ANOVA\n",
        "- **Purpose**: Compares the means of three or more groups where the same subjects are measured multiple times under different conditions or over time.\n",
        "- **Example**: Measuring the same group of patients' blood pressure before, during, and after treatment.\n",
        "\n",
        "### 4. Mixed-Design ANOVA (Split-Plot ANOVA)\n",
        "- **Purpose**: Combines elements of both between-subjects and within-subjects designs. It includes one or more between-subjects factors and one or more within-subjects factors.\n",
        "- **Example**: Comparing different teaching methods (between-subjects) and assessing students' performance over multiple tests (within-subjects).\n",
        "\n",
        "### 5. MANOVA (Multivariate Analysis of Variance)\n",
        "- **Purpose**: Extends ANOVA to multiple dependent variables. It assesses whether the mean vectors of the groups are significantly different.\n",
        "- **Example**: Comparing the effectiveness of different diets on weight loss, cholesterol levels, and blood pressure.\n",
        "\n",
        "### Summary Table\n",
        "\n",
        "| ANOVA Type                   | Purpose                                                 | Example                                               |\n",
        "|------------------------------|---------------------------------------------------------|-------------------------------------------------------|\n",
        "| One-Way ANOVA                | Compares means based on one factor                      | Effectiveness of different teaching methods           |\n",
        "| Two-Way ANOVA                | Compares means based on two factors and their interaction | Effectiveness of teaching methods across schools      |\n",
        "| Repeated Measures ANOVA      | Compares means where the same subjects are measured multiple times | Blood pressure measurements before, during, and after treatment |\n",
        "| Mixed-Design ANOVA           | Combines between-subjects and within-subjects factors   | Teaching methods and student performance over multiple tests |\n",
        "| MANOVA                       | Compares multiple dependent variables                   | Effectiveness of different diets on weight loss, cholesterol, and blood pressure |\n",
        "\n",
        "Each type of ANOVA test is tailored to different research scenarios, providing a robust method for analyzing variance in various experimental designs.\n"
      ],
      "metadata": {
        "id": "w9GhX8QegDqQ"
      }
    },
    {
      "cell_type": "code",
      "source": [
        "#Question 22"
      ],
      "metadata": {
        "id": "FY8tkXvCVNC0"
      },
      "execution_count": null,
      "outputs": []
    },
    {
      "cell_type": "markdown",
      "source": [
        "The F-test is a statistical test that uses the F-distribution to determine whether there are significant differences between group variances or to compare the fits of different statistical models.\n",
        "\n",
        "### What is the F-Test?\n",
        "- **Definition**: The F-test assesses the ratio of variances between two datasets to determine if they are significantly different. It compares the variability between groups to the variability within groups.\n",
        "- **F-Ratio**: The F-ratio is the test statistic used in the F-test, calculated as the ratio of the variance between groups to the variance within groups.\n",
        "\n",
        "### How it Relates to Hypothesis Testing\n",
        "1. **Hypotheses**:\n",
        "   - **Null Hypothesis (\\(H_0\\))**: Assumes that the group variances are equal or that the model fits are not different.\n",
        "   - **Alternative Hypothesis (\\(H_1\\))**: Assumes that at least one group variance is different or that the model fits are different.\n",
        "\n",
        "2. **Applications**:\n",
        "   - **ANOVA (Analysis of Variance)**: The F-test is commonly used in ANOVA to determine if there are significant differences between the means of three or more groups. It assesses whether the variability between group means is greater than the variability within the groups.\n",
        "   - **Regression Analysis**: The F-test evaluates the overall significance of a regression model by comparing the explained variance to the unexplained variance. It helps determine if the model provides a better fit than a simple mean model.\n",
        "   - **Comparing Variances**: The F-test can compare the variances of two samples to check for equality, which is essential before performing tests that assume equal variances.\n",
        "\n",
        "### Example: Using the F-Test in ANOVA\n",
        "Suppose you want to compare the effectiveness of three different diets on weight loss:\n",
        "\n",
        "1. **Calculate the F-Ratio**:\n",
        "   - **Between-Group Variance**: Measure the variability due to the differences between group means.\n",
        "   - **Within-Group Variance**: Measure the variability within each group.\n",
        "\n",
        "2. **Degrees of Freedom**:\n",
        "   - **Numerator (\\(df_1\\))**: Number of groups - 1.\n",
        "   - **Denominator (\\(df_2\\))**: Total number of observations - Number of groups.\n",
        "\n",
        "3. **Find the Critical Value**:\n",
        "   - Use the F-distribution table to find the critical value based on the significance level (\\(\\alpha\\)) and the degrees of freedom.\n",
        "\n",
        "4. **Make a Decision**:\n",
        "   - Compare the calculated F-ratio to the critical value.\n",
        "     - If \\(F\\)-ratio > critical value, reject the null hypothesis.\n",
        "     - If \\(F\\)-ratio \\(\\leq\\) critical value, fail to reject the null hypothesis.\n",
        "\n",
        "### Summary Table\n",
        "\n",
        "| Application                  | Purpose                                              | Example                                          |\n",
        "|------------------------------|------------------------------------------------------|--------------------------------------------------|\n",
        "| ANOVA                        | Compare means of three or more groups                | Effectiveness of different diets on weight loss  |\n",
        "| Regression Analysis          | Test overall significance of a regression model      | Predicting house prices with multiple variables  |\n",
        "| Comparing Variances          | Test equality of variances between two populations   | Variances of test scores between two schools     |\n",
        "\n",
        "The F-test is a powerful statistical tool that plays a crucial role in various hypothesis testing scenarios, providing insights into group differences and model fits.\n"
      ],
      "metadata": {
        "id": "AY2igLgOgQs5"
      }
    },
    {
      "cell_type": "code",
      "source": [
        "#PRACTICAL\n",
        "#Question 1\n",
        "import numpy as np\n",
        "import scipy.stats as stats\n",
        "\n",
        "# Function to perform a Z-test\n",
        "def z_test(sample_data, population_mean, population_std, alpha=0.05):\n",
        "    # Calculate the sample mean\n",
        "    sample_mean = np.mean(sample_data)\n",
        "\n",
        "    # Calculate the sample size\n",
        "    sample_size = len(sample_data)\n",
        "\n",
        "    # Calculate the standard error\n",
        "    standard_error = population_std / np.sqrt(sample_size)\n",
        "\n",
        "    # Calculate the Z-score\n",
        "    z_score = (sample_mean - population_mean) / standard_error\n",
        "\n",
        "    # Calculate the p-value\n",
        "    p_value = 2 * (1 - stats.norm.cdf(np.abs(z_score)))\n",
        "\n",
        "    # Determine the critical value for the given significance level\n",
        "    critical_value = stats.norm.ppf(1 - alpha / 2)\n",
        "\n",
        "    # Interpret the results\n",
        "    if np.abs(z_score) > critical_value:\n",
        "        result = \"Reject the null hypothesis\"\n",
        "    else:\n",
        "        result = \"Fail to reject the null hypothesis\"\n",
        "\n",
        "    return z_score, p_value, result\n",
        "\n",
        "# Example usage\n",
        "sample_data = [170, 175, 180, 185, 190, 195, 200, 205, 210, 215]\n",
        "population_mean = 180\n",
        "population_std = 15\n",
        "\n",
        "z_score, p_value, result = z_test(sample_data, population_mean, population_std)\n",
        "\n",
        "print(f\"Z-Score: {z_score}\")\n",
        "print(f\"P-Value: {p_value}\")\n",
        "print(f\"Result: {result}\")\n"
      ],
      "metadata": {
        "id": "P40c7SuEaSXI",
        "colab": {
          "base_uri": "https://localhost:8080/"
        },
        "outputId": "7ddc5248-2ac5-4723-d97b-7a6f80520800"
      },
      "execution_count": 1,
      "outputs": [
        {
          "output_type": "stream",
          "name": "stdout",
          "text": [
            "Z-Score: 2.6352313834736494\n",
            "P-Value: 0.008407994577249278\n",
            "Result: Reject the null hypothesis\n"
          ]
        }
      ]
    },
    {
      "cell_type": "code",
      "source": [
        "#Question 2\n",
        "import numpy as np\n",
        "import scipy.stats as stats\n",
        "\n",
        "# Function to perform a Z-test\n",
        "def z_test(sample_data, population_mean, population_std, alpha=0.05):\n",
        "    # Calculate the sample mean\n",
        "    sample_mean = np.mean(sample_data)\n",
        "\n",
        "    # Calculate the sample size\n",
        "    sample_size = len(sample_data)\n",
        "\n",
        "    # Calculate the standard error\n",
        "    standard_error = population_std / np.sqrt(sample_size)\n",
        "\n",
        "    # Calculate the Z-score\n",
        "    z_score = (sample_mean - population_mean) / standard_error\n",
        "\n",
        "    # Calculate the p-value\n",
        "    p_value = 2 * (1 - stats.norm.cdf(np.abs(z_score)))\n",
        "\n",
        "    # Determine the critical value for the given significance level\n",
        "    critical_value = stats.norm.ppf(1 - alpha / 2)\n",
        "\n",
        "    # Interpret the results\n",
        "    if np.abs(z_score) > critical_value:\n",
        "        result = \"Reject the null hypothesis\"\n",
        "    else:\n",
        "        result = \"Fail to reject the null hypothesis\"\n",
        "\n",
        "    return z_score, p_value, result\n",
        "\n",
        "# Simulate random data\n",
        "np.random.seed(42)  # For reproducibility\n",
        "sample_data = np.random.normal(loc=175, scale=10, size=30)  # Simulate data with mean=175, std=10, size=30\n",
        "population_mean = 180\n",
        "population_std = 15\n",
        "\n",
        "# Perform the Z-test\n",
        "z_score, p_value, result = z_test(sample_data, population_mean, population_std)\n",
        "\n",
        "# Display the results\n",
        "print(f\"Sample Data: {sample_data}\")\n",
        "print(f\"Sample Mean: {np.mean(sample_data)}\")\n",
        "print(f\"Z-Score: {z_score}\")\n",
        "print(f\"P-Value: {p_value}\")\n",
        "print(f\"Result: {result}\")\n"
      ],
      "metadata": {
        "id": "y5GYG-Vvaatz",
        "colab": {
          "base_uri": "https://localhost:8080/"
        },
        "outputId": "035d24ae-dd1b-413c-b9a0-72d280ed4f21"
      },
      "execution_count": 2,
      "outputs": [
        {
          "output_type": "stream",
          "name": "stdout",
          "text": [
            "Sample Data: [179.96714153 173.61735699 181.47688538 190.23029856 172.65846625\n",
            " 172.65863043 190.79212816 182.67434729 170.30525614 180.42560044\n",
            " 170.36582307 170.34270246 177.41962272 155.86719755 157.75082167\n",
            " 169.37712471 164.8716888  178.14247333 165.91975924 160.87696299\n",
            " 189.65648769 172.742237   175.67528205 160.75251814 169.55617275\n",
            " 176.1092259  163.49006423 178.75698018 168.9936131  172.0830625 ]\n",
            "Sample Mean: 173.1185310414896\n",
            "Z-Score: -2.512757184898484\n",
            "P-Value: 0.011979175380712359\n",
            "Result: Reject the null hypothesis\n"
          ]
        }
      ]
    },
    {
      "cell_type": "code",
      "source": [
        "#Question 3\n",
        "import numpy as np\n",
        "import scipy.stats as stats\n",
        "\n",
        "# Function to perform a one-sample Z-test\n",
        "def z_test(sample_data, population_mean, population_std, alpha=0.05):\n",
        "    # Calculate the sample mean\n",
        "    sample_mean = np.mean(sample_data)\n",
        "\n",
        "    # Calculate the sample size\n",
        "    sample_size = len(sample_data)\n",
        "\n",
        "    # Calculate the standard error\n",
        "    standard_error = population_std / np.sqrt(sample_size)\n",
        "\n",
        "    # Calculate the Z-score\n",
        "    z_score = (sample_mean - population_mean) / standard_error\n",
        "\n",
        "    # Calculate the p-value\n",
        "    p_value = 2 * (1 - stats.norm.cdf(np.abs(z_score)))\n",
        "\n",
        "    # Determine the critical value for the given significance level\n",
        "    critical_value = stats.norm.ppf(1 - alpha / 2)\n",
        "\n",
        "    # Interpret the results\n",
        "    if np.abs(z_score) > critical_value:\n",
        "        result = \"Reject the null hypothesis\"\n",
        "    else:\n",
        "        result = \"Fail to reject the null hypothesis\"\n",
        "\n",
        "    return z_score, p_value, result\n",
        "\n",
        "# Generate sample data (e.g., heights of 30 students)\n",
        "np.random.seed(42)  # For reproducibility\n",
        "sample_data = np.random.normal(loc=175, scale=10, size=30)  # Simulate data with mean=175, std=10, size=30\n",
        "\n",
        "# Known population mean and population standard deviation\n",
        "population_mean = 180\n",
        "population_std = 15\n",
        "\n",
        "# Perform the Z-test\n",
        "z_score, p_value, result = z_test(sample_data, population_mean, population_std)\n",
        "\n",
        "# Display the results\n",
        "print(f\"Sample Data: {sample_data}\")\n",
        "print(f\"Sample Mean: {np.mean(sample_data)}\")\n",
        "print(f\"Z-Score: {z_score}\")\n",
        "print(f\"P-Value: {p_value}\")\n",
        "print(f\"Result: {result}\")\n"
      ],
      "metadata": {
        "id": "PPcOpuaWaagR",
        "colab": {
          "base_uri": "https://localhost:8080/"
        },
        "outputId": "ae2fa925-bc66-4854-d6f8-09def74ffb63"
      },
      "execution_count": 3,
      "outputs": [
        {
          "output_type": "stream",
          "name": "stdout",
          "text": [
            "Sample Data: [179.96714153 173.61735699 181.47688538 190.23029856 172.65846625\n",
            " 172.65863043 190.79212816 182.67434729 170.30525614 180.42560044\n",
            " 170.36582307 170.34270246 177.41962272 155.86719755 157.75082167\n",
            " 169.37712471 164.8716888  178.14247333 165.91975924 160.87696299\n",
            " 189.65648769 172.742237   175.67528205 160.75251814 169.55617275\n",
            " 176.1092259  163.49006423 178.75698018 168.9936131  172.0830625 ]\n",
            "Sample Mean: 173.1185310414896\n",
            "Z-Score: -2.512757184898484\n",
            "P-Value: 0.011979175380712359\n",
            "Result: Reject the null hypothesis\n"
          ]
        }
      ]
    },
    {
      "cell_type": "code",
      "source": [
        "#Question 4\n",
        "import numpy as np\n",
        "import scipy.stats as stats\n",
        "import matplotlib.pyplot as plt\n",
        "\n",
        "# Function to perform a two-tailed Z-test\n",
        "def z_test(sample_data, population_mean, population_std, alpha=0.05):\n",
        "    # Calculate the sample mean\n",
        "    sample_mean = np.mean(sample_data)\n",
        "\n",
        "    # Calculate the sample size\n",
        "    sample_size = len(sample_data)\n",
        "\n",
        "    # Calculate the standard error\n",
        "    standard_error = population_std / np.sqrt(sample_size)\n",
        "\n",
        "    # Calculate the Z-score\n",
        "    z_score = (sample_mean - population_mean) / standard_error\n",
        "\n",
        "    # Calculate the p-value\n",
        "    p_value = 2 * (1 - stats.norm.cdf(np.abs(z_score)))\n",
        "\n",
        "    # Determine the critical value for the given significance level\n",
        "    critical_value = stats.norm.ppf(1 - alpha / 2)\n",
        "\n",
        "    # Interpret the results\n",
        "    if np.abs(z_score) > critical_value:\n",
        "        result = \"Reject the null hypothesis\"\n",
        "    else:\n",
        "        result = \"Fail to reject the null hypothesis\"\n",
        "\n",
        "    return z_score, p_value, result, critical_value\n",
        "\n",
        "# Generate sample data (e.g., heights of 30 students)\n",
        "np.random.seed(42)  # For reproducibility\n",
        "sample_data = np.random.normal(loc=175, scale=10, size=30)  # Simulate data with mean=175, std=10, size=30\n",
        "\n",
        "# Known population mean and population standard deviation\n",
        "population_mean = 180\n",
        "population_std = 15\n",
        "\n",
        "# Perform the Z-test\n",
        "z_score, p_value, result, critical_value = z_test(sample_data, population_mean, population_std)\n",
        "\n",
        "# Display the results\n",
        "print(f\"Sample Data: {sample_data}\")\n",
        "print(f\"Sample Mean: {np.mean(sample_data)}\")\n",
        "print(f\"Z-Score: {z_score}\")\n",
        "print(f\"P-Value: {p_value}\")\n",
        "print(f\"Result: {result}\")\n",
        "\n",
        "# Visualization of the decision region\n",
        "x = np.linspace(-4, 4, 1000)\n",
        "y = stats.norm.pdf(x)\n",
        "\n",
        "plt.plot(x, y, label='Standard Normal Distribution')\n",
        "plt.fill_between(x, 0, y, where=(x <= -critical_value) | (x >= critical_value), color='red', alpha=0.5, label='Rejection Region')\n",
        "plt.axvline(x=z_score, color='blue', linestyle='--', label='Z-Score')\n",
        "plt.title('Two-Tailed Z-Test Decision Region')\n",
        "plt.xlabel('Z-Score')\n",
        "plt.ylabel('Probability Density')\n",
        "plt.legend()\n",
        "plt.show()\n"
      ],
      "metadata": {
        "id": "5S3VKnOpaaUz",
        "colab": {
          "base_uri": "https://localhost:8080/",
          "height": 646
        },
        "outputId": "0998f454-1288-4556-d9fd-68c61926620d"
      },
      "execution_count": 4,
      "outputs": [
        {
          "output_type": "stream",
          "name": "stdout",
          "text": [
            "Sample Data: [179.96714153 173.61735699 181.47688538 190.23029856 172.65846625\n",
            " 172.65863043 190.79212816 182.67434729 170.30525614 180.42560044\n",
            " 170.36582307 170.34270246 177.41962272 155.86719755 157.75082167\n",
            " 169.37712471 164.8716888  178.14247333 165.91975924 160.87696299\n",
            " 189.65648769 172.742237   175.67528205 160.75251814 169.55617275\n",
            " 176.1092259  163.49006423 178.75698018 168.9936131  172.0830625 ]\n",
            "Sample Mean: 173.1185310414896\n",
            "Z-Score: -2.512757184898484\n",
            "P-Value: 0.011979175380712359\n",
            "Result: Reject the null hypothesis\n"
          ]
        },
        {
          "output_type": "display_data",
          "data": {
            "text/plain": [
              "<Figure size 640x480 with 1 Axes>"
            ],
            "image/png": "[encoded data removed]"
          },
          "metadata": {}
        }
      ]
    },
    {
      "cell_type": "code",
      "source": [
        "#Question 5\n",
        "import numpy as np\n",
        "import scipy.stats as stats\n",
        "import matplotlib.pyplot as plt\n",
        "\n",
        "def visualize_errors(sample_mean, population_mean, population_std, sample_size, alpha=0.05, effect_size=0):\n",
        "    # Calculate standard error\n",
        "    standard_error = population_std / np.sqrt(sample_size)\n",
        "\n",
        "    # Calculate critical values for two-tailed test\n",
        "    critical_value = stats.norm.ppf(1 - alpha / 2)\n",
        "    lower_critical = population_mean - critical_value * standard_error\n",
        "    upper_critical = population_mean + critical_value * standard_error\n",
        "\n",
        "    # Define ranges for Type 1 and Type 2 errors\n",
        "    x = np.linspace(population_mean - 4 * population_std, population_mean + 4 * population_std, 1000)\n",
        "    y = stats.norm.pdf(x, population_mean, standard_error)\n",
        "\n",
        "    # Plot the population distribution\n",
        "    plt.plot(x, y, label='Population Distribution', color='blue')\n",
        "\n",
        "    # Fill the Type 1 error regions\n",
        "    plt.fill_between(x, 0, y, where=(x <= lower_critical) | (x >= upper_critical), color='red', alpha=0.5, label='Type 1 Error')\n",
        "\n",
        "    # If effect size is provided, calculate Type 2 error\n",
        "    if effect_size != 0:\n",
        "        sample_mean_effect = population_mean + effect_size * population_std\n",
        "        y_effect = stats.norm.pdf(x, sample_mean_effect, standard_error)\n",
        "        plt.plot(x, y_effect, label='Effect Distribution', color='green')\n",
        "\n",
        "        # Fill the Type 2 error region\n",
        "        plt.fill_between(x, 0, y_effect, where=(x > lower_critical) & (x < upper_critical), color='orange', alpha=0.5, label='Type 2 Error')\n",
        "\n",
        "    # Plot the critical values\n",
        "    plt.axvline(x=lower_critical, color='black', linestyle='--', label=f'Critical Value (Lower)')\n",
        "    plt.axvline(x=upper_critical, color='black', linestyle='--', label=f'Critical Value (Upper)')\n",
        "    plt.axvline(x=sample_mean, color='purple', linestyle='--', label=f'Sample Mean')\n",
        "\n",
        "    plt.title('Type 1 and Type 2 Errors in Hypothesis Testing')\n",
        "    plt.xlabel('Value')\n",
        "    plt.ylabel('Probability Density')\n",
        "    plt.legend()\n",
        "    plt.show()\n",
        "\n",
        "# Example usage\n",
        "sample_mean = 185  # Assume sample mean\n",
        "population_mean = 180\n",
        "population_std = 15\n",
        "sample_size = 30\n",
        "alpha = 0.05\n",
        "effect_size = 0.5  # Example effect size (Cohen's d)\n",
        "\n",
        "visualize_errors(sample_mean, population_mean, population_std, sample_size, alpha, effect_size)\n"
      ],
      "metadata": {
        "id": "Xck5lfUDaaEp",
        "colab": {
          "base_uri": "https://localhost:8080/",
          "height": 472
        },
        "outputId": "578ef9a1-6fde-4941-8180-89d4a9277225"
      },
      "execution_count": 1,
      "outputs": [
        {
          "output_type": "display_data",
          "data": {
            "text/plain": [
              "<Figure size 640x480 with 1 Axes>"
            ],
            "image/png": "[encoded data removed]"
          },
          "metadata": {}
        }
      ]
    },
    {
      "cell_type": "code",
      "source": [
        "#Question 6\n",
        "import numpy as np\n",
        "import scipy.stats as stats\n",
        "\n",
        "# Function to perform an independent T-test\n",
        "def independent_t_test(group1, group2, alpha=0.05):\n",
        "    # Calculate the sample means\n",
        "    mean1 = np.mean(group1)\n",
        "    mean2 = np.mean(group2)\n",
        "\n",
        "    # Calculate the sample standard deviations\n",
        "    std1 = np.std(group1, ddof=1)\n",
        "    std2 = np.std(group2, ddof=1)\n",
        "\n",
        "    # Calculate the sample sizes\n",
        "    n1 = len(group1)\n",
        "    n2 = len(group2)\n",
        "\n",
        "    # Perform the independent T-test\n",
        "    t_statistic, p_value = stats.ttest_ind(group1, group2, equal_var=False)\n",
        "\n",
        "    # Determine the critical value for the given significance level\n",
        "    critical_value = stats.t.ppf(1 - alpha / 2, df=(n1 + n2 - 2))\n",
        "\n",
        "    # Interpret the results\n",
        "    if np.abs(t_statistic) > critical_value:\n",
        "        result = \"Reject the null hypothesis\"\n",
        "    else:\n",
        "        result = \"Fail to reject the null hypothesis\"\n",
        "\n",
        "    return t_statistic, p_value, result\n",
        "\n",
        "# Generate sample data for two groups (e.g., test scores of two different classes)\n",
        "np.random.seed(42)  # For reproducibility\n",
        "group1 = np.random.normal(loc=75, scale=10, size=30)  # Group 1 with mean=75, std=10, size=30\n",
        "group2 = np.random.normal(loc=80, scale=10, size=30)  # Group 2 with mean=80, std=10, size=30\n",
        "\n",
        "# Perform the independent T-test\n",
        "t_statistic, p_value, result = independent_t_test(group1, group2)\n",
        "\n",
        "# Display the results\n",
        "print(f\"Group 1 Data: {group1}\")\n",
        "print(f\"Group 2 Data: {group2}\")\n",
        "print(f\"Group 1 Mean: {np.mean(group1)}\")\n",
        "print(f\"Group 2 Mean: {np.mean(group2)}\")\n",
        "print(f\"T-Statistic: {t_statistic}\")\n",
        "print(f\"P-Value: {p_value}\")\n",
        "print(f\"Result: {result}\")\n"
      ],
      "metadata": {
        "id": "CPiND6mcaZ3G",
        "colab": {
          "base_uri": "https://localhost:8080/"
        },
        "outputId": "fe958236-61ff-4f7b-82fa-a7d823487707"
      },
      "execution_count": 2,
      "outputs": [
        {
          "output_type": "stream",
          "name": "stdout",
          "text": [
            "Group 1 Data: [79.96714153 73.61735699 81.47688538 90.23029856 72.65846625 72.65863043\n",
            " 90.79212816 82.67434729 70.30525614 80.42560044 70.36582307 70.34270246\n",
            " 77.41962272 55.86719755 57.75082167 69.37712471 64.8716888  78.14247333\n",
            " 65.91975924 60.87696299 89.65648769 72.742237   75.67528205 60.75251814\n",
            " 69.55617275 76.1092259  63.49006423 78.75698018 68.9936131  72.0830625 ]\n",
            "Group 2 Data: [73.98293388 98.52278185 79.86502775 69.42289071 88.22544912 67.7915635\n",
            " 82.08863595 60.40329876 66.71813951 81.96861236 87.3846658  81.71368281\n",
            " 78.84351718 76.98896304 65.2147801  72.80155792 75.39361229 90.57122226\n",
            " 83.4361829  62.36959845 83.24083969 76.1491772  73.23078    86.11676289\n",
            " 90.30999522 89.31280119 71.60782477 76.90787624 83.31263431 89.75545127]\n",
            "Group 1 Mean: 73.11853104148963\n",
            "Group 2 Mean: 78.78837529710057\n",
            "T-Statistic: -2.398115152010242\n",
            "P-Value: 0.01972178438138043\n",
            "Result: Reject the null hypothesis\n"
          ]
        }
      ]
    },
    {
      "cell_type": "code",
      "source": [
        "#Question 7\n",
        "import numpy as np\n",
        "import scipy.stats as stats\n",
        "import matplotlib.pyplot as plt\n",
        "\n",
        "# Function to perform a paired sample T-test\n",
        "def paired_t_test(group1, group2, alpha=0.05):\n",
        "    # Calculate the sample means\n",
        "    mean1 = np.mean(group1)\n",
        "    mean2 = np.mean(group2)\n",
        "\n",
        "    # Perform the paired sample T-test\n",
        "    t_statistic, p_value = stats.ttest_rel(group1, group2)\n",
        "\n",
        "    # Determine the critical value for the given significance level\n",
        "    df = len(group1) - 1\n",
        "    critical_value = stats.t.ppf(1 - alpha / 2, df)\n",
        "\n",
        "    # Interpret the results\n",
        "    if np.abs(t_statistic) > critical_value:\n",
        "        result = \"Reject the null hypothesis\"\n",
        "    else:\n",
        "        result = \"Fail to reject the null hypothesis\"\n",
        "\n",
        "    return t_statistic, p_value, result, mean1, mean2\n",
        "\n",
        "# Generate sample data for paired groups (e.g., test scores before and after a course)\n",
        "np.random.seed(42)  # For reproducibility\n",
        "group1 = np.random.normal(loc=75, scale=10, size=30)  # Before treatment\n",
        "group2 = np.random.normal(loc=80, scale=10, size=30)  # After treatment\n",
        "\n",
        "# Perform the paired sample T-test\n",
        "t_statistic, p_value, result, mean1, mean2 = paired_t_test(group1, group2)\n",
        "\n",
        "# Display the results\n",
        "print(f\"Group 1 Data (Before): {group1}\")\n",
        "print(f\"Group 2 Data (After): {group2}\")\n",
        "print(f\"Group 1 Mean (Before): {mean1}\")\n",
        "print(f\"Group 2 Mean (After): {mean2}\")\n",
        "print(f\"T-Statistic: {t_statistic}\")\n",
        "print(f\"P-Value: {p_value}\")\n",
        "print(f\"Result: {result}\")\n",
        "\n",
        "# Visualization\n",
        "plt.figure(figsize=(10, 5))\n",
        "\n",
        "# Plot the data\n",
        "plt.plot(group1, 'o-', label='Before Treatment', color='blue')\n",
        "plt.plot(group2, 'o-', label='After Treatment', color='green')\n",
        "plt.axhline(y=mean1, color='blue', linestyle='--', label=f'Mean Before Treatment ({mean1:.2f})')\n",
        "plt.axhline(y=mean2, color='green', linestyle='--', label=f'Mean After Treatment ({mean2:.2f})')\n",
        "\n",
        "# Annotate the plot\n",
        "plt.title('Paired Sample T-test Comparison')\n",
        "plt.xlabel('Sample Index')\n",
        "plt.ylabel('Value')\n",
        "plt.legend()\n",
        "plt.show()\n"
      ],
      "metadata": {
        "id": "Po4OjWVkaZqV",
        "colab": {
          "base_uri": "https://localhost:8080/",
          "height": 747
        },
        "outputId": "5c5b1aa3-ea2e-4249-a4f6-6bc733903a47"
      },
      "execution_count": 3,
      "outputs": [
        {
          "output_type": "stream",
          "name": "stdout",
          "text": [
            "Group 1 Data (Before): [79.96714153 73.61735699 81.47688538 90.23029856 72.65846625 72.65863043\n",
            " 90.79212816 82.67434729 70.30525614 80.42560044 70.36582307 70.34270246\n",
            " 77.41962272 55.86719755 57.75082167 69.37712471 64.8716888  78.14247333\n",
            " 65.91975924 60.87696299 89.65648769 72.742237   75.67528205 60.75251814\n",
            " 69.55617275 76.1092259  63.49006423 78.75698018 68.9936131  72.0830625 ]\n",
            "Group 2 Data (After): [73.98293388 98.52278185 79.86502775 69.42289071 88.22544912 67.7915635\n",
            " 82.08863595 60.40329876 66.71813951 81.96861236 87.3846658  81.71368281\n",
            " 78.84351718 76.98896304 65.2147801  72.80155792 75.39361229 90.57122226\n",
            " 83.4361829  62.36959845 83.24083969 76.1491772  73.23078    86.11676289\n",
            " 90.30999522 89.31280119 71.60782477 76.90787624 83.31263431 89.75545127]\n",
            "Group 1 Mean (Before): 73.11853104148963\n",
            "Group 2 Mean (After): 78.78837529710057\n",
            "T-Statistic: -2.5261192733725397\n",
            "P-Value: 0.01724961542285924\n",
            "Result: Reject the null hypothesis\n"
          ]
        },
        {
          "output_type": "display_data",
          "data": {
            "text/plain": [
              "<Figure size 1000x500 with 1 Axes>"
            ],
            "image/png": "[encoded data removed]"
          },
          "metadata": {}
        }
      ]
    },
    {
      "cell_type": "code",
      "source": [
        "#Question 8\n",
        "import numpy as np\n",
        "import scipy.stats as stats\n",
        "\n",
        "# Generate sample data\n",
        "np.random.seed(42)  # For reproducibility\n",
        "sample1 = np.random.normal(loc=175, scale=10, size=30)  # Sample 1 with mean=175, std=10, size=30\n",
        "sample2 = np.random.normal(loc=180, scale=15, size=30)  # Sample 2 with mean=180, std=15, size=30\n",
        "\n",
        "# Population parameters for Z-test\n",
        "population_mean = 180\n",
        "population_std = 15\n",
        "\n",
        "# Function to perform a Z-test\n",
        "def z_test(sample_data, population_mean, population_std, alpha=0.05):\n",
        "    sample_mean = np.mean(sample_data)\n",
        "    sample_size = len(sample_data)\n",
        "    standard_error = population_std / np.sqrt(sample_size)\n",
        "    z_score = (sample_mean - population_mean) / standard_error\n",
        "    p_value = 2 * (1 - stats.norm.cdf(np.abs(z_score)))\n",
        "    critical_value = stats.norm.ppf(1 - alpha / 2)\n",
        "    result = \"Reject the null hypothesis\" if np.abs(z_score) > critical_value else \"Fail to reject the null hypothesis\"\n",
        "    return z_score, p_value, result\n",
        "\n",
        "# Function to perform an independent T-test\n",
        "def independent_t_test(group1, group2, alpha=0.05):\n",
        "    t_statistic, p_value = stats.ttest_ind(group1, group2, equal_var=False)\n",
        "    df = len(group1) + len(group2) - 2\n",
        "    critical_value = stats.t.ppf(1 - alpha / 2, df)\n",
        "    result = \"Reject the null hypothesis\" if np.abs(t_statistic) > critical_value else \"Fail to reject the null hypothesis\"\n",
        "    return t_statistic, p_value, result\n",
        "\n",
        "# Perform the Z-test on sample1\n",
        "z_score, p_value_z, result_z = z_test(sample1, population_mean, population_std)\n",
        "\n",
        "# Perform the independent T-test on sample1 and sample2\n",
        "t_statistic, p_value_t, result_t = independent_t_test(sample1, sample2)\n",
        "\n",
        "# Display the results\n",
        "print(f\"Z-Test Results:\")\n",
        "print(f\"Sample Mean: {np.mean(sample1)}\")\n",
        "print(f\"Z-Score: {z_score}\")\n",
        "print(f\"P-Value: {p_value_z}\")\n",
        "print(f\"Result: {result_z}\")\n",
        "print(\"\\n\")\n",
        "\n",
        "print(f\"Independent T-Test Results:\")\n",
        "print(f\"Sample 1 Mean: {np.mean(sample1)}\")\n",
        "print(f\"Sample 2 Mean: {np.mean(sample2)}\")\n",
        "print(f\"T-Statistic: {t_statistic}\")\n",
        "print(f\"P-Value: {p_value_t}\")\n",
        "print(f\"Result: {result_t}\")\n"
      ],
      "metadata": {
        "id": "Urg52Z86aZeq",
        "colab": {
          "base_uri": "https://localhost:8080/"
        },
        "outputId": "bbe33dff-f3d9-4474-ebe1-794664e24d1c"
      },
      "execution_count": 4,
      "outputs": [
        {
          "output_type": "stream",
          "name": "stdout",
          "text": [
            "Z-Test Results:\n",
            "Sample Mean: 173.1185310414896\n",
            "Z-Score: -2.512757184898484\n",
            "P-Value: 0.011979175380712359\n",
            "Result: Reject the null hypothesis\n",
            "\n",
            "\n",
            "Independent T-Test Results:\n",
            "Sample 1 Mean: 173.1185310414896\n",
            "Sample 2 Mean: 178.18256294565086\n",
            "T-Statistic: -1.6693647099857776\n",
            "P-Value: 0.10135306603926282\n",
            "Result: Fail to reject the null hypothesis\n"
          ]
        }
      ]
    },
    {
      "cell_type": "code",
      "source": [
        "#Question 9\n",
        "import numpy as np\n",
        "import scipy.stats as stats\n",
        "\n",
        "# Function to calculate the confidence interval for a sample mean\n",
        "def confidence_interval(sample_data, confidence_level=0.95):\n",
        "    # Calculate the sample mean\n",
        "    sample_mean = np.mean(sample_data)\n",
        "\n",
        "    # Calculate the sample standard deviation\n",
        "    sample_std = np.std(sample_data, ddof=1)\n",
        "\n",
        "    # Calculate the sample size\n",
        "    sample_size = len(sample_data)\n",
        "\n",
        "    # Calculate the standard error\n",
        "    standard_error = sample_std / np.sqrt(sample_size)\n",
        "\n",
        "    # Determine the critical value (Z-score or t-score) for the given confidence level\n",
        "    if sample_size > 30:\n",
        "        critical_value = stats.norm.ppf((1 + confidence_level) / 2)\n",
        "    else:\n",
        "        critical_value = stats.t.ppf((1 + confidence_level) / 2, df=sample_size - 1)\n",
        "\n",
        "    # Calculate the margin of error\n",
        "    margin_of_error = critical_value * standard_error\n",
        "\n",
        "    # Calculate the confidence interval\n",
        "    lower_bound = sample_mean - margin_of_error\n",
        "    upper_bound = sample_mean + margin_of_error\n",
        "\n",
        "    return lower_bound, upper_bound\n",
        "\n",
        "# Example usage\n",
        "np.random.seed(42)  # For reproducibility\n",
        "sample_data = np.random.normal(loc=100, scale=15, size=20)  # Simulate data with mean=100, std=15, size=20\n",
        "confidence_level = 0.95\n",
        "\n",
        "lower_bound, upper_bound = confidence_interval(sample_data, confidence_level)\n",
        "\n",
        "print(f\"Sample Data: {sample_data}\")\n",
        "print(f\"Sample Mean: {np.mean(sample_data)}\")\n",
        "print(f\"Confidence Interval ({confidence_level*100}%): [{lower_bound}, {upper_bound}]\")\n"
      ],
      "metadata": {
        "id": "7JD_wYDnaZR1",
        "colab": {
          "base_uri": "https://localhost:8080/"
        },
        "outputId": "aac83d58-7b0e-464c-e5d6-1f10deec68bd"
      },
      "execution_count": 5,
      "outputs": [
        {
          "output_type": "stream",
          "name": "stdout",
          "text": [
            "Sample Data: [107.4507123   97.92603548 109.71532807 122.84544785  96.48769938\n",
            "  96.48794565 123.68819223 111.51152094  92.95788421 108.13840065\n",
            "  93.04873461  93.0140537  103.62943407  71.30079633  74.12623251\n",
            "  91.56568706  84.80753319 104.71370999  86.37963887  78.81544448]\n",
            "Sample Mean: 97.43052157837256\n",
            "Confidence Interval (95.0%): [90.69091460128213, 104.170128555463]\n"
          ]
        }
      ]
    },
    {
      "cell_type": "code",
      "source": [
        "#Question 10\n",
        "import numpy as np\n",
        "import scipy.stats as stats\n",
        "\n",
        "# Function to calculate the margin of error\n",
        "def calculate_margin_of_error(sample_data, confidence_level=0.95):\n",
        "    # Calculate the sample mean\n",
        "    sample_mean = np.mean(sample_data)\n",
        "\n",
        "    # Calculate the sample standard deviation\n",
        "    sample_std = np.std(sample_data, ddof=1)\n",
        "\n",
        "    # Calculate the sample size\n",
        "    sample_size = len(sample_data)\n",
        "\n",
        "    # Calculate the standard error\n",
        "    standard_error = sample_std / np.sqrt(sample_size)\n",
        "\n",
        "    # Determine the critical value (Z-score or t-score) for the given confidence level\n",
        "    if sample_size > 30:\n",
        "        critical_value = stats.norm.ppf((1 + confidence_level) / 2)\n",
        "    else:\n",
        "        critical_value = stats.t.ppf((1 + confidence_level) / 2, df=sample_size - 1)\n",
        "\n",
        "    # Calculate the margin of error\n",
        "    margin_of_error = critical_value * standard_error\n",
        "\n",
        "    return margin_of_error\n",
        "\n",
        "# Example usage\n",
        "np.random.seed(42)  # For reproducibility\n",
        "sample_data = np.random.normal(loc=100, scale=15, size=20)  # Simulate data with mean=100, std=15, size=20\n",
        "confidence_level = 0.95\n",
        "\n",
        "margin_of_error = calculate_margin_of_error(sample_data, confidence_level)\n",
        "\n",
        "print(f\"Sample Data: {sample_data}\")\n",
        "print(f\"Sample Mean: {np.mean(sample_data)}\")\n",
        "print(f\"Margin of Error ({confidence_level*100}% Confidence Level): {margin_of_error}\")\n"
      ],
      "metadata": {
        "id": "xdU3yscZaZF4",
        "colab": {
          "base_uri": "https://localhost:8080/"
        },
        "outputId": "2ae841e0-c540-4ceb-bfe1-09f99c4edcd9"
      },
      "execution_count": 6,
      "outputs": [
        {
          "output_type": "stream",
          "name": "stdout",
          "text": [
            "Sample Data: [107.4507123   97.92603548 109.71532807 122.84544785  96.48769938\n",
            "  96.48794565 123.68819223 111.51152094  92.95788421 108.13840065\n",
            "  93.04873461  93.0140537  103.62943407  71.30079633  74.12623251\n",
            "  91.56568706  84.80753319 104.71370999  86.37963887  78.81544448]\n",
            "Sample Mean: 97.43052157837256\n",
            "Margin of Error (95.0% Confidence Level): 6.739606977090429\n"
          ]
        }
      ]
    },
    {
      "cell_type": "code",
      "source": [
        "#Question 11\n",
        "# Given probabilities\n",
        "P_Disease = 0.01\n",
        "P_No_Disease = 1 - P_Disease\n",
        "P_Positive_Test_given_Disease = 0.99\n",
        "P_Positive_Test_given_No_Disease = 0.05\n",
        "\n",
        "# Calculate the marginal likelihood P(Positive Test)\n",
        "P_Positive_Test = (P_Positive_Test_given_Disease * P_Disease) + (P_Positive_Test_given_No_Disease * P_No_Disease)\n",
        "\n",
        "# Calculate the posterior probability P(Disease|Positive Test)\n",
        "P_Disease_given_Positive_Test = (P_Positive_Test_given_Disease * P_Disease) / P_Positive_Test\n",
        "\n",
        "# Display the results\n",
        "print(f\"Prior Probability of Disease (P(Disease)): {P_Disease}\")\n",
        "print(f\"Likelihood (P(Positive Test | Disease)): {P_Positive_Test_given_Disease}\")\n",
        "print(f\"Marginal Likelihood (P(Positive Test)): {P_Positive_Test}\")\n",
        "print(f\"Posterior Probability of Disease given Positive Test (P(Disease | Positive Test)): {P_Disease_given_Positive_Test:.4f}\")\n"
      ],
      "metadata": {
        "id": "IkFALmNtaY55",
        "colab": {
          "base_uri": "https://localhost:8080/"
        },
        "outputId": "a58d1211-27dd-46e2-d7ae-0d854f4df8f0"
      },
      "execution_count": 7,
      "outputs": [
        {
          "output_type": "stream",
          "name": "stdout",
          "text": [
            "Prior Probability of Disease (P(Disease)): 0.01\n",
            "Likelihood (P(Positive Test | Disease)): 0.99\n",
            "Marginal Likelihood (P(Positive Test)): 0.0594\n",
            "Posterior Probability of Disease given Positive Test (P(Disease | Positive Test)): 0.1667\n"
          ]
        }
      ]
    },
    {
      "cell_type": "markdown",
      "source": [
        "##Explanation of the Process\n",
        "Define Given Probabilities:\n",
        "\n",
        "Prior probability (\n",
        "𝑃\n",
        "(\n",
        "Disease\n",
        ")\n",
        ").\n",
        "\n",
        "Likelihood (\n",
        "𝑃\n",
        "(\n",
        "Positive Test\n",
        "∣\n",
        "Disease\n",
        ")\n",
        ").\n",
        "\n",
        "Likelihood (\n",
        "𝑃\n",
        "(\n",
        "Positive Test\n",
        "∣\n",
        "No Disease\n",
        ")\n",
        ").\n",
        "\n",
        "Complementary prior probability (\n",
        "𝑃\n",
        "(\n",
        "No Disease\n",
        ")\n",
        ").\n",
        "\n",
        "Calculate Marginal Likelihood:\n",
        "\n",
        "The total probability of observing the positive test result, considering both the cases where the person has the disease and does not have the disease.\n",
        "\n",
        "Calculate Posterior Probability:\n",
        "\n",
        "Using Bayes' Theorem, update the prior probability to get the posterior probability, given the positive test result.\n",
        "\n",
        "**Significance**\n",
        "Bayesian inference allows us to update our beliefs about a hypothesis based on new evidence. It provides a coherent and flexible framework for incorporating prior knowledge and observational data, making it a powerful tool for various applications, including medical diagnosis, machine learning, and decision-making."
      ],
      "metadata": {
        "id": "Q4jNuXyKZo-7"
      }
    },
    {
      "cell_type": "code",
      "source": [
        "#Question 12\n",
        "import numpy as np\n",
        "import scipy.stats as stats\n",
        "\n",
        "# Create a contingency table\n",
        "# Rows: Gender (Male, Female)\n",
        "# Columns: Preference (Like, Dislike)\n",
        "# Example data\n",
        "data = np.array([[30, 10],  # Male\n",
        "                 [10, 50]])  # Female\n",
        "\n",
        "# Perform the Chi-square test for independence\n",
        "chi2_stat, p_value, dof, expected = stats.chi2_contingency(data)\n",
        "\n",
        "# Display the results\n",
        "print(f\"Chi-Square Statistic: {chi2_stat}\")\n",
        "print(f\"P-Value: {p_value}\")\n",
        "print(f\"Degrees of Freedom: {dof}\")\n",
        "print(\"Expected Frequencies:\")\n",
        "print(expected)\n",
        "\n",
        "# Interpret the results\n",
        "alpha = 0.05\n",
        "if p_value < alpha:\n",
        "    result = \"Reject the null hypothesis - There is a significant relationship between gender and product preference.\"\n",
        "else:\n",
        "    result = \"Fail to reject the null hypothesis - There is no significant relationship between gender and product preference.\"\n",
        "\n",
        "print(f\"Result: {result}\")\n"
      ],
      "metadata": {
        "id": "JYAv1BCJaYsT",
        "colab": {
          "base_uri": "https://localhost:8080/"
        },
        "outputId": "872350a6-4d49-4379-ddb2-afd7164080a9"
      },
      "execution_count": 8,
      "outputs": [
        {
          "output_type": "stream",
          "name": "stdout",
          "text": [
            "Chi-Square Statistic: 31.640625\n",
            "P-Value: 1.855079746912165e-08\n",
            "Degrees of Freedom: 1\n",
            "Expected Frequencies:\n",
            "[[16. 24.]\n",
            " [24. 36.]]\n",
            "Result: Reject the null hypothesis - There is a significant relationship between gender and product preference.\n"
          ]
        }
      ]
    },
    {
      "cell_type": "code",
      "source": [
        "#Question 13\n",
        "import numpy as np\n",
        "\n",
        "# Function to calculate the expected frequencies\n",
        "def calculate_expected_frequencies(observed_data):\n",
        "    # Convert observed data to a numpy array\n",
        "    observed_data = np.array(observed_data)\n",
        "\n",
        "    # Calculate the row sums and column sums\n",
        "    row_sums = np.sum(observed_data, axis=1)\n",
        "    col_sums = np.sum(observed_data, axis=0)\n",
        "\n",
        "    # Calculate the grand total\n",
        "    grand_total = np.sum(observed_data)\n",
        "\n",
        "    # Calculate the expected frequencies\n",
        "    expected_frequencies = np.outer(row_sums, col_sums) / grand_total\n",
        "\n",
        "    return expected_frequencies\n",
        "\n",
        "# Example usage\n",
        "# Observed data\n",
        "observed_data = [\n",
        "    [30, 10],  # Row 1\n",
        "    [10, 50]   # Row 2\n",
        "]\n",
        "\n",
        "# Calculate the expected frequencies\n",
        "expected_frequencies = calculate_expected_frequencies(observed_data)\n",
        "\n",
        "# Display the results\n",
        "print(\"Observed Data:\")\n",
        "print(np.array(observed_data))\n",
        "print(\"Expected Frequencies:\")\n",
        "print(expected_frequencies)\n"
      ],
      "metadata": {
        "id": "dOin_j_haYha",
        "colab": {
          "base_uri": "https://localhost:8080/"
        },
        "outputId": "8f00304c-f645-454d-9eac-abf560327231"
      },
      "execution_count": 9,
      "outputs": [
        {
          "output_type": "stream",
          "name": "stdout",
          "text": [
            "Observed Data:\n",
            "[[30 10]\n",
            " [10 50]]\n",
            "Expected Frequencies:\n",
            "[[16. 24.]\n",
            " [24. 36.]]\n"
          ]
        }
      ]
    },
    {
      "cell_type": "code",
      "source": [
        "#Question 14\n",
        "import numpy as np\n",
        "import scipy.stats as stats\n",
        "\n",
        "# Observed data\n",
        "observed_data = np.array([50, 30, 20])\n",
        "\n",
        "# Expected data (based on a given distribution, e.g., uniform distribution)\n",
        "expected_data = np.array([40, 40, 20])\n",
        "\n",
        "# Perform the Chi-square goodness-of-fit test\n",
        "chi2_stat, p_value = stats.chisquare(f_obs=observed_data, f_exp=expected_data)\n",
        "\n",
        "# Display the results\n",
        "print(f\"Observed Data: {observed_data}\")\n",
        "print(f\"Expected Data: {expected_data}\")\n",
        "print(f\"Chi-Square Statistic: {chi2_stat}\")\n",
        "print(f\"P-Value: {p_value}\")\n",
        "\n",
        "# Interpret the results\n",
        "alpha = 0.05\n",
        "if p_value < alpha:\n",
        "    result = \"Reject the null hypothesis - The observed data does not fit the expected distribution.\"\n",
        "else:\n",
        "    result = \"Fail to reject the null hypothesis - The observed data fits the expected distribution.\"\n",
        "\n",
        "print(f\"Result: {result}\")\n"
      ],
      "metadata": {
        "id": "FCYmHwFwaYUs",
        "colab": {
          "base_uri": "https://localhost:8080/"
        },
        "outputId": "f8fb7755-73bb-419c-aa10-c701c59a5543"
      },
      "execution_count": 10,
      "outputs": [
        {
          "output_type": "stream",
          "name": "stdout",
          "text": [
            "Observed Data: [50 30 20]\n",
            "Expected Data: [40 40 20]\n",
            "Chi-Square Statistic: 5.0\n",
            "P-Value: 0.0820849986238988\n",
            "Result: Fail to reject the null hypothesis - The observed data fits the expected distribution.\n"
          ]
        }
      ]
    },
    {
      "cell_type": "code",
      "source": [
        "#Question 15\n",
        "import numpy as np\n",
        "import matplotlib.pyplot as plt\n",
        "import scipy.stats as stats\n",
        "\n",
        "# Function to simulate and visualize Chi-square distribution\n",
        "def simulate_chi_square(df, num_samples=10000):\n",
        "    # Generate random samples from Chi-square distribution\n",
        "    chi_square_samples = np.random.chisquare(df, num_samples)\n",
        "\n",
        "    # Plot the histogram of the samples\n",
        "    plt.hist(chi_square_samples, bins=50, density=True, alpha=0.7, color='blue', label='Chi-square samples')\n",
        "\n",
        "    # Plot the theoretical Chi-square distribution\n",
        "    x = np.linspace(0, np.max(chi_square_samples), 1000)\n",
        "    y = stats.chi2.pdf(x, df)\n",
        "    plt.plot(x, y, 'r--', label='Theoretical Chi-square distribution')\n",
        "\n",
        "    # Add labels and title\n",
        "    plt.xlabel('Value')\n",
        "    plt.ylabel('Density')\n",
        "    plt.title(f'Chi-square Distribution (df={df})')\n",
        "    plt.legend()\n",
        "\n",
        "    # Show the plot\n",
        "    plt.show()\n",
        "\n",
        "# Example usage\n",
        "degrees_of_freedom = 4\n",
        "simulate_chi_square(degrees_of_freedom)\n"
      ],
      "metadata": {
        "id": "g2R4ChQpaYKB",
        "colab": {
          "base_uri": "https://localhost:8080/",
          "height": 472
        },
        "outputId": "948201ae-8b7c-455d-ead5-8135212fb995"
      },
      "execution_count": 11,
      "outputs": [
        {
          "output_type": "display_data",
          "data": {
            "text/plain": [
              "<Figure size 640x480 with 1 Axes>"
            ],
            "image/png": "[encoded data removed]"
          },
          "metadata": {}
        }
      ]
    },
    {
      "cell_type": "markdown",
      "source": [
        "##Characteristics of the Chi-square Distribution\n",
        "**Shape**: The Chi-square distribution is positively skewed and its shape depends on the degrees of freedom. As the degrees of freedom increase, the distribution becomes more symmetrical and approaches a normal distribution.\n",
        "\n",
        "**Mean and Variance**: The mean of the Chi-square distribution is equal to the degrees of freedom (\n",
        "𝑑\n",
        "𝑓\n",
        "), and the variance is\n",
        "2\n",
        "×\n",
        "𝑑\n",
        "𝑓\n",
        ".\n",
        "\n",
        "**Non-negative Values**: The Chi-square distribution is defined only for non-negative values.\n",
        "\n",
        "**Applications**: The Chi-square distribution is widely used in hypothesis testing, especially in tests of independence (Chi-square test for independence) and goodness of fit (Chi-square goodness of fit test)."
      ],
      "metadata": {
        "id": "wuT6fY_1mLxY"
      }
    },
    {
      "cell_type": "code",
      "source": [
        "#Question 16\n",
        "import numpy as np\n",
        "import scipy.stats as stats\n",
        "\n",
        "# Generate random samples\n",
        "np.random.seed(42)  # For reproducibility\n",
        "sample1 = np.random.normal(loc=100, scale=15, size=30)  # Sample 1 with mean=100, std=15, size=30\n",
        "sample2 = np.random.normal(loc=105, scale=20, size=30)  # Sample 2 with mean=105, std=20, size=30\n",
        "\n",
        "# Calculate the variances of the samples\n",
        "variance1 = np.var(sample1, ddof=1)\n",
        "variance2 = np.var(sample2, ddof=1)\n",
        "\n",
        "# Perform the F-test\n",
        "f_statistic = variance1 / variance2\n",
        "df1 = len(sample1) - 1\n",
        "df2 = len(sample2) - 1\n",
        "p_value = 1 - stats.f.cdf(f_statistic, df1, df2)\n",
        "\n",
        "# Two-tailed p-value\n",
        "p_value_two_tailed = 2 * min(p_value, 1 - p_value)\n",
        "\n",
        "# Display the results\n",
        "print(f\"Sample 1 Variance: {variance1}\")\n",
        "print(f\"Sample 2 Variance: {variance2}\")\n",
        "print(f\"F-Statistic: {f_statistic}\")\n",
        "print(f\"P-Value (two-tailed): {p_value_two_tailed}\")\n",
        "\n",
        "# Interpret the results\n",
        "alpha = 0.05\n",
        "if p_value_two_tailed < alpha:\n",
        "    result = \"Reject the null hypothesis - The variances are significantly different.\"\n",
        "else:\n",
        "    result = \"Fail to reject the null hypothesis - The variances are not significantly different.\"\n",
        "\n",
        "print(f\"Result: {result}\")\n"
      ],
      "metadata": {
        "id": "z1h_j61VaX-B",
        "colab": {
          "base_uri": "https://localhost:8080/"
        },
        "outputId": "f4c33c89-0940-48e1-e62d-4a9070d32203"
      },
      "execution_count": 12,
      "outputs": [
        {
          "output_type": "stream",
          "name": "stdout",
          "text": [
            "Sample 1 Variance: 182.2526031072716\n",
            "Sample 2 Variance: 346.7805211198994\n",
            "F-Statistic: 0.5255560563745094\n",
            "P-Value (two-tailed): 0.08858209761326563\n",
            "Result: Fail to reject the null hypothesis - The variances are not significantly different.\n"
          ]
        }
      ]
    },
    {
      "cell_type": "code",
      "source": [
        "#Question 17\n",
        "import numpy as np\n",
        "import scipy.stats as stats\n",
        "\n",
        "# Sample data for three groups\n",
        "group1 = [23, 25, 19, 30, 24]\n",
        "group2 = [27, 30, 22, 28, 29]\n",
        "group3 = [18, 20, 23, 22, 21]\n",
        "\n",
        "# Perform one-way ANOVA\n",
        "f_statistic, p_value = stats.f_oneway(group1, group2, group3)\n",
        "\n",
        "# Print the results\n",
        "print(\"F-statistic:\", f_statistic)\n",
        "print(\"p-value:\", p_value)\n",
        "\n",
        "# Interpretation of results\n",
        "alpha = 0.05\n",
        "if p_value < alpha:\n",
        "    print(\"Reject the null hypothesis: There is a significant difference between the group means.\")\n",
        "else:\n",
        "    print(\"Fail to reject the null hypothesis: There is no significant difference between the group means.\")\n"
      ],
      "metadata": {
        "id": "YGeGu7_SaXzV",
        "colab": {
          "base_uri": "https://localhost:8080/"
        },
        "outputId": "5aecb0c6-197a-43c8-bf96-5100a50a2707"
      },
      "execution_count": 13,
      "outputs": [
        {
          "output_type": "stream",
          "name": "stdout",
          "text": [
            "F-statistic: 5.2852233676975935\n",
            "p-value: 0.022586375577676742\n",
            "Reject the null hypothesis: There is a significant difference between the group means.\n"
          ]
        }
      ]
    },
    {
      "cell_type": "code",
      "source": [
        "#Question 18\n",
        "import numpy as np\n",
        "import scipy.stats as stats\n",
        "import matplotlib.pyplot as plt\n",
        "\n",
        "# Sample data for three groups\n",
        "group1 = [23, 25, 19, 30, 24]\n",
        "group2 = [27, 30, 22, 28, 29]\n",
        "group3 = [18, 20, 23, 22, 21]\n",
        "\n",
        "# Perform one-way ANOVA\n",
        "f_statistic, p_value = stats.f_oneway(group1, group2, group3)\n",
        "\n",
        "# Print the results\n",
        "print(\"F-statistic:\", f_statistic)\n",
        "print(\"p-value:\", p_value)\n",
        "\n",
        "# Interpretation of results\n",
        "alpha = 0.05\n",
        "if p_value < alpha:\n",
        "    print(\"Reject the null hypothesis: There is a significant difference between the group means.\")\n",
        "else:\n",
        "    print(\"Fail to reject the null hypothesis: There is no significant difference between the group means.\")\n",
        "\n",
        "# Plotting the results\n",
        "data = [group1, group2, group3]\n",
        "plt.boxplot(data, labels=['Group 1', 'Group 2', 'Group 3'])\n",
        "plt.title('Boxplot of Different Groups')\n",
        "plt.xlabel('Group')\n",
        "plt.ylabel('Values')\n",
        "plt.show()\n"
      ],
      "metadata": {
        "id": "LrSzXHPgaXno",
        "colab": {
          "base_uri": "https://localhost:8080/",
          "height": 579
        },
        "outputId": "fa39ada5-3288-4167-89eb-8122e98b0a04"
      },
      "execution_count": 14,
      "outputs": [
        {
          "output_type": "stream",
          "name": "stdout",
          "text": [
            "F-statistic: 5.2852233676975935\n",
            "p-value: 0.022586375577676742\n",
            "Reject the null hypothesis: There is a significant difference between the group means.\n"
          ]
        },
        {
          "output_type": "stream",
          "name": "stderr",
          "text": [
            "<ipython-input-14-7c4cb9ea1771>:27: MatplotlibDeprecationWarning: The 'labels' parameter of boxplot() has been renamed 'tick_labels' since Matplotlib 3.9; support for the old name will be dropped in 3.11.\n",
            "  plt.boxplot(data, labels=['Group 1', 'Group 2', 'Group 3'])\n"
          ]
        },
        {
          "output_type": "display_data",
          "data": {
            "text/plain": [
              "<Figure size 640x480 with 1 Axes>"
            ],
            "image/png": "[encoded data removed]"
          },
          "metadata": {}
        }
      ]
    },
    {
      "cell_type": "code",
      "source": [
        "#Question 19\n",
        "import numpy as np\n",
        "import scipy.stats as stats\n",
        "import matplotlib.pyplot as plt\n",
        "\n",
        "def check_anova_assumptions(*groups):\n",
        "    # Combine all groups\n",
        "    combined_data = np.concatenate(groups)\n",
        "\n",
        "    # Normality test\n",
        "    normality_results = []\n",
        "    for group in groups:\n",
        "        stat, p_value = stats.shapiro(group)\n",
        "        normality_results.append((stat, p_value))\n",
        "\n",
        "    # Print normality test results\n",
        "    for i, (stat, p_value) in enumerate(normality_results, 1):\n",
        "        print(f\"Group {i} Normality Test: Statistic={stat}, p-value={p_value}\")\n",
        "        if p_value < 0.05:\n",
        "            print(f\"Group {i} fails the normality test (p < 0.05).\")\n",
        "        else:\n",
        "            print(f\"Group {i} passes the normality test (p >= 0.05).\")\n",
        "\n",
        "    # Homogeneity of variances test (Levene's test)\n",
        "    stat, p_value = stats.levene(*groups)\n",
        "    print(f\"Levene's Test for Equal Variances: Statistic={stat}, p-value={p_value}\")\n",
        "    if p_value < 0.05:\n",
        "        print(\"Fail to meet the assumption of equal variances (p < 0.05).\")\n",
        "    else:\n",
        "        print(\"Meet the assumption of equal variances (p >= 0.05).\")\n",
        "\n",
        "    # Independence is usually ensured by proper experimental design.\n",
        "\n",
        "    # Boxplot to visualize the distributions\n",
        "    plt.boxplot(groups, labels=[f'Group {i+1}' for i in range(len(groups))])\n",
        "    plt.title('Boxplot of Different Groups')\n",
        "    plt.xlabel('Group')\n",
        "    plt.ylabel('Values')\n",
        "    plt.show()\n",
        "\n",
        "# Example usage\n",
        "group1 = [23, 25, 19, 30, 24]\n",
        "group2 = [27, 30, 22, 28, 29]\n",
        "group3 = [18, 20, 23, 22, 21]\n",
        "\n",
        "check_anova_assumptions(group1, group2, group3)\n"
      ],
      "metadata": {
        "id": "O5v5VXW2aXcv",
        "colab": {
          "base_uri": "https://localhost:8080/",
          "height": 666
        },
        "outputId": "11a9e124-4319-45b5-f53f-7f9e179bccf2"
      },
      "execution_count": 15,
      "outputs": [
        {
          "output_type": "stream",
          "name": "stdout",
          "text": [
            "Group 1 Normality Test: Statistic=0.9672383503121217, p-value=0.8572506429455469\n",
            "Group 1 passes the normality test (p >= 0.05).\n",
            "Group 2 Normality Test: Statistic=0.8669607110584259, p-value=0.2543338401775038\n",
            "Group 2 passes the normality test (p >= 0.05).\n",
            "Group 3 Normality Test: Statistic=0.9787161500642191, p-value=0.9276364233495382\n",
            "Group 3 passes the normality test (p >= 0.05).\n",
            "Levene's Test for Equal Variances: Statistic=0.3829787234042554, p-value=0.6898697810560003\n",
            "Meet the assumption of equal variances (p >= 0.05).\n"
          ]
        },
        {
          "output_type": "stream",
          "name": "stderr",
          "text": [
            "<ipython-input-15-7244c27e027b>:35: MatplotlibDeprecationWarning: The 'labels' parameter of boxplot() has been renamed 'tick_labels' since Matplotlib 3.9; support for the old name will be dropped in 3.11.\n",
            "  plt.boxplot(groups, labels=[f'Group {i+1}' for i in range(len(groups))])\n"
          ]
        },
        {
          "output_type": "display_data",
          "data": {
            "text/plain": [
              "<Figure size 640x480 with 1 Axes>"
            ],
            "image/png": "[encoded data removed]"
          },
          "metadata": {}
        }
      ]
    },
    {
      "cell_type": "code",
      "source": [
        "#Question 20\n",
        "import numpy as np\n",
        "import pandas as pd\n",
        "import statsmodels.api as sm\n",
        "from statsmodels.formula.api import ols\n",
        "import matplotlib.pyplot as plt\n",
        "import seaborn as sns\n",
        "\n",
        "# Sample data\n",
        "data = {\n",
        "    'Factor1': ['A', 'A', 'A', 'B', 'B', 'B', 'C', 'C', 'C'] * 3,\n",
        "    'Factor2': ['X', 'Y', 'Z'] * 9,\n",
        "    'Value': [23, 25, 27, 30, 28, 26, 22, 24, 20,\n",
        "              25, 28, 29, 27, 30, 28, 23, 22, 24,\n",
        "              20, 21, 19, 22, 24, 23, 21, 20, 22]\n",
        "}\n",
        "df = pd.DataFrame(data)\n",
        "\n",
        "# Perform two-way ANOVA\n",
        "model = ols('Value ~ C(Factor1) + C(Factor2) + C(Factor1):C(Factor2)', data=df).fit()\n",
        "anova_table = sm.stats.anova_lm(model, typ=2)\n",
        "\n",
        "# Print the results\n",
        "print(anova_table)\n",
        "\n",
        "# Visualization\n",
        "plt.figure(figsize=(10, 6))\n",
        "sns.pointplot(x='Factor1', y='Value', hue='Factor2', data=df, markers=[\"o\", \"s\", \"D\"], linestyles=[\"-\", \"--\", \"-.\"])\n",
        "plt.title('Interaction Plot for Factor1 and Factor2')\n",
        "plt.xlabel('Factor1')\n",
        "plt.ylabel('Value')\n",
        "plt.legend(title='Factor2')\n",
        "plt.show()\n"
      ],
      "metadata": {
        "id": "JilVqNwJaXSL",
        "colab": {
          "base_uri": "https://localhost:8080/",
          "height": 651
        },
        "outputId": "54b1208d-166d-4d6b-dec3-fd53bd63cc98"
      },
      "execution_count": 16,
      "outputs": [
        {
          "output_type": "stream",
          "name": "stdout",
          "text": [
            "                           sum_sq    df         F    PR(>F)\n",
            "C(Factor1)              88.962963   2.0  4.566540  0.024886\n",
            "C(Factor2)               4.518519   2.0  0.231939  0.795328\n",
            "C(Factor1):C(Factor2)    9.259259   4.0  0.237643  0.913382\n",
            "Residual               175.333333  18.0       NaN       NaN\n"
          ]
        },
        {
          "output_type": "display_data",
          "data": {
            "text/plain": [
              "<Figure size 1000x600 with 1 Axes>"
            ],
            "image/png": "[encoded data removed]"
          },
          "metadata": {}
        }
      ]
    },
    {
      "cell_type": "code",
      "source": [
        "#Question 21\n",
        "import numpy as np\n",
        "import matplotlib.pyplot as plt\n",
        "from scipy.stats import f\n",
        "\n",
        "# Parameters for the F-distribution\n",
        "dof1 = 5  # degrees of freedom for the numerator\n",
        "dof2 = 10  # degrees of freedom for the denominator\n",
        "\n",
        "# Generate the x values (F values)\n",
        "x = np.linspace(0, 5, 500)\n",
        "\n",
        "# Compute the F-distribution probability density function (PDF)\n",
        "pdf = f.pdf(x, dof1, dof2)\n",
        "\n",
        "# Plot the F-distribution\n",
        "plt.figure(figsize=(8, 6))\n",
        "plt.plot(x, pdf, 'b-', label=f'F-distribution (dof1={dof1}, dof2={dof2})')\n",
        "plt.fill_between(x, pdf, alpha=0.2, color='blue')\n",
        "plt.title('F-distribution')\n",
        "plt.xlabel('F-value')\n",
        "plt.ylabel('Probability Density')\n",
        "plt.legend()\n",
        "plt.grid()\n",
        "plt.show()\n"
      ],
      "metadata": {
        "id": "ke6eFKnfaXF-",
        "colab": {
          "base_uri": "https://localhost:8080/",
          "height": 564
        },
        "outputId": "b1c9168b-dc7f-4328-a600-d223a3d38e22"
      },
      "execution_count": 17,
      "outputs": [
        {
          "output_type": "display_data",
          "data": {
            "text/plain": [
              "<Figure size 800x600 with 1 Axes>"
            ],
            "image/png": "[encoded data removed]"
          },
          "metadata": {}
        }
      ]
    },
    {
      "cell_type": "code",
      "source": [
        "#Question 22\n",
        "import numpy as np\n",
        "import scipy.stats as stats\n",
        "import matplotlib.pyplot as plt\n",
        "\n",
        "# Sample data for three groups\n",
        "group1 = [23, 25, 19, 30, 24]\n",
        "group2 = [27, 30, 22, 28, 29]\n",
        "group3 = [18, 20, 23, 22, 21]\n",
        "\n",
        "# Perform one-way ANOVA\n",
        "f_statistic, p_value = stats.f_oneway(group1, group2, group3)\n",
        "\n",
        "# Print the results\n",
        "print(\"F-statistic:\", f_statistic)\n",
        "print(\"p-value:\", p_value)\n",
        "\n",
        "# Interpretation of results\n",
        "alpha = 0.05\n",
        "if p_value < alpha:\n",
        "    print(\"Reject the null hypothesis: There is a significant difference between the group means.\")\n",
        "else:\n",
        "    print(\"Fail to reject the null hypothesis: There is no significant difference between the group means.\")\n",
        "\n",
        "# Plotting the results with boxplots\n",
        "data = [group1, group2, group3]\n",
        "plt.boxplot(data, labels=['Group 1', 'Group 2', 'Group 3'])\n",
        "plt.title('Boxplot of Different Groups')\n",
        "plt.xlabel('Group')\n",
        "plt.ylabel('Values')\n",
        "plt.show()\n"
      ],
      "metadata": {
        "id": "KglDeCh-aW6i",
        "colab": {
          "base_uri": "https://localhost:8080/",
          "height": 579
        },
        "outputId": "b296f8ee-f6d0-4f41-dc0b-eddfaaeeb773"
      },
      "execution_count": 18,
      "outputs": [
        {
          "output_type": "stream",
          "name": "stdout",
          "text": [
            "F-statistic: 5.2852233676975935\n",
            "p-value: 0.022586375577676742\n",
            "Reject the null hypothesis: There is a significant difference between the group means.\n"
          ]
        },
        {
          "output_type": "stream",
          "name": "stderr",
          "text": [
            "<ipython-input-18-c04a999be674>:27: MatplotlibDeprecationWarning: The 'labels' parameter of boxplot() has been renamed 'tick_labels' since Matplotlib 3.9; support for the old name will be dropped in 3.11.\n",
            "  plt.boxplot(data, labels=['Group 1', 'Group 2', 'Group 3'])\n"
          ]
        },
        {
          "output_type": "display_data",
          "data": {
            "text/plain": [
              "<Figure size 640x480 with 1 Axes>"
            ],
            "image/png": "[encoded data removed]"
          },
          "metadata": {}
        }
      ]
    },
    {
      "cell_type": "code",
      "source": [
        "#Question 23\n",
        "import numpy as np\n",
        "import scipy.stats as stats\n",
        "\n",
        "# Set random seed for reproducibility\n",
        "np.random.seed(42)\n",
        "\n",
        "# Simulate random data from a normal distribution for two groups\n",
        "mean1, std1, size1 = 50, 10, 30\n",
        "mean2, std2, size2 = 55, 12, 30\n",
        "group1 = np.random.normal(mean1, std1, size1)\n",
        "group2 = np.random.normal(mean2, std2, size2)\n",
        "\n",
        "# Perform an independent two-sample t-test\n",
        "t_statistic, p_value = stats.ttest_ind(group1, group2)\n",
        "\n",
        "# Print the results\n",
        "print(\"Group 1 Mean:\", np.mean(group1))\n",
        "print(\"Group 2 Mean:\", np.mean(group2))\n",
        "print(\"T-statistic:\", t_statistic)\n",
        "print(\"p-value:\", p_value)\n",
        "\n",
        "# Interpretation of results\n",
        "alpha = 0.05\n",
        "if p_value < alpha:\n",
        "    print(\"Reject the null hypothesis: There is a significant difference between the group means.\")\n",
        "else:\n",
        "    print(\"Fail to reject the null hypothesis: There is no significant difference between the group means.\")\n"
      ],
      "metadata": {
        "id": "gVg3ZMrKaWvY",
        "colab": {
          "base_uri": "https://localhost:8080/"
        },
        "outputId": "9e71b33c-4586-456f-d577-1a2592b4b230"
      },
      "execution_count": 19,
      "outputs": [
        {
          "output_type": "stream",
          "name": "stdout",
          "text": [
            "Group 1 Mean: 48.118531041489625\n",
            "Group 2 Mean: 53.546050356520695\n",
            "T-statistic: -2.072024355950138\n",
            "p-value: 0.04271922499809626\n",
            "Reject the null hypothesis: There is a significant difference between the group means.\n"
          ]
        }
      ]
    },
    {
      "cell_type": "code",
      "source": [
        "#Question 24\n",
        "import numpy as np\n",
        "import scipy.stats as stats\n",
        "\n",
        "def chi_square_test_variance(sample, sigma_0_squared):\n",
        "    # Sample size and sample variance\n",
        "    n = len(sample)\n",
        "    s_squared = np.var(sample, ddof=1)\n",
        "\n",
        "    # Calculate the test statistic\n",
        "    chi2_statistic = (n - 1) * s_squared / sigma_0_squared\n",
        "\n",
        "    # Calculate the p-value\n",
        "    p_value = 2 * (1 - stats.chi2.cdf(np.abs(chi2_statistic), df=n-1))\n",
        "\n",
        "    return chi2_statistic, p_value\n",
        "\n",
        "# Example usage\n",
        "sample = [10.2, 9.8, 10.5, 10.1, 10.7, 9.9, 10.3, 10.4, 10.0, 10.6]\n",
        "sigma_0_squared = 0.25  # Hypothesized population variance\n",
        "\n",
        "chi2_statistic, p_value = chi_square_test_variance(sample, sigma_0_squared)\n",
        "\n",
        "print(\"Chi-square statistic:\", chi2_statistic)\n",
        "print(\"p-value:\", p_value)\n",
        "\n",
        "# Interpretation of results\n",
        "alpha = 0.05\n",
        "if p_value < alpha:\n",
        "    print(\"Reject the null hypothesis: The population variance is significantly different from the hypothesized variance.\")\n",
        "else:\n",
        "    print(\"Fail to reject the null hypothesis: The population variance is not significantly different from the hypothesized variance.\")\n",
        "\n"
      ],
      "metadata": {
        "id": "aesWF5VBaWko",
        "colab": {
          "base_uri": "https://localhost:8080/"
        },
        "outputId": "4ce57785-1ce3-4c25-b5ed-d684abc20416"
      },
      "execution_count": 22,
      "outputs": [
        {
          "output_type": "stream",
          "name": "stdout",
          "text": [
            "Chi-square statistic: 3.2999999999999945\n",
            "p-value: 1.9024093813681946\n",
            "Fail to reject the null hypothesis: The population variance is not significantly different from the hypothesized variance.\n"
          ]
        }
      ]
    },
    {
      "cell_type": "code",
      "source": [
        "#Question 25\n",
        "import numpy as np\n",
        "import scipy.stats as stats\n",
        "\n",
        "def z_test_proportions(success_a, size_a, success_b, size_b):\n",
        "    # Calculate the proportions\n",
        "    p1 = success_a / size_a\n",
        "    p2 = success_b / size_b\n",
        "\n",
        "    # Calculate the pooled proportion\n",
        "    p_pool = (success_a + success_b) / (size_a + size_b)\n",
        "\n",
        "    # Calculate the standard error\n",
        "    se = np.sqrt(p_pool * (1 - p_pool) * (1 / size_a + 1 / size_b))\n",
        "\n",
        "    # Calculate the Z statistic\n",
        "    z_stat = (p1 - p2) / se\n",
        "\n",
        "    # Calculate the p-value\n",
        "    p_value = 2 * (1 - stats.norm.cdf(np.abs(z_stat)))\n",
        "\n",
        "    return z_stat, p_value\n",
        "\n",
        "# Example usage\n",
        "success_a = 60\n",
        "size_a = 100\n",
        "success_b = 30\n",
        "size_b = 100\n",
        "\n",
        "z_stat, p_value = z_test_proportions(success_a, size_a, success_b, size_b)\n",
        "\n",
        "print(\"Z-statistic:\", z_stat)\n",
        "print(\"p-value:\", p_value)\n",
        "\n",
        "# Interpretation of results\n",
        "alpha = 0.05\n",
        "if p_value < alpha:\n",
        "    print(\"Reject the null hypothesis: There is a significant difference between the proportions.\")\n",
        "else:\n",
        "    print(\"Fail to reject the null hypothesis: There is no significant difference between the proportions.\")\n"
      ],
      "metadata": {
        "id": "_1wkOUfBaWYt",
        "colab": {
          "base_uri": "https://localhost:8080/"
        },
        "outputId": "52f03ffb-6bdb-4230-967a-5469d3eca417"
      },
      "execution_count": 21,
      "outputs": [
        {
          "output_type": "stream",
          "name": "stdout",
          "text": [
            "Z-statistic: 4.264014327112208\n",
            "p-value: 2.0078656124189465e-05\n",
            "Reject the null hypothesis: There is a significant difference between the proportions.\n"
          ]
        }
      ]
    },
    {
      "cell_type": "code",
      "source": [
        "#Question 26\n",
        "import numpy as np\n",
        "import scipy.stats as stats\n",
        "import matplotlib.pyplot as plt\n",
        "\n",
        "# Simulate random data for two groups\n",
        "np.random.seed(42)\n",
        "group1 = np.random.normal(loc=50, scale=10, size=30)\n",
        "group2 = np.random.normal(loc=55, scale=15, size=30)\n",
        "\n",
        "# Perform F-test to compare variances\n",
        "var1 = np.var(group1, ddof=1)\n",
        "var2 = np.var(group2, ddof=1)\n",
        "f_statistic = var1 / var2\n",
        "df1 = len(group1) - 1\n",
        "df2 = len(group2) - 1\n",
        "p_value = stats.f.cdf(f_statistic, df1, df2) * 2 if f_statistic < 1 else (1 - stats.f.cdf(f_statistic, df1, df2)) * 2\n",
        "\n",
        "# Print the results\n",
        "print(\"Group 1 Variance:\", var1)\n",
        "print(\"Group 2 Variance:\", var2)\n",
        "print(\"F-statistic:\", f_statistic)\n",
        "print(\"p-value:\", p_value)\n",
        "\n",
        "# Interpretation of results\n",
        "alpha = 0.05\n",
        "if p_value < alpha:\n",
        "    print(\"Reject the null hypothesis: There is a significant difference between the group variances.\")\n",
        "else:\n",
        "    print(\"Fail to reject the null hypothesis: There is no significant difference between the group variances.\")\n",
        "\n",
        "# Visualization\n",
        "data = [group1, group2]\n",
        "plt.boxplot(data, labels=['Group 1', 'Group 2'])\n",
        "plt.title('Boxplot of Different Groups')\n",
        "plt.xlabel('Group')\n",
        "plt.ylabel('Values')\n",
        "plt.show()\n"
      ],
      "metadata": {
        "id": "fefP22jyaWK1",
        "colab": {
          "base_uri": "https://localhost:8080/",
          "height": 614
        },
        "outputId": "e007cc1b-d5c7-4f91-af2a-373b75c7a3e4"
      },
      "execution_count": 23,
      "outputs": [
        {
          "output_type": "stream",
          "name": "stdout",
          "text": [
            "Group 1 Variance: 81.00115693656518\n",
            "Group 2 Variance: 195.06404312994343\n",
            "F-statistic: 0.41525416799961246\n",
            "p-value: 0.02087559545078621\n",
            "Reject the null hypothesis: There is a significant difference between the group variances.\n"
          ]
        },
        {
          "output_type": "stream",
          "name": "stderr",
          "text": [
            "<ipython-input-23-142da400af4b>:34: MatplotlibDeprecationWarning: The 'labels' parameter of boxplot() has been renamed 'tick_labels' since Matplotlib 3.9; support for the old name will be dropped in 3.11.\n",
            "  plt.boxplot(data, labels=['Group 1', 'Group 2'])\n"
          ]
        },
        {
          "output_type": "display_data",
          "data": {
            "text/plain": [
              "<Figure size 640x480 with 1 Axes>"
            ],
            "image/png": "[encoded data removed]"
          },
          "metadata": {}
        }
      ]
    },
    {
      "cell_type": "code",
      "source": [
        "#Question 27\n",
        "import numpy as np\n",
        "import scipy.stats as stats\n",
        "\n",
        "# Simulate observed data\n",
        "observed = np.array([50, 30, 20])\n",
        "print(\"Observed frequencies:\", observed)\n",
        "\n",
        "# Define expected frequencies (adjusted to match the sum of observed frequencies)\n",
        "total_observed = np.sum(observed)\n",
        "expected = np.array([33.33, 33.33, 33.33])\n",
        "expected = expected / np.sum(expected) * total_observed\n",
        "print(\"Expected frequencies (adjusted):\", expected)\n",
        "\n",
        "# Perform Chi-square test for goodness of fit\n",
        "chi2_statistic, p_value = stats.chisquare(observed, f_exp=expected)\n",
        "\n",
        "# Print the results\n",
        "print(\"Chi-square statistic:\", chi2_statistic)\n",
        "print(\"p-value:\", p_value)\n",
        "\n",
        "# Interpretation of results\n",
        "alpha = 0.05\n",
        "if p_value < alpha:\n",
        "    print(\"Reject the null hypothesis: The observed frequencies significantly differ from the expected frequencies.\")\n",
        "else:\n",
        "    print(\"Fail to reject the null hypothesis: The observed frequencies do not significantly differ from the expected frequencies.\")\n",
        "\n",
        "\n"
      ],
      "metadata": {
        "id": "Mk-8FtiBaV8w",
        "colab": {
          "base_uri": "https://localhost:8080/"
        },
        "outputId": "0fdcf9cb-7e0a-401d-8eb2-be1f23669d4a"
      },
      "execution_count": 26,
      "outputs": [
        {
          "output_type": "stream",
          "name": "stdout",
          "text": [
            "Observed frequencies: [50 30 20]\n",
            "Expected frequencies (adjusted): [33.33333333 33.33333333 33.33333333]\n",
            "Chi-square statistic: 14.000000000000002\n",
            "p-value: 0.0009118819655545153\n",
            "Reject the null hypothesis: The observed frequencies significantly differ from the expected frequencies.\n"
          ]
        }
      ]
    },
    {
      "cell_type": "code",
      "source": [],
      "metadata": {
        "id": "v6XVb8rGql57"
      },
      "execution_count": null,
      "outputs": []
    }
  ]
}
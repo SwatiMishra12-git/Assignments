{
  "nbformat": 4,
  "nbformat_minor": 0,
  "metadata": {
    "colab": {
      "provenance": [],
      "authorship_tag": "ABX9TyOg6/Je/2xLTxypNPn+bdUn"
    },
    "kernelspec": {
      "name": "python3",
      "display_name": "Python 3"
    },
    "language_info": {
      "name": "python"
    }
  },
  "cells": [
    {
      "cell_type": "code",
      "execution_count": null,
      "metadata": {
        "id": "K0SGaH-EgTz_"
      },
      "outputs": [],
      "source": [
        "#Theoritical\n",
        "#Question 1"
      ]
    },
    {
      "cell_type": "markdown",
      "source": [
        "\n",
        "### Linear Regression\n",
        "Linear Regression is used to predict continuous outcomes. It models the relationship between the dependent variable (Y) and one or more independent variables (X) by fitting a linear equation to observed data. The equation looks something like this:\n",
        "\n",
        "$$ Y = \\beta_0 + \\beta_1 X + \\epsilon $$\n",
        "\n",
        "Where:\n",
        "- \\( Y \\) is the dependent variable (the outcome).\n",
        "- \\( \\beta_0 \\) is the y-intercept.\n",
        "- \\( \\beta_1 \\) is the slope of the line.\n",
        "- \\( X \\) is the independent variable.\n",
        "- \\( \\epsilon \\) is the error term.\n",
        "\n",
        "### Logistic Regression\n",
        "Logistic Regression, on the other hand, is used to predict categorical outcomes, especially binary outcomes (0 or 1, True or False). It models the probability that a given input point belongs to a certain class. The key equation in Logistic Regression is the logistic function (or sigmoid function):\n",
        "\n",
        "$$ P(Y=1) = \\frac{1}{1 + e^{-(\\beta_0 + \\beta_1 X)}} $$\n",
        "\n",
        "Where:\n",
        "- \\( P(Y=1) \\) is the probability of the dependent variable being 1.\n",
        "- \\( e \\) is the base of the natural logarithm.\n",
        "- \\( \\beta_0 \\) and \\( \\beta_1 \\) are parameters of the model.\n",
        "- \\( X \\) is the independent variable.\n",
        "\n",
        "### Key Differences\n",
        "1. **Type of Outcome:**\n",
        "   - Linear Regression predicts a continuous outcome.\n",
        "   - Logistic Regression predicts a categorical outcome, usually binary.\n",
        "\n",
        "2. **Model Equation:**\n",
        "   - Linear Regression uses a linear equation.\n",
        "   - Logistic Regression uses a logistic function.\n",
        "\n",
        "3. **Range of Predicted Values:**\n",
        "   - Linear Regression predicts any real-valued number.\n",
        "   - Logistic Regression predicts probabilities between 0 and 1.\n",
        "\n",
        "4. **Error Distribution:**\n",
        "   - Linear Regression assumes that the residuals (errors) are normally distributed.\n",
        "   - Logistic Regression does not assume a normal distribution of the errors.\n"
      ],
      "metadata": {
        "id": "1mZznIHekarT"
      }
    },
    {
      "cell_type": "code",
      "source": [
        "#Question 2"
      ],
      "metadata": {
        "id": "6Oq7zJt9gtT3"
      },
      "execution_count": null,
      "outputs": []
    },
    {
      "cell_type": "markdown",
      "source": [
        "The mathematical equation for Logistic Regression is based on the logistic function, also known as the sigmoid function. The general form of the equation is:\n",
        "\n",
        "$$ P(Y=1|X) = \\frac{1}{1 + e^{-(\\beta_0 + \\beta_1 X)}} $$\n",
        "\n",
        "Here:\n",
        "- \\( P(Y=1|X) \\) is the probability of the dependent variable \\( Y \\) being 1, given the independent variable \\( X \\).\n",
        "- \\( e \\) is the base of the natural logarithm.\n",
        "- \\( \\beta_0 \\) is the intercept (also known as the bias).\n",
        "- \\( \\beta_1 \\) is the coefficient of the independent variable \\( X \\).\n",
        "\n",
        "In a more general form, if you have multiple independent variables \\( X_1, X_2, \\ldots, X_n \\), the equation becomes:\n",
        "\n",
        "$$ P(Y=1|X) = \\frac{1}{1 + e^{-(\\beta_0 + \\beta_1 X_1 + \\beta_2 X_2 + \\ldots + \\beta_n X_n)}} $$\n",
        "\n",
        "Where:\n",
        "- \\( \\beta_0, \\beta_1, \\beta_2, \\ldots, \\beta_n \\) are the parameters of the model.\n",
        "- \\( X_1, X_2, \\ldots, X_n \\) are the independent variables.\n",
        "\n",
        "This equation models the probability that the dependent variable \\( Y \\) equals 1 given the independent variables \\( X \\).\n"
      ],
      "metadata": {
        "id": "il7fuM0XkkZd"
      }
    },
    {
      "cell_type": "code",
      "source": [
        "#Question 3"
      ],
      "metadata": {
        "id": "-a6rdOeGgtH5"
      },
      "execution_count": null,
      "outputs": []
    },
    {
      "cell_type": "markdown",
      "source": [
        "The Sigmoid function is crucial in Logistic Regression for several reasons:\n",
        "\n",
        "### 1. **Probability Mapping:**\n",
        "   The Sigmoid function maps any real-valued number to a value between 0 and 1. This is perfect for Logistic Regression, as we are interested in predicting probabilities of binary outcomes (e.g., yes/no, 0/1).\n",
        "\n",
        "### 2. **Non-Linearity:**\n",
        "   The Sigmoid function introduces non-linearity to the model, allowing it to capture complex relationships between the independent variables and the probability of the outcome. Unlike Linear Regression, which can only fit straight lines, Logistic Regression with the Sigmoid function can model more complex decision boundaries.\n",
        "\n",
        "### 3. **S-Shaped Curve:**\n",
        "   The Sigmoid function produces an S-shaped curve, which is desirable in classification problems. This means that small changes in the input (independent variables) result in small changes in the output (probability) when the inputs are extreme (very large or very small), but more significant changes occur when the inputs are near the middle range. This property helps in handling outliers and extreme values.\n",
        "\n",
        "### 4. **Log-Odds:**\n",
        "   The Sigmoid function naturally connects to the concept of log-odds, which is a linear combination of the independent variables. This makes it easier to interpret the coefficients of the model in terms of the odds of the outcome occurring.\n",
        "\n",
        "Mathematically, the Sigmoid function is defined as:\n",
        "\n",
        "$$ \\sigma(z) = \\frac{1}{1 + e^{-z}} $$\n",
        "\n",
        "Where:\n",
        "- \\( \\sigma(z) \\) is the output of the Sigmoid function.\n",
        "- \\( z \\) is the linear combination of the independent variables and their coefficients, \\( z = \\beta_0 + \\beta_1 X_1 + \\beta_2 X_2 + \\ldots + \\beta_n X_n \\).\n",
        "\n",
        "Overall, the Sigmoid function transforms the linear model output into a probability, making it suitable for classification problems.\n"
      ],
      "metadata": {
        "id": "4Go93rlgkxep"
      }
    },
    {
      "cell_type": "code",
      "source": [
        "#Question 4"
      ],
      "metadata": {
        "id": "pv8NSrpRgs7s"
      },
      "execution_count": null,
      "outputs": []
    },
    {
      "cell_type": "markdown",
      "source": [
        "The cost function in Logistic Regression is used to measure the difference between the predicted probabilities and the actual outcomes. In Logistic Regression, we use the **logistic loss** (also known as **log-loss** or **cross-entropy loss**) as the cost function.\n",
        "\n",
        "### Cost Function for Logistic Regression\n",
        "The cost function for a single training example is given by:\n",
        "\n",
        "$$ J(\\theta) = - \\left( y \\log(h_\\theta(x)) + (1 - y) \\log(1 - h_\\theta(x)) \\right) $$\n",
        "\n",
        "Where:\n",
        "- \\( J(\\theta) \\) is the cost for the given parameters \\( \\theta \\).\n",
        "- \\( y \\) is the actual label (0 or 1).\n",
        "- \\( h_\\theta(x) \\) is the predicted probability that the label is 1, calculated by the logistic function:\n",
        "  $$ h_\\theta(x) = \\frac{1}{1 + e^{-\\theta^T x}} $$\n",
        "\n",
        "### Overall Cost Function\n",
        "For a dataset with \\( m \\) training examples, the overall cost function (also called the loss function) is the average cost over all training examples:\n",
        "\n",
        "$$ J(\\theta) = - \\frac{1}{m} \\sum_{i=1}^m \\left( y^{(i)} \\log(h_\\theta(x^{(i)})) + (1 - y^{(i)}) \\log(1 - h_\\theta(x^{(i)})) \\right) $$\n",
        "\n",
        "Where:\n",
        "- \\( m \\) is the number of training examples.\n",
        "- \\( y^{(i)} \\) is the actual label for the \\( i \\)-th training example.\n",
        "- \\( x^{(i)} \\) is the feature vector for the \\( i \\)-th training example.\n",
        "- \\( h_\\theta(x^{(i)}) \\) is the predicted probability for the \\( i \\)-th training example.\n",
        "\n",
        "The goal of Logistic Regression is to find the parameters \\( \\theta \\) that minimize this cost function. This is typically done using optimization algorithms like Gradient Descent.\n"
      ],
      "metadata": {
        "id": "HUn5oBjslAAA"
      }
    },
    {
      "cell_type": "code",
      "source": [
        "#Question 5"
      ],
      "metadata": {
        "id": "Hvo6jeEFgsus"
      },
      "execution_count": null,
      "outputs": []
    },
    {
      "cell_type": "markdown",
      "source": [
        "Regularization is a technique used in Logistic Regression (and other machine learning models) to prevent overfitting by adding a penalty term to the cost function. Overfitting occurs when a model learns the noise in the training data rather than the underlying pattern, leading to poor performance on new, unseen data.\n",
        "\n",
        "### Types of Regularization\n",
        "\n",
        "1. **L1 Regularization (Lasso):**\n",
        "   L1 regularization adds the absolute value of the coefficients to the cost function. The modified cost function for L1 regularization is:\n",
        "\n",
        "   $$ J(\\theta) = - \\frac{1}{m} \\sum_{i=1}^m \\left( y^{(i)} \\log(h_\\theta(x^{(i)})) + (1 - y^{(i)}) \\log(1 - h_\\theta(x^{(i)})) \\right) + \\lambda \\sum_{j=1}^n |\\theta_j| $$\n",
        "\n",
        "   Where:\n",
        "   - \\( \\lambda \\) is the regularization parameter that controls the strength of the penalty.\n",
        "   - \\( \\sum_{j=1}^n |\\theta_j| \\) is the sum of the absolute values of the coefficients.\n",
        "\n",
        "2. **L2 Regularization (Ridge):**\n",
        "   L2 regularization adds the square of the coefficients to the cost function. The modified cost function for L2 regularization is:\n",
        "\n",
        "   $$ J(\\theta) = - \\frac{1}{m} \\sum_{i=1}^m \\left( y^{(i)} \\log(h_\\theta(x^{(i)})) + (1 - y^{(i)}) \\log(1 - h_\\theta(x^{(i)})) \\right) + \\lambda \\sum_{j=1}^n \\theta_j^2 $$\n",
        "\n",
        "   Where:\n",
        "   - \\( \\lambda \\) is the regularization parameter that controls the strength of the penalty.\n",
        "   - \\( \\sum_{j=1}^n \\theta_j^2 \\) is the sum of the squares of the coefficients.\n",
        "\n",
        "### Why Regularization is Needed\n",
        "\n",
        "1. **Prevents Overfitting:**\n",
        "   Regularization penalizes large coefficients, effectively reducing the model's complexity. This helps the model generalize better to new data rather than overfitting to the training data.\n",
        "\n",
        "2. **Feature Selection (L1 Regularization):**\n",
        "   L1 regularization can drive some coefficients to zero, effectively performing feature selection by removing less important features from the model.\n",
        "\n",
        "3. **Stability:**\n",
        "   Regularization improves the stability and robustness of the model by discouraging large coefficients that can make the model sensitive to small changes in the data.\n",
        "\n",
        "4. **Handles Multicollinearity:**\n",
        "   L2 regularization is particularly effective in dealing with multicollinearity (highly correlated independent variables) by shrinking the coefficients, which can help improve model performance.\n",
        "\n",
        "By adding a regularization term to the cost function, we can achieve a balance between fitting the training data well and maintaining the model's ability to generalize to new data.\n"
      ],
      "metadata": {
        "id": "DObFH3LElkN9"
      }
    },
    {
      "cell_type": "code",
      "source": [
        "#Question 6"
      ],
      "metadata": {
        "id": "ulb8NVWSgsiA"
      },
      "execution_count": null,
      "outputs": []
    },
    {
      "cell_type": "markdown",
      "source": [
        "\n",
        "### 1. **Lasso Regression (L1 Regularization)**\n",
        "Lasso Regression, or Least Absolute Shrinkage and Selection Operator, adds the absolute value of the coefficients as a penalty to the cost function. This type of regularization can shrink some coefficients to zero, effectively performing feature selection.\n",
        "\n",
        "- **Cost Function:**\n",
        "  $$ J(\\theta) = \\frac{1}{2m} \\sum_{i=1}^m (y^{(i)} - h_\\theta(x^{(i)}))^2 + \\lambda \\sum_{j=1}^n |\\theta_j| $$\n",
        "\n",
        "- **Key Characteristics:**\n",
        "  - Can produce sparse models with fewer variables by driving some coefficients to zero.\n",
        "  - Useful when you have a lot of features and need feature selection.\n",
        "  - Can handle multicollinearity by selecting one among highly correlated variables.\n",
        "\n",
        "### 2. **Ridge Regression (L2 Regularization)**\n",
        "Ridge Regression adds the square of the coefficients as a penalty to the cost function. This type of regularization helps to shrink coefficients but does not set any coefficients to zero.\n",
        "\n",
        "- **Cost Function:**\n",
        "  $$ J(\\theta) = \\frac{1}{2m} \\sum_{i=1}^m (y^{(i)} - h_\\theta(x^{(i)}))^2 + \\lambda \\sum_{j=1}^n \\theta_j^2 $$\n",
        "\n",
        "- **Key Characteristics:**\n",
        "  - Shrinks coefficients but does not eliminate any.\n",
        "  - Useful when you have multicollinearity and want to regularize all coefficients.\n",
        "  - Does not perform feature selection but stabilizes the coefficients.\n",
        "\n",
        "### 3. **Elastic Net Regression**\n",
        "Elastic Net Regression combines both L1 and L2 regularization. It adds both the absolute value and the square of the coefficients as penalties to the cost function. This allows it to take advantage of both Lasso and Ridge regression properties.\n",
        "\n",
        "- **Cost Function:**\n",
        "  $$ J(\\theta) = \\frac{1}{2m} \\sum_{i=1}^m (y^{(i)} - h_\\theta(x^{(i)}))^2 + \\lambda_1 \\sum_{j=1}^n |\\theta_j| + \\lambda_2 \\sum_{j=1}^n \\theta_j^2 $$\n",
        "\n",
        "- **Key Characteristics:**\n",
        "  - Can produce sparse models like Lasso by driving some coefficients to zero.\n",
        "  - Regularizes coefficients like Ridge to handle multicollinearity.\n",
        "  - Provides a balance between Lasso and Ridge by tuning parameters \\(\\lambda_1\\) and \\(\\lambda_2\\).\n",
        "\n",
        "### Summary Table\n",
        "\n",
        "| **Type**          | **Penalty**                   | **Feature Selection** | **Multicollinearity**     |\n",
        "|-------------------|-------------------------------|-----------------------|---------------------------|\n",
        "| **Lasso**         | L1 (Absolute values)          | Yes                   | Selects one among correlated variables |\n",
        "| **Ridge**         | L2 (Squares)                  | No                    | Regularizes all coefficients          |\n",
        "| **Elastic Net**   | L1 + L2 (Absolute values + Squares) | Yes                   | Combines properties of Lasso and Ridge |\n",
        "\n",
        "Each of these regression techniques has its own use cases and advantages. The choice depends on the specific characteristics of your dataset and the goals of your modeling.\n",
        "\n"
      ],
      "metadata": {
        "id": "exURkjRxlyXV"
      }
    },
    {
      "cell_type": "code",
      "source": [
        "#Question 7"
      ],
      "metadata": {
        "id": "phquAyrzgsQv"
      },
      "execution_count": null,
      "outputs": []
    },
    {
      "cell_type": "markdown",
      "source": [
        "Elastic Net is a versatile and powerful regularization technique that combines the benefits of both Lasso (L1 regularization) and Ridge (L2 regularization). Here are some situations where Elastic Net is particularly useful:\n",
        "\n",
        "### 1. **Dealing with Multicollinearity:**\n",
        "   If your dataset has highly correlated predictors, Elastic Net can handle multicollinearity better than Lasso alone. While Ridge can also handle multicollinearity, it doesn't perform feature selection. Elastic Net can balance both by regularizing coefficients and selecting important features.\n",
        "\n",
        "### 2. **Sparse Models with Multiple Correlated Features:**\n",
        "   When you need a sparse model (one with fewer features) but have several highly correlated features, Elastic Net is a good choice. Lasso might arbitrarily select one feature among the correlated ones, but Elastic Net can include multiple correlated features, providing a more balanced approach.\n",
        "\n",
        "### 3. **Combining Strengths of Lasso and Ridge:**\n",
        "   Elastic Net allows you to tune the hyperparameters to leverage the strengths of both Lasso and Ridge. This flexibility can be advantageous when you are unsure whether Lasso or Ridge alone will provide the best results.\n",
        "\n",
        "### 4. **Improving Prediction Accuracy:**\n",
        "   If you're looking for better prediction accuracy, Elastic Net often outperforms Lasso and Ridge by providing a more balanced model. The regularization terms help in reducing overfitting and improving generalization to new data.\n",
        "\n",
        "### 5. **Handling Large Datasets with Many Features:**\n",
        "   In scenarios where you have a large number of features, Elastic Net can be more effective than Lasso or Ridge alone. It can manage the complexity of the model by combining feature selection and regularization.\n"
      ],
      "metadata": {
        "id": "sz1AmCPgmALw"
      }
    },
    {
      "cell_type": "code",
      "source": [
        "#Question 8"
      ],
      "metadata": {
        "id": "swWw_SG4gr_H"
      },
      "execution_count": null,
      "outputs": []
    },
    {
      "cell_type": "markdown",
      "source": [
        "The regularization parameter \\( \\lambda \\) (lambda) plays a crucial role in Logistic Regression by controlling the strength of the regularization applied to the model.\n",
        "\n",
        "### Impact of the Regularization Parameter (λ):\n",
        "\n",
        "1. **Controls Model Complexity:**\n",
        "   - A large \\( \\lambda \\) value increases the regularization strength, which penalizes large coefficients. This leads to a simpler model with smaller coefficients, reducing the risk of overfitting. However, if \\( \\lambda \\) is too large, it may lead to underfitting, where the model is too simple to capture the underlying patterns in the data.\n",
        "   - A small \\( \\lambda \\) value decreases the regularization strength, allowing the model to fit the training data more closely. This may lead to overfitting if the model becomes too complex and captures noise in the training data.\n",
        "\n",
        "2. **Reduces Multicollinearity:**\n",
        "   - Regularization helps in reducing multicollinearity by shrinking the coefficients of correlated features. This makes the model more stable and robust.\n",
        "\n",
        "3. **Improves Generalization:**\n",
        "   - By adding a regularization term to the cost function, the model can generalize better to new, unseen data. The regularization term discourages large coefficients, which can lead to better performance on test data.\n",
        "\n",
        "### Visual Impact:\n",
        "\n",
        "To give you a more intuitive understanding, consider a few scenarios:\n",
        "\n",
        "1. **No Regularization (λ = 0):**\n",
        "   - The model may have large coefficients to fit the training data perfectly, leading to overfitting.\n",
        "\n",
        "2. **Moderate Regularization (Moderate λ):**\n",
        "   - The model coefficients are regularized (shrunk), resulting in a balance between fitting the training data and generalizing to new data.\n",
        "\n",
        "3. **High Regularization (Large λ):**\n",
        "   - The model coefficients are heavily penalized, leading to very small or zero coefficients. This can simplify the model, potentially leading to underfitting.\n",
        "\n",
        "### Cost Function with Regularization:\n",
        "\n",
        "For L2 Regularization (Ridge), the cost function with the regularization term is:\n",
        "\n",
        "$$ J(\\theta) = - \\frac{1}{m} \\sum_{i=1}^m \\left( y^{(i)} \\log(h_\\theta(x^{(i)})) + (1 - y^{(i)}) \\log(1 - h_\\theta(x^{(i)})) \\right) + \\lambda \\sum_{j=1}^n \\theta_j^2 $$\n",
        "\n",
        "For L1 Regularization (Lasso), the cost function with the regularization term is:\n",
        "\n",
        "$$ J(\\theta) = - \\frac{1}{m} \\sum_{i=1}^m \\left( y^{(i)} \\log(h_\\theta(x^{(i)})) + (1 - y^{(i)}) \\log(1 - h_\\theta(x^{(i)})) \\right) + \\lambda \\sum_{j=1}^n |\\theta_j| $$\n",
        "\n",
        "In both cases, the regularization parameter \\( \\lambda \\) controls the strength of the penalty.\n",
        "\n"
      ],
      "metadata": {
        "id": "18ussZu0mQid"
      }
    },
    {
      "cell_type": "code",
      "source": [
        "#Question 9"
      ],
      "metadata": {
        "id": "ZqkkxBGTgrxr"
      },
      "execution_count": null,
      "outputs": []
    },
    {
      "cell_type": "markdown",
      "source": [
        "Logistic Regression, like any statistical model, relies on several key assumptions to produce reliable results. Here are the main assumptions:\n",
        "\n",
        "### 1. **Linearity of Independent Variables and Log Odds:**\n",
        "   The model assumes that there is a linear relationship between the independent variables and the log odds of the dependent variable. The log odds (logit) are modeled as a linear combination of the independent variables.\n",
        "\n",
        "### 2. **Independence of Observations:**\n",
        "   Each observation in the dataset should be independent of all others. There should be no correlation among the residuals (errors), which means there should be no autocorrelation. This is particularly important in time-series data or when there is clustering.\n",
        "\n",
        "### 3. **Absence of Multicollinearity:**\n",
        "   The independent variables should not be highly correlated with each other. Multicollinearity can lead to unreliable estimates of the regression coefficients and make the model difficult to interpret.\n",
        "\n",
        "### 4. **Large Sample Size:**\n",
        "   Logistic Regression requires a large sample size to provide stable and reliable estimates. The rule of thumb is to have at least 10 cases per independent variable category.\n",
        "\n",
        "### 5. **Binary Outcome Variable:**\n",
        "   Logistic Regression is specifically designed for binary outcomes (0 or 1, True or False). If the outcome variable has more than two categories, multinomial or ordinal logistic regression models should be considered.\n",
        "\n",
        "### 6. **No Perfect Separation:**\n",
        "   There should not be a perfect separation of the dependent variable with respect to the independent variables. Perfect separation occurs when one or more independent variables can perfectly predict the outcome, leading to infinite regression coefficients.\n",
        "\n",
        "### 7. **Independence of Errors:**\n",
        "   The errors (or residuals) should be independent. This is essential to ensure that the model's estimates are unbiased and consistent.\n",
        "\n",
        "### 8. **No Significant Outliers:**\n",
        "   The model assumes that there are no significant outliers or influential data points that can disproportionately affect the model's performance.\n",
        "\n",
        "These assumptions help ensure that Logistic Regression provides valid and interpretable results. However, it's important to note that while violations of these assumptions can affect the model's performance, Logistic Regression can still be robust in many practical situations.\n"
      ],
      "metadata": {
        "id": "QtRWYAtBmkk_"
      }
    },
    {
      "cell_type": "code",
      "source": [
        "#Question 10"
      ],
      "metadata": {
        "id": "AGhooCbPgrlf"
      },
      "execution_count": null,
      "outputs": []
    },
    {
      "cell_type": "markdown",
      "source": [
        "There are several alternatives to Logistic Regression that can be used for classification tasks, depending on the nature of your data and the complexity of the problem. Here are some popular alternatives:\n",
        "\n",
        "### 1. **Decision Trees:**\n",
        "   Decision Trees classify data by splitting it into subsets based on the values of input features. They create a tree-like model where each internal node represents a feature, each branch represents a decision rule, and each leaf node represents an outcome.\n",
        "\n",
        "### 2. **Random Forest:**\n",
        "   Random Forest is an ensemble method that creates multiple decision trees and combines their predictions. It improves accuracy and reduces overfitting compared to a single decision tree.\n",
        "\n",
        "### 3. **Support Vector Machines (SVM):**\n",
        "   SVMs are powerful classifiers that find the hyperplane that best separates data points of different classes. They are particularly effective in high-dimensional spaces and when the classes are not linearly separable.\n",
        "\n",
        "### 4. **K-Nearest Neighbors (KNN):**\n",
        "   KNN is a simple, non-parametric algorithm that classifies data points based on the majority class of their k-nearest neighbors. It is easy to implement and works well for small datasets.\n",
        "\n",
        "### 5. **Naive Bayes:**\n",
        "   Naive Bayes classifiers are based on Bayes' theorem and assume that features are conditionally independent given the class. They are fast, efficient, and perform well with small to medium-sized datasets, especially when the independence assumption is roughly true.\n",
        "\n",
        "### 6. **Gradient Boosting Machines (GBM):**\n",
        "   GBM is an ensemble technique that builds multiple weak learners (typically decision trees) sequentially, where each new learner corrects the errors of the previous ones. It is highly effective for both classification and regression tasks.\n",
        "\n",
        "### 7. **XGBoost:**\n",
        "   XGBoost is an optimized implementation of Gradient Boosting that is known for its speed and performance. It includes regularization terms to prevent overfitting and offers various hyperparameters to fine-tune the model.\n",
        "\n",
        "### 8. **Neural Networks:**\n",
        "   Neural Networks, including deep learning models, are highly flexible and can capture complex patterns in data. They are particularly useful for large datasets and problems with high-dimensional input features.\n",
        "\n",
        "### 9. **LightGBM:**\n",
        "   LightGBM is a gradient boosting framework that uses tree-based learning algorithms. It is designed for efficiency and scalability and is particularly effective for large datasets with many features.\n",
        "\n",
        "### 10. **CatBoost:**\n",
        "   CatBoost is another gradient boosting library that handles categorical features well without needing extensive preprocessing. It is known for its accuracy and ease of use.\n",
        "\n",
        "### Summary Table\n",
        "\n",
        "| **Method**           | **Key Characteristics**                                                          |\n",
        "|----------------------|-----------------------------------------------------------------------------------|\n",
        "| **Decision Trees**   | Simple, interpretable, prone to overfitting                                       |\n",
        "| **Random Forest**    | Ensemble of decision trees, reduces overfitting, high accuracy                    |\n",
        "| **SVM**              | Effective in high-dimensional spaces, finds optimal separating hyperplane         |\n",
        "| **KNN**              | Non-parametric, based on majority class of neighbors                              |\n",
        "| **Naive Bayes**      | Based on Bayes' theorem, assumes feature independence                             |\n",
        "| **GBM**              | Ensemble of weak learners, sequentially corrects errors                           |\n",
        "| **XGBoost**          | Optimized GBM, fast, regularization to prevent overfitting                        |\n",
        "| **Neural Networks**  | Flexible, captures complex patterns, suitable for large datasets                  |\n",
        "| **LightGBM**         | Efficient, scalable, effective for large datasets                                 |\n",
        "| **CatBoost**         | Handles categorical features well, high accuracy                                  |\n",
        "\n",
        "These alternatives offer different strengths and are suitable for various types of classification tasks. The choice of method depends on factors such as the size and nature of your dataset, the complexity of the problem, and the desired balance between interpretability and accuracy.\n"
      ],
      "metadata": {
        "id": "IgxxhL8-mz6V"
      }
    },
    {
      "cell_type": "code",
      "source": [
        "#Question 11"
      ],
      "metadata": {
        "id": "tri_sUjfgraA"
      },
      "execution_count": null,
      "outputs": []
    },
    {
      "cell_type": "markdown",
      "source": [
        "Classification evaluation metrics are essential for assessing the performance of a classification model. They help you understand how well your model is making predictions. Here are some of the key metrics used for evaluating classification models:\n",
        "\n",
        "### 1. **Accuracy**\n",
        "   Accuracy measures the proportion of correctly classified instances out of the total instances. It is defined as:\n",
        "\n",
        "   $$ \\text{Accuracy} = \\frac{\\text{Number of Correct Predictions}}{\\text{Total Number of Predictions}} $$\n",
        "\n",
        "### 2. **Precision**\n",
        "   Precision (or Positive Predictive Value) measures the proportion of true positive predictions out of all positive predictions made by the model. It is defined as:\n",
        "\n",
        "   $$ \\text{Precision} = \\frac{\\text{True Positives}}{\\text{True Positives} + \\text{False Positives}} $$\n",
        "\n",
        "### 3. **Recall**\n",
        "   Recall (or Sensitivity or True Positive Rate) measures the proportion of true positive predictions out of all actual positive instances. It is defined as:\n",
        "\n",
        "   $$ \\text{Recall} = \\frac{\\text{True Positives}}{\\text{True Positives} + \\text{False Negatives}} $$\n",
        "\n",
        "### 4. **F1 Score**\n",
        "   The F1 Score is the harmonic mean of precision and recall. It provides a balanced measure when you need to consider both precision and recall. It is defined as:\n",
        "\n",
        "   $$ \\text{F1 Score} = 2 \\times \\frac{\\text{Precision} \\times \\text{Recall}}{\\text{Precision} + \\text{Recall}} $$\n",
        "\n",
        "### 5. **Confusion Matrix**\n",
        "   The Confusion Matrix is a table that summarizes the performance of a classification model. It shows the counts of true positives (TP), true negatives (TN), false positives (FP), and false negatives (FN).\n",
        "\n",
        "   ```\n",
        "   | Actual \\ Predicted | Positive | Negative |\n",
        "   |--------------------|----------|----------|\n",
        "   | Positive           | TP       | FN       |\n",
        "   | Negative           | FP       | TN       |\n",
        "   ```\n",
        "\n",
        "### 6. **Specificity**\n",
        "   Specificity (or True Negative Rate) measures the proportion of true negative predictions out of all actual negative instances. It is defined as:\n",
        "\n",
        "   $$ \\text{Specificity} = \\frac{\\text{True Negatives}}{\\text{True Negatives} + \\text{False Positives}} $$\n",
        "\n",
        "### 7. **ROC Curve and AUC**\n",
        "   The Receiver Operating Characteristic (ROC) Curve is a graphical representation of the model's performance across different thresholds. The Area Under the ROC Curve (AUC) measures the ability of the model to distinguish between classes. An AUC value close to 1 indicates a good model, while a value close to 0.5 indicates a model with no discriminative ability.\n",
        "\n",
        "### 8. **Log-Loss**\n",
        "   Log-Loss (or Logistic Loss) measures the performance of a classification model where the prediction is a probability value between 0 and 1. It is defined as:\n",
        "\n",
        "   $$ \\text{Log-Loss} = -\\frac{1}{N} \\sum_{i=1}^N \\left[ y_i \\log(p_i) + (1 - y_i) \\log(1 - p_i) \\right] $$\n",
        "\n",
        "   Where \\( y_i \\) is the actual label and \\( p_i \\) is the predicted probability.\n",
        "\n",
        "### Summary Table\n",
        "\n",
        "| **Metric**      | **Description**                                                        | **Best for**                    |\n",
        "|-----------------|------------------------------------------------------------------------|---------------------------------|\n",
        "| **Accuracy**    | Proportion of correct predictions                                      | Overall performance             |\n",
        "| **Precision**   | Proportion of true positive predictions out of all positive predictions | When false positives are costly |\n",
        "| **Recall**      | Proportion of true positive predictions out of all actual positives    | When false negatives are costly |\n",
        "| **F1 Score**    | Harmonic mean of precision and recall                                  | Balance between precision and recall |\n",
        "| **Confusion Matrix** | Table of TP, TN, FP, FN counts                                    | Detailed performance breakdown  |\n",
        "| **Specificity** | Proportion of true negatives out of all actual negatives               | When true negatives are important |\n",
        "| **ROC Curve & AUC** | Graphical representation of performance across thresholds          | Model discrimination ability    |\n",
        "| **Log-Loss**    | Performance measure for probability predictions                        | Probabilistic classification    |\n",
        "\n"
      ],
      "metadata": {
        "id": "vw-Ota8anByY"
      }
    },
    {
      "cell_type": "code",
      "source": [
        "#Question 12"
      ],
      "metadata": {
        "id": "chiSxSI9grOD"
      },
      "execution_count": null,
      "outputs": []
    },
    {
      "cell_type": "markdown",
      "source": [
        "Class imbalance occurs when one class significantly outnumbers the other class(es) in a dataset. This can affect the performance of Logistic Regression in several ways:\n",
        "\n",
        "### 1. **Biased Predictions:**\n",
        "   Logistic Regression may become biased toward the majority class, leading to poor performance on the minority class. The model might predict the majority class more often, resulting in high accuracy but low precision and recall for the minority class.\n",
        "\n",
        "### 2. **Misleading Accuracy:**\n",
        "   In imbalanced datasets, accuracy can be misleading because it might not reflect the model's performance on the minority class. For example, if 95% of the data belongs to the majority class, a model predicting the majority class for all instances would achieve 95% accuracy but fail to identify any minority class instances.\n",
        "\n",
        "### 3. **Poor Decision Boundaries:**\n",
        "   The decision boundaries formed by Logistic Regression can be skewed, leading to poor classification of the minority class. The model may struggle to find the optimal boundary that separates the classes effectively.\n",
        "\n",
        "### 4. **Imbalanced Class Weights:**\n",
        "   Logistic Regression may assign lower weights to the minority class during training, affecting the learned coefficients and leading to suboptimal classification performance.\n",
        "\n",
        "### Addressing Class Imbalance:\n",
        "To mitigate the effects of class imbalance, several techniques can be used:\n",
        "\n",
        "1. **Resampling Techniques:**\n",
        "   - **Oversampling:** Increase the number of instances in the minority class by duplicating or generating new samples (e.g., using SMOTE).\n",
        "   - **Undersampling:** Reduce the number of instances in the majority class to balance the dataset.\n",
        "\n",
        "2. **Class Weighing:**\n",
        "   Adjust the weights assigned to the classes in the cost function. This gives more importance to the minority class, helping the model learn better decision boundaries. In many machine learning libraries, you can set `class_weight='balanced'` to automatically adjust class weights.\n",
        "\n",
        "3. **Synthetic Data Generation:**\n",
        "   Use techniques like Synthetic Minority Over-sampling Technique (SMOTE) to create synthetic samples for the minority class. This can help in balancing the dataset without losing valuable information.\n",
        "\n",
        "4. **Anomaly Detection Models:**\n",
        "   Treat the minority class as anomalies or outliers and use anomaly detection models to identify them.\n",
        "\n",
        "5. **Evaluation Metrics:**\n",
        "   Use appropriate evaluation metrics that reflect the performance on both classes, such as Precision, Recall, F1 Score, and Area Under the ROC Curve (AUC). Avoid relying solely on accuracy.\n",
        "\n",
        "### Example:\n",
        "Here’s a simple code snippet in Python using scikit-learn to apply class weighting in Logistic Regression:\n",
        "\n",
        "```python\n",
        "from sklearn.linear_model import LogisticRegression\n",
        "from sklearn.datasets import make_classification\n",
        "from sklearn.model_selection import train_test_split\n",
        "from sklearn.metrics import classification_report\n",
        "\n",
        "# Generate imbalanced dataset\n",
        "X, y = make_classification(n_samples=1000, n_features=20, weights=[0.9, 0.1], random_state=42)\n",
        "X_train, X_test, y_train, y_test = train_test_split(X, y, test_size=0.3, random_state=42)\n",
        "\n",
        "# Logistic Regression with class weighting\n",
        "model = LogisticRegression(class_weight='balanced', random_state=42)\n",
        "model.fit(X_train, y_train)\n",
        "\n",
        "# Predictions\n",
        "y_pred = model.predict(X_test)\n",
        "\n",
        "# Evaluation\n",
        "print(classification_report(y_test, y_pred))\n",
        "```\n",
        "\n",
        "This code demonstrates how to handle class imbalance by using class weighting in Logistic Regression.\n",
        "\n"
      ],
      "metadata": {
        "id": "y_whvT39nWqk"
      }
    },
    {
      "cell_type": "code",
      "source": [
        "#Question 13"
      ],
      "metadata": {
        "id": "IpDNCFYsgrBh"
      },
      "execution_count": null,
      "outputs": []
    },
    {
      "cell_type": "markdown",
      "source": [
        "Hyperparameter tuning is the process of optimizing the hyperparameters of a model to improve its performance. Unlike parameters learned during training, hyperparameters are set before the learning process begins. In Logistic Regression, common hyperparameters that can be tuned include:\n",
        "\n",
        "### 1. **Regularization Parameter (λ):**\n",
        "   - Controls the strength of the regularization. A larger λ value increases regularization, reducing overfitting but possibly leading to underfitting. A smaller λ value decreases regularization, allowing the model to fit the training data more closely, but increasing the risk of overfitting.\n",
        "\n",
        "### 2. **Regularization Type (penalty):**\n",
        "   - `l1` (Lasso): Adds the absolute values of coefficients as penalties, potentially reducing some coefficients to zero, effectively performing feature selection.\n",
        "   - `l2` (Ridge): Adds the squared values of coefficients as penalties, shrinking all coefficients but not eliminating any.\n",
        "   - `elasticnet`: Combines both L1 and L2 penalties.\n",
        "\n",
        "### 3. **Solver:**\n",
        "   - The optimization algorithm used for fitting the model. Different solvers are suited for different types and sizes of data:\n",
        "     - `liblinear`: Suitable for small to medium-sized datasets, supports both L1 and L2 regularization.\n",
        "     - `sag`: Suitable for large datasets, supports L2 regularization.\n",
        "     - `saga`: An extension of sag that supports L1, L2, and elastic net regularization, suitable for both small and large datasets.\n",
        "     - `lbfgs`: Suitable for large datasets, supports L2 regularization.\n",
        "     - `newton-cg`: Suitable for large datasets, supports L2 regularization.\n",
        "\n",
        "### Techniques for Hyperparameter Tuning:\n",
        "\n",
        "1. **Grid Search:**\n",
        "   - Exhaustively searches over a specified parameter grid to find the best combination of hyperparameters. It is computationally intensive but ensures the best parameter combination is found.\n",
        "\n",
        "2. **Random Search:**\n",
        "   - Randomly samples hyperparameters from a specified distribution. It is less computationally intensive and can provide good results.\n",
        "\n",
        "3. **Bayesian Optimization:**\n",
        "   - Uses Bayesian techniques to model the hyperparameter space and iteratively selects the most promising hyperparameters.\n",
        "\n",
        "### Example:\n",
        "Here's an example of how to perform hyperparameter tuning using GridSearchCV in Python with scikit-learn:\n",
        "\n",
        "```python\n",
        "from sklearn.linear_model import LogisticRegression\n",
        "from sklearn.model_selection import GridSearchCV\n",
        "from sklearn.datasets import make_classification\n",
        "\n",
        "# Generate dataset\n",
        "X, y = make_classification(n_samples=1000, n_features=20, random_state=42)\n",
        "\n",
        "# Define model and parameter grid\n",
        "model = LogisticRegression(max_iter=10000)\n",
        "param_grid = {\n",
        "    'penalty': ['l1', 'l2', 'elasticnet'],\n",
        "    'C': [0.01, 0.1, 1, 10, 100],\n",
        "    'solver': ['liblinear', 'saga']\n",
        "}\n",
        "\n",
        "# Perform Grid Search\n",
        "grid_search = GridSearchCV(model, param_grid, cv=5, scoring='accuracy')\n",
        "grid_search.fit(X, y)\n",
        "\n",
        "# Best parameters and score\n",
        "print(\"Best Parameters:\", grid_search.best_params_)\n",
        "print(\"Best Score:\", grid_search.best_score_)\n",
        "```\n",
        "\n",
        "This code demonstrates how to tune hyperparameters in Logistic Regression using GridSearchCV.\n"
      ],
      "metadata": {
        "id": "rGXShmSjoJGS"
      }
    },
    {
      "cell_type": "code",
      "source": [
        "#Question 14"
      ],
      "metadata": {
        "id": "h6szp4Q_gq1H"
      },
      "execution_count": null,
      "outputs": []
    },
    {
      "cell_type": "markdown",
      "source": [
        "\n",
        "### Different Solvers in Logistic Regression:\n",
        "\n",
        "1. **liblinear:**\n",
        "   - **Description:** Uses a coordinate descent algorithm.\n",
        "   - **Best for:** Small to medium-sized datasets.\n",
        "   - **Supports:** Both L1 (Lasso) and L2 (Ridge) regularization.\n",
        "   - **Pros:** Fast for small datasets and supports both types of regularization.\n",
        "   - **Cons:** Not suitable for large datasets.\n",
        "\n",
        "2. **sag (Stochastic Average Gradient):**\n",
        "   - **Description:** An iterative optimization algorithm suitable for large datasets.\n",
        "   - **Best for:** Large datasets.\n",
        "   - **Supports:** L2 (Ridge) regularization.\n",
        "   - **Pros:** Efficient for large datasets.\n",
        "   - **Cons:** Only supports L2 regularization.\n",
        "\n",
        "3. **saga:**\n",
        "   - **Description:** An extension of the sag solver that supports L1, L2, and elastic net regularization.\n",
        "   - **Best for:** Both small and large datasets.\n",
        "   - **Supports:** L1 (Lasso), L2 (Ridge), and elastic net regularization.\n",
        "   - **Pros:** Versatile, supports various regularization types, and efficient for large datasets.\n",
        "   - **Cons:** Can be slower for very large datasets compared to specialized solvers.\n",
        "\n",
        "4. **lbfgs (Limited-memory Broyden–Fletcher–Goldfarb–Shanno):**\n",
        "   - **Description:** A quasi-Newton optimization algorithm.\n",
        "   - **Best for:** Large datasets.\n",
        "   - **Supports:** L2 (Ridge) regularization.\n",
        "   - **Pros:** Efficient for large datasets and often provides good convergence.\n",
        "   - **Cons:** Only supports L2 regularization.\n",
        "\n",
        "5. **newton-cg (Newton-Conjugate Gradient):**\n",
        "   - **Description:** A variation of the Newton-Raphson method that uses conjugate gradients.\n",
        "   - **Best for:** Large datasets.\n",
        "   - **Supports:** L2 (Ridge) regularization.\n",
        "   - **Pros:** Efficient for large datasets and stable.\n",
        "   - **Cons:** Only supports L2 regularization.\n",
        "\n",
        "### Choosing the Right Solver:\n",
        "\n",
        "- **For Small to Medium-Sized Datasets:**\n",
        "  - **liblinear**: Fast and supports both L1 and L2 regularization.\n",
        "\n",
        "- **For Large Datasets:**\n",
        "  - **sag**: Efficient but only supports L2 regularization.\n",
        "  - **saga**: Versatile, supports L1, L2, and elastic net regularization.\n",
        "  - **lbfgs**: Efficient and often provides good convergence.\n",
        "  - **newton-cg**: Stable and efficient.\n",
        "\n",
        "### Example:\n",
        "Here's an example of how to use different solvers in Logistic Regression with scikit-learn:\n",
        "\n",
        "```python\n",
        "from sklearn.linear_model import LogisticRegression\n",
        "from sklearn.datasets import make_classification\n",
        "\n",
        "# Generate dataset\n",
        "X, y = make_classification(n_samples=1000, n_features=20, random_state=42)\n",
        "\n",
        "# Define and fit model with different solvers\n",
        "model_liblinear = LogisticRegression(solver='liblinear').fit(X, y)\n",
        "model_sag = LogisticRegression(solver='sag', max_iter=10000).fit(X, y)\n",
        "model_saga = LogisticRegression(solver='saga', max_iter=10000).fit(X, y)\n",
        "model_lbfgs = LogisticRegression(solver='lbfgs', max_iter=10000).fit(X, y)\n",
        "model_newton_cg = LogisticRegression(solver='newton-cg', max_iter=10000).fit(X, y)\n",
        "```\n",
        "\n"
      ],
      "metadata": {
        "id": "ZdZ5gBz7od9G"
      }
    },
    {
      "cell_type": "code",
      "source": [
        "#Question 15"
      ],
      "metadata": {
        "id": "M20aV345gqpJ"
      },
      "execution_count": null,
      "outputs": []
    },
    {
      "cell_type": "markdown",
      "source": [
        "Logistic Regression is primarily designed for binary classification, but it can be extended to handle multiclass classification problems using techniques like One-vs-Rest (OvR) and Softmax Regression (also known as Multinomial Logistic Regression).\n",
        "\n",
        "### 1. **One-vs-Rest (OvR) or One-vs-All (OvA):**\n",
        "In the OvR approach, you train a separate binary classifier for each class, where the class is treated as the positive class and all other classes are treated as the negative class. During prediction, the classifier with the highest confidence score wins.\n",
        "\n",
        "#### Steps:\n",
        "- For a dataset with \\( K \\) classes, train \\( K \\) binary classifiers.\n",
        "- Each classifier \\( k \\) predicts whether a given instance belongs to class \\( k \\) or not.\n",
        "- For prediction, choose the class with the highest probability.\n",
        "\n",
        "#### Pros:\n",
        "- Simple and easy to implement.\n",
        "- Works well with many binary classification algorithms.\n",
        "\n",
        "#### Cons:\n",
        "- May become computationally expensive for a large number of classes.\n",
        "- Classifiers may produce inconsistent probabilities.\n",
        "\n",
        "### 2. **Softmax Regression (Multinomial Logistic Regression):**\n",
        "Softmax Regression is a generalization of Logistic Regression that directly handles multiple classes. It uses the softmax function to compute the probabilities of each class, ensuring that they sum to 1.\n",
        "\n",
        "#### Steps:\n",
        "- For a dataset with \\( K \\) classes, the model outputs \\( K \\) probabilities, one for each class.\n",
        "- Use the softmax function to convert linear scores to probabilities.\n",
        "\n",
        "#### Softmax Function:\n",
        "The softmax function calculates the probability for each class \\( k \\) as follows:\n",
        "\n",
        "$$ P(Y = k | X) = \\frac{e^{\\theta_k \\cdot X}}{\\sum_{j=1}^K e^{\\theta_j \\cdot X}} $$\n",
        "\n",
        "Where:\n",
        "- \\( \\theta_k \\) is the parameter vector for class \\( k \\).\n",
        "- \\( X \\) is the feature vector.\n",
        "- \\( K \\) is the number of classes.\n",
        "\n",
        "#### Pros:\n",
        "- Provides a probabilistic interpretation of class membership.\n",
        "- Ensures that probabilities sum to 1.\n",
        "- Directly handles multiple classes in a single model.\n",
        "\n",
        "#### Cons:\n",
        "- May require more computational resources than OvR for very large datasets.\n",
        "\n",
        "### Example:\n",
        "Here’s how you can implement both approaches using scikit-learn in Python:\n",
        "\n",
        "#### One-vs-Rest (OvR):\n",
        "```python\n",
        "from sklearn.linear_model import LogisticRegression\n",
        "from sklearn.datasets import make_classification\n",
        "from sklearn.model_selection import train_test_split\n",
        "\n",
        "# Generate dataset\n",
        "X, y = make_classification(n_samples=1000, n_features=20, n_classes=3, random_state=42)\n",
        "\n",
        "# Split dataset\n",
        "X_train, X_test, y_train, y_test = train_test_split(X, y, test_size=0.3, random_state=42)\n",
        "\n",
        "# Train OvR Logistic Regression model\n",
        "model_ovr = LogisticRegression(multi_class='ovr', max_iter=10000)\n",
        "model_ovr.fit(X_train, y_train)\n",
        "\n",
        "# Predict and evaluate\n",
        "y_pred_ovr = model_ovr.predict(X_test)\n",
        "```\n",
        "\n",
        "#### Softmax Regression:\n",
        "```python\n",
        "from sklearn.linear_model import LogisticRegression\n",
        "\n",
        "# Train Softmax Regression model\n",
        "model_softmax = LogisticRegression(multi_class='multinomial', solver='lbfgs', max_iter=10000)\n",
        "model_softmax.fit(X_train, y_train)\n",
        "\n",
        "# Predict and evaluate\n",
        "y_pred_softmax = model_softmax.predict(X_test)\n",
        "```\n",
        "\n",
        "Both approaches can extend Logistic Regression to handle multiclass classification tasks. The choice between OvR and Softmax Regression depends on the specific requirements of your problem and computational resources.\n"
      ],
      "metadata": {
        "id": "hNFi4I8eoydN"
      }
    },
    {
      "cell_type": "code",
      "source": [
        "#Question 16"
      ],
      "metadata": {
        "id": "Kk5k_WmEgqdc"
      },
      "execution_count": null,
      "outputs": []
    },
    {
      "cell_type": "markdown",
      "source": [
        "Logistic Regression is a widely-used statistical method for binary classification, and it has its own set of advantages and disadvantages.\n",
        "\n",
        "### Advantages\n",
        "\n",
        "1. **Simplicity and Interpretability:**\n",
        "   - Logistic Regression is easy to implement and understand. The coefficients can be interpreted as the change in the log odds of the outcome for a one-unit change in the predictor.\n",
        "\n",
        "2. **Efficiency:**\n",
        "   - It is computationally efficient and can handle large datasets. Training is relatively fast compared to more complex algorithms.\n",
        "\n",
        "3. **Probabilistic Interpretation:**\n",
        "   - Logistic Regression provides probabilistic outputs, which can be useful for decision-making processes and understanding the likelihood of different outcomes.\n",
        "\n",
        "4. **No Need for Feature Scaling:**\n",
        "   - Logistic Regression doesn't require features to be scaled, although normalization can sometimes improve performance.\n",
        "\n",
        "5. **Handles Non-Linearly Separable Data:**\n",
        "   - With appropriate feature engineering and transformations (e.g., polynomial features), Logistic Regression can handle non-linearly separable data.\n",
        "\n",
        "6. **Versatility:**\n",
        "   - It can be extended to multiclass classification using techniques like One-vs-Rest (OvR) and Multinomial Logistic Regression (Softmax Regression).\n",
        "\n",
        "7. **Robust to Overfitting (with Regularization):**\n",
        "   - Logistic Regression with regularization (L1, L2, or Elastic Net) can handle overfitting effectively.\n",
        "\n",
        "### Disadvantages\n",
        "\n",
        "1. **Assumption of Linearity:**\n",
        "   - Logistic Regression assumes a linear relationship between the independent variables and the log odds of the dependent variable. It may not capture complex relationships.\n",
        "\n",
        "2. **Sensitive to Outliers:**\n",
        "   - Logistic Regression can be sensitive to outliers, which can distort the model's performance.\n",
        "\n",
        "3. **Limited to Binary Classification:**\n",
        "   - Although it can be extended to multiclass classification, Logistic Regression is inherently a binary classifier and may not be the best choice for complex multiclass problems.\n",
        "\n",
        "4. **Requires Large Sample Size:**\n",
        "   - Logistic Regression requires a large sample size to produce stable and reliable estimates, especially for datasets with many features.\n",
        "\n",
        "5. **Not Suitable for High-Dimensional Data:**\n",
        "   - In cases of high-dimensional data (many features), Logistic Regression may struggle without feature selection or dimensionality reduction techniques.\n",
        "\n",
        "6. **Interpretation Can Be Challenging with Many Features:**\n",
        "   - As the number of features increases, interpreting the coefficients and their impact on the outcome can become challenging.\n",
        "\n",
        "### Summary Table\n",
        "\n",
        "| **Advantages**                        | **Disadvantages**                           |\n",
        "|---------------------------------------|---------------------------------------------|\n",
        "| Simple and interpretable              | Assumes linear relationship                 |\n",
        "| Computationally efficient              | Sensitive to outliers                       |\n",
        "| Provides probabilistic interpretation | Limited to binary classification            |\n",
        "| No need for feature scaling           | Requires large sample size                  |\n",
        "| Can handle non-linearly separable data| Not suitable for high-dimensional data      |\n",
        "| Versatile (multiclass extensions)     | Challenging interpretation with many features|\n",
        "| Robust to overfitting (with regularization) |                                           |\n",
        "\n",
        "Logistic Regression is a valuable tool in the machine learning toolkit, especially for binary classification problems. However, it's essential to consider its limitations and the specific characteristics of your dataset when choosing a model.\n"
      ],
      "metadata": {
        "id": "lFREyevNpF_H"
      }
    },
    {
      "cell_type": "code",
      "source": [
        "#Question 17"
      ],
      "metadata": {
        "id": "auxKKDnEgqRe"
      },
      "execution_count": null,
      "outputs": []
    },
    {
      "cell_type": "markdown",
      "source": [
        "Logistic Regression is a versatile and widely-used method for binary classification problems. Here are some common use cases where Logistic Regression is particularly effective:\n",
        "\n",
        "### 1. **Medical Diagnosis:**\n",
        "   - Logistic Regression is used to predict the presence or absence of a disease based on various medical features (e.g., age, blood pressure, cholesterol levels). For example, it can help predict whether a patient has diabetes, heart disease, or cancer.\n",
        "\n",
        "### 2. **Credit Scoring:**\n",
        "   - Financial institutions use Logistic Regression to assess the creditworthiness of loan applicants. By analyzing features such as credit history, income, and outstanding debts, the model can predict whether an applicant is likely to default on a loan.\n",
        "\n",
        "### 3. **Customer Churn Prediction:**\n",
        "   - Companies use Logistic Regression to predict whether a customer is likely to churn (cancel their subscription or stop using a service). By analyzing customer behavior and characteristics, businesses can take proactive measures to retain customers.\n",
        "\n",
        "### 4. **Marketing Campaigns:**\n",
        "   - Logistic Regression is used to predict the likelihood of a customer responding positively to a marketing campaign. By analyzing features like past purchase history, demographics, and browsing behavior, companies can target the right audience more effectively.\n",
        "\n",
        "### 5. **Fraud Detection:**\n",
        "   - Logistic Regression helps detect fraudulent transactions in financial systems. By analyzing transaction patterns and user behavior, the model can flag suspicious activities for further investigation.\n",
        "\n",
        "### 6. **Spam Email Classification:**\n",
        "   - Email services use Logistic Regression to classify emails as spam or not spam. By analyzing features such as email content, sender information, and metadata, the model can filter out unwanted emails.\n",
        "\n",
        "### 7. **Predicting Employee Attrition:**\n",
        "   - Organizations use Logistic Regression to predict which employees are likely to leave the company. By analyzing features such as job satisfaction, performance ratings, and work environment, companies can implement strategies to retain valuable employees.\n",
        "\n",
        "### 8. **Election Prediction:**\n",
        "   - Logistic Regression is used to predict election outcomes based on various factors such as demographics, voter behavior, and past election results. It helps political analysts and campaign teams understand voting patterns and trends.\n",
        "\n",
        "### 9. **Health Risk Assessment:**\n",
        "   - Logistic Regression is used to assess health risks, such as predicting the likelihood of developing certain conditions based on lifestyle factors, genetic information, and medical history.\n",
        "\n",
        "### 10. **Default Payment Prediction:**\n",
        "   - Logistic Regression helps predict whether a customer will default on their credit card payments based on their transaction history, credit limit, and spending patterns.\n",
        "\n",
        "These are just a few examples of how Logistic Regression can be applied across different domains. Its simplicity, interpretability, and effectiveness make it a valuable tool for various classification tasks.\n"
      ],
      "metadata": {
        "id": "LanJyEi2pScN"
      }
    },
    {
      "cell_type": "code",
      "source": [
        "#Question 18"
      ],
      "metadata": {
        "id": "vxHayGqKgqFw"
      },
      "execution_count": null,
      "outputs": []
    },
    {
      "cell_type": "markdown",
      "source": [
        "Softmax Regression and Logistic Regression are closely related but serve different purposes.\n",
        "\n",
        "### Logistic Regression\n",
        "- **Purpose:** Used for binary classification tasks, where the outcome variable has two possible categories (e.g., 0 or 1, True or False).\n",
        "- **Function:** Uses the logistic (sigmoid) function to model the probability of one of the two classes.\n",
        "- **Equation:**\n",
        "  $$ P(Y=1|X) = \\frac{1}{1 + e^{-(\\beta_0 + \\beta_1 X)}} $$\n",
        "\n",
        "### Softmax Regression (Multinomial Logistic Regression)\n",
        "- **Purpose:** Used for multiclass classification tasks, where the outcome variable has more than two possible categories.\n",
        "- **Function:** Uses the softmax function to model the probabilities of each class, ensuring the probabilities sum to 1.\n",
        "- **Equation:**\n",
        "  $$ P(Y = k | X) = \\frac{e^{\\theta_k \\cdot X}}{\\sum_{j=1}^K e^{\\theta_j \\cdot X}} $$\n",
        "  Where:\n",
        "  - \\( \\theta_k \\) is the parameter vector for class \\( k \\).\n",
        "  - \\( X \\) is the feature vector.\n",
        "  - \\( K \\) is the number of classes.\n",
        "\n",
        "### Key Differences\n",
        "1. **Number of Classes:**\n",
        "   - **Logistic Regression:** Binary classification (2 classes).\n",
        "   - **Softmax Regression:** Multiclass classification (more than 2 classes).\n",
        "\n",
        "2. **Output:**\n",
        "   - **Logistic Regression:** Produces a single probability for the positive class, with the negative class probability being 1 minus the positive class probability.\n",
        "   - **Softmax Regression:** Produces multiple probabilities, one for each class, and they all sum to 1.\n",
        "\n",
        "3. **Activation Function:**\n",
        "   - **Logistic Regression:** Uses the sigmoid function to squash the output between 0 and 1.\n",
        "   - **Softmax Regression:** Uses the softmax function to ensure the outputs represent a valid probability distribution over multiple classes.\n",
        "\n",
        "4. **Model Interpretation:**\n",
        "   - **Logistic Regression:** Interprets coefficients in terms of log odds for binary classification.\n",
        "   - **Softmax Regression:** Interprets coefficients in terms of log odds for each class relative to a reference class (usually the first class).\n",
        "\n",
        "### Summary Table\n",
        "\n",
        "| **Aspect**              | **Logistic Regression**              | **Softmax Regression**                   |\n",
        "|-------------------------|--------------------------------------|------------------------------------------|\n",
        "| **Number of Classes**   | Binary (2 classes)                   | Multiclass (more than 2 classes)         |\n",
        "| **Output**              | Single probability                   | Multiple probabilities                   |\n",
        "| **Activation Function** | Sigmoid                               | Softmax                                  |\n",
        "| **Model Interpretation**| Log odds for binary classification   | Log odds for each class relative to a reference class|\n",
        "\n",
        "Softmax Regression is a natural extension of Logistic Regression for multiclass classification problems, utilizing the softmax function to handle multiple classes simultaneously.\n"
      ],
      "metadata": {
        "id": "F_D5sbyQpcwp"
      }
    },
    {
      "cell_type": "code",
      "source": [
        "#Question 19"
      ],
      "metadata": {
        "id": "FJW8FAmngp4X"
      },
      "execution_count": null,
      "outputs": []
    },
    {
      "cell_type": "markdown",
      "source": [
        "Choosing between One-vs-Rest (OvR) and Softmax (Multinomial Logistic Regression) for multiclass classification depends on several factors, including your specific use case, dataset characteristics, and computational resources.\n",
        "\n",
        "### One-vs-Rest (OvR)\n",
        "**Pros:**\n",
        "1. **Simplicity:** Easy to implement and understand.\n",
        "2. **Flexibility:** Can use any binary classifier, not just Logistic Regression.\n",
        "3. **Efficiency for Small Datasets:** Effective for small to medium-sized datasets.\n",
        "\n",
        "**Cons:**\n",
        "1. **Inconsistent Probability Estimates:** Each classifier is trained independently, leading to inconsistent probability estimates.\n",
        "2. **Computationally Intensive:** Requires training one classifier per class, which can be computationally expensive for a large number of classes.\n",
        "3. **Decision Boundaries:** May produce suboptimal decision boundaries due to independent training of classifiers.\n",
        "\n",
        "### Softmax (Multinomial Logistic Regression)\n",
        "**Pros:**\n",
        "1. **Consistency:** Produces consistent and calibrated probability estimates as the model considers all classes simultaneously.\n",
        "2. **Single Model:** Trains a single model that handles all classes, making it more efficient for a large number of classes.\n",
        "3. **Better Decision Boundaries:** Generates better decision boundaries as the model learns relationships among all classes together.\n",
        "\n",
        "**Cons:**\n",
        "1. **Complexity:** More complex to implement and understand compared to OvR.\n",
        "2. **Computationally Intensive for Large Datasets:** Can be more computationally intensive for very large datasets due to the simultaneous optimization of multiple classes.\n",
        "\n",
        "### When to Choose OvR\n",
        "- **Binary Classifier Flexibility:** If you prefer using a binary classifier other than Logistic Regression, OvR is a versatile option.\n",
        "- **Simplicity:** When you need a simple and straightforward implementation.\n",
        "- **Small to Medium Datasets:** Suitable for datasets with a manageable number of classes and instances.\n",
        "\n",
        "### When to Choose Softmax\n",
        "- **Probability Calibration:** When consistent and calibrated probability estimates are essential.\n",
        "- **Large Number of Classes:** More efficient when dealing with a large number of classes, as it trains a single model.\n",
        "- **Better Decision Boundaries:** Ideal when accurate decision boundaries and relationships among classes are critical.\n",
        "\n",
        "### Summary Table\n",
        "\n",
        "| **Criterion**                | **One-vs-Rest (OvR)**                          | **Softmax (Multinomial Logistic Regression)**     |\n",
        "|------------------------------|------------------------------------------------|---------------------------------------------------|\n",
        "| **Simplicity**               | Easy to implement and understand               | More complex to implement and understand          |\n",
        "| **Probability Estimates**    | Inconsistent, independently trained classifiers| Consistent, calibrated probabilities              |\n",
        "| **Training Efficiency**      | Requires one classifier per class              | Single model handles all classes                  |\n",
        "| **Decision Boundaries**      | Suboptimal due to independent training         | Better decision boundaries                        |\n",
        "| **Flexibility with Classifiers** | Can use any binary classifier                | Specific to Logistic Regression                   |\n",
        "| **Dataset Size**             | Effective for small to medium datasets         | Efficient for large datasets with many classes    |\n",
        "\n",
        "### Example:\n",
        "Here's how you can implement both approaches using scikit-learn in Python:\n",
        "\n",
        "**One-vs-Rest (OvR):**\n",
        "```python\n",
        "from sklearn.linear_model import LogisticRegression\n",
        "from sklearn.datasets import make_classification\n",
        "from sklearn.model_selection import train_test_split\n",
        "\n",
        "# Generate dataset\n",
        "X, y = make_classification(n_samples=1000, n_features=20, n_classes=3, random_state=42)\n",
        "\n",
        "# Split dataset\n",
        "X_train, X_test, y_train, y_test = train_test_split(X, y, test_size=0.3, random_state=42)\n",
        "\n",
        "# Train OvR Logistic Regression model\n",
        "model_ovr = LogisticRegression(multi_class='ovr', max_iter=10000)\n",
        "model_ovr.fit(X_train, y_train)\n",
        "\n",
        "# Predict and evaluate\n",
        "y_pred_ovr = model_ovr.predict(X_test)\n",
        "```\n",
        "\n",
        "**Softmax Regression:**\n",
        "```python\n",
        "from sklearn.linear_model import LogisticRegression\n",
        "\n",
        "# Train Softmax Regression model\n",
        "model_softmax = LogisticRegression(multi_class='multinomial', solver='lbfgs', max_iter=10000)\n",
        "model_softmax.fit(X_train, y_train)\n",
        "\n",
        "# Predict and evaluate\n",
        "y_pred_softmax = model_softmax.predict(X_test)\n",
        "```\n",
        "\n"
      ],
      "metadata": {
        "id": "QeSUu4CHp1lc"
      }
    },
    {
      "cell_type": "code",
      "source": [
        "#Question 20"
      ],
      "metadata": {
        "id": "4eqn4KL7gppR"
      },
      "execution_count": null,
      "outputs": []
    },
    {
      "cell_type": "markdown",
      "source": [
        "Interpreting the coefficients in Logistic Regression is key to understanding the relationship between the predictors (independent variables) and the outcome (dependent variable). Here's how to interpret them:\n",
        "\n",
        "### 1. **Log-Odds:**\n",
        "   In Logistic Regression, the coefficients represent the change in the log-odds of the outcome for a one-unit change in the predictor variable, holding all other variables constant.\n",
        "\n",
        "   - For a predictor \\( X_i \\), the coefficient \\( \\beta_i \\) indicates the change in the log-odds of the outcome associated with a one-unit increase in \\( X_i \\).\n",
        "\n",
        "### 2. **Odds Ratio:**\n",
        "   The exponentiated coefficient \\( e^{\\beta_i} \\) is known as the odds ratio. It represents the multiplicative change in the odds of the outcome for a one-unit increase in the predictor variable.\n",
        "\n",
        "   - If \\( \\beta_i > 0 \\): The odds ratio \\( e^{\\beta_i} \\) will be greater than 1, indicating an increase in the odds of the outcome.\n",
        "   - If \\( \\beta_i < 0 \\): The odds ratio \\( e^{\\beta_i} \\) will be less than 1, indicating a decrease in the odds of the outcome.\n",
        "   - If \\( \\beta_i = 0 \\): The odds ratio \\( e^{\\beta_i} \\) will be equal to 1, indicating no change in the odds of the outcome.\n",
        "\n",
        "### Example:\n",
        "Let's consider a simple Logistic Regression model with one predictor variable \\( X_1 \\):\n",
        "\n",
        "$$ \\text{log-odds} = \\beta_0 + \\beta_1 X_1 $$\n",
        "\n",
        "- **Interpretation of \\( \\beta_1 \\):**\n",
        "  - If \\( \\beta_1 = 0.5 \\): The log-odds of the outcome increase by 0.5 for a one-unit increase in \\( X_1 \\).\n",
        "  - Odds ratio: \\( e^{0.5} \\approx 1.65 \\). The odds of the outcome increase by a factor of 1.65 for a one-unit increase in \\( X_1 \\).\n",
        "\n",
        "### 3. **Significance Testing:**\n",
        "   You can also assess the statistical significance of the coefficients using p-values and confidence intervals. A small p-value (typically < 0.05) indicates that the predictor variable is significantly associated with the outcome variable.\n",
        "\n",
        "### 4. **Multivariable Models:**\n",
        "   In models with multiple predictors, each coefficient represents the change in the log-odds of the outcome for a one-unit change in the predictor, holding all other predictors constant. This is also known as the \"ceteris paribus\" (all else equal) interpretation.\n",
        "\n",
        "### Example:\n",
        "Consider a Logistic Regression model with two predictors \\( X_1 \\) and \\( X_2 \\):\n",
        "\n",
        "$$ \\text{log-odds} = \\beta_0 + \\beta_1 X_1 + \\beta_2 X_2 $$\n",
        "\n",
        "- **Interpretation of \\( \\beta_1 \\):**\n",
        "  - If \\( \\beta_1 = 0.5 \\): The log-odds of the outcome increase by 0.5 for a one-unit increase in \\( X_1 \\), holding \\( X_2 \\) constant.\n",
        "  - Odds ratio: \\( e^{0.5} \\approx 1.65 \\). The odds of the outcome increase by a factor of 1.65 for a one-unit increase in \\( X_1 \\), holding \\( X_2 \\) constant.\n",
        "\n",
        "- **Interpretation of \\( \\beta_2 \\):**\n",
        "  - If \\( \\beta_2 = -0.3 \\): The log-odds of the outcome decrease by 0.3 for a one-unit increase in \\( X_2 \\), holding \\( X_1 \\) constant.\n",
        "  - Odds ratio: \\( e^{-0.3} \\approx 0.74 \\). The odds of the outcome decrease by a factor of 0.74 for a one-unit increase in \\( X_2 \\), holding \\( X_1 \\) constant.\n",
        "\n",
        "### Summary:\n",
        "- **Coefficients (β):** Change in log-odds for a one-unit change in the predictor.\n",
        "- **Exponentiated Coefficients (e^β):** Multiplicative change in odds for a one-unit change in the predictor.\n",
        "- **Significance Testing:** p-values and confidence intervals to assess the significance of the predictors.\n",
        "- **Multivariable Models:** Interpret coefficients while holding other predictors constant.\n",
        "\n",
        "Interpreting Logistic Regression coefficients allows you to understand the direction and magnitude of the association between predictors and the outcome.\n"
      ],
      "metadata": {
        "id": "7XP8oAdpqE-u"
      }
    },
    {
      "cell_type": "code",
      "source": [
        "#Practical\n",
        "#Question 1\n",
        "import numpy as np\n",
        "import pandas as pd\n",
        "from sklearn.model_selection import train_test_split\n",
        "from sklearn.linear_model import LogisticRegression\n",
        "from sklearn.metrics import accuracy_score\n",
        "from sklearn.datasets import load_iris\n",
        "\n",
        "# Load the Iris dataset\n",
        "data = load_iris()\n",
        "X = data.data\n",
        "y = data.target\n",
        "\n",
        "# Split the dataset into training and testing sets\n",
        "X_train, X_test, y_train, y_test = train_test_split(X, y, test_size=0.3, random_state=42)\n",
        "\n",
        "# Create a Logistic Regression model\n",
        "model = LogisticRegression(max_iter=200)\n",
        "\n",
        "# Fit the model to the training data\n",
        "model.fit(X_train, y_train)\n",
        "\n",
        "# Make predictions on the testing data\n",
        "y_pred = model.predict(X_test)\n",
        "\n",
        "# Calculate and print the model accuracy\n",
        "accuracy = accuracy_score(y_test, y_pred)\n",
        "print(f\"Model Accuracy: {accuracy:.2f}\")\n"
      ],
      "metadata": {
        "colab": {
          "base_uri": "https://localhost:8080/"
        },
        "id": "pZ5YpuqtgfE5",
        "outputId": "65a9d9e2-133a-4da2-8c1e-ec873b6b464f"
      },
      "execution_count": null,
      "outputs": [
        {
          "output_type": "stream",
          "name": "stdout",
          "text": [
            "Model Accuracy: 1.00\n"
          ]
        }
      ]
    },
    {
      "cell_type": "code",
      "source": [
        "#Question 2\n",
        "import numpy as np\n",
        "import pandas as pd\n",
        "from sklearn.model_selection import train_test_split\n",
        "from sklearn.linear_model import LogisticRegression\n",
        "from sklearn.metrics import accuracy_score\n",
        "from sklearn.datasets import load_iris\n",
        "\n",
        "# Load the Iris dataset\n",
        "data = load_iris()\n",
        "X = data.data\n",
        "y = data.target\n",
        "\n",
        "# Split the dataset into training and testing sets\n",
        "X_train, X_test, y_train, y_test = train_test_split(X, y, test_size=0.3, random_state=42)\n",
        "\n",
        "# Create a Logistic Regression model with L1 regularization (Lasso)\n",
        "model = LogisticRegression(penalty='l1', solver='liblinear', max_iter=10000)\n",
        "\n",
        "# Fit the model to the training data\n",
        "model.fit(X_train, y_train)\n",
        "\n",
        "# Make predictions on the testing data\n",
        "y_pred = model.predict(X_test)\n",
        "\n",
        "# Calculate and print the model accuracy\n",
        "accuracy = accuracy_score(y_test, y_pred)\n",
        "print(f\"Model Accuracy with L1 Regularization: {accuracy:.2f}\")\n"
      ],
      "metadata": {
        "colab": {
          "base_uri": "https://localhost:8080/"
        },
        "id": "CRpy1sG1hP27",
        "outputId": "3c49fbe0-8229-42c5-9964-034a58c72dc6"
      },
      "execution_count": null,
      "outputs": [
        {
          "output_type": "stream",
          "name": "stdout",
          "text": [
            "Model Accuracy with L1 Regularization: 1.00\n"
          ]
        }
      ]
    },
    {
      "cell_type": "code",
      "source": [
        "#Question 3\n",
        "import numpy as np\n",
        "import pandas as pd\n",
        "from sklearn.model_selection import train_test_split\n",
        "from sklearn.linear_model import LogisticRegression\n",
        "from sklearn.metrics import accuracy_score\n",
        "from sklearn.datasets import load_iris\n",
        "\n",
        "# Load the Iris dataset\n",
        "data = load_iris()\n",
        "X = data.data\n",
        "y = data.target\n",
        "\n",
        "# Split the dataset into training and testing sets\n",
        "X_train, X_test, y_train, y_test = train_test_split(X, y, test_size=0.3, random_state=42)\n",
        "\n",
        "# Create a Logistic Regression model with L2 regularization (Ridge)\n",
        "model = LogisticRegression(penalty='l2', solver='lbfgs', max_iter=10000)\n",
        "\n",
        "# Fit the model to the training data\n",
        "model.fit(X_train, y_train)\n",
        "\n",
        "# Make predictions on the testing data\n",
        "y_pred = model.predict(X_test)\n",
        "\n",
        "# Calculate and print the model accuracy\n",
        "accuracy = accuracy_score(y_test, y_pred)\n",
        "print(f\"Model Accuracy with L2 Regularization: {accuracy:.2f}\")\n",
        "\n",
        "# Print the coefficients of the model\n",
        "print(\"Model Coefficients:\")\n",
        "for i, coef in enumerate(model.coef_):\n",
        "    print(f\"Class {i}: {coef}\")\n"
      ],
      "metadata": {
        "colab": {
          "base_uri": "https://localhost:8080/"
        },
        "id": "FWKbqtf8hPpE",
        "outputId": "3747ab87-bbdd-40aa-a42b-55ca38c505e8"
      },
      "execution_count": null,
      "outputs": [
        {
          "output_type": "stream",
          "name": "stdout",
          "text": [
            "Model Accuracy with L2 Regularization: 1.00\n",
            "Model Coefficients:\n",
            "Class 0: [-0.40538561  0.86892188 -2.277875   -0.95680118]\n",
            "Class 1: [ 0.4664269  -0.37487908 -0.18745251 -0.72127094]\n",
            "Class 2: [-0.06104129 -0.4940428   2.46532752  1.67807213]\n"
          ]
        }
      ]
    },
    {
      "cell_type": "code",
      "source": [
        "#Question 4\n",
        "import numpy as np\n",
        "import pandas as pd\n",
        "from sklearn.model_selection import train_test_split\n",
        "from sklearn.linear_model import LogisticRegression\n",
        "from sklearn.metrics import accuracy_score\n",
        "from sklearn.datasets import load_iris\n",
        "\n",
        "# Load the Iris dataset\n",
        "data = load_iris()\n",
        "X = data.data\n",
        "y = data.target\n",
        "\n",
        "# Split the dataset into training and testing sets\n",
        "X_train, X_test, y_train, y_test = train_test_split(X, y, test_size=0.3, random_state=42)\n",
        "\n",
        "# Create a Logistic Regression model with Elastic Net Regularization\n",
        "model = LogisticRegression(penalty='elasticnet', solver='saga', l1_ratio=0.5, max_iter=10000)\n",
        "\n",
        "# Fit the model to the training data\n",
        "model.fit(X_train, y_train)\n",
        "\n",
        "# Make predictions on the testing data\n",
        "y_pred = model.predict(X_test)\n",
        "\n",
        "# Calculate and print the model accuracy\n",
        "accuracy = accuracy_score(y_test, y_pred)\n",
        "print(f\"Model Accuracy with Elastic Net Regularization: {accuracy:.2f}\")\n",
        "\n",
        "# Print the coefficients of the model\n",
        "print(\"Model Coefficients:\")\n",
        "for i, coef in enumerate(model.coef_):\n",
        "    print(f\"Class {i}: {coef}\")\n"
      ],
      "metadata": {
        "colab": {
          "base_uri": "https://localhost:8080/"
        },
        "id": "ZVw50JWEhPbi",
        "outputId": "9a3d9d30-8d06-461d-b754-4dc83ea5a09c"
      },
      "execution_count": null,
      "outputs": [
        {
          "output_type": "stream",
          "name": "stdout",
          "text": [
            "Model Accuracy with Elastic Net Regularization: 1.00\n",
            "Model Coefficients:\n",
            "Class 0: [ 0.          1.15406099 -2.46572143 -0.54699873]\n",
            "Class 1: [ 0.09264697  0.          0.         -0.43643942]\n",
            "Class 2: [-0.43120519 -0.39337879  2.72464516  1.98343789]\n"
          ]
        }
      ]
    },
    {
      "cell_type": "code",
      "source": [
        "#Question 5\n",
        "import numpy as np\n",
        "import pandas as pd\n",
        "from sklearn.model_selection import train_test_split\n",
        "from sklearn.linear_model import LogisticRegression\n",
        "from sklearn.metrics import accuracy_score\n",
        "from sklearn.datasets import load_iris\n",
        "\n",
        "# Load the Iris dataset\n",
        "data = load_iris()\n",
        "X = data.data\n",
        "y = data.target\n",
        "\n",
        "# Split the dataset into training and testing sets\n",
        "X_train, X_test, y_train, y_test = train_test_split(X, y, test_size=0.3, random_state=42)\n",
        "\n",
        "# Create a Logistic Regression model for multiclass classification using OvR\n",
        "model = LogisticRegression(multi_class='ovr', solver='liblinear', max_iter=10000)\n",
        "\n",
        "# Fit the model to the training data\n",
        "model.fit(X_train, y_train)\n",
        "\n",
        "# Make predictions on the testing data\n",
        "y_pred = model.predict(X_test)\n",
        "\n",
        "# Calculate and print the model accuracy\n",
        "accuracy = accuracy_score(y_test, y_pred)\n",
        "print(f\"Model Accuracy with OvR: {accuracy:.2f}\")\n"
      ],
      "metadata": {
        "colab": {
          "base_uri": "https://localhost:8080/"
        },
        "id": "ZHpbLJ1chPOq",
        "outputId": "a2366eac-947e-44f6-da40-5e676b608203"
      },
      "execution_count": null,
      "outputs": [
        {
          "output_type": "stream",
          "name": "stdout",
          "text": [
            "Model Accuracy with OvR: 0.98\n"
          ]
        },
        {
          "output_type": "stream",
          "name": "stderr",
          "text": [
            "/usr/local/lib/python3.11/dist-packages/sklearn/linear_model/_logistic.py:1256: FutureWarning: 'multi_class' was deprecated in version 1.5 and will be removed in 1.7. Use OneVsRestClassifier(LogisticRegression(..)) instead. Leave it to its default value to avoid this warning.\n",
            "  warnings.warn(\n"
          ]
        }
      ]
    },
    {
      "cell_type": "code",
      "source": [
        "#Question 6\n",
        "import numpy as np\n",
        "import pandas as pd\n",
        "from sklearn.model_selection import train_test_split, GridSearchCV\n",
        "from sklearn.linear_model import LogisticRegression\n",
        "from sklearn.metrics import accuracy_score\n",
        "from sklearn.datasets import load_iris\n",
        "\n",
        "# Load the Iris dataset\n",
        "data = load_iris()\n",
        "X = data.data\n",
        "y = data.target\n",
        "\n",
        "# Split the dataset into training and testing sets\n",
        "X_train, X_test, y_train, y_test = train_test_split(X, y, test_size=0.3, random_state=42)\n",
        "\n",
        "# Define the parameter grid for hyperparameter tuning\n",
        "param_grid = {\n",
        "    'C': [0.01, 0.1, 1, 10, 100],\n",
        "    'penalty': ['l1', 'l2'],\n",
        "    'solver': ['liblinear']  # 'liblinear' supports both 'l1' and 'l2' penalties\n",
        "}\n",
        "\n",
        "# Create a Logistic Regression model\n",
        "model = LogisticRegression(max_iter=10000)\n",
        "\n",
        "# Apply GridSearchCV to find the best hyperparameters\n",
        "grid_search = GridSearchCV(model, param_grid, cv=5, scoring='accuracy')\n",
        "grid_search.fit(X_train, y_train)\n",
        "\n",
        "# Get the best parameters and the corresponding accuracy\n",
        "best_params = grid_search.best_params_\n",
        "best_accuracy = grid_search.best_score_\n",
        "\n",
        "print(\"Best Parameters:\", best_params)\n",
        "print(f\"Best Cross-Validated Accuracy: {best_accuracy:.2f}\")\n",
        "\n",
        "# Train the model with the best parameters on the full training data\n",
        "best_model = grid_search.best_estimator_\n",
        "best_model.fit(X_train, y_train)\n",
        "\n",
        "# Make predictions on the testing data\n",
        "y_pred = best_model.predict(X_test)\n",
        "\n",
        "# Calculate and print the model accuracy on the testing data\n",
        "accuracy = accuracy_score(y_test, y_pred)\n",
        "print(f\"Model Accuracy on Testing Data: {accuracy:.2f}\")\n"
      ],
      "metadata": {
        "colab": {
          "base_uri": "https://localhost:8080/"
        },
        "id": "SQ_NRL_chPBv",
        "outputId": "7581169e-5222-4860-b172-76bfc90b9392"
      },
      "execution_count": null,
      "outputs": [
        {
          "output_type": "stream",
          "name": "stdout",
          "text": [
            "Best Parameters: {'C': 10, 'penalty': 'l2', 'solver': 'liblinear'}\n",
            "Best Cross-Validated Accuracy: 0.95\n",
            "Model Accuracy on Testing Data: 1.00\n"
          ]
        }
      ]
    },
    {
      "cell_type": "code",
      "source": [
        "#Question 7\n",
        "import numpy as np\n",
        "import pandas as pd\n",
        "from sklearn.model_selection import StratifiedKFold, cross_val_score\n",
        "from sklearn.linear_model import LogisticRegression\n",
        "from sklearn.datasets import load_iris\n",
        "\n",
        "# Load the Iris dataset\n",
        "data = load_iris()\n",
        "X = data.data\n",
        "y = data.target\n",
        "\n",
        "# Create a Logistic Regression model\n",
        "model = LogisticRegression(max_iter=10000)\n",
        "\n",
        "# Create a Stratified K-Fold Cross-Validator\n",
        "skf = StratifiedKFold(n_splits=5, shuffle=True, random_state=42)\n",
        "\n",
        "# Evaluate the model using cross-validation\n",
        "cv_scores = cross_val_score(model, X, y, cv=skf, scoring='accuracy')\n",
        "\n",
        "# Print the individual fold accuracies\n",
        "print(\"Fold Accuracies:\", cv_scores)\n",
        "\n",
        "# Calculate and print the average accuracy\n",
        "average_accuracy = np.mean(cv_scores)\n",
        "print(f\"Average Accuracy: {average_accuracy:.2f}\")\n"
      ],
      "metadata": {
        "colab": {
          "base_uri": "https://localhost:8080/"
        },
        "id": "aRnH8mzWhOzh",
        "outputId": "4c932b27-5ad6-4f24-ea22-60a460c486bb"
      },
      "execution_count": null,
      "outputs": [
        {
          "output_type": "stream",
          "name": "stdout",
          "text": [
            "Fold Accuracies: [1.         0.96666667 0.93333333 1.         0.93333333]\n",
            "Average Accuracy: 0.97\n"
          ]
        }
      ]
    },
    {
      "cell_type": "code",
      "source": [
        "from google.colab import files\n",
        "uploaded = files.upload()\n"
      ],
      "metadata": {
        "colab": {
          "base_uri": "https://localhost:8080/",
          "height": 73
        },
        "id": "WfkCplqEt4jm",
        "outputId": "6e022fdb-0e6d-4bac-85b4-715fc8d78d35"
      },
      "execution_count": null,
      "outputs": [
        {
          "output_type": "display_data",
          "data": {
            "text/plain": [
              "<IPython.core.display.HTML object>"
            ],
            "text/html": [
              "\n",
              "     <input type=\"file\" id=\"files-df39f0b6-4f6b-43cc-828c-5c64c4934095\" name=\"files[]\" multiple disabled\n",
              "        style=\"border:none\" />\n",
              "     <output id=\"result-df39f0b6-4f6b-43cc-828c-5c64c4934095\">\n",
              "      Upload widget is only available when the cell has been executed in the\n",
              "      current browser session. Please rerun this cell to enable.\n",
              "      </output>\n",
              "      <script>// Copyright 2017 Google LLC\n",
              "//\n",
              "// Licensed under the Apache License, Version 2.0 (the \"License\");\n",
              "// you may not use this file except in compliance with the License.\n",
              "// You may obtain a copy of the License at\n",
              "//\n",
              "//      http://www.apache.org/licenses/LICENSE-2.0\n",
              "//\n",
              "// Unless required by applicable law or agreed to in writing, software\n",
              "// distributed under the License is distributed on an \"AS IS\" BASIS,\n",
              "// WITHOUT WARRANTIES OR CONDITIONS OF ANY KIND, either express or implied.\n",
              "// See the License for the specific language governing permissions and\n",
              "// limitations under the License.\n",
              "\n",
              "/**\n",
              " * @fileoverview Helpers for google.colab Python module.\n",
              " */\n",
              "(function(scope) {\n",
              "function span(text, styleAttributes = {}) {\n",
              "  const element = document.createElement('span');\n",
              "  element.textContent = text;\n",
              "  for (const key of Object.keys(styleAttributes)) {\n",
              "    element.style[key] = styleAttributes[key];\n",
              "  }\n",
              "  return element;\n",
              "}\n",
              "\n",
              "// Max number of bytes which will be uploaded at a time.\n",
              "const MAX_PAYLOAD_SIZE = 100 * 1024;\n",
              "\n",
              "function _uploadFiles(inputId, outputId) {\n",
              "  const steps = uploadFilesStep(inputId, outputId);\n",
              "  const outputElement = document.getElementById(outputId);\n",
              "  // Cache steps on the outputElement to make it available for the next call\n",
              "  // to uploadFilesContinue from Python.\n",
              "  outputElement.steps = steps;\n",
              "\n",
              "  return _uploadFilesContinue(outputId);\n",
              "}\n",
              "\n",
              "// This is roughly an async generator (not supported in the browser yet),\n",
              "// where there are multiple asynchronous steps and the Python side is going\n",
              "// to poll for completion of each step.\n",
              "// This uses a Promise to block the python side on completion of each step,\n",
              "// then passes the result of the previous step as the input to the next step.\n",
              "function _uploadFilesContinue(outputId) {\n",
              "  const outputElement = document.getElementById(outputId);\n",
              "  const steps = outputElement.steps;\n",
              "\n",
              "  const next = steps.next(outputElement.lastPromiseValue);\n",
              "  return Promise.resolve(next.value.promise).then((value) => {\n",
              "    // Cache the last promise value to make it available to the next\n",
              "    // step of the generator.\n",
              "    outputElement.lastPromiseValue = value;\n",
              "    return next.value.response;\n",
              "  });\n",
              "}\n",
              "\n",
              "/**\n",
              " * Generator function which is called between each async step of the upload\n",
              " * process.\n",
              " * @param {string} inputId Element ID of the input file picker element.\n",
              " * @param {string} outputId Element ID of the output display.\n",
              " * @return {!Iterable<!Object>} Iterable of next steps.\n",
              " */\n",
              "function* uploadFilesStep(inputId, outputId) {\n",
              "  const inputElement = document.getElementById(inputId);\n",
              "  inputElement.disabled = false;\n",
              "\n",
              "  const outputElement = document.getElementById(outputId);\n",
              "  outputElement.innerHTML = '';\n",
              "\n",
              "  const pickedPromise = new Promise((resolve) => {\n",
              "    inputElement.addEventListener('change', (e) => {\n",
              "      resolve(e.target.files);\n",
              "    });\n",
              "  });\n",
              "\n",
              "  const cancel = document.createElement('button');\n",
              "  inputElement.parentElement.appendChild(cancel);\n",
              "  cancel.textContent = 'Cancel upload';\n",
              "  const cancelPromise = new Promise((resolve) => {\n",
              "    cancel.onclick = () => {\n",
              "      resolve(null);\n",
              "    };\n",
              "  });\n",
              "\n",
              "  // Wait for the user to pick the files.\n",
              "  const files = yield {\n",
              "    promise: Promise.race([pickedPromise, cancelPromise]),\n",
              "    response: {\n",
              "      action: 'starting',\n",
              "    }\n",
              "  };\n",
              "\n",
              "  cancel.remove();\n",
              "\n",
              "  // Disable the input element since further picks are not allowed.\n",
              "  inputElement.disabled = true;\n",
              "\n",
              "  if (!files) {\n",
              "    return {\n",
              "      response: {\n",
              "        action: 'complete',\n",
              "      }\n",
              "    };\n",
              "  }\n",
              "\n",
              "  for (const file of files) {\n",
              "    const li = document.createElement('li');\n",
              "    li.append(span(file.name, {fontWeight: 'bold'}));\n",
              "    li.append(span(\n",
              "        `(${file.type || 'n/a'}) - ${file.size} bytes, ` +\n",
              "        `last modified: ${\n",
              "            file.lastModifiedDate ? file.lastModifiedDate.toLocaleDateString() :\n",
              "                                    'n/a'} - `));\n",
              "    const percent = span('0% done');\n",
              "    li.appendChild(percent);\n",
              "\n",
              "    outputElement.appendChild(li);\n",
              "\n",
              "    const fileDataPromise = new Promise((resolve) => {\n",
              "      const reader = new FileReader();\n",
              "      reader.onload = (e) => {\n",
              "        resolve(e.target.result);\n",
              "      };\n",
              "      reader.readAsArrayBuffer(file);\n",
              "    });\n",
              "    // Wait for the data to be ready.\n",
              "    let fileData = yield {\n",
              "      promise: fileDataPromise,\n",
              "      response: {\n",
              "        action: 'continue',\n",
              "      }\n",
              "    };\n",
              "\n",
              "    // Use a chunked sending to avoid message size limits. See b/62115660.\n",
              "    let position = 0;\n",
              "    do {\n",
              "      const length = Math.min(fileData.byteLength - position, MAX_PAYLOAD_SIZE);\n",
              "      const chunk = new Uint8Array(fileData, position, length);\n",
              "      position += length;\n",
              "\n",
              "      const base64 = btoa(String.fromCharCode.apply(null, chunk));\n",
              "      yield {\n",
              "        response: {\n",
              "          action: 'append',\n",
              "          file: file.name,\n",
              "          data: base64,\n",
              "        },\n",
              "      };\n",
              "\n",
              "      let percentDone = fileData.byteLength === 0 ?\n",
              "          100 :\n",
              "          Math.round((position / fileData.byteLength) * 100);\n",
              "      percent.textContent = `${percentDone}% done`;\n",
              "\n",
              "    } while (position < fileData.byteLength);\n",
              "  }\n",
              "\n",
              "  // All done.\n",
              "  yield {\n",
              "    response: {\n",
              "      action: 'complete',\n",
              "    }\n",
              "  };\n",
              "}\n",
              "\n",
              "scope.google = scope.google || {};\n",
              "scope.google.colab = scope.google.colab || {};\n",
              "scope.google.colab._files = {\n",
              "  _uploadFiles,\n",
              "  _uploadFilesContinue,\n",
              "};\n",
              "})(self);\n",
              "</script> "
            ]
          },
          "metadata": {}
        },
        {
          "output_type": "stream",
          "name": "stdout",
          "text": [
            "Saving Mobiles Dataset (2025).csv to Mobiles Dataset (2025).csv\n"
          ]
        }
      ]
    },
    {
      "cell_type": "code",
      "source": [
        "#Question 8\n",
        "#Question 8\n",
        "import numpy as np\n",
        "import pandas as pd\n",
        "from sklearn.model_selection import train_test_split\n",
        "from sklearn.linear_model import LogisticRegression\n",
        "from sklearn.metrics import accuracy_score\n",
        "from sklearn.preprocessing import LabelEncoder # Import LabelEncoder\n",
        "\n",
        "# Load the dataset from a CSV file, specifying the encoding\n",
        "# Replace 'latin-1' with the actual encoding if known\n",
        "data = pd.read_csv('Mobiles Dataset (2025).csv', encoding='latin-1') # Changed line: Added encoding='latin-1'\n",
        "\n",
        "# Assume the last column is the target variable and the rest are features\n",
        "X = data.iloc[:, :-1] # Keep X as a DataFrame\n",
        "y = data.iloc[:, -1].values\n",
        "\n",
        "# Create a LabelEncoder for categorical features\n",
        "label_encoder = LabelEncoder()\n",
        "\n",
        "# Iterate through columns and encode if they are of type 'object' (string)\n",
        "for col in X.columns:\n",
        "    if X[col].dtype == 'object':\n",
        "        X[col] = label_encoder.fit_transform(X[col])\n",
        "\n",
        "# Convert X to a NumPy array after encoding\n",
        "X = X.values\n",
        "\n",
        "# Split the dataset into training and testing sets\n",
        "X_train, X_test, y_train, y_test = train_test_split(X, y, test_size=0.3, random_state=42)\n",
        "\n",
        "# Create a Logistic Regression model\n",
        "model = LogisticRegression(max_iter=10000)\n",
        "\n",
        "# Fit the model to the training data\n",
        "model.fit(X_train, y_train)\n",
        "\n",
        "# Make predictions on the testing data\n",
        "y_pred = model.predict(X_test)\n",
        "\n",
        "# Calculate and print the model accuracy\n",
        "accuracy = accuracy_score(y_test, y_pred)\n",
        "print(f\"Model Accuracy: {accuracy:.2f}\")\n",
        "\n",
        "\n",
        "\n"
      ],
      "metadata": {
        "colab": {
          "base_uri": "https://localhost:8080/"
        },
        "id": "QTJChohIhOk7",
        "outputId": "6ddda995-6668-48fc-fa18-f3127150cf12"
      },
      "execution_count": null,
      "outputs": [
        {
          "output_type": "stream",
          "name": "stdout",
          "text": [
            "Model Accuracy: 0.35\n"
          ]
        },
        {
          "output_type": "stream",
          "name": "stderr",
          "text": [
            "/usr/local/lib/python3.11/dist-packages/sklearn/linear_model/_logistic.py:465: ConvergenceWarning: lbfgs failed to converge (status=1):\n",
            "STOP: TOTAL NO. of ITERATIONS REACHED LIMIT.\n",
            "\n",
            "Increase the number of iterations (max_iter) or scale the data as shown in:\n",
            "    https://scikit-learn.org/stable/modules/preprocessing.html\n",
            "Please also refer to the documentation for alternative solver options:\n",
            "    https://scikit-learn.org/stable/modules/linear_model.html#logistic-regression\n",
            "  n_iter_i = _check_optimize_result(\n"
          ]
        }
      ]
    },
    {
      "cell_type": "code",
      "source": [
        "#Question 9\n",
        "import numpy as np\n",
        "import pandas as pd\n",
        "from sklearn.model_selection import train_test_split, RandomizedSearchCV\n",
        "from sklearn.linear_model import LogisticRegression\n",
        "from sklearn.metrics import accuracy_score\n",
        "from sklearn.datasets import load_iris\n",
        "from scipy.stats import uniform\n",
        "\n",
        "# Load the Iris dataset\n",
        "data = load_iris()\n",
        "X = data.data\n",
        "y = data.target\n",
        "\n",
        "# Split the dataset into training and testing sets\n",
        "X_train, X_test, y_train, y_test = train_test_split(X, y, test_size=0.3, random_state=42)\n",
        "\n",
        "# Define the parameter distribution for hyperparameter tuning\n",
        "param_dist = {\n",
        "    'C': uniform(loc=0.01, scale=10),\n",
        "    'penalty': ['l1', 'l2'],\n",
        "    'solver': ['liblinear', 'saga']\n",
        "}\n",
        "\n",
        "# Create a Logistic Regression model\n",
        "model = LogisticRegression(max_iter=10000)\n",
        "\n",
        "# Apply RandomizedSearchCV to find the best hyperparameters\n",
        "random_search = RandomizedSearchCV(model, param_distributions=param_dist, n_iter=100, cv=5, scoring='accuracy', random_state=42)\n",
        "random_search.fit(X_train, y_train)\n",
        "\n",
        "# Get the best parameters and the corresponding accuracy\n",
        "best_params = random_search.best_params_\n",
        "best_accuracy = random_search.best_score_\n",
        "\n",
        "print(\"Best Parameters:\", best_params)\n",
        "print(f\"Best Cross-Validated Accuracy: {best_accuracy:.2f}\")\n",
        "\n",
        "# Train the model with the best parameters on the full training data\n",
        "best_model = random_search.best_estimator_\n",
        "best_model.fit(X_train, y_train)\n",
        "\n",
        "# Make predictions on the testing data\n",
        "y_pred = best_model.predict(X_test)\n",
        "\n",
        "# Calculate and print the model accuracy on the testing data\n",
        "accuracy = accuracy_score(y_test, y_pred)\n",
        "print(f\"Model Accuracy on Testing Data: {accuracy:.2f}\")\n"
      ],
      "metadata": {
        "colab": {
          "base_uri": "https://localhost:8080/"
        },
        "id": "Ts80iBH7hOXt",
        "outputId": "04e623db-2219-4c20-88fe-9740c835c29c"
      },
      "execution_count": null,
      "outputs": [
        {
          "output_type": "stream",
          "name": "stdout",
          "text": [
            "Best Parameters: {'C': 8.334426408004218, 'penalty': 'l2', 'solver': 'saga'}\n",
            "Best Cross-Validated Accuracy: 0.96\n",
            "Model Accuracy on Testing Data: 1.00\n"
          ]
        }
      ]
    },
    {
      "cell_type": "code",
      "source": [
        "#Question 10\n",
        "import numpy as np\n",
        "import pandas as pd\n",
        "from sklearn.model_selection import train_test_split\n",
        "from sklearn.linear_model import LogisticRegression\n",
        "from sklearn.multiclass import OneVsOneClassifier\n",
        "from sklearn.metrics import accuracy_score\n",
        "from sklearn.datasets import load_iris\n",
        "\n",
        "# Load the Iris dataset\n",
        "data = load_iris()\n",
        "X = data.data\n",
        "y = data.target\n",
        "\n",
        "# Split the dataset into training and testing sets\n",
        "X_train, X_test, y_train, y_test = train_test_split(X, y, test_size=0.3, random_state=42)\n",
        "\n",
        "# Create a Logistic Regression model\n",
        "logistic_model = LogisticRegression(max_iter=10000)\n",
        "\n",
        "# Create an OvO classifier with the Logistic Regression model\n",
        "ovo_classifier = OneVsOneClassifier(logistic_model)\n",
        "\n",
        "# Fit the OvO classifier to the training data\n",
        "ovo_classifier.fit(X_train, y_train)\n",
        "\n",
        "# Make predictions on the testing data\n",
        "y_pred = ovo_classifier.predict(X_test)\n",
        "\n",
        "# Calculate and print the model accuracy\n",
        "accuracy = accuracy_score(y_test, y_pred)\n",
        "print(f\"Model Accuracy with OvO: {accuracy:.2f}\")\n"
      ],
      "metadata": {
        "colab": {
          "base_uri": "https://localhost:8080/"
        },
        "id": "QVUMixV0hOJV",
        "outputId": "f1854917-b465-401a-f1de-cb1e1132024f"
      },
      "execution_count": null,
      "outputs": [
        {
          "output_type": "stream",
          "name": "stdout",
          "text": [
            "Model Accuracy with OvO: 1.00\n"
          ]
        }
      ]
    },
    {
      "cell_type": "code",
      "source": [
        "#Question 11\n",
        "import numpy as np\n",
        "import pandas as pd\n",
        "from sklearn.model_selection import train_test_split\n",
        "from sklearn.linear_model import LogisticRegression\n",
        "from sklearn.metrics import confusion_matrix, accuracy_score\n",
        "import seaborn as sns\n",
        "import matplotlib.pyplot as plt\n",
        "from sklearn.datasets import load_breast_cancer\n",
        "\n",
        "# Load the breast cancer dataset\n",
        "data = load_breast_cancer()\n",
        "X = data.data\n",
        "y = data.target\n",
        "\n",
        "# Split the dataset into training and testing sets\n",
        "X_train, X_test, y_train, y_test = train_test_split(X, y, test_size=0.3, random_state=42)\n",
        "\n",
        "# Create a Logistic Regression model\n",
        "model = LogisticRegression(max_iter=10000)\n",
        "\n",
        "# Fit the model to the training data\n",
        "model.fit(X_train, y_train)\n",
        "\n",
        "# Make predictions on the testing data\n",
        "y_pred = model.predict(X_test)\n",
        "\n",
        "# Calculate and print the model accuracy\n",
        "accuracy = accuracy_score(y_test, y_pred)\n",
        "print(f\"Model Accuracy: {accuracy:.2f}\")\n",
        "\n",
        "# Compute the confusion matrix\n",
        "conf_matrix = confusion_matrix(y_test, y_pred)\n",
        "\n",
        "# Visualize the confusion matrix using seaborn\n",
        "sns.heatmap(conf_matrix, annot=True, fmt='d', cmap='Blues')\n",
        "plt.xlabel('Predicted Label')\n",
        "plt.ylabel('True Label')\n",
        "plt.title('Confusion Matrix')\n",
        "plt.show()\n"
      ],
      "metadata": {
        "colab": {
          "base_uri": "https://localhost:8080/",
          "height": 489
        },
        "id": "qbV7JhD4hN8W",
        "outputId": "b1c271c8-7509-4205-bdfb-15f6a89b9ad2"
      },
      "execution_count": null,
      "outputs": [
        {
          "output_type": "stream",
          "name": "stdout",
          "text": [
            "Model Accuracy: 0.98\n"
          ]
        },
        {
          "output_type": "display_data",
          "data": {
            "text/plain": [
              "<Figure size 640x480 with 2 Axes>"
            ],
            "image/png": "[encoded data removed]"
          },
          "metadata": {}
        }
      ]
    },
    {
      "cell_type": "code",
      "source": [
        "#Question 12\n",
        "import numpy as np\n",
        "import pandas as pd\n",
        "from sklearn.model_selection import train_test_split\n",
        "from sklearn.linear_model import LogisticRegression\n",
        "from sklearn.metrics import precision_score, recall_score, f1_score, accuracy_score, classification_report\n",
        "from sklearn.datasets import load_breast_cancer\n",
        "\n",
        "# Load the breast cancer dataset\n",
        "data = load_breast_cancer()\n",
        "X = data.data\n",
        "y = data.target\n",
        "\n",
        "# Split the dataset into training and testing sets\n",
        "X_train, X_test, y_train, y_test = train_test_split(X, y, test_size=0.3, random_state=42)\n",
        "\n",
        "# Create a Logistic Regression model\n",
        "model = LogisticRegression(max_iter=10000)\n",
        "\n",
        "# Fit the model to the training data\n",
        "model.fit(X_train, y_train)\n",
        "\n",
        "# Make predictions on the testing data\n",
        "y_pred = model.predict(X_test)\n",
        "\n",
        "# Calculate accuracy\n",
        "accuracy = accuracy_score(y_test, y_pred)\n",
        "print(f\"Model Accuracy: {accuracy:.2f}\")\n",
        "\n",
        "# Calculate precision\n",
        "precision = precision_score(y_test, y_pred)\n",
        "print(f\"Model Precision: {precision:.2f}\")\n",
        "\n",
        "# Calculate recall\n",
        "recall = recall_score(y_test, y_pred)\n",
        "print(f\"Model Recall: {recall:.2f}\")\n",
        "\n",
        "# Calculate F1-Score\n",
        "f1 = f1_score(y_test, y_pred)\n",
        "print(f\"Model F1-Score: {f1:.2f}\")\n",
        "\n",
        "# Print classification report for a comprehensive evaluation\n",
        "print(\"\\nClassification Report:\")\n",
        "print(classification_report(y_test, y_pred))\n"
      ],
      "metadata": {
        "colab": {
          "base_uri": "https://localhost:8080/"
        },
        "id": "uX6SlEP2hNua",
        "outputId": "6699eb8c-a364-473d-e5de-d16d545823c6"
      },
      "execution_count": null,
      "outputs": [
        {
          "output_type": "stream",
          "name": "stdout",
          "text": [
            "Model Accuracy: 0.98\n",
            "Model Precision: 0.98\n",
            "Model Recall: 0.98\n",
            "Model F1-Score: 0.98\n",
            "\n",
            "Classification Report:\n",
            "              precision    recall  f1-score   support\n",
            "\n",
            "           0       0.97      0.97      0.97        63\n",
            "           1       0.98      0.98      0.98       108\n",
            "\n",
            "    accuracy                           0.98       171\n",
            "   macro avg       0.97      0.97      0.97       171\n",
            "weighted avg       0.98      0.98      0.98       171\n",
            "\n"
          ]
        }
      ]
    },
    {
      "cell_type": "code",
      "source": [
        "#Question 13\n",
        "import numpy as np\n",
        "import pandas as pd\n",
        "from sklearn.datasets import make_classification\n",
        "from sklearn.model_selection import train_test_split\n",
        "from sklearn.linear_model import LogisticRegression\n",
        "from sklearn.metrics import accuracy_score, classification_report, confusion_matrix\n",
        "import seaborn as sns\n",
        "import matplotlib.pyplot as plt\n",
        "\n",
        "# Create an imbalanced dataset\n",
        "X, y = make_classification(n_samples=1000, n_features=20, n_classes=2, weights=[0.9, 0.1], random_state=42)\n",
        "\n",
        "# Split the dataset into training and testing sets\n",
        "X_train, X_test, y_train, y_test = train_test_split(X, y, test_size=0.3, random_state=42)\n",
        "\n",
        "# Create a Logistic Regression model with class weights\n",
        "model = LogisticRegression(class_weight='balanced', max_iter=10000)\n",
        "\n",
        "# Fit the model to the training data\n",
        "model.fit(X_train, y_train)\n",
        "\n",
        "# Make predictions on the testing data\n",
        "y_pred = model.predict(X_test)\n",
        "\n",
        "# Calculate and print the model accuracy\n",
        "accuracy = accuracy_score(y_test, y_pred)\n",
        "print(f\"Model Accuracy: {accuracy:.2f}\")\n",
        "\n",
        "# Calculate and print precision, recall, and F1-score\n",
        "print(\"\\nClassification Report:\")\n",
        "print(classification_report(y_test, y_pred))\n",
        "\n",
        "# Compute the confusion matrix\n",
        "conf_matrix = confusion_matrix(y_test, y_pred)\n",
        "\n",
        "# Visualize the confusion matrix using seaborn\n",
        "sns.heatmap(conf_matrix, annot=True, fmt='d', cmap='Blues')\n",
        "plt.xlabel('Predicted Label')\n",
        "plt.ylabel('True Label')\n",
        "plt.title('Confusion Matrix')\n",
        "plt.show()\n"
      ],
      "metadata": {
        "colab": {
          "base_uri": "https://localhost:8080/",
          "height": 680
        },
        "id": "PS8RKTXUhNgU",
        "outputId": "22e01051-0fb0-4a03-d474-f014fc4bee74"
      },
      "execution_count": null,
      "outputs": [
        {
          "output_type": "stream",
          "name": "stdout",
          "text": [
            "Model Accuracy: 0.84\n",
            "\n",
            "Classification Report:\n",
            "              precision    recall  f1-score   support\n",
            "\n",
            "           0       0.97      0.85      0.91       270\n",
            "           1       0.37      0.77      0.49        30\n",
            "\n",
            "    accuracy                           0.84       300\n",
            "   macro avg       0.67      0.81      0.70       300\n",
            "weighted avg       0.91      0.84      0.87       300\n",
            "\n"
          ]
        },
        {
          "output_type": "display_data",
          "data": {
            "text/plain": [
              "<Figure size 640x480 with 2 Axes>"
            ],
            "image/png": "[encoded data removed]"
          },
          "metadata": {}
        }
      ]
    },
    {
      "cell_type": "code",
      "source": [
        "#Question 14\n",
        "from google.colab import files\n",
        "uploaded = files.upload()"
      ],
      "metadata": {
        "colab": {
          "base_uri": "https://localhost:8080/",
          "height": 73
        },
        "id": "5pLCTt2ghNSI",
        "outputId": "7821ee1f-b365-4df9-d895-0e0dd3ad0eae"
      },
      "execution_count": 3,
      "outputs": [
        {
          "output_type": "display_data",
          "data": {
            "text/plain": [
              "<IPython.core.display.HTML object>"
            ],
            "text/html": [
              "\n",
              "     <input type=\"file\" id=\"files-612b2426-f78d-4c62-b845-9f77cc9df360\" name=\"files[]\" multiple disabled\n",
              "        style=\"border:none\" />\n",
              "     <output id=\"result-612b2426-f78d-4c62-b845-9f77cc9df360\">\n",
              "      Upload widget is only available when the cell has been executed in the\n",
              "      current browser session. Please rerun this cell to enable.\n",
              "      </output>\n",
              "      <script>// Copyright 2017 Google LLC\n",
              "//\n",
              "// Licensed under the Apache License, Version 2.0 (the \"License\");\n",
              "// you may not use this file except in compliance with the License.\n",
              "// You may obtain a copy of the License at\n",
              "//\n",
              "//      http://www.apache.org/licenses/LICENSE-2.0\n",
              "//\n",
              "// Unless required by applicable law or agreed to in writing, software\n",
              "// distributed under the License is distributed on an \"AS IS\" BASIS,\n",
              "// WITHOUT WARRANTIES OR CONDITIONS OF ANY KIND, either express or implied.\n",
              "// See the License for the specific language governing permissions and\n",
              "// limitations under the License.\n",
              "\n",
              "/**\n",
              " * @fileoverview Helpers for google.colab Python module.\n",
              " */\n",
              "(function(scope) {\n",
              "function span(text, styleAttributes = {}) {\n",
              "  const element = document.createElement('span');\n",
              "  element.textContent = text;\n",
              "  for (const key of Object.keys(styleAttributes)) {\n",
              "    element.style[key] = styleAttributes[key];\n",
              "  }\n",
              "  return element;\n",
              "}\n",
              "\n",
              "// Max number of bytes which will be uploaded at a time.\n",
              "const MAX_PAYLOAD_SIZE = 100 * 1024;\n",
              "\n",
              "function _uploadFiles(inputId, outputId) {\n",
              "  const steps = uploadFilesStep(inputId, outputId);\n",
              "  const outputElement = document.getElementById(outputId);\n",
              "  // Cache steps on the outputElement to make it available for the next call\n",
              "  // to uploadFilesContinue from Python.\n",
              "  outputElement.steps = steps;\n",
              "\n",
              "  return _uploadFilesContinue(outputId);\n",
              "}\n",
              "\n",
              "// This is roughly an async generator (not supported in the browser yet),\n",
              "// where there are multiple asynchronous steps and the Python side is going\n",
              "// to poll for completion of each step.\n",
              "// This uses a Promise to block the python side on completion of each step,\n",
              "// then passes the result of the previous step as the input to the next step.\n",
              "function _uploadFilesContinue(outputId) {\n",
              "  const outputElement = document.getElementById(outputId);\n",
              "  const steps = outputElement.steps;\n",
              "\n",
              "  const next = steps.next(outputElement.lastPromiseValue);\n",
              "  return Promise.resolve(next.value.promise).then((value) => {\n",
              "    // Cache the last promise value to make it available to the next\n",
              "    // step of the generator.\n",
              "    outputElement.lastPromiseValue = value;\n",
              "    return next.value.response;\n",
              "  });\n",
              "}\n",
              "\n",
              "/**\n",
              " * Generator function which is called between each async step of the upload\n",
              " * process.\n",
              " * @param {string} inputId Element ID of the input file picker element.\n",
              " * @param {string} outputId Element ID of the output display.\n",
              " * @return {!Iterable<!Object>} Iterable of next steps.\n",
              " */\n",
              "function* uploadFilesStep(inputId, outputId) {\n",
              "  const inputElement = document.getElementById(inputId);\n",
              "  inputElement.disabled = false;\n",
              "\n",
              "  const outputElement = document.getElementById(outputId);\n",
              "  outputElement.innerHTML = '';\n",
              "\n",
              "  const pickedPromise = new Promise((resolve) => {\n",
              "    inputElement.addEventListener('change', (e) => {\n",
              "      resolve(e.target.files);\n",
              "    });\n",
              "  });\n",
              "\n",
              "  const cancel = document.createElement('button');\n",
              "  inputElement.parentElement.appendChild(cancel);\n",
              "  cancel.textContent = 'Cancel upload';\n",
              "  const cancelPromise = new Promise((resolve) => {\n",
              "    cancel.onclick = () => {\n",
              "      resolve(null);\n",
              "    };\n",
              "  });\n",
              "\n",
              "  // Wait for the user to pick the files.\n",
              "  const files = yield {\n",
              "    promise: Promise.race([pickedPromise, cancelPromise]),\n",
              "    response: {\n",
              "      action: 'starting',\n",
              "    }\n",
              "  };\n",
              "\n",
              "  cancel.remove();\n",
              "\n",
              "  // Disable the input element since further picks are not allowed.\n",
              "  inputElement.disabled = true;\n",
              "\n",
              "  if (!files) {\n",
              "    return {\n",
              "      response: {\n",
              "        action: 'complete',\n",
              "      }\n",
              "    };\n",
              "  }\n",
              "\n",
              "  for (const file of files) {\n",
              "    const li = document.createElement('li');\n",
              "    li.append(span(file.name, {fontWeight: 'bold'}));\n",
              "    li.append(span(\n",
              "        `(${file.type || 'n/a'}) - ${file.size} bytes, ` +\n",
              "        `last modified: ${\n",
              "            file.lastModifiedDate ? file.lastModifiedDate.toLocaleDateString() :\n",
              "                                    'n/a'} - `));\n",
              "    const percent = span('0% done');\n",
              "    li.appendChild(percent);\n",
              "\n",
              "    outputElement.appendChild(li);\n",
              "\n",
              "    const fileDataPromise = new Promise((resolve) => {\n",
              "      const reader = new FileReader();\n",
              "      reader.onload = (e) => {\n",
              "        resolve(e.target.result);\n",
              "      };\n",
              "      reader.readAsArrayBuffer(file);\n",
              "    });\n",
              "    // Wait for the data to be ready.\n",
              "    let fileData = yield {\n",
              "      promise: fileDataPromise,\n",
              "      response: {\n",
              "        action: 'continue',\n",
              "      }\n",
              "    };\n",
              "\n",
              "    // Use a chunked sending to avoid message size limits. See b/62115660.\n",
              "    let position = 0;\n",
              "    do {\n",
              "      const length = Math.min(fileData.byteLength - position, MAX_PAYLOAD_SIZE);\n",
              "      const chunk = new Uint8Array(fileData, position, length);\n",
              "      position += length;\n",
              "\n",
              "      const base64 = btoa(String.fromCharCode.apply(null, chunk));\n",
              "      yield {\n",
              "        response: {\n",
              "          action: 'append',\n",
              "          file: file.name,\n",
              "          data: base64,\n",
              "        },\n",
              "      };\n",
              "\n",
              "      let percentDone = fileData.byteLength === 0 ?\n",
              "          100 :\n",
              "          Math.round((position / fileData.byteLength) * 100);\n",
              "      percent.textContent = `${percentDone}% done`;\n",
              "\n",
              "    } while (position < fileData.byteLength);\n",
              "  }\n",
              "\n",
              "  // All done.\n",
              "  yield {\n",
              "    response: {\n",
              "      action: 'complete',\n",
              "    }\n",
              "  };\n",
              "}\n",
              "\n",
              "scope.google = scope.google || {};\n",
              "scope.google.colab = scope.google.colab || {};\n",
              "scope.google.colab._files = {\n",
              "  _uploadFiles,\n",
              "  _uploadFilesContinue,\n",
              "};\n",
              "})(self);\n",
              "</script> "
            ]
          },
          "metadata": {}
        },
        {
          "output_type": "stream",
          "name": "stdout",
          "text": [
            "Saving Titanic_dataset.csv to Titanic_dataset.csv\n"
          ]
        }
      ]
    },
    {
      "cell_type": "code",
      "source": [
        "import numpy as np\n",
        "import pandas as pd\n",
        "from sklearn.model_selection import train_test_split\n",
        "from sklearn.linear_model import LogisticRegression\n",
        "from sklearn.metrics import accuracy_score, classification_report, confusion_matrix\n",
        "import seaborn as sns\n",
        "import matplotlib.pyplot as plt\n",
        "\n",
        "# Load the Titanic dataset from a CSV file\n",
        "data = pd.read_csv('Titanic_dataset.csv')\n",
        "\n",
        "# Handle missing values\n",
        "data['Age'].fillna(data['Age'].median(), inplace=True)\n",
        "data['Embarked'].fillna(data['Embarked'].mode()[0], inplace=True)\n",
        "data.drop(columns=['Cabin'], inplace=True)\n",
        "\n",
        "# Convert categorical variables into dummy/indicator variables\n",
        "data = pd.get_dummies(data, columns=['Sex', 'Embarked'], drop_first=True)\n",
        "\n",
        "# Ensure all columns are numeric\n",
        "for column in data.select_dtypes(include='object').columns:\n",
        "    data[column] = data[column].astype('category').cat.codes\n",
        "\n",
        "# Define the feature set (X) and the target variable (y)\n",
        "X = data.drop(columns=['Survived', 'Name', 'Ticket', 'PassengerId'])\n",
        "y = data['Survived']\n",
        "\n",
        "# Split the dataset into training and testing sets\n",
        "X_train, X_test, y_train, y_test = train_test_split(X, y, test_size=0.3, random_state=42)\n",
        "\n",
        "# Create a Logistic Regression model\n",
        "model = LogisticRegression(max_iter=10000)\n",
        "\n",
        "# Fit the model to the training data\n",
        "model.fit(X_train, y_train)\n",
        "\n",
        "# Make predictions on the testing data\n",
        "y_pred = model.predict(X_test)\n",
        "\n",
        "# Calculate and print the model accuracy\n",
        "accuracy = accuracy_score(y_test, y_pred)\n",
        "print(f\"Model Accuracy: {accuracy:.2f}\")\n",
        "\n",
        "# Calculate and print precision, recall, and F1-score\n",
        "print(\"\\nClassification Report:\")\n",
        "print(classification_report(y_test, y_pred))\n",
        "\n",
        "# Compute the confusion matrix\n",
        "conf_matrix = confusion_matrix(y_test, y_pred)\n",
        "\n",
        "# Visualize the confusion matrix using seaborn\n",
        "sns.heatmap(conf_matrix, annot=True, fmt='d', cmap='Blues')\n",
        "plt.xlabel('Predicted Label')\n",
        "plt.ylabel('True Label')\n",
        "plt.title('Confusion Matrix')\n",
        "plt.show()\n"
      ],
      "metadata": {
        "colab": {
          "base_uri": "https://localhost:8080/",
          "height": 943
        },
        "id": "khj-Zt31vA3_",
        "outputId": "90f27a6f-78de-4ad4-eefc-f66bd74a9b4b"
      },
      "execution_count": 5,
      "outputs": [
        {
          "output_type": "stream",
          "name": "stderr",
          "text": [
            "<ipython-input-5-13cd4fd29a76>:13: FutureWarning: A value is trying to be set on a copy of a DataFrame or Series through chained assignment using an inplace method.\n",
            "The behavior will change in pandas 3.0. This inplace method will never work because the intermediate object on which we are setting values always behaves as a copy.\n",
            "\n",
            "For example, when doing 'df[col].method(value, inplace=True)', try using 'df.method({col: value}, inplace=True)' or df[col] = df[col].method(value) instead, to perform the operation inplace on the original object.\n",
            "\n",
            "\n",
            "  data['Age'].fillna(data['Age'].median(), inplace=True)\n",
            "<ipython-input-5-13cd4fd29a76>:14: FutureWarning: A value is trying to be set on a copy of a DataFrame or Series through chained assignment using an inplace method.\n",
            "The behavior will change in pandas 3.0. This inplace method will never work because the intermediate object on which we are setting values always behaves as a copy.\n",
            "\n",
            "For example, when doing 'df[col].method(value, inplace=True)', try using 'df.method({col: value}, inplace=True)' or df[col] = df[col].method(value) instead, to perform the operation inplace on the original object.\n",
            "\n",
            "\n",
            "  data['Embarked'].fillna(data['Embarked'].mode()[0], inplace=True)\n"
          ]
        },
        {
          "output_type": "stream",
          "name": "stdout",
          "text": [
            "Model Accuracy: 0.81\n",
            "\n",
            "Classification Report:\n",
            "              precision    recall  f1-score   support\n",
            "\n",
            "           0       0.82      0.87      0.84       157\n",
            "           1       0.79      0.73      0.76       111\n",
            "\n",
            "    accuracy                           0.81       268\n",
            "   macro avg       0.81      0.80      0.80       268\n",
            "weighted avg       0.81      0.81      0.81       268\n",
            "\n"
          ]
        },
        {
          "output_type": "display_data",
          "data": {
            "text/plain": [
              "<Figure size 640x480 with 2 Axes>"
            ],
            "image/png": "[encoded data removed]"
          },
          "metadata": {}
        }
      ]
    },
    {
      "cell_type": "code",
      "source": [
        "#Question 15\n",
        "import numpy as np\n",
        "import pandas as pd\n",
        "from sklearn.model_selection import train_test_split\n",
        "from sklearn.linear_model import LogisticRegression\n",
        "from sklearn.preprocessing import StandardScaler\n",
        "from sklearn.metrics import accuracy_score, classification_report\n",
        "\n",
        "# Load the Iris dataset\n",
        "data = pd.read_csv('https://raw.githubusercontent.com/mwaskom/seaborn-data/master/iris.csv')\n",
        "\n",
        "# Assume the last column is the target variable and the rest are features\n",
        "X = data.drop(columns=['species'])\n",
        "y = data['species']\n",
        "\n",
        "# Convert target variable to numeric\n",
        "y = pd.Categorical(y).codes\n",
        "\n",
        "# Split the dataset into training and testing sets\n",
        "X_train, X_test, y_train, y_test = train_test_split(X, y, test_size=0.3, random_state=42)\n",
        "\n",
        "# Create a Logistic Regression model\n",
        "model = LogisticRegression(max_iter=10000)\n",
        "\n",
        "# Train and evaluate the model without feature scaling\n",
        "model.fit(X_train, y_train)\n",
        "y_pred = model.predict(X_test)\n",
        "accuracy_without_scaling = accuracy_score(y_test, y_pred)\n",
        "print(f\"Model Accuracy without Scaling: {accuracy_without_scaling:.2f}\")\n",
        "\n",
        "# Apply feature scaling (Standardization)\n",
        "scaler = StandardScaler()\n",
        "X_train_scaled = scaler.fit_transform(X_train)\n",
        "X_test_scaled = scaler.transform(X_test)\n",
        "\n",
        "# Train and evaluate the model with feature scaling\n",
        "model.fit(X_train_scaled, y_train)\n",
        "y_pred_scaled = model.predict(X_test_scaled)\n",
        "accuracy_with_scaling = accuracy_score(y_test, y_pred_scaled)\n",
        "print(f\"Model Accuracy with Scaling: {accuracy_with_scaling:.2f}\")\n",
        "\n",
        "# Print classification report\n",
        "print(\"\\nClassification Report with Scaling:\")\n",
        "print(classification_report(y_test, y_pred_scaled))\n"
      ],
      "metadata": {
        "id": "wdLUBFx7hNDe",
        "colab": {
          "base_uri": "https://localhost:8080/"
        },
        "outputId": "161f595e-b30d-4ba6-c8eb-d53040b812a0"
      },
      "execution_count": 6,
      "outputs": [
        {
          "output_type": "stream",
          "name": "stdout",
          "text": [
            "Model Accuracy without Scaling: 1.00\n",
            "Model Accuracy with Scaling: 1.00\n",
            "\n",
            "Classification Report with Scaling:\n",
            "              precision    recall  f1-score   support\n",
            "\n",
            "           0       1.00      1.00      1.00        19\n",
            "           1       1.00      1.00      1.00        13\n",
            "           2       1.00      1.00      1.00        13\n",
            "\n",
            "    accuracy                           1.00        45\n",
            "   macro avg       1.00      1.00      1.00        45\n",
            "weighted avg       1.00      1.00      1.00        45\n",
            "\n"
          ]
        }
      ]
    },
    {
      "cell_type": "code",
      "source": [
        "#Question 16\n",
        "import numpy as np\n",
        "import pandas as pd\n",
        "from sklearn.model_selection import train_test_split\n",
        "from sklearn.linear_model import LogisticRegression\n",
        "from sklearn.metrics import roc_auc_score, roc_curve, auc\n",
        "import matplotlib.pyplot as plt\n",
        "from sklearn.datasets import load_breast_cancer\n",
        "\n",
        "# Load the breast cancer dataset\n",
        "data = load_breast_cancer()\n",
        "X = data.data\n",
        "y = data.target\n",
        "\n",
        "# Split the dataset into training and testing sets\n",
        "X_train, X_test, y_train, y_test = train_test_split(X, y, test_size=0.3, random_state=42)\n",
        "\n",
        "# Create a Logistic Regression model\n",
        "model = LogisticRegression(max_iter=10000)\n",
        "\n",
        "# Fit the model to the training data\n",
        "model.fit(X_train, y_train)\n",
        "\n",
        "# Make probability predictions on the testing data\n",
        "y_pred_prob = model.predict_proba(X_test)[:, 1]\n",
        "\n",
        "# Calculate the ROC-AUC score\n",
        "roc_auc = roc_auc_score(y_test, y_pred_prob)\n",
        "print(f\"ROC-AUC Score: {roc_auc:.2f}\")\n",
        "\n",
        "# Compute ROC curve\n",
        "fpr, tpr, thresholds = roc_curve(y_test, y_pred_prob)\n",
        "\n",
        "# Compute the area under the ROC curve\n",
        "roc_auc = auc(fpr, tpr)\n",
        "\n",
        "# Plot the ROC curve\n",
        "plt.figure()\n",
        "plt.plot(fpr, tpr, color='blue', lw=2, label=f'ROC curve (area = {roc_auc:.2f})')\n",
        "plt.plot([0, 1], [0, 1], color='gray', lw=2, linestyle='--')\n",
        "plt.xlim([0.0, 1.0])\n",
        "plt.ylim([0.0, 1.05])\n",
        "plt.xlabel('False Positive Rate')\n",
        "plt.ylabel('True Positive Rate')\n",
        "plt.title('Receiver Operating Characteristic (ROC) Curve')\n",
        "plt.legend(loc='lower right')\n",
        "plt.show()\n"
      ],
      "metadata": {
        "id": "yFk5a8sGhM10",
        "colab": {
          "base_uri": "https://localhost:8080/",
          "height": 489
        },
        "outputId": "0513826d-8f22-4692-acd9-e3538a55fa67"
      },
      "execution_count": 7,
      "outputs": [
        {
          "output_type": "stream",
          "name": "stdout",
          "text": [
            "ROC-AUC Score: 1.00\n"
          ]
        },
        {
          "output_type": "display_data",
          "data": {
            "text/plain": [
              "<Figure size 640x480 with 1 Axes>"
            ],
            "image/png": "[encoded data removed]"
          },
          "metadata": {}
        }
      ]
    },
    {
      "cell_type": "code",
      "source": [
        "#Question 17\n",
        "import numpy as np\n",
        "from sklearn.model_selection import train_test_split\n",
        "from sklearn.linear_model import LogisticRegression\n",
        "from sklearn.datasets import load_iris\n",
        "from sklearn.metrics import accuracy_score\n",
        "\n",
        "# Load dataset (you can use any dataset, I'm using iris for demonstration)\n",
        "data = load_iris()\n",
        "X = data.data\n",
        "y = data.target\n",
        "\n",
        "# Split the data into training and test sets\n",
        "X_train, X_test, y_train, y_test = train_test_split(X, y, test_size=0.2, random_state=42)\n",
        "\n",
        "# Initialize the Logistic Regression model with custom regularization parameter C\n",
        "log_reg = LogisticRegression(C=0.5, solver='liblinear')\n",
        "\n",
        "# Train the model\n",
        "log_reg.fit(X_train, y_train)\n",
        "\n",
        "# Make predictions\n",
        "y_pred = log_reg.predict(X_test)\n",
        "\n",
        "# Evaluate the accuracy\n",
        "accuracy = accuracy_score(y_test, y_pred)\n",
        "print(f'Accuracy: {accuracy * 100:.2f}%')\n"
      ],
      "metadata": {
        "id": "JVUrOeSvhMoX",
        "colab": {
          "base_uri": "https://localhost:8080/"
        },
        "outputId": "0e71a85b-4a2d-4b0b-b2d4-c05b2328dd72"
      },
      "execution_count": 8,
      "outputs": [
        {
          "output_type": "stream",
          "name": "stdout",
          "text": [
            "Accuracy: 100.00%\n"
          ]
        }
      ]
    },
    {
      "cell_type": "code",
      "source": [
        "#Question 18\n",
        "import numpy as np\n",
        "import pandas as pd\n",
        "from sklearn.model_selection import train_test_split\n",
        "from sklearn.linear_model import LogisticRegression\n",
        "from sklearn.datasets import load_iris\n",
        "import matplotlib.pyplot as plt\n",
        "\n",
        "# Load dataset\n",
        "data = load_iris()\n",
        "X = data.data\n",
        "y = data.target\n",
        "\n",
        "# Split the data into training and test sets\n",
        "X_train, X_test, y_train, y_test = train_test_split(X, y, test_size=0.2, random_state=42)\n",
        "\n",
        "# Initialize the Logistic Regression model\n",
        "log_reg = LogisticRegression(C=0.5, solver='liblinear')\n",
        "\n",
        "# Train the model\n",
        "log_reg.fit(X_train, y_train)\n",
        "\n",
        "# Get the model coefficients\n",
        "coefficients = log_reg.coef_\n",
        "\n",
        "# Create a DataFrame to display feature importance for each class\n",
        "feature_names = data.feature_names\n",
        "feature_importance = pd.DataFrame(coefficients, index=['class_0', 'class_1', 'class_2'], columns=feature_names)\n",
        "\n",
        "# Calculate absolute coefficients for overall importance\n",
        "feature_importance['mean_abs_coef'] = feature_importance.abs().mean(axis=0) # Calculate mean absolute coefficient across classes\n",
        "feature_importance = feature_importance.sort_values(by='mean_abs_coef', ascending=False) # Sort by overall importance\n",
        "\n",
        "print(\"Feature Importance based on model coefficients:\")\n",
        "print(feature_importance)\n",
        "\n",
        "# Plot the feature importance based on overall importance\n",
        "feature_importance['mean_abs_coef'].plot(kind='barh', figsize=(10, 6))\n",
        "plt.title('Feature Importance')\n",
        "plt.xlabel('Mean Absolute Coefficient') # Updated x-axis label\n",
        "plt.ylabel('Feature')\n",
        "plt.show()"
      ],
      "metadata": {
        "colab": {
          "base_uri": "https://localhost:8080/",
          "height": 738
        },
        "id": "0qf69RuPwegv",
        "outputId": "f9692e62-a59b-4f3d-b5e9-1f9e919b2c24"
      },
      "execution_count": 11,
      "outputs": [
        {
          "output_type": "stream",
          "name": "stdout",
          "text": [
            "Feature Importance based on model coefficients:\n",
            "         sepal length (cm)  sepal width (cm)  petal length (cm)  \\\n",
            "class_0           0.312662          1.190641          -1.829119   \n",
            "class_1           0.367333         -1.253878           0.366636   \n",
            "class_2          -1.214107         -1.125627           1.825389   \n",
            "\n",
            "         petal width (cm)  mean_abs_coef  \n",
            "class_0         -0.808296            NaN  \n",
            "class_1         -0.757922            NaN  \n",
            "class_2          1.570970            NaN  \n"
          ]
        },
        {
          "output_type": "display_data",
          "data": {
            "text/plain": [
              "<Figure size 1000x600 with 1 Axes>"
            ],
            "image/png": "[encoded data removed]"
          },
          "metadata": {}
        }
      ]
    },
    {
      "cell_type": "code",
      "source": [
        "#Question 19\n",
        "import numpy as np\n",
        "from sklearn.model_selection import train_test_split\n",
        "from sklearn.linear_model import LogisticRegression\n",
        "from sklearn.datasets import load_iris\n",
        "from sklearn.metrics import cohen_kappa_score\n",
        "\n",
        "# Load dataset (you can use any dataset, I'm using iris for demonstration)\n",
        "data = load_iris()\n",
        "X = data.data\n",
        "y = data.target\n",
        "\n",
        "# Split the data into training and test sets\n",
        "X_train, X_test, y_train, y_test = train_test_split(X, y, test_size=0.2, random_state=42)\n",
        "\n",
        "# Initialize the Logistic Regression model\n",
        "log_reg = LogisticRegression(C=0.5, solver='liblinear')\n",
        "\n",
        "# Train the model\n",
        "log_reg.fit(X_train, y_train)\n",
        "\n",
        "# Make predictions\n",
        "y_pred = log_reg.predict(X_test)\n",
        "\n",
        "# Evaluate the performance using Cohen's Kappa Score\n",
        "kappa_score = cohen_kappa_score(y_test, y_pred)\n",
        "print(f'Cohen\\'s Kappa Score: {kappa_score:.2f}')\n"
      ],
      "metadata": {
        "id": "1mmUC-X7hMNS",
        "colab": {
          "base_uri": "https://localhost:8080/"
        },
        "outputId": "44be280c-2e2a-463d-9e65-db71be4c364a"
      },
      "execution_count": 12,
      "outputs": [
        {
          "output_type": "stream",
          "name": "stdout",
          "text": [
            "Cohen's Kappa Score: 1.00\n"
          ]
        }
      ]
    },
    {
      "cell_type": "code",
      "source": [
        "#Question 20\n",
        "import numpy as np\n",
        "from sklearn.model_selection import train_test_split\n",
        "from sklearn.linear_model import LogisticRegression\n",
        "from sklearn.datasets import make_classification\n",
        "from sklearn.metrics import precision_recall_curve, average_precision_score\n",
        "import matplotlib.pyplot as plt\n",
        "\n",
        "# Create a synthetic dataset (you can use your own binary classification dataset)\n",
        "X, y = make_classification(n_samples=1000, n_features=20, n_classes=2, random_state=42)\n",
        "\n",
        "# Split the data into training and test sets\n",
        "X_train, X_test, y_train, y_test = train_test_split(X, y, test_size=0.2, random_state=42)\n",
        "\n",
        "# Initialize the Logistic Regression model\n",
        "log_reg = LogisticRegression(C=0.5, solver='liblinear')\n",
        "\n",
        "# Train the model\n",
        "log_reg.fit(X_train, y_train)\n",
        "\n",
        "# Make predictions and get the prediction probabilities\n",
        "y_scores = log_reg.predict_proba(X_test)[:, 1]\n",
        "\n",
        "# Calculate precision and recall values\n",
        "precision, recall, thresholds = precision_recall_curve(y_test, y_scores)\n",
        "\n",
        "# Calculate the average precision score\n",
        "average_precision = average_precision_score(y_test, y_scores)\n",
        "\n",
        "# Plot the Precision-Recall Curve\n",
        "plt.figure(figsize=(8, 6))\n",
        "plt.plot(recall, precision, label=f'Logistic Regression (AP={average_precision:.2f})')\n",
        "plt.xlabel('Recall')\n",
        "plt.ylabel('Precision')\n",
        "plt.title('Precision-Recall Curve')\n",
        "plt.legend(loc='best')\n",
        "plt.grid(True)\n",
        "plt.show()\n"
      ],
      "metadata": {
        "id": "SHHDr0wWhMAz",
        "colab": {
          "base_uri": "https://localhost:8080/",
          "height": 564
        },
        "outputId": "d3d486f9-a5b7-4055-d461-4d682dd18e63"
      },
      "execution_count": 13,
      "outputs": [
        {
          "output_type": "display_data",
          "data": {
            "text/plain": [
              "<Figure size 800x600 with 1 Axes>"
            ],
            "image/png": "[encoded data removed]"
          },
          "metadata": {}
        }
      ]
    },
    {
      "cell_type": "code",
      "source": [
        "#Question 21\n",
        "import numpy as np\n",
        "from sklearn.model_selection import train_test_split\n",
        "from sklearn.linear_model import LogisticRegression\n",
        "from sklearn.datasets import load_iris\n",
        "from sklearn.metrics import accuracy_score\n",
        "\n",
        "# Load dataset\n",
        "data = load_iris()\n",
        "X = data.data\n",
        "y = data.target\n",
        "\n",
        "# Split the data into training and test sets\n",
        "X_train, X_test, y_train, y_test = train_test_split(X, y, test_size=0.2, random_state=42)\n",
        "\n",
        "# Initialize solvers to be tested\n",
        "solvers = ['liblinear', 'saga', 'lbfgs']\n",
        "\n",
        "# Dictionary to store accuracy results for each solver\n",
        "accuracy_results = {}\n",
        "\n",
        "for solver in solvers:\n",
        "    # Initialize the Logistic Regression model with the current solver\n",
        "    log_reg = LogisticRegression(C=0.5, solver=solver, max_iter=1000)\n",
        "\n",
        "    # Train the model\n",
        "    log_reg.fit(X_train, y_train)\n",
        "\n",
        "    # Make predictions\n",
        "    y_pred = log_reg.predict(X_test)\n",
        "\n",
        "    # Evaluate the accuracy\n",
        "    accuracy = accuracy_score(y_test, y_pred)\n",
        "    accuracy_results[solver] = accuracy\n",
        "\n",
        "# Print accuracy results for each solver\n",
        "for solver, accuracy in accuracy_results.items():\n",
        "    print(f'Solver: {solver}, Accuracy: {accuracy * 100:.2f}%')\n"
      ],
      "metadata": {
        "id": "Ad3xH3WYhL0I",
        "colab": {
          "base_uri": "https://localhost:8080/"
        },
        "outputId": "4c8da24d-edf7-45e1-cd7c-9deb4731c53e"
      },
      "execution_count": 14,
      "outputs": [
        {
          "output_type": "stream",
          "name": "stdout",
          "text": [
            "Solver: liblinear, Accuracy: 100.00%\n",
            "Solver: saga, Accuracy: 100.00%\n",
            "Solver: lbfgs, Accuracy: 100.00%\n"
          ]
        },
        {
          "output_type": "stream",
          "name": "stderr",
          "text": [
            "/usr/local/lib/python3.11/dist-packages/sklearn/linear_model/_sag.py:348: ConvergenceWarning: The max_iter was reached which means the coef_ did not converge\n",
            "  warnings.warn(\n"
          ]
        }
      ]
    },
    {
      "cell_type": "code",
      "source": [
        "#Question 22\n",
        "import numpy as np\n",
        "from sklearn.model_selection import train_test_split\n",
        "from sklearn.linear_model import LogisticRegression\n",
        "from sklearn.datasets import load_iris\n",
        "from sklearn.metrics import matthews_corrcoef\n",
        "\n",
        "# Load dataset (you can use any dataset, I'm using iris for demonstration)\n",
        "data = load_iris()\n",
        "X = data.data\n",
        "y = data.target\n",
        "\n",
        "# For MCC, we typically focus on binary classification\n",
        "# Let's convert the problem into a binary one by selecting two classes\n",
        "X = X[y != 2]\n",
        "y = y[y != 2]\n",
        "\n",
        "# Split the data into training and test sets\n",
        "X_train, X_test, y_train, y_test = train_test_split(X, y, test_size=0.2, random_state=42)\n",
        "\n",
        "# Initialize the Logistic Regression model\n",
        "log_reg = LogisticRegression(C=0.5, solver='liblinear')\n",
        "\n",
        "# Train the model\n",
        "log_reg.fit(X_train, y_train)\n",
        "\n",
        "# Make predictions\n",
        "y_pred = log_reg.predict(X_test)\n",
        "\n",
        "# Evaluate the performance using Matthews Correlation Coefficient (MCC)\n",
        "mcc = matthews_corrcoef(y_test, y_pred)\n",
        "print(f'Matthews Correlation Coefficient (MCC): {mcc:.2f}')\n"
      ],
      "metadata": {
        "id": "8mGrd8ZIhLl0",
        "colab": {
          "base_uri": "https://localhost:8080/"
        },
        "outputId": "c2f9e6b1-f964-4a40-9701-b6a8b34f2303"
      },
      "execution_count": 15,
      "outputs": [
        {
          "output_type": "stream",
          "name": "stdout",
          "text": [
            "Matthews Correlation Coefficient (MCC): 1.00\n"
          ]
        }
      ]
    },
    {
      "cell_type": "code",
      "source": [
        "#Question 23\n",
        "import numpy as np\n",
        "from sklearn.model_selection import train_test_split\n",
        "from sklearn.linear_model import LogisticRegression\n",
        "from sklearn.datasets import load_iris\n",
        "from sklearn.preprocessing import StandardScaler\n",
        "from sklearn.metrics import accuracy_score\n",
        "\n",
        "# Load dataset\n",
        "data = load_iris()\n",
        "X = data.data\n",
        "y = data.target\n",
        "\n",
        "# Split the data into training and test sets\n",
        "X_train, X_test, y_train, y_test = train_test_split(X, y, test_size=0.2, random_state=42)\n",
        "\n",
        "# Initialize the Logistic Regression model\n",
        "log_reg = LogisticRegression(C=0.5, solver='liblinear')\n",
        "\n",
        "# Train the model on raw data\n",
        "log_reg.fit(X_train, y_train)\n",
        "y_pred_raw = log_reg.predict(X_test)\n",
        "accuracy_raw = accuracy_score(y_test, y_pred_raw)\n",
        "print(f'Accuracy on raw data: {accuracy_raw * 100:.2f}%')\n",
        "\n",
        "# Standardize the data\n",
        "scaler = StandardScaler()\n",
        "X_train_std = scaler.fit_transform(X_train)\n",
        "X_test_std = scaler.transform(X_test)\n",
        "\n",
        "# Train the model on standardized data\n",
        "log_reg.fit(X_train_std, y_train)\n",
        "y_pred_std = log_reg.predict(X_test_std)\n",
        "accuracy_std = accuracy_score(y_test, y_pred_std)\n",
        "print(f'Accuracy on standardized data: {accuracy_std * 100:.2f}%')\n",
        "\n",
        "# Compare the accuracies\n",
        "print(f'Difference in accuracy: {accuracy_std - accuracy_raw:.2f}')\n"
      ],
      "metadata": {
        "id": "geOemQxIhLVd",
        "colab": {
          "base_uri": "https://localhost:8080/"
        },
        "outputId": "9e513b67-7352-4939-f8cf-88de81af6566"
      },
      "execution_count": 16,
      "outputs": [
        {
          "output_type": "stream",
          "name": "stdout",
          "text": [
            "Accuracy on raw data: 100.00%\n",
            "Accuracy on standardized data: 96.67%\n",
            "Difference in accuracy: -0.03\n"
          ]
        }
      ]
    },
    {
      "cell_type": "code",
      "source": [
        "#Question 24\n",
        "import numpy as np\n",
        "from sklearn.model_selection import train_test_split, GridSearchCV\n",
        "from sklearn.linear_model import LogisticRegression\n",
        "from sklearn.datasets import load_iris\n",
        "from sklearn.metrics import accuracy_score\n",
        "\n",
        "# Load dataset\n",
        "data = load_iris()\n",
        "X = data.data\n",
        "y = data.target\n",
        "\n",
        "# Split the data into training and test sets\n",
        "X_train, X_test, y_train, y_test = train_test_split(X, y, test_size=0.2, random_state=42)\n",
        "\n",
        "# Initialize the Logistic Regression model\n",
        "log_reg = LogisticRegression(solver='liblinear')\n",
        "\n",
        "# Define the parameter grid for C (regularization strength)\n",
        "param_grid = {'C': [0.01, 0.1, 1, 10, 100]}\n",
        "\n",
        "# Perform grid search with cross-validation\n",
        "grid_search = GridSearchCV(log_reg, param_grid, cv=5, scoring='accuracy')\n",
        "grid_search.fit(X_train, y_train)\n",
        "\n",
        "# Get the best parameter and model\n",
        "best_C = grid_search.best_params_['C']\n",
        "best_model = grid_search.best_estimator_\n",
        "\n",
        "# Train the best model on the full training set\n",
        "best_model.fit(X_train, y_train)\n",
        "\n",
        "# Make predictions on the test set\n",
        "y_pred = best_model.predict(X_test)\n",
        "\n",
        "# Evaluate the accuracy\n",
        "accuracy = accuracy_score(y_test, y_pred)\n",
        "print(f'Optimal C: {best_C}')\n",
        "print(f'Accuracy with optimal C: {accuracy * 100:.2f}%')\n"
      ],
      "metadata": {
        "id": "ZV9JwAHuhLHe",
        "colab": {
          "base_uri": "https://localhost:8080/"
        },
        "outputId": "ee966516-c58e-46ee-92a2-391f128cd09c"
      },
      "execution_count": 17,
      "outputs": [
        {
          "output_type": "stream",
          "name": "stdout",
          "text": [
            "Optimal C: 10\n",
            "Accuracy with optimal C: 100.00%\n"
          ]
        }
      ]
    },
    {
      "cell_type": "code",
      "source": [
        "#Question 25\n",
        "import numpy as np\n",
        "from sklearn.model_selection import train_test_split\n",
        "from sklearn.linear_model import LogisticRegression\n",
        "from sklearn.datasets import load_iris\n",
        "from sklearn.metrics import accuracy_score\n",
        "import joblib\n",
        "\n",
        "# Load dataset\n",
        "data = load_iris()\n",
        "X = data.data\n",
        "y = data.target\n",
        "\n",
        "# Split the data into training and test sets\n",
        "X_train, X_test, y_train, y_test = train_test_split(X, y, test_size=0.2, random_state=42)\n",
        "\n",
        "# Initialize and train the Logistic Regression model\n",
        "log_reg = LogisticRegression(C=0.5, solver='liblinear')\n",
        "log_reg.fit(X_train, y_train)\n",
        "\n",
        "# Save the trained model using joblib\n",
        "model_filename = 'logistic_regression_model.joblib'\n",
        "joblib.dump(log_reg, model_filename)\n",
        "print(f'Model saved as {model_filename}')\n",
        "\n",
        "# Load the trained model using joblib\n",
        "loaded_model = joblib.load(model_filename)\n",
        "print('Model loaded successfully')\n",
        "\n",
        "# Make predictions with the loaded model\n",
        "y_pred = loaded_model.predict(X_test)\n",
        "\n",
        "# Evaluate the accuracy of the loaded model\n",
        "accuracy = accuracy_score(y_test, y_pred)\n",
        "print(f'Accuracy of the loaded model: {accuracy * 100:.2f}%')\n"
      ],
      "metadata": {
        "id": "kbnDbHHFhK5d",
        "colab": {
          "base_uri": "https://localhost:8080/"
        },
        "outputId": "7ee8280f-aeed-41eb-89f9-ef7ee1a8d763"
      },
      "execution_count": 18,
      "outputs": [
        {
          "output_type": "stream",
          "name": "stdout",
          "text": [
            "Model saved as logistic_regression_model.joblib\n",
            "Model loaded successfully\n",
            "Accuracy of the loaded model: 100.00%\n"
          ]
        }
      ]
    },
    {
      "cell_type": "code",
      "source": [],
      "metadata": {
        "id": "0sktFxgRyG_T"
      },
      "execution_count": null,
      "outputs": []
    }
  ]
}
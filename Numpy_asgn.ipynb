{
  "nbformat": 4,
  "nbformat_minor": 0,
  "metadata": {
    "colab": {
      "provenance": []
    },
    "kernelspec": {
      "name": "python3",
      "display_name": "Python 3"
    },
    "language_info": {
      "name": "python"
    }
  },
  "cells": [
    {
      "cell_type": "code",
      "execution_count": 1,
      "metadata": {
        "colab": {
          "base_uri": "https://localhost:8080/"
        },
        "id": "weZoOYI1caQc",
        "outputId": "5029e6dc-5294-49c3-f521-04bdf601d96b"
      },
      "outputs": [
        {
          "output_type": "stream",
          "name": "stdout",
          "text": [
            "Original array:\n",
            "[[22 95 27]\n",
            " [69 13 87]\n",
            " [71 98 76]]\n",
            "\n",
            "Transposed array:\n",
            "[[22 69 71]\n",
            " [95 13 98]\n",
            " [27 87 76]]\n"
          ]
        }
      ],
      "source": [
        "# 1.Create a 3x3 NumPy array with random integers between 1 and 100. Then, interchange its rows and columns.\n",
        "import numpy as np\n",
        "array = np.random.randint(1, 101, size=(3, 3))\n",
        "transposed_array = array.T\n",
        "import numpy as np\n",
        "\n",
        "array = np.random.randint(1, 101, size=(3, 3))\n",
        "transposed_array = array.T\n",
        "\n",
        "print(\"Original array:\")\n",
        "print(array)\n",
        "print(\"\\nTransposed array:\")\n",
        "print(transposed_array)\n"
      ]
    },
    {
      "cell_type": "code",
      "source": [
        "# 2.  Generate a 1D NumPy array with 10 elements. Reshape it into a 2x5 array, then into a 5x2 array.\n",
        "import numpy as np\n",
        "array_1d = np.arange(10)\n",
        "array_2x5 = array_1d.reshape(2, 5)\n",
        "array_5x2 = array_1d.reshape(5, 2)\n",
        "import numpy as np\n",
        "\n",
        "array_1d = np.arange(10)\n",
        "array_2x5 = array_1d.reshape(2, 5)\n",
        "array_5x2 = array_1d.reshape(5, 2)\n",
        "\n",
        "print(\"Original 1D array:\")\n",
        "print(array_1d)\n",
        "print(\"\\nReshaped to 2x5:\")\n",
        "print(array_2x5)\n",
        "print(\"\\nReshaped to 5x2:\")\n",
        "print(array_5x2)\n"
      ],
      "metadata": {
        "colab": {
          "base_uri": "https://localhost:8080/"
        },
        "id": "O5Lzj9UkjaGZ",
        "outputId": "735752b0-26f4-450f-b0a8-21fdfaaf4fcd"
      },
      "execution_count": 3,
      "outputs": [
        {
          "output_type": "stream",
          "name": "stdout",
          "text": [
            "Original 1D array:\n",
            "[0 1 2 3 4 5 6 7 8 9]\n",
            "\n",
            "Reshaped to 2x5:\n",
            "[[0 1 2 3 4]\n",
            " [5 6 7 8 9]]\n",
            "\n",
            "Reshaped to 5x2:\n",
            "[[0 1]\n",
            " [2 3]\n",
            " [4 5]\n",
            " [6 7]\n",
            " [8 9]]\n"
          ]
        }
      ]
    },
    {
      "cell_type": "code",
      "source": [
        "# Create a 4x4 NumPy array with random float values. Add a border of zeros around it, resulting in a 6x6 array.\n",
        "array_4x4 = np.random.rand(4, 4)\n",
        "array_6x6 = np.zeros((6, 6))\n",
        "array_6x6[1:5, 1:5] = array_4x4\n",
        "import numpy as np\n",
        "\n",
        "array_4x4 = np.random.rand(4, 4)\n",
        "array_6x6 = np.zeros((6, 6))\n",
        "array_6x6[1:5, 1:5] = array_4x4\n",
        "\n",
        "print(\"Original 4x4 array:\")\n",
        "print(array_4x4)\n",
        "print(\"\\n6x6 array with border of zeros:\")\n",
        "print(array_6x6)\n",
        "\n"
      ],
      "metadata": {
        "colab": {
          "base_uri": "https://localhost:8080/"
        },
        "id": "Rf4QfjQ3jtU_",
        "outputId": "bd682d85-1f83-4a91-8f1c-383489a713ed"
      },
      "execution_count": 4,
      "outputs": [
        {
          "output_type": "stream",
          "name": "stdout",
          "text": [
            "Original 4x4 array:\n",
            "[[0.68017813 0.30697772 0.52654008 0.08837794]\n",
            " [0.16118047 0.61437914 0.22813161 0.41589992]\n",
            " [0.81423201 0.06956619 0.18921409 0.76547146]\n",
            " [0.82115591 0.66533345 0.72394405 0.37086032]]\n",
            "\n",
            "6x6 array with border of zeros:\n",
            "[[0.         0.         0.         0.         0.         0.        ]\n",
            " [0.         0.68017813 0.30697772 0.52654008 0.08837794 0.        ]\n",
            " [0.         0.16118047 0.61437914 0.22813161 0.41589992 0.        ]\n",
            " [0.         0.81423201 0.06956619 0.18921409 0.76547146 0.        ]\n",
            " [0.         0.82115591 0.66533345 0.72394405 0.37086032 0.        ]\n",
            " [0.         0.         0.         0.         0.         0.        ]]\n"
          ]
        }
      ]
    },
    {
      "cell_type": "code",
      "source": [
        "#  Using NumPy, create an array of integers from 10 to 60 with a step of 5.\n",
        "\n",
        "array = np.arange(10, 61, 5)\n",
        "print(array)"
      ],
      "metadata": {
        "colab": {
          "base_uri": "https://localhost:8080/"
        },
        "id": "Z2_jmXJSk0Lg",
        "outputId": "39749cae-9b08-4b00-bf51-8da3df7cb36f"
      },
      "execution_count": 6,
      "outputs": [
        {
          "output_type": "stream",
          "name": "stdout",
          "text": [
            "[10 15 20 25 30 35 40 45 50 55 60]\n"
          ]
        }
      ]
    },
    {
      "cell_type": "code",
      "source": [
        "# Create a NumPy array of strings ['python', 'numpy', 'pandas']. Apply different case transformations\n",
        "#(uppercase, lowercase, title case, etc.) to each element.\n",
        "\n",
        "# Create the array\n",
        "arr = np.array(['python', 'numpy', 'pandas'])\n",
        "\n",
        "# Uppercase\n",
        "uppercase_arr = np.char.upper(arr)\n",
        "\n",
        "# Lowercase\n",
        "lowercase_arr = np.char.lower(arr)\n",
        "\n",
        "# Title case\n",
        "titlecase_arr = np.char.title(arr)\n",
        "\n",
        "# Capitalize\n",
        "capitalize_arr = np.char.capitalize(arr)\n",
        "\n",
        "# Print the results\n",
        "print(\"Original array:\", arr)\n",
        "print(\"Uppercase:\", uppercase_arr)\n",
        "print(\"Lowercase:\", lowercase_arr)\n",
        "print(\"Title case:\", titlecase_arr)\n",
        "print(\"Capitalize:\", capitalize_arr)"
      ],
      "metadata": {
        "colab": {
          "base_uri": "https://localhost:8080/"
        },
        "id": "O_Uq23gxlRDZ",
        "outputId": "0e40b4d0-d9e6-4d65-cfe7-579de22c852e"
      },
      "execution_count": 7,
      "outputs": [
        {
          "output_type": "stream",
          "name": "stdout",
          "text": [
            "Original array: ['python' 'numpy' 'pandas']\n",
            "Uppercase: ['PYTHON' 'NUMPY' 'PANDAS']\n",
            "Lowercase: ['python' 'numpy' 'pandas']\n",
            "Title case: ['Python' 'Numpy' 'Pandas']\n",
            "Capitalize: ['Python' 'Numpy' 'Pandas']\n"
          ]
        }
      ]
    },
    {
      "cell_type": "code",
      "source": [
        "#  Generate a NumPy array of words. Insert a space between each character of every word in the array\n",
        "arr = np.array(['python', 'numpy', 'pandas'])\n",
        "spaced_arr = np.char.join(' ', arr)\n",
        "print(spaced_arr)"
      ],
      "metadata": {
        "colab": {
          "base_uri": "https://localhost:8080/"
        },
        "id": "wp6i-wK2mEfZ",
        "outputId": "9583f43e-94f9-4c7b-e9a8-6b0f622f8720"
      },
      "execution_count": 8,
      "outputs": [
        {
          "output_type": "stream",
          "name": "stdout",
          "text": [
            "['p y t h o n' 'n u m p y' 'p a n d a s']\n"
          ]
        }
      ]
    },
    {
      "cell_type": "code",
      "source": [
        "#  Create two 2D NumPy arrays and perform element-wise addition, subtraction, multiplication, and division.\n",
        "import numpy as np\n",
        "\n",
        "# Create two 2D arrays\n",
        "array1 = np.array([[1, 2, 3], [4, 5, 6]])\n",
        "array2 = np.array([[7, 8, 9], [10, 11, 12]])\n",
        "\n",
        "# Element-wise addition\n",
        "addition = array1 + array2\n",
        "\n",
        "# Element-wise subtraction\n",
        "subtraction = array1 - array2\n",
        "\n",
        "# Element-wise multiplication\n",
        "multiplication = array1 * array2\n",
        "\n",
        "# Element-wise division\n",
        "division = array1 / array2\n",
        "\n",
        "# Print the results\n",
        "print(\"Array 1:\\n\", array1)\n",
        "print(\"\\nArray 2:\\n\", array2)\n",
        "print(\"\\nAddition:\\n\", addition)\n",
        "print(\"\\nSubtraction:\\n\", subtraction)\n",
        "print(\"\\nMultiplication:\\n\", multiplication)\n",
        "print(\"\\nDivision:\\n\", division)"
      ],
      "metadata": {
        "colab": {
          "base_uri": "https://localhost:8080/"
        },
        "id": "uxPSIDWGmL0q",
        "outputId": "1553c6b5-48a9-459d-88db-97af4ab66d61"
      },
      "execution_count": 9,
      "outputs": [
        {
          "output_type": "stream",
          "name": "stdout",
          "text": [
            "Array 1:\n",
            " [[1 2 3]\n",
            " [4 5 6]]\n",
            "\n",
            "Array 2:\n",
            " [[ 7  8  9]\n",
            " [10 11 12]]\n",
            "\n",
            "Addition:\n",
            " [[ 8 10 12]\n",
            " [14 16 18]]\n",
            "\n",
            "Subtraction:\n",
            " [[-6 -6 -6]\n",
            " [-6 -6 -6]]\n",
            "\n",
            "Multiplication:\n",
            " [[ 7 16 27]\n",
            " [40 55 72]]\n",
            "\n",
            "Division:\n",
            " [[0.14285714 0.25       0.33333333]\n",
            " [0.4        0.45454545 0.5       ]]\n"
          ]
        }
      ]
    },
    {
      "cell_type": "code",
      "source": [
        "# Use NumPy to create a 5x5 identity matrix, then extract its diagonal elements.\n",
        "\n",
        "\n",
        "\n",
        "identity_matrix = np.identity(5)\n",
        "diagonal_elements = np.diag(identity_matrix)\n",
        "\n",
        "print(\"Identity Matrix:\")\n",
        "print(identity_matrix)\n",
        "print(\"\\nDiagonal Elements:\")\n",
        "print(diagonal_elements)"
      ],
      "metadata": {
        "colab": {
          "base_uri": "https://localhost:8080/"
        },
        "id": "0wYRFzi5mp33",
        "outputId": "869f5be5-1481-48dd-f005-0c468c64efb2"
      },
      "execution_count": 10,
      "outputs": [
        {
          "output_type": "stream",
          "name": "stdout",
          "text": [
            "Identity Matrix:\n",
            "[[1. 0. 0. 0. 0.]\n",
            " [0. 1. 0. 0. 0.]\n",
            " [0. 0. 1. 0. 0.]\n",
            " [0. 0. 0. 1. 0.]\n",
            " [0. 0. 0. 0. 1.]]\n",
            "\n",
            "Diagonal Elements:\n",
            "[1. 1. 1. 1. 1.]\n"
          ]
        }
      ]
    },
    {
      "cell_type": "code",
      "source": [
        "#  Generate a NumPy array of 100 random integers between 0 and 1000. Find and display all prime numbers in\n",
        "#this array.\n",
        "\n",
        "def is_prime(n):\n",
        "  if n <= 1:\n",
        "    return False\n",
        "  for i in range(2, int(n**0.5) + 1):\n",
        "    if n % i == 0:\n",
        "      return False\n",
        "  return True\n",
        "\n",
        "# Generate array of random integers\n",
        "random_array = np.random.randint(0, 1001, size=100)\n",
        "\n",
        "# Find prime numbers\n",
        "prime_numbers = [num for num in random_array if is_prime(num)]\n",
        "\n",
        "# Display prime numbers\n",
        "print(\"Random Array:\", random_array)\n",
        "print(\"\\nPrime Numbers in the Array:\", prime_numbers)"
      ],
      "metadata": {
        "colab": {
          "base_uri": "https://localhost:8080/"
        },
        "id": "IuegA-86oFxc",
        "outputId": "a5a7d65a-c2a3-4e2f-bf36-38717a96d905"
      },
      "execution_count": 11,
      "outputs": [
        {
          "output_type": "stream",
          "name": "stdout",
          "text": [
            "Random Array: [ 386  794  791  613  185  352  873   94  485  881  307  352  920  590\n",
            "  392  821  176  950  316  121  967  306  273  488  787  745  178  518\n",
            "  406  290  859   35  847  608  447  420  410  833  540  867  483  347\n",
            "  952  593  798  790   81  941  326  513  189  929  689  722  768  528\n",
            "  560  240  875  806  986  421  643  108  816  214  983   22  836  266\n",
            "  579  155   18 1000  176  208  692  200  731  973  692  471  589  877\n",
            "  511  163  199  914  774  685  325  437  224  568  560  880  206  377\n",
            "  442  973]\n",
            "\n",
            "Prime Numbers in the Array: [613, 881, 307, 821, 967, 787, 859, 347, 593, 941, 929, 421, 643, 983, 877, 163, 199]\n"
          ]
        }
      ]
    },
    {
      "cell_type": "code",
      "source": [
        "#  Create a NumPy array representing daily temperatures for a month. Calculate and display the weekly\n",
        "#averages\n",
        "\n",
        "\n",
        "# Assume 30 days in the month\n",
        "daily_temperatures = np.random.randint(20, 35, size=30)\n",
        "\n",
        "# Reshape into weeks (assuming each week has 7 days)\n",
        "# Calculate the number of full weeks\n",
        "num_full_weeks = len(daily_temperatures) // 7\n",
        "\n",
        "# Reshape only the full weeks' data\n",
        "weekly_temperatures = daily_temperatures[:num_full_weeks * 7].reshape(-1, 7)\n",
        "\n",
        "# Calculate weekly averages for full weeks\n",
        "weekly_averages = np.mean(weekly_temperatures, axis=1)\n",
        "\n",
        "# Display results\n",
        "print(\"Daily Temperatures:\", daily_temperatures)\n",
        "print(\"\\nWeekly Temperatures:\\n\", weekly_temperatures)\n",
        "print(\"\\nWeekly Averages:\", weekly_averages)"
      ],
      "metadata": {
        "colab": {
          "base_uri": "https://localhost:8080/"
        },
        "id": "Sf81a9ZWodwm",
        "outputId": "3af90243-228b-4270-f847-aa52518d2931"
      },
      "execution_count": 13,
      "outputs": [
        {
          "output_type": "stream",
          "name": "stdout",
          "text": [
            "Daily Temperatures: [20 27 25 34 29 33 31 21 26 31 24 26 25 20 24 33 32 32 34 22 31 34 29 34\n",
            " 21 28 23 31 23 23]\n",
            "\n",
            "Weekly Temperatures:\n",
            " [[20 27 25 34 29 33 31]\n",
            " [21 26 31 24 26 25 20]\n",
            " [24 33 32 32 34 22 31]\n",
            " [34 29 34 21 28 23 31]]\n",
            "\n",
            "Weekly Averages: [28.42857143 24.71428571 29.71428571 28.57142857]\n"
          ]
        }
      ]
    },
    {
      "cell_type": "code",
      "source": [],
      "metadata": {
        "id": "U4EsChHeopGs"
      },
      "execution_count": null,
      "outputs": []
    }
  ]
}
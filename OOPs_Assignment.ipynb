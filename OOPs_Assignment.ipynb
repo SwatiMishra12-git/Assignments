{
  "nbformat": 4,
  "nbformat_minor": 0,
  "metadata": {
    "colab": {
      "provenance": [],
      "authorship_tag": "ABX9TyPXNllSVnDyrWLp2nWSiHye"
    },
    "kernelspec": {
      "name": "python3",
      "display_name": "Python 3"
    },
    "language_info": {
      "name": "python"
    }
  },
  "cells": [
    {
      "cell_type": "code",
      "execution_count": null,
      "metadata": {
        "id": "7eiIhVGtWxG8"
      },
      "outputs": [],
      "source": [
        "#Question 1"
      ]
    },
    {
      "cell_type": "markdown",
      "source": [
        "The five key concepts of Object-Oriented Programming (OOP) are:\n",
        "\n",
        "1. **Encapsulation**: This is the practice of bundling data (variables) and methods (functions) that operate on the data into a single unit called a class. Encapsulation helps to hide the internal state and only expose necessary functionalities, promoting modularity and code reusability.\n",
        "\n",
        "2. **Abstraction**: Abstraction is the process of simplifying complex systems by modeling classes based on their most essential and relevant characteristics. It enables focusing on what an object does rather than how it does it.\n",
        "\n",
        "3. **Inheritance**: Inheritance allows a new class (subclass) to inherit properties and methods from an existing class (superclass). This promotes code reusability and hierarchical classification, making it easier to create and maintain an application.\n",
        "\n",
        "4. **Polymorphism**: Polymorphism allows methods to do different things based on the object it is acting upon, even if they share the same name. It enables the use of a single interface to represent different data types, enhancing flexibility and integration.\n",
        "\n",
        "5. **Classes and Objects**: Classes are blueprints for creating objects (instances). They define a type of object according to the data it can hold and the behaviors it can perform. Objects are instances of classes that hold specific values and share common characteristics.\n",
        "\n",
        "These concepts form the foundation of OOP, making it easier to design and manage complex software systems."
      ],
      "metadata": {
        "id": "coy6I5OQXqZ-"
      }
    },
    {
      "cell_type": "code",
      "source": [
        "#Question 2\n",
        "class Car:\n",
        "    def __init__(self, make, model, year):\n",
        "        self.make = make\n",
        "        self.model = model\n",
        "        self.year = year\n",
        "\n",
        "    def display_info(self):\n",
        "        print(f\"Car Information:\\nMake: {self.make}\\nModel: {self.model}\\nYear: {self.year}\")\n",
        "\n",
        "# Example usage:\n",
        "car1 = Car(\"Toyota\", \"Corolla\", 2020)\n",
        "car1.display_info()\n"
      ],
      "metadata": {
        "colab": {
          "base_uri": "https://localhost:8080/"
        },
        "id": "fiDigexIYklb",
        "outputId": "05ace172-1950-42c3-eb0d-008fff512d2e"
      },
      "execution_count": null,
      "outputs": [
        {
          "output_type": "stream",
          "name": "stdout",
          "text": [
            "Car Information:\n",
            "Make: Toyota\n",
            "Model: Corolla\n",
            "Year: 2020\n"
          ]
        }
      ]
    },
    {
      "cell_type": "code",
      "source": [
        "#Question 3"
      ],
      "metadata": {
        "id": "RHSFjxYnlMTs"
      },
      "execution_count": null,
      "outputs": []
    },
    {
      "cell_type": "markdown",
      "source": [
        "**Instance Methods**\n",
        "\n",
        "Instance methods are the most common type of methods in a class. They operate on an instance of the class and have access to the instance's attributes and methods. They are defined with the first parameter as self, which refers to the instance of the class."
      ],
      "metadata": {
        "id": "fWC5zF1TlOXc"
      }
    },
    {
      "cell_type": "code",
      "source": [
        "#Example of instance method\n",
        "class Car:\n",
        "    def __init__(self, make, model, year):\n",
        "        self.make = make\n",
        "        self.model = model\n",
        "        self.year = year\n",
        "\n",
        "    def display_info(self):\n",
        "        print(f\"Car Information:\\nMake: {self.make}\\nModel: {self.model}\\nYear: {self.year}\")\n",
        "\n",
        "# Creating an instance of the Car class\n",
        "car1 = Car(\"Toyota\", \"Corolla\", 2020)\n",
        "car1.display_info()\n"
      ],
      "metadata": {
        "colab": {
          "base_uri": "https://localhost:8080/"
        },
        "id": "6JSj76dclRmd",
        "outputId": "2340033a-7bab-4e2c-a615-3b23c145a4e3"
      },
      "execution_count": null,
      "outputs": [
        {
          "output_type": "stream",
          "name": "stdout",
          "text": [
            "Car Information:\n",
            "Make: Toyota\n",
            "Model: Corolla\n",
            "Year: 2020\n"
          ]
        }
      ]
    },
    {
      "cell_type": "markdown",
      "source": [
        "**Class Methods**\n",
        "\n",
        "Class methods operate on the class itself rather than on instances of the class. They are defined with the first parameter as cls, which refers to the class itself. Class methods are typically used for operations that are related to the class but not necessarily tied to any specific instance. To define a class method, you use the @classmethod decorator."
      ],
      "metadata": {
        "id": "75x6TvVelZ7w"
      }
    },
    {
      "cell_type": "code",
      "source": [
        "#Example of Class Method\n",
        "class Car:\n",
        "    num_wheels = 4  # Class attribute\n",
        "\n",
        "    def __init__(self, make, model, year):\n",
        "        self.make = make\n",
        "        self.model = model\n",
        "        self.year = year\n",
        "\n",
        "    def display_info(self):\n",
        "        print(f\"Car Information:\\nMake: {self.make}\\nModel: {self.model}\\nYear: {self.year}\")\n",
        "\n",
        "    @classmethod\n",
        "    def display_num_wheels(cls):\n",
        "        print(f\"All cars have {cls.num_wheels} wheels.\")\n",
        "\n",
        "# Creating an instance of the Car class\n",
        "car1 = Car(\"Toyota\", \"Corolla\", 2020)\n",
        "car1.display_info()\n",
        "\n",
        "# Calling the class method\n",
        "Car.display_num_wheels()\n"
      ],
      "metadata": {
        "colab": {
          "base_uri": "https://localhost:8080/"
        },
        "id": "cofNHjwhlf3F",
        "outputId": "cb0ae697-435d-48df-ffd9-1a83942e1d42"
      },
      "execution_count": null,
      "outputs": [
        {
          "output_type": "stream",
          "name": "stdout",
          "text": [
            "Car Information:\n",
            "Make: Toyota\n",
            "Model: Corolla\n",
            "Year: 2020\n",
            "All cars have 4 wheels.\n"
          ]
        }
      ]
    },
    {
      "cell_type": "code",
      "source": [
        "#Question 4"
      ],
      "metadata": {
        "id": "U87j47Th6ryu"
      },
      "execution_count": null,
      "outputs": []
    },
    {
      "cell_type": "markdown",
      "source": [
        "In Python, method overloading is a bit different from other programming languages. Python doesn’t support method overloading natively, but you can achieve similar functionality by using default arguments or by checking the type of arguments passed to the function."
      ],
      "metadata": {
        "id": "AfXOAzOE6t4C"
      }
    },
    {
      "cell_type": "code",
      "source": [
        "#Example\n",
        "class Example:\n",
        "    def display(self, a=None, b=None):\n",
        "        if a is not None and b is not None:\n",
        "            print(f\"Two arguments: {a} and {b}\")\n",
        "        elif a is not None:\n",
        "            print(f\"One argument: {a}\")\n",
        "        else:\n",
        "            print(\"No arguments\")\n",
        "\n",
        "example = Example()\n",
        "example.display()  # No arguments\n",
        "example.display(5)  # One argument: 5\n",
        "example.display(5, 10)  # Two arguments: 5 and 10\n"
      ],
      "metadata": {
        "colab": {
          "base_uri": "https://localhost:8080/"
        },
        "id": "gm1F2wC76vTb",
        "outputId": "3ad13395-6ae3-4f54-bbfe-004c77464896"
      },
      "execution_count": null,
      "outputs": [
        {
          "output_type": "stream",
          "name": "stdout",
          "text": [
            "No arguments\n",
            "One argument: 5\n",
            "Two arguments: 5 and 10\n"
          ]
        }
      ]
    },
    {
      "cell_type": "code",
      "source": [
        "#Question 5\n"
      ],
      "metadata": {
        "id": "rACMnWhZ67Cp"
      },
      "execution_count": null,
      "outputs": []
    },
    {
      "cell_type": "markdown",
      "source": [
        "In Python, there are three types of access modifiers that control the accessibility of class members (variables and methods). These access modifiers are:\n",
        "\n",
        "1. **Public**: Members are accessible from anywhere. By default, all members in a class are public. They are denoted without any leading underscores.\n",
        "   - Example: `my_variable`\n",
        "2. **Protected**: Members are accessible within the class and its subclasses. They are denoted with a single leading underscore.\n",
        "   - Example: `_my_variable`\n",
        "3. **Private**: Members are accessible only within the class. They are denoted with a double leading underscore.\n",
        "   - Example: `__my_variable`\n"
      ],
      "metadata": {
        "id": "F8-50jSm7TyP"
      }
    },
    {
      "cell_type": "code",
      "source": [
        "#Question 6\n",
        "# In Python, there are five main types of inheritance:\n",
        "\n",
        "#1. **Single Inheritance**: A class inherits from one parent class.\n",
        "class Parent:\n",
        "       pass\n",
        "class Child(Parent):\n",
        "       pass\n",
        "\n",
        "#2. **Multiple Inheritance**: A class inherits from more than one parent class.\n",
        "\n",
        "class Parent1:\n",
        "       pass\n",
        "\n",
        "class Parent2:\n",
        "       pass\n",
        "class Child(Parent1, Parent2) :\n",
        "       pass\n",
        "\n",
        "\n",
        "#3. **Multilevel Inheritance**: A class inherits from a parent class, which itself is a child class.\n",
        "\n",
        "class Grandparent:\n",
        "       pass\n",
        "\n",
        "class Parent(Grandparent):\n",
        "       pass\n",
        "class Child(Parent):\n",
        "       pass\n",
        "\n",
        "\n",
        "#4. **Hierarchical Inheritance**: Multiple child classes inherit from a single parent class.\n",
        "class Parent:\n",
        "       pass\n",
        "class Child1(Parent):\n",
        "       pass\n",
        "\n",
        "class Child2(Parent):\n",
        "       pass\n",
        "\n",
        "\n",
        "#5. **Hybrid Inheritance**: A combination of two or more types of inheritance.\n",
        "\n",
        "class Parent:\n",
        "       pass\n",
        "\n",
        "class Child1(Parent):\n",
        "       pass\n",
        "\n",
        "class Child2(Parent):\n",
        "       pass\n",
        "\n",
        "class Grandchild(Child1, Child2):\n",
        "       pass\n",
        "\n",
        "\n",
        "### Multiple Inheritance Example\n",
        "\n",
        "class Parent1:\n",
        "    def fun1(self):\n",
        "        print(\"This is Parent1\")\n",
        "\n",
        "class Parent2:\n",
        "    def fun2(self):\n",
        "        print(\"This is Parent2\")\n",
        "\n",
        "class Child(Parent1, Parent2):\n",
        "    def fun3(self):\n",
        "        print(\"This is Child\")\n",
        "\n",
        "child = Child()\n",
        "child.fun1()  # This is Parent1\n",
        "child.fun2()  # This is Parent2\n",
        "child.fun3()  # This is Child\n"
      ],
      "metadata": {
        "colab": {
          "base_uri": "https://localhost:8080/"
        },
        "id": "eaGvcqE97Z6g",
        "outputId": "91293015-c47f-4b5f-c8d8-618cb8309f0d"
      },
      "execution_count": null,
      "outputs": [
        {
          "output_type": "stream",
          "name": "stdout",
          "text": [
            "This is Parent1\n",
            "This is Parent2\n",
            "This is Child\n"
          ]
        }
      ]
    },
    {
      "cell_type": "code",
      "source": [
        "#Question 7\n"
      ],
      "metadata": {
        "id": "12bjF8j09cdZ"
      },
      "execution_count": null,
      "outputs": []
    },
    {
      "cell_type": "markdown",
      "source": [
        "The Method Resolution Order (MRO) in Python is the order in which a class's methods are resolved when they are called. This is especially important in multiple inheritance, where a class inherits from more than one parent class. The MRO ensures that the methods are called in a specific order, avoiding conflicts and ambiguities.\n",
        "\n",
        "In Python, you can retrieve the MRO programmatically using the mro() method or the __mro__ attribute."
      ],
      "metadata": {
        "id": "oZclP_C_AB_j"
      }
    },
    {
      "cell_type": "code",
      "source": [
        "#Example\n",
        "class Parent1:\n",
        "    def fun(self):\n",
        "        print(\"This is Parent1\")\n",
        "\n",
        "class Parent2:\n",
        "    def fun(self):\n",
        "        print(\"This is Parent2\")\n",
        "\n",
        "class Child(Parent1, Parent2):\n",
        "    pass\n",
        "\n",
        "print(Child.mro())  # Using mro() method\n",
        "print(Child.__mro__)  # Using __mro__ attribute\n"
      ],
      "metadata": {
        "colab": {
          "base_uri": "https://localhost:8080/"
        },
        "id": "dLNnx6LyADEV",
        "outputId": "d4a2fdad-85da-4b8e-88d5-47243b488593"
      },
      "execution_count": null,
      "outputs": [
        {
          "output_type": "stream",
          "name": "stdout",
          "text": [
            "[<class '__main__.Child'>, <class '__main__.Parent1'>, <class '__main__.Parent2'>, <class 'object'>]\n",
            "(<class '__main__.Child'>, <class '__main__.Parent1'>, <class '__main__.Parent2'>, <class 'object'>)\n"
          ]
        }
      ]
    },
    {
      "cell_type": "code",
      "source": [
        "#Question 8\n",
        "from abc import ABC, abstractmethod\n",
        "\n",
        "class Shape(ABC):\n",
        "    @abstractmethod\n",
        "    def area(self):\n",
        "        pass\n",
        "import math\n",
        "\n",
        "class Circle(Shape):\n",
        "    def __init__(self, radius):\n",
        "        self.radius = radius\n",
        "\n",
        "    def area(self):\n",
        "        return math.pi * self.radius ** 2\n",
        "\n",
        "class Rectangle(Shape):\n",
        "    def __init__(self, width, height):\n",
        "        self.width = width\n",
        "        self.height = height\n",
        "\n",
        "    def area(self):\n",
        "        return self.width * self.height\n",
        "\n",
        "circle= Circle(5)\n",
        "rectangle = Rectangle(4, 6)\n",
        "\n",
        "print(\"Circle Area:\", circle.area())\n",
        "print(\"Rectangle Area:\", rectangle.area())\n"
      ],
      "metadata": {
        "colab": {
          "base_uri": "https://localhost:8080/"
        },
        "id": "1ibQ5UlAAOKE",
        "outputId": "6e16a22f-a845-41a4-bce6-71b86af01d09"
      },
      "execution_count": null,
      "outputs": [
        {
          "output_type": "stream",
          "name": "stdout",
          "text": [
            "Circle Area: 78.53981633974483\n",
            "Rectangle Area: 24\n"
          ]
        }
      ]
    },
    {
      "cell_type": "code",
      "source": [
        "#Question 9\n",
        "from abc import ABC, abstractmethod\n",
        "\n",
        "# Abstract Base Class\n",
        "class Shape(ABC):\n",
        "    @abstractmethod\n",
        "    def area(self):\n",
        "        pass\n",
        "\n",
        "# Subclass Circle implementing the area method\n",
        "class Circle(Shape):\n",
        "    def __init__(self, radius):\n",
        "        self.radius = radius\n",
        "\n",
        "    def area(self):\n",
        "        return 3.14 * self.radius ** 2\n",
        "\n",
        "# Subclass Rectangle implementing the area method\n",
        "class Rectangle(Shape):\n",
        "    def __init__(self, width, height):\n",
        "        self.width = width\n",
        "        self.height = height\n",
        "\n",
        "    def area(self):\n",
        "        return self.width * self.height\n",
        "\n",
        "# Function demonstrating polymorphism\n",
        "def print_area(shape):\n",
        "    print(f\"The area is: {shape.area()}\")\n",
        "\n",
        "# Create instances of Circle and Rectangle\n",
        "circle = Circle(5)  # Circle with radius 5\n",
        "rectangle = Rectangle(4, 6)  # Rectangle with width 4 and height 6\n",
        "\n",
        "# Call the function with different shape objects\n",
        "print_area(circle)  # Outputs: The area is: 78.5\n",
        "print_area(rectangle)  # Outputs: The area is: 24\n"
      ],
      "metadata": {
        "colab": {
          "base_uri": "https://localhost:8080/"
        },
        "id": "hmuesMh7JCeX",
        "outputId": "8652987a-05f0-429a-bfc8-e55467085e9a"
      },
      "execution_count": null,
      "outputs": [
        {
          "output_type": "stream",
          "name": "stdout",
          "text": [
            "The area is: 78.5\n",
            "The area is: 24\n"
          ]
        }
      ]
    },
    {
      "cell_type": "code",
      "source": [
        "#Question 10\n",
        "class BankAccount:\n",
        "    def __init__(self, account_number, initial_balance=0):\n",
        "        self.__account_number = account_number\n",
        "        self.__balance = initial_balance\n",
        "\n",
        "    def deposit(self, amount):\n",
        "        if amount > 0:\n",
        "            self.__balance += amount\n",
        "            print(f\"Deposited {amount}. New balance is {self.__balance}.\")\n",
        "        else:\n",
        "            print(\"Deposit amount must be positive.\")\n",
        "\n",
        "    def withdraw(self, amount):\n",
        "        if 0 < amount <= self.__balance:\n",
        "            self.__balance -= amount\n",
        "            print(f\"Withdrew {amount}. New balance is {self.__balance}.\")\n",
        "        else:\n",
        "            print(\"Withdrawal amount must be positive and not exceed the current balance.\")\n",
        "\n",
        "    def get_balance(self):\n",
        "        return self.__balance\n",
        "\n",
        "    def get_account_number(self):\n",
        "        return self.__account_number\n",
        "\n",
        "# Create a BankAccount object\n",
        "account = BankAccount(\"123456789\", 1000)\n",
        "\n",
        "# Perform some transactions\n",
        "account.deposit(500)        # Deposited 500. New balance is 1500.\n",
        "account.withdraw(200)       # Withdrew 200. New balance is 1300.\n",
        "print(account.get_balance())  # Outputs: 1300\n",
        "\n",
        "account.get_account_number\n"
      ],
      "metadata": {
        "colab": {
          "base_uri": "https://localhost:8080/",
          "height": 156
        },
        "id": "-0jzFrErKbjJ",
        "outputId": "a1ccba1a-cc35-4d72-90a0-ba3e12dc82f8"
      },
      "execution_count": null,
      "outputs": [
        {
          "output_type": "stream",
          "name": "stdout",
          "text": [
            "Deposited 500. New balance is 1500.\n",
            "Withdrew 200. New balance is 1300.\n",
            "1300\n"
          ]
        },
        {
          "output_type": "execute_result",
          "data": {
            "text/plain": [
              "<bound method BankAccount.get_account_number of <__main__.BankAccount object at 0x7cbb5c15f1d0>>"
            ],
            "text/html": [
              "<div style=\"max-width:800px; border: 1px solid var(--colab-border-color);\"><style>\n",
              "      pre.function-repr-contents {\n",
              "        overflow-x: auto;\n",
              "        padding: 8px 12px;\n",
              "        max-height: 500px;\n",
              "      }\n",
              "\n",
              "      pre.function-repr-contents.function-repr-contents-collapsed {\n",
              "        cursor: pointer;\n",
              "        max-height: 100px;\n",
              "      }\n",
              "    </style>\n",
              "    <pre style=\"white-space: initial; background:\n",
              "         var(--colab-secondary-surface-color); padding: 8px 12px;\n",
              "         border-bottom: 1px solid var(--colab-border-color);\"><b>BankAccount.get_account_number</b><br/>def get_account_number()</pre><pre class=\"function-repr-contents function-repr-contents-collapsed\" style=\"\"><a class=\"filepath\" style=\"display:none\" href=\"#\">/content/&lt;ipython-input-13-d6869033807d&gt;</a>&lt;no docstring&gt;</pre></div>"
            ]
          },
          "metadata": {},
          "execution_count": 13
        }
      ]
    },
    {
      "cell_type": "code",
      "source": [
        "#Question 11\n",
        "class Point:\n",
        "    def __init__(self, x, y):\n",
        "        self.x = x\n",
        "        self.y = y\n",
        "\n",
        "    def __str__(self):\n",
        "        return f\"Point({self.x}, {self.y})\"\n",
        "\n",
        "    def __add__(self, other):\n",
        "        return Point(self.x + other.x, self.y + other.y)\n",
        "\n",
        "# Creating two Point objects\n",
        "point1 = Point(2, 3)\n",
        "point2 = Point(4, 5)\n",
        "\n",
        "# Printing the Point objects using the __str__ method\n",
        "print(point1)  # Outputs: Point(2, 3)\n",
        "print(point2)  # Outputs: Point(4, 5)\n",
        "\n",
        "# Adding two Point objects using the __add__ method\n",
        "result = point1 + point2\n",
        "print(result)  # Outputs: Point(6, 8)\n"
      ],
      "metadata": {
        "colab": {
          "base_uri": "https://localhost:8080/"
        },
        "id": "ly1Be734Nf_v",
        "outputId": "d44668cf-520c-44ba-eda4-afe5c1ba63f0"
      },
      "execution_count": null,
      "outputs": [
        {
          "output_type": "stream",
          "name": "stdout",
          "text": [
            "Point(2, 3)\n",
            "Point(4, 5)\n",
            "Point(6, 8)\n"
          ]
        }
      ]
    },
    {
      "cell_type": "code",
      "source": [
        "#Question 12\n",
        "import time\n",
        "\n",
        "def execution_time_decorator(func):\n",
        "    def wrapper(*args, **kwargs):\n",
        "        start_time = time.time()\n",
        "        result = func(*args, **kwargs)\n",
        "        end_time = time.time()\n",
        "        execution_time = end_time - start_time\n",
        "        print(f\"Execution time of {func.__name__}: {execution_time:.6f} seconds\")\n",
        "        return result\n",
        "    return wrapper\n",
        "\n",
        "@execution_time_decorator\n",
        "def sample_function(seconds):\n",
        "    time.sleep(seconds)\n",
        "    return f\"Slept for {seconds} seconds\"\n",
        "\n",
        "# Call the decorated function\n",
        "result = sample_function(2)\n",
        "print(result)\n"
      ],
      "metadata": {
        "colab": {
          "base_uri": "https://localhost:8080/"
        },
        "id": "MVDFFJSgUkyU",
        "outputId": "806f5160-9d7a-4c5b-89c8-ede88a9a4d2f"
      },
      "execution_count": null,
      "outputs": [
        {
          "output_type": "stream",
          "name": "stdout",
          "text": [
            "Execution time of sample_function: 2.000136 seconds\n",
            "Slept for 2 seconds\n"
          ]
        }
      ]
    },
    {
      "cell_type": "code",
      "source": [
        "#Question 13\n"
      ],
      "metadata": {
        "id": "aB_FK3ieUsYQ"
      },
      "execution_count": null,
      "outputs": []
    },
    {
      "cell_type": "markdown",
      "source": [
        "The Diamond Problem is a common issue in multiple inheritance where a class inherits from two classes that both inherit from a single common base class. This creates a diamond-shaped inheritance structure. The problem arises when the derived class tries to access a method or attribute that is inherited from the common base class. It's unclear which path to follow to resolve the method or attribute, as there are multiple paths to reach the base class.\n",
        "\n",
        "Diamond Problem Diagram\n",
        "Here's a diagram to illustrate the Diamond Problem:\n",
        "\n"
      ],
      "metadata": {
        "id": "EAULyA2F1OT4"
      }
    },
    {
      "cell_type": "code",
      "source": [
        "    A\n",
        "   / \\\n",
        "  B   C\n",
        "   \\ /\n",
        "    D\n"
      ],
      "metadata": {
        "id": "bHfRLMA51lJt"
      },
      "execution_count": null,
      "outputs": []
    },
    {
      "cell_type": "markdown",
      "source": [
        "In this diagram:\n",
        "\n",
        "Class B and Class C both inherit from Class A.\n",
        "\n",
        "Class D inherits from both B and C.\n",
        "\n",
        "When Class D tries to access a method or attribute from Class A, it's ambiguous whether it should follow the path through Class B or Class C.\n",
        "\n",
        "How Python Resolves the Diamond Problem\n",
        "Python uses the Method Resolution Order (MRO) to resolve the Diamond Problem. The MRO defines the order in which methods are resolved when they are called on an object. Python uses the C3 linearization algorithm (also known as C3 superclass linearization) to compute the MRO.\n",
        "\n",
        "The MRO ensures that a method or attribute is resolved in a specific order, avoiding conflicts and ambiguities. You can retrieve the MRO of a class using the mro() method"
      ],
      "metadata": {
        "id": "SwilrJnf1gDk"
      }
    },
    {
      "cell_type": "code",
      "source": [
        "class A:\n",
        "    def show(self):\n",
        "        print(\"A\")\n",
        "\n",
        "class B(A):\n",
        "    def show(self):\n",
        "        print(\"B\")\n",
        "\n",
        "class C(A):\n",
        "    def show(self):\n",
        "        print(\"C\")\n",
        "\n",
        "class D(B, C):\n",
        "    pass\n",
        "\n",
        "# Creating an object of Class D\n",
        "d = D()\n",
        "d.show()  # Outputs: B\n",
        "\n",
        "# Retrieving the MRO\n",
        "print(D.mro())\n",
        "# Outputs: [<class '__main__.D'>, <class '__main__.B'>, <class '__main__.C'>, <class '__main__.A'>, <class 'object'>]\n"
      ],
      "metadata": {
        "colab": {
          "base_uri": "https://localhost:8080/"
        },
        "id": "hmdEQYKD1oPg",
        "outputId": "f8f00c96-6914-4791-87a8-8351630b83d4"
      },
      "execution_count": null,
      "outputs": [
        {
          "output_type": "stream",
          "name": "stdout",
          "text": [
            "B\n",
            "[<class '__main__.D'>, <class '__main__.B'>, <class '__main__.C'>, <class '__main__.A'>, <class 'object'>]\n"
          ]
        }
      ]
    },
    {
      "cell_type": "code",
      "source": [
        "#Question 14\n",
        "class MyClass:\n",
        "    # Class variable to keep track of the number of instances\n",
        "    instance_count = 0\n",
        "\n",
        "    def __init__(self):\n",
        "        # Increment the instance count each time a new instance is created\n",
        "        MyClass.instance_count += 1\n",
        "\n",
        "    @classmethod\n",
        "    def get_instance_count(cls):\n",
        "        return cls.instance_count\n",
        "\n",
        "# Creating instances of MyClass\n",
        "obj1 = MyClass()\n",
        "obj2 = MyClass()\n",
        "obj3 = MyClass()\n",
        "\n",
        "# Printing the number of instances created\n",
        "print(\"Number of instances created:\", MyClass.get_instance_count())\n",
        "# Outputs: Number of instances created: 3\n"
      ],
      "metadata": {
        "colab": {
          "base_uri": "https://localhost:8080/"
        },
        "id": "DySKueB2Uze-",
        "outputId": "1d1565d7-9f1a-41ea-8ddd-80adafc18fc5"
      },
      "execution_count": null,
      "outputs": [
        {
          "output_type": "stream",
          "name": "stdout",
          "text": [
            "Number of instances created: 3\n"
          ]
        }
      ]
    },
    {
      "cell_type": "code",
      "source": [
        "#Question 15\n",
        "class Year:\n",
        "    @staticmethod\n",
        "    def is_leap_year(year):\n",
        "        if (year % 4 == 0 and year % 100 != 0) or (year % 400 == 0):\n",
        "            return True\n",
        "        else:\n",
        "            return False\n",
        "\n",
        "# Test the static method\n",
        "print(Year.is_leap_year(2020))  # Outputs: True (2020 is a leap year)\n",
        "print(Year.is_leap_year(2021))  # Outputs: False (2021 is not a leap year)\n"
      ],
      "metadata": {
        "colab": {
          "base_uri": "https://localhost:8080/"
        },
        "id": "p7XqDa2MU1L9",
        "outputId": "42509e02-e8f7-40c0-f11d-ebf66d99f43f"
      },
      "execution_count": null,
      "outputs": [
        {
          "output_type": "stream",
          "name": "stdout",
          "text": [
            "True\n",
            "False\n"
          ]
        }
      ]
    }
  ]
}
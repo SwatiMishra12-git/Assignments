{
  "nbformat": 4,
  "nbformat_minor": 0,
  "metadata": {
    "colab": {
      "provenance": [],
      "authorship_tag": "ABX9TyOVub5qmDja6zUcI4KYwlHk"
    },
    "kernelspec": {
      "name": "python3",
      "display_name": "Python 3"
    },
    "language_info": {
      "name": "python"
    }
  },
  "cells": [
    {
      "cell_type": "code",
      "execution_count": null,
      "metadata": {
        "id": "AbTGXUVRGPdZ"
      },
      "outputs": [],
      "source": [
        "#Question 1"
      ]
    },
    {
      "cell_type": "markdown",
      "source": [
        "Data can be broadly classified into two types: **qualitative** and **quantitative**.\n",
        "\n",
        "### Qualitative Data\n",
        "Qualitative data describes qualities or characteristics. It's non-numerical and often categorical. This type of data is useful for capturing the richness of information that can't be quantified.\n",
        "\n",
        "**Examples:**\n",
        "- **Color of cars:** Red, blue, green.\n",
        "- **Types of cuisine:** Italian, Chinese, Indian.\n",
        "- **Customer feedback:** Satisfied, neutral, dissatisfied.\n",
        "\n",
        "### Quantitative Data\n",
        "Quantitative data is numerical and can be measured. It provides information about quantities and is often used for statistical analysis.\n",
        "\n",
        "**Examples:**\n",
        "- **Height of students:** 150 cm, 160 cm, 170 cm.\n",
        "- **Number of books in a library:** 100, 200, 300.\n",
        "- **Monthly sales figures:** $5,000, $10,000, $15,000.\n",
        "\n",
        "### Scales of Measurement\n",
        "In addition to being qualitative or quantitative, data can also be classified by the level of measurement. There are four main scales: **nominal, ordinal, interval,** and **ratio**.\n",
        "\n",
        "#### 1. Nominal Scale\n",
        "- **Definition:** Categorizes data without any order or hierarchy.\n",
        "- **Example:** Types of animals in a zoo—lion, tiger, bear. There's no inherent order.\n",
        "\n",
        "#### 2. Ordinal Scale\n",
        "- **Definition:** Categorizes data with a specific order but without a fixed interval between the categories.\n",
        "- **Example:** Movie ratings—excellent, good, fair, poor. The order matters, but the difference between ratings is not uniform.\n",
        "\n",
        "#### 3. Interval Scale\n",
        "- **Definition:** Numeric scales with equal intervals between values, but no true zero point.\n",
        "- **Example:** Temperature in Celsius or Fahrenheit. The difference between 20°C and 30°C is the same as between 30°C and 40°C, but 0°C doesn't mean \"no temperature.\"\n",
        "\n",
        "#### 4. Ratio Scale\n",
        "- **Definition:** Numeric scales with equal intervals and a true zero point.\n",
        "- **Example:** Weight—50 kg, 100 kg. Here, 0 kg means no weight, and ratios are meaningful (100 kg is twice as heavy as 50 kg).\n",
        "\n"
      ],
      "metadata": {
        "id": "DWilEFc9-81D"
      }
    },
    {
      "cell_type": "code",
      "source": [
        "#Question 2\n"
      ],
      "metadata": {
        "id": "JqN2UBt8-ln8"
      },
      "execution_count": null,
      "outputs": []
    },
    {
      "cell_type": "markdown",
      "source": [
        "Measures of central tendency are statistical measures that describe the center point or typical value of a dataset. The three main measures are **mean**, **median**, and **mode**. Each has its own strengths and is appropriate for different situations.\n",
        "\n",
        "### Mean\n",
        "- **Definition:** The mean is the average of a set of numbers. It's calculated by summing all the values and then dividing by the number of values.\n",
        "- **Example:** In the dataset [2, 4, 6, 8, 10], the mean is (2 + 4 + 6 + 8 + 10) / 5 = 6.\n",
        "- **When to Use:** The mean is useful when the data is symmetrically distributed without outliers. It takes into account all the values, providing a comprehensive measure of the central tendency.\n",
        "- **Situations:** Calculating the average exam score of a class, the average temperature over a week.\n",
        "\n",
        "### Median\n",
        "- **Definition:** The median is the middle value of a dataset when arranged in ascending or descending order. If there's an even number of values, the median is the average of the two middle values.\n",
        "- **Example:** In the dataset [2, 4, 6, 8, 10], the median is 6. In [2, 4, 6, 8, 10, 12], the median is (6 + 8) / 2 = 7.\n",
        "- **When to Use:** The median is useful when the data has outliers or is skewed. It provides a better measure of central tendency in such cases as it is not affected by extreme values.\n",
        "- **Situations:** Determining the median household income in a region, the median age of participants in a survey.\n",
        "\n",
        "### Mode\n",
        "- **Definition:** The mode is the value that appears most frequently in a dataset. A dataset can have one mode, more than one mode, or no mode at all.\n",
        "- **Example:** In the dataset [2, 4, 4, 6, 8, 10], the mode is 4. In [2, 2, 4, 4, 6, 8, 10], the dataset is bimodal with modes 2 and 4.\n",
        "- **When to Use:** The mode is useful for categorical data or when identifying the most common value. It helps to understand the frequency distribution of the dataset.\n",
        "- **Situations:** Finding the most common shoe size sold in a store, the most popular product in a survey.\n",
        "\n"
      ],
      "metadata": {
        "id": "NglHv-9pALZd"
      }
    },
    {
      "cell_type": "code",
      "source": [
        "#Question 3\n"
      ],
      "metadata": {
        "id": "LHBFET77-lcO"
      },
      "execution_count": null,
      "outputs": []
    },
    {
      "cell_type": "markdown",
      "source": [
        "Dispersion, also known as variability or spread, measures the extent to which data points in a dataset differ from each other and from the central tendency (mean, median, or mode). In simpler terms, it shows how spread out the data values are. Measures of dispersion help us understand the distribution and reliability of the data.\n",
        "\n",
        "### Measures of Dispersion\n",
        "Two key measures of dispersion are **variance** and **standard deviation**.\n",
        "\n",
        "#### Variance\n",
        "- **Definition:** Variance quantifies the average squared deviation of each data point from the mean. It provides a measure of how much the values in the dataset differ from the mean.\n",
        "- **Formula:** For a dataset with \\( n \\) values \\((x_1, x_2, \\ldots, x_n)\\) and mean \\(\\bar{x}\\), the variance (\\(\\sigma^2\\)) is calculated as:\n",
        "  $$\n",
        "  \\sigma^2 = \\frac{1}{n}\\sum_{i=1}^{n}(x_i - \\bar{x})^2\n",
        "  $$\n",
        "- **Example:** For the dataset [2, 4, 6], the mean is 4. The variance is \\(\\frac{1}{3}[(2-4)^2 + (4-4)^2 + (6-4)^2] = \\frac{1}{3}[4 + 0 + 4] = \\frac{8}{3} \\approx 2.67\\).\n",
        "- **Usefulness:** Variance is particularly useful in statistical analysis and inferential statistics. However, its squared units can sometimes make interpretation less intuitive.\n",
        "\n",
        "#### Standard Deviation\n",
        "- **Definition:** Standard deviation is the square root of the variance. It provides a measure of the average distance of each data point from the mean.\n",
        "- **Formula:** The standard deviation (\\(\\sigma\\)) is calculated as:\n",
        "  $$\n",
        "  \\sigma = \\sqrt{\\sigma^2} = \\sqrt{\\frac{1}{n}\\sum_{i=1}^{n}(x_i - \\bar{x})^2}\n",
        "  $$\n",
        "- **Example:** For the dataset [2, 4, 6], the variance is \\(\\approx 2.67\\). The standard deviation is \\(\\sqrt{2.67} \\approx 1.63\\).\n",
        "- **Usefulness:** Standard deviation is widely used because it has the same units as the original data, making it easier to interpret. It helps to understand the spread of data and identify outliers.\n",
        "\n",
        "### When to Use Each Measure\n",
        "- **Variance:** Use variance when you need to quantify the overall variability of the data, especially in statistical modeling and hypothesis testing.\n",
        "- **Standard Deviation:** Use standard deviation when you want a measure of dispersion that is easier to interpret and understand. It's commonly used in descriptive statistics and when comparing different datasets.\n"
      ],
      "metadata": {
        "id": "5btpGbgcECjT"
      }
    },
    {
      "cell_type": "code",
      "source": [
        "#Question 4\n",
        "\n"
      ],
      "metadata": {
        "id": "T-c_pp-h-lRP"
      },
      "execution_count": null,
      "outputs": []
    },
    {
      "cell_type": "markdown",
      "source": [
        "A **box plot** (or **box-and-whisker plot**) is a graphical representation that summarizes a dataset through its quartiles, highlighting its distribution, central value, and variability. Here's what it can tell you:\n",
        "\n",
        "### Key Components of a Box Plot\n",
        "1. **Median (Q2):** The middle value of the dataset, represented by a line inside the box.\n",
        "2. **Quartiles:**\n",
        "   - **First Quartile (Q1):** The median of the lower half of the data (25th percentile).\n",
        "   - **Third Quartile (Q3):** The median of the upper half of the data (75th percentile).\n",
        "3. **Interquartile Range (IQR):** The range between Q1 and Q3 (IQR = Q3 - Q1), represented by the box.\n",
        "4. **Whiskers:** Lines extending from the box to the smallest and largest values within 1.5 times the IQR from Q1 and Q3, respectively.\n",
        "5. **Outliers:** Data points beyond the whiskers, often represented as individual dots.\n",
        "\n",
        "### What a Box Plot Tells You\n",
        "- **Central Value:** The median line inside the box shows the dataset's central value.\n",
        "- **Spread:** The box's width (IQR) indicates how spread out the middle 50% of the data is. A wider box means more variability.\n",
        "- **Symmetry:** The box and whiskers' position and length show whether the data is symmetric or skewed.\n",
        "  - **Symmetric Distribution:** Median line is in the middle, and whiskers are of equal length.\n",
        "  - **Skewed Distribution:** Median line is closer to Q1 or Q3, and whiskers are unequal.\n",
        "- **Outliers:** Points beyond the whiskers highlight unusual values or potential data entry errors.\n",
        "\n",
        "### Example\n",
        "Consider this dataset of test scores: [55, 65, 70, 75, 80, 85, 90, 95, 100]\n",
        "- **Median (Q2):** 80\n",
        "- **Q1:** 70\n",
        "- **Q3:** 90\n",
        "- **IQR:** 20 (90 - 70)\n",
        "- **Whiskers:** Extend to 55 (Q1 - 1.5*IQR) and 100 (Q3 + 1.5*IQR)\n",
        "- **Outliers:** None\n",
        "\n",
        "A box plot for this data would show the median (80), the box spanning from 70 to 90, and whiskers from 55 to 100."
      ],
      "metadata": {
        "id": "jhNRfNaPFhzX"
      }
    },
    {
      "cell_type": "code",
      "source": [
        "#Question 5"
      ],
      "metadata": {
        "id": "WhpVvvCa-lGR"
      },
      "execution_count": null,
      "outputs": []
    },
    {
      "cell_type": "markdown",
      "source": [
        "Random sampling is a fundamental technique in statistics used to make inferences about a population based on a smaller, manageable subset of that population. The goal is to obtain a sample that accurately represents the broader population, enabling researchers to draw conclusions with a known level of confidence.\n",
        "\n",
        "### Importance of Random Sampling\n",
        "1. **Representation:** Random sampling ensures that every member of the population has an equal chance of being selected. This helps in creating a sample that is representative of the entire population, reducing bias and improving the validity of the inferences.\n",
        "2. **Generalization:** By analyzing a randomly selected sample, researchers can generalize their findings to the larger population. This is crucial in studies where surveying the entire population is impractical due to time, cost, or logistical constraints.\n",
        "3. **Reliability:** Random sampling enhances the reliability and credibility of statistical results. It minimizes the risk of overestimating or underestimating population parameters, leading to more accurate and trustworthy conclusions.\n",
        "\n",
        "### Types of Random Sampling\n",
        "1. **Simple Random Sampling:** Each member of the population has an equal chance of being selected. This can be done using random number generators or drawing lots.\n",
        "   - **Example:** Drawing names from a hat to select participants for a survey.\n",
        "2. **Stratified Random Sampling:** The population is divided into subgroups (strata) based on certain characteristics (e.g., age, gender). A random sample is then drawn from each stratum.\n",
        "   - **Example:** Surveying students by randomly selecting equal numbers of boys and girls from each grade level.\n",
        "3. **Systematic Random Sampling:** A starting point is randomly selected, and then every \\(n\\)th member of the population is chosen.\n",
        "   - **Example:** Selecting every 10th person from a list of customers for feedback.\n",
        "4. **Cluster Sampling:** The population is divided into clusters, and entire clusters are randomly selected. This method is useful when the population is spread over a large area.\n",
        "   - **Example:** Randomly selecting a few schools from a district and surveying all students in those schools.\n",
        "\n",
        "### Making Inferences\n",
        "Random sampling allows researchers to make inferences about population parameters (e.g., mean, proportion) based on sample statistics. Here’s how it works:\n",
        "1. **Point Estimation:** Using sample data to estimate population parameters. For example, the sample mean can estimate the population mean.\n",
        "2. **Confidence Intervals:** Providing a range of values within which the population parameter is likely to fall. Confidence intervals account for sampling variability and give an estimate of precision.\n",
        "3. **Hypothesis Testing:** Assessing whether there is enough evidence in the sample to support or reject a hypothesis about the population.\n",
        "\n",
        "### Example\n",
        "Imagine a company wants to know the average job satisfaction level of its employees. Surveying all employees is impractical, so they use random sampling:\n",
        "- They use simple random sampling to select 100 employees from the entire workforce.\n",
        "- The average job satisfaction score from the sample is calculated.\n",
        "- Using this sample mean, they construct a confidence interval to estimate the average job satisfaction for all employees.\n",
        "- They perform hypothesis testing to determine if the satisfaction level meets a certain threshold.\n",
        "\n"
      ],
      "metadata": {
        "id": "TGtO6vyfZnr6"
      }
    },
    {
      "cell_type": "code",
      "source": [
        "#Question 6"
      ],
      "metadata": {
        "id": "DmK0qu7t-k6j"
      },
      "execution_count": null,
      "outputs": []
    },
    {
      "cell_type": "markdown",
      "source": [
        "### Skewness\n",
        "Skewness is a measure of the asymmetry or lack of symmetry in the distribution of data. It tells us if the data is skewed to the left (negatively skewed), to the right (positively skewed), or if it is symmetric (no skewness). Skewness affects how we interpret the central tendency and the spread of the data.\n",
        "\n",
        "### Types of Skewness\n",
        "\n",
        "1. **Positive Skewness (Right Skew)**\n",
        "   - **Definition:** When the tail on the right side of the distribution is longer or fatter than the left side.\n",
        "   - **Characteristics:** The mean is usually greater than the median, and the data has a longer right tail.\n",
        "   - **Example:** Income distribution, where a small number of people earn significantly more than the majority.\n",
        "\n",
        "2. **Negative Skewness (Left Skew)**\n",
        "   - **Definition:** When the tail on the left side of the distribution is longer or fatter than the right side.\n",
        "   - **Characteristics:** The mean is usually less than the median, and the data has a longer left tail.\n",
        "   - **Example:** Age at retirement, where most people retire at a certain age, but some retire much earlier.\n",
        "\n",
        "3. **Zero Skewness (Symmetric Distribution)**\n",
        "   - **Definition:** When the distribution is perfectly symmetrical, having no skewness.\n",
        "   - **Characteristics:** The mean, median, and mode are equal.\n",
        "   - **Example:** Heights of adults in a large population, assuming a normal distribution.\n",
        "\n",
        "### Effect of Skewness on Data Interpretation\n",
        "\n",
        "1. **Mean, Median, and Mode:**\n",
        "   - In a positively skewed distribution, the mean is higher than the median. This is because the long right tail pulls the mean to the right.\n",
        "   - In a negatively skewed distribution, the mean is lower than the median. The long left tail pulls the mean to the left.\n",
        "   - In a symmetric distribution, the mean, median, and mode are equal or very close to each other.\n",
        "\n",
        "2. **Data Spread:**\n",
        "   - Skewness indicates that the data is not evenly distributed around the central value. Understanding the direction and extent of skewness helps in identifying the spread and variability of data.\n",
        "\n",
        "3. **Data Analysis:**\n",
        "   - Skewness affects the choice of statistical measures and tests. For example, in skewed data, the median is often a better measure of central tendency than the mean.\n",
        "   - Statistical models that assume normality (symmetry) may not be appropriate for skewed data, and transformations or non-parametric methods may be needed.\n",
        "\n",
        "### Examples of Skewness in Real Life\n",
        "- **Positive Skewness:** Household income, where a few high-income households skew the data.\n",
        "- **Negative Skewness:** Age of retirement, where most people retire around a certain age, but some retire much earlier.\n",
        "- **Zero Skewness:** Heights of adults, which tend to follow a normal distribution.\n",
        "\n"
      ],
      "metadata": {
        "id": "s41n-kDLbLmh"
      }
    },
    {
      "cell_type": "code",
      "source": [
        "#Question 7\n"
      ],
      "metadata": {
        "id": "d5H1Hj0O-kuH"
      },
      "execution_count": null,
      "outputs": []
    },
    {
      "cell_type": "markdown",
      "source": [
        "### Interquartile Range (IQR)\n",
        "\n",
        "The Interquartile Range (IQR) is a measure of statistical dispersion, which is the spread of the data points in a dataset. It represents the range within which the middle 50% of the data lies. The IQR is calculated by subtracting the first quartile (Q1) from the third quartile (Q3):\n",
        "$$\n",
        "\\text{IQR} = Q3 - Q1\n",
        "$$\n",
        "\n",
        "### Quartiles\n",
        "- **First Quartile (Q1):** The 25th percentile, marking the point below which 25% of the data falls.\n",
        "- **Third Quartile (Q3):** The 75th percentile, marking the point below which 75% of the data falls.\n",
        "\n",
        "### Example\n",
        "For the dataset [1, 2, 3, 4, 5, 6, 7, 8, 9, 10]:\n",
        "- Q1 (25th percentile) is 3.\n",
        "- Q3 (75th percentile) is 8.\n",
        "- IQR = 8 - 3 = 5.\n",
        "\n",
        "### Using IQR to Detect Outliers\n",
        "\n",
        "Outliers are data points that lie significantly outside the range of the rest of the data. The IQR is used to identify these outliers by defining an acceptable range for data points.\n",
        "\n",
        "1. **Calculate the lower and upper bounds:**\n",
        "   - **Lower Bound:** \\( Q1 - 1.5 \\times \\text{IQR} \\)\n",
        "   - **Upper Bound:** \\( Q3 + 1.5 \\times \\text{IQR} \\)\n",
        "\n",
        "2. **Identify outliers:**\n",
        "   - Any data point below the lower bound or above the upper bound is considered an outlier.\n",
        "\n",
        "### Example\n",
        "Continuing with our dataset [1, 2, 3, 4, 5, 6, 7, 8, 9, 10]:\n",
        "- IQR = 5\n",
        "- Lower Bound = 3 - 1.5 \\times 5 = -4.5\n",
        "- Upper Bound = 8 + 1.5 \\times 5 = 15.5\n",
        "\n",
        "Since all data points (1 to 10) fall within the range -4.5 to 15.5, there are no outliers in this dataset.\n",
        "\n",
        "### Real-Life Application\n",
        "Consider a dataset of student exam scores. If most students score between 60 and 90, but a few score below 30 or above 95, the IQR can help identify these extreme scores as outliers, which may indicate exceptional performance or issues that need investigation.\n",
        "\n",
        "Using the IQR to detect outliers is a robust method, especially in skewed distributions, where other measures like the mean might not be as reliable.\n"
      ],
      "metadata": {
        "id": "T8vU9ZDPb3wY"
      }
    },
    {
      "cell_type": "code",
      "source": [
        "#Question 8"
      ],
      "metadata": {
        "id": "PvveQ5xs-kg4"
      },
      "execution_count": null,
      "outputs": []
    },
    {
      "cell_type": "markdown",
      "source": [
        "The **binomial distribution** is a discrete probability distribution that describes the number of successes in a fixed number of independent trials of a binary (yes/no) experiment. For the binomial distribution to be applicable, certain conditions must be met:\n",
        "\n",
        "### Conditions for Using the Binomial Distribution\n",
        "\n",
        "1. **Fixed Number of Trials (n):**\n",
        "   - The experiment consists of a fixed number of trials, denoted by \\( n \\).\n",
        "   - Example: Flipping a coin 10 times.\n",
        "\n",
        "2. **Binary Outcomes:**\n",
        "   - Each trial has only two possible outcomes: success or failure.\n",
        "   - Example: Getting a head (success) or a tail (failure) in a coin toss.\n",
        "\n",
        "3. **Independence:**\n",
        "   - The outcomes of each trial are independent of each other. The result of one trial does not affect the outcome of another.\n",
        "   - Example: The result of each coin toss does not influence the next coin toss.\n",
        "\n",
        "4. **Constant Probability of Success (p):**\n",
        "   - The probability of success \\( p \\) remains constant for each trial.\n",
        "   - Example: The probability of getting a head in a fair coin toss is always 0.5.\n",
        "\n",
        "### Parameters of the Binomial Distribution\n",
        "\n",
        "- **n (Number of Trials):** The total number of trials in the experiment.\n",
        "- **p (Probability of Success):** The probability of success in each trial.\n",
        "- **q (Probability of Failure):** The probability of failure in each trial, where \\( q = 1 - p \\).\n",
        "\n",
        "### Probability Mass Function (PMF)\n",
        "\n",
        "The probability of observing exactly \\( k \\) successes in \\( n \\) trials is given by the binomial probability mass function (PMF):\n",
        "$$\n",
        "P(X = k) = \\binom{n}{k} p^k (1-p)^{n-k}\n",
        "$$\n",
        "where \\(\\binom{n}{k}\\) is the binomial coefficient, representing the number of ways to choose \\( k \\) successes out of \\( n \\) trials.\n",
        "\n",
        "### Example\n",
        "\n",
        "Let's say we have a fair coin (p = 0.5) and we want to find the probability of getting exactly 3 heads in 5 flips:\n",
        "- \\( n = 5 \\)\n",
        "- \\( p = 0.5 \\)\n",
        "- \\( k = 3 \\)\n",
        "\n",
        "Using the binomial PMF:\n",
        "$$\n",
        "P(X = 3) = \\binom{5}{3} (0.5)^3 (0.5)^{5-3} = 10 \\times 0.125 \\times 0.25 = 0.3125\n",
        "$$\n",
        "\n",
        "So, the probability of getting exactly 3 heads in 5 coin flips is 0.3125.\n",
        "\n",
        "### Applications\n",
        "\n",
        "- **Quality Control:** Checking the number of defective items in a batch.\n",
        "- **Survey Sampling:** Estimating the proportion of people who favor a certain choice.\n",
        "- **Medical Trials:** Determining the number of patients who respond to a treatment.\n"
      ],
      "metadata": {
        "id": "fK1efULXceLR"
      }
    },
    {
      "cell_type": "code",
      "source": [
        "#Question 9"
      ],
      "metadata": {
        "id": "B-6ZbdnR-kRQ"
      },
      "execution_count": null,
      "outputs": []
    },
    {
      "cell_type": "markdown",
      "source": [
        "### Properties of the Normal Distribution\n",
        "\n",
        "The **normal distribution** (or Gaussian distribution) is one of the most important probability distributions in statistics. It is a continuous probability distribution that is symmetric and bell-shaped, and it describes how the values of a variable are distributed.\n",
        "\n",
        "Here are the key properties of the normal distribution:\n",
        "\n",
        "1. **Symmetry:**\n",
        "   - The normal distribution is symmetric about its mean. This means the left half is a mirror image of the right half.\n",
        "   - The mean, median, and mode of the distribution are all equal and located at the center of the distribution.\n",
        "\n",
        "2. **Bell-Shaped Curve:**\n",
        "   - The distribution forms a bell-shaped curve.\n",
        "   - The tails of the distribution approach the horizontal axis asymptotically, meaning they get closer and closer to the axis but never actually touch it.\n",
        "\n",
        "3. **Mean and Standard Deviation:**\n",
        "   - The shape of the normal distribution is defined by two parameters: the mean (μ) and the standard deviation (σ).\n",
        "   - The mean determines the center of the distribution, while the standard deviation controls the spread or width of the distribution.\n",
        "\n",
        "4. **68-95-99.7 Rule (Empirical Rule):**\n",
        "   - This rule states how data is distributed around the mean in a normal distribution.\n",
        "   - **68%** of the data falls within one standard deviation (σ) of the mean (μ).\n",
        "   - **95%** of the data falls within two standard deviations (2σ) of the mean.\n",
        "   - **99.7%** of the data falls within three standard deviations (3σ) of the mean.\n",
        "\n",
        "### The Empirical Rule (68-95-99.7 Rule)\n",
        "\n",
        "The Empirical Rule is a quick way to understand the distribution of data in a normal distribution. Here's what each part of the rule tells us:\n",
        "\n",
        "1. **68% within 1σ:**\n",
        "   - Approximately 68% of the data lies within one standard deviation above and below the mean (μ ± σ).\n",
        "   - This range captures most of the data points.\n",
        "\n",
        "2. **95% within 2σ:**\n",
        "   - Approximately 95% of the data lies within two standard deviations above and below the mean (μ ± 2σ).\n",
        "   - This range includes the majority of the data points, providing a broader view of the distribution.\n",
        "\n",
        "3. **99.7% within 3σ:**\n",
        "   - Approximately 99.7% of the data lies within three standard deviations above and below the mean (μ ± 3σ).\n",
        "   - This range almost encompasses the entire dataset, leaving very few outliers.\n",
        "\n",
        "### Example\n",
        "\n",
        "Consider the heights of adult men in a population, which are normally distributed with a mean (μ) of 175 cm and a standard deviation (σ) of 10 cm:\n",
        "- **68% of the men** will have heights between 165 cm and 185 cm (μ ± σ).\n",
        "- **95% of the men** will have heights between 155 cm and 195 cm (μ ± 2σ).\n",
        "- **99.7% of the men** will have heights between 145 cm and 205 cm (μ ± 3σ).\n",
        "\n"
      ],
      "metadata": {
        "id": "LTR1-B5Hde2w"
      }
    },
    {
      "cell_type": "code",
      "source": [
        "#Question 10"
      ],
      "metadata": {
        "id": "yQRZL7P0-jD3"
      },
      "execution_count": null,
      "outputs": []
    },
    {
      "cell_type": "markdown",
      "source": [
        "### Real-Life Example of a Poisson Process\n",
        "\n",
        "A **Poisson process** is a statistical process that models the occurrence of events over a fixed period of time or space. These events must happen independently of each other and at a constant average rate. One common real-life example is the number of calls received by a customer support center in an hour.\n",
        "\n",
        "### Example Scenario: Customer Support Calls\n",
        "\n",
        "Let's say a customer support center receives an average of 5 calls per hour. We can model this as a Poisson process with a rate (λ) of 5 calls per hour.\n",
        "\n",
        "### Probability Calculation for a Specific Event\n",
        "\n",
        "Let's calculate the probability of receiving exactly 3 calls in an hour.\n",
        "\n",
        "The formula for the Poisson probability mass function (PMF) is:\n",
        "$$\n",
        "P(X = k) = \\frac{e^{-\\lambda} \\lambda^k}{k!}\n",
        "$$\n",
        "where:\n",
        "- \\( P(X = k) \\) is the probability of receiving exactly \\( k \\) calls.\n",
        "- \\( \\lambda \\) is the average rate (5 calls per hour).\n",
        "- \\( k \\) is the number of calls (3 calls).\n",
        "- \\( e \\) is the base of the natural logarithm (approximately 2.71828).\n",
        "\n",
        "### Calculation\n",
        "\n",
        "Substituting the values into the formula:\n",
        "- \\( \\lambda = 5 \\)\n",
        "- \\( k = 3 \\)\n",
        "\n",
        "$$\n",
        "P(X = 3) = \\frac{e^{-5} \\times 5^3}{3!}\n",
        "$$\n",
        "\n",
        "Calculating step-by-step:\n",
        "\n",
        "1. Calculate \\( e^{-5} \\):\n",
        "   $$ e^{-5} \\approx 0.00674 $$\n",
        "\n",
        "2. Calculate \\( 5^3 \\):\n",
        "   $$ 5^3 = 125 $$\n",
        "\n",
        "3. Calculate \\( 3! \\) (factorial of 3):\n",
        "   $$ 3! = 3 \\times 2 \\times 1 = 6 $$\n",
        "\n",
        "4. Substitute these values into the formula:\n",
        "   $$ P(X = 3) = \\frac{0.00674 \\times 125}{6} \\approx \\frac{0.8425}{6} \\approx 0.1404 $$\n",
        "\n",
        "So, the probability of receiving exactly 3 calls in an hour is approximately 0.1404, or 14.04%.\n",
        "\n",
        "### Interpretation\n",
        "\n",
        "This means that there is a 14.04% chance that the customer support center will receive exactly 3 calls in an hour.\n",
        "\n",
        "The Poisson process and distribution are useful for modeling random events over time or space, such as traffic accidents, arrival of customers, or system failures."
      ],
      "metadata": {
        "id": "l4JheWK8ggR5"
      }
    },
    {
      "cell_type": "code",
      "source": [
        "#Question 11"
      ],
      "metadata": {
        "id": "9ZUhaODk-iz-"
      },
      "execution_count": null,
      "outputs": []
    },
    {
      "cell_type": "markdown",
      "source": [
        "### Random Variable\n",
        "\n",
        "A **random variable** is a numerical outcome of a random phenomenon or experiment. It assigns a number to each possible outcome in a sample space. Random variables are fundamental in probability and statistics, helping us quantify and analyze uncertainty.\n",
        "\n",
        "### Types of Random Variables\n",
        "\n",
        "1. **Discrete Random Variables:**\n",
        "   - **Definition:** A discrete random variable can take on a countable number of distinct values. These values are often whole numbers.\n",
        "   - **Examples:**\n",
        "     - **Number of students** in a classroom: 20, 25, 30.\n",
        "     - **Number of heads** when flipping a coin 5 times: 0, 1, 2, 3, 4, 5.\n",
        "   - **Characteristics:**\n",
        "     - The values are countable and finite.\n",
        "     - Each value has an associated probability.\n",
        "   - **Probability Distribution:**\n",
        "     - Described by a probability mass function (PMF), which gives the probability of each possible value.\n",
        "\n",
        "2. **Continuous Random Variables:**\n",
        "   - **Definition:** A continuous random variable can take on an infinite number of possible values within a given range. These values are often real numbers.\n",
        "   - **Examples:**\n",
        "     - **Height** of students: 150.5 cm, 160.3 cm, 175.2 cm.\n",
        "     - **Time** it takes to run a marathon: 3.5 hours, 4.2 hours.\n",
        "   - **Characteristics:**\n",
        "     - The values are uncountable and can take any value within a range.\n",
        "     - Probabilities are assigned to intervals, not individual values.\n",
        "   - **Probability Distribution:**\n",
        "     - Described by a probability density function (PDF), which gives the likelihood of the variable falling within a certain range.\n",
        "\n",
        "### Comparison\n",
        "\n",
        "| Feature                | Discrete Random Variable       | Continuous Random Variable    |\n",
        "|------------------------|--------------------------------|-------------------------------|\n",
        "| **Values**             | Countable, finite              | Uncountable, infinite         |\n",
        "| **Examples**           | Number of cars, dice rolls     | Height, temperature           |\n",
        "| **Probability**        | Assigned to specific values    | Assigned to intervals         |\n",
        "| **Distribution**       | Probability mass function (PMF)| Probability density function (PDF) |\n",
        "\n",
        "### Example\n",
        "\n",
        "- **Discrete Random Variable:** Suppose you roll a fair six-sided die. The random variable \\( X \\) represents the outcome. \\( X \\) can take on values {1, 2, 3, 4, 5, 6}. The probability of each outcome is \\( \\frac{1}{6} \\).\n",
        "\n",
        "- **Continuous Random Variable:** Consider measuring the weight of apples in a basket. The random variable \\( Y \\) represents the weight. \\( Y \\) can take on any value within a range, such as 150 grams to 200 grams. The probability of \\( Y \\) falling within an interval (e.g., 160 to 170 grams) can be determined using a PDF.\n"
      ],
      "metadata": {
        "id": "EpmhtDn9hUqO"
      }
    },
    {
      "cell_type": "code",
      "source": [
        "#Question 12"
      ],
      "metadata": {
        "id": "SJio7PPB-iph"
      },
      "execution_count": null,
      "outputs": []
    },
    {
      "cell_type": "markdown",
      "source": [
        "\n",
        "### Example Dataset\n",
        "Consider the following dataset with two variables: **X** (hours studied) and **Y** (exam scores):\n",
        "\n",
        "| Student | X (Hours Studied) | Y (Exam Scores) |\n",
        "|---------|--------------------|-----------------|\n",
        "| 1       | 2                  | 75              |\n",
        "| 2       | 3                  | 80              |\n",
        "| 3       | 5                  | 90              |\n",
        "| 4       | 7                  | 85              |\n",
        "| 5       | 8                  | 95              |\n",
        "\n",
        "### Step 1: Calculate Covariance\n",
        "Covariance measures the degree to which two variables change together. The formula for covariance is:\n",
        "$$\n",
        "\\text{Cov}(X, Y) = \\frac{1}{n-1} \\sum_{i=1}^{n} (X_i - \\bar{X})(Y_i - \\bar{Y})\n",
        "$$\n",
        "\n",
        "Where:\n",
        "- \\( n \\) is the number of data points.\n",
        "- \\( X_i \\) and \\( Y_i \\) are the individual data points for variables X and Y.\n",
        "- \\( \\bar{X} \\) and \\( \\bar{Y} \\) are the means of X and Y, respectively.\n",
        "\n",
        " calculate the means:\n",
        "- \\( \\bar{X} = \\frac{2 + 3 + 5 + 7 + 8}{5} = 5 \\)\n",
        "- \\( \\bar{Y} = \\frac{75 + 80 + 90 + 85 + 95}{5} = 85 \\)\n",
        "\n",
        "Now, calculate the covariance:\n",
        "$$\n",
        "\\text{Cov}(X, Y) = \\frac{1}{4} [(2-5)(75-85) + (3-5)(80-85) + (5-5)(90-85) + (7-5)(85-85) + (8-5)(95-85)]\n",
        "$$\n",
        "$$\n",
        "\\text{Cov}(X, Y) = \\frac{1}{4} [(-3)(-10) + (-2)(-5) + (0)(5) + (2)(0) + (3)(10)]\n",
        "$$\n",
        "$$\n",
        "\\text{Cov}(X, Y) = \\frac{1}{4} [30 + 10 + 0 + 0 + 30] = \\frac{1}{4} [70] = 17.5\n",
        "$$\n",
        "\n",
        "### Step 2: Calculate Correlation\n",
        "Correlation measures the strength and direction of the linear relationship between two variables. The formula for the Pearson correlation coefficient is:\n",
        "$$\n",
        "r = \\frac{\\text{Cov}(X, Y)}{\\sigma_X \\sigma_Y}\n",
        "$$\n",
        "\n",
        "Where:\n",
        "- \\( \\text{Cov}(X, Y) \\) is the covariance.\n",
        "- \\( \\sigma_X \\) and \\( \\sigma_Y \\) are the standard deviations of X and Y.\n",
        "\n",
        "First, let's calculate the standard deviations:\n",
        "- Standard deviation of X (\\(\\sigma_X\\)):\n",
        "  $$\n",
        "  \\sigma_X = \\sqrt{\\frac{1}{n-1} \\sum_{i=1}^{n} (X_i - \\bar{X})^2} = \\sqrt{\\frac{1}{4} [(2-5)^2 + (3-5)^2 + (5-5)^2 + (7-5)^2 + (8-5)^2]}\n",
        "  $$\n",
        "  $$\n",
        "  \\sigma_X = \\sqrt{\\frac{1}{4} [9 + 4 + 0 + 4 + 9]} = \\sqrt{\\frac{26}{4}} = \\sqrt{6.5} \\approx 2.55\n",
        "  $$\n",
        "\n",
        "- Standard deviation of Y (\\(\\sigma_Y\\)):\n",
        "  $$\n",
        "  \\sigma_Y = \\sqrt{\\frac{1}{n-1} \\sum_{i=1}^{n} (Y_i - \\bar{Y})^2} = \\sqrt{\\frac{1}{4} [(75-85)^2 + (80-85)^2 + (90-85)^2 + (85-85)^2 + (95-85)^2]}\n",
        "  $$\n",
        "  $$\n",
        "  \\sigma_Y = \\sqrt{\\frac{1}{4} [100 + 25 + 25 + 0 + 100]} = \\sqrt{\\frac{250}{4}} = \\sqrt{62.5} \\approx 7.91\n",
        "  $$\n",
        "\n",
        "Now, calculate the correlation coefficient:\n",
        "$$\n",
        "r = \\frac{17.5}{2.55 \\times 7.91} \\approx \\frac{17.5}{20.17} \\approx 0.87\n",
        "$$\n",
        "\n",
        "### Interpretation\n",
        "- **Covariance (17.5):** A positive covariance indicates that as the number of hours studied increases, exam scores also tend to increase.\n",
        "- **Correlation (0.87):** The correlation coefficient of 0.87 suggests a strong positive linear relationship between hours studied and exam scores. This means that, in general, students who study more tend to score higher on exams.\n",
        "\n"
      ],
      "metadata": {
        "id": "uhGrgCJRiAFz"
      }
    },
    {
      "cell_type": "code",
      "source": [],
      "metadata": {
        "id": "WWxtR9gUiLJc"
      },
      "execution_count": null,
      "outputs": []
    }
  ]
}